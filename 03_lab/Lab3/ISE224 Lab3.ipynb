{
 "cells": [
  {
   "cell_type": "markdown",
   "id": "0f3c9ce5",
   "metadata": {},
   "source": [
    "# ISE224: Lab3\n",
    "\n",
    "---  \n",
    "**Topics:**  \n",
    "- f-strings  \n",
    "- `if`  \n",
    "- `if-else`  \n",
    "- Nested `if-else`"
   ]
  },
  {
   "cell_type": "markdown",
   "id": "26df2a77",
   "metadata": {},
   "source": [
    "---  \n",
    "\n",
    "#### Exercis 1. \n",
    "\n",
    "Write an if statement that asks for the user's name via input() function. If the name is \"Bond\" make it print \"Welcome on board 007.\" Otherwise make it print \"Good morning NAME\". (Replace Name with user's name)\n"
   ]
  },
  {
   "cell_type": "code",
   "execution_count": 1,
   "id": "d6685ec8",
   "metadata": {},
   "outputs": [
    {
     "name": "stdout",
     "output_type": "stream",
     "text": [
      "Please enter your name.Bond\n",
      "Welcome on board 007.\n"
     ]
    }
   ],
   "source": [
    "name = input(\"Please enter your name.\")\n",
    "if name == \"Bond\":\n",
    "    print(\"Welcome on board 007.\")\n",
    "else:\n",
    "    print(\"Good morning \" + name)"
   ]
  },
  {
   "cell_type": "markdown",
   "id": "882a6b92",
   "metadata": {},
   "source": [
    "---  \n",
    "\n",
    "#### Exercis 2. \n",
    "\n",
    "Write a program to print \"True\" if a number is even and otherwise print \"False\"."
   ]
  },
  {
   "cell_type": "code",
   "execution_count": 2,
   "id": "4dbc4779",
   "metadata": {},
   "outputs": [
    {
     "name": "stdout",
     "output_type": "stream",
     "text": [
      "Enter an number to check if it is even:2023\n",
      "False\n"
     ]
    }
   ],
   "source": [
    "i = int(input(\"Enter an number to check if it is even:\" ))\n",
    "if i % 2 == 0:\n",
    "    print(True)\n",
    "else:\n",
    "    print(False)"
   ]
  },
  {
   "cell_type": "markdown",
   "id": "4ada0b7b",
   "metadata": {},
   "source": [
    "---  \n",
    "\n",
    "#### Exercise 3.\n",
    "\n",
    "Write a program that returns the decimal part of a number. If decimal part is zero function should return this string: \"This is INTEGER\".\n",
    "\n",
    "[Hint:] You can use `int()` function to find the decimal part of a number."
   ]
  },
  {
   "cell_type": "code",
   "execution_count": 3,
   "id": "4b516424",
   "metadata": {},
   "outputs": [
    {
     "name": "stdout",
     "output_type": "stream",
     "text": [
      "Enter an number to show it's decimal part:123.456\n",
      "0.45600000000000307\n"
     ]
    }
   ],
   "source": [
    "i = float(input(\"Enter an number to show it's decimal part:\"))\n",
    "if i - int(i) != 0:\n",
    "    print(i-int(i))\n",
    "else:\n",
    "    print(\"This is INTEGER\")"
   ]
  },
  {
   "cell_type": "markdown",
   "id": "c74d6357",
   "metadata": {},
   "source": [
    "---\n",
    "\n",
    "#### Exercise 4. \n",
    "\n",
    "Write a program to classifies a triangle based on its three sides (a, b, c), which are taken as inputs from the user. The program uses nested if statements to classify the triangle.\n",
    "\n",
    "1. The first if statement checks if any of the sides is less than or equal to 0, in which case it prints \"Invalid triangle\".  \n",
    "2. The second set of if statements, which is nested inside the first if statement, checks if the sum of any two sides is less than or equal to the third side, in which case it prints \"Invalid triangle\".  \n",
    "3. The third if statement, which is nested inside the second if statement, checks if all sides are equal, in which case it prints \"Equilateral triangle\".  \n",
    "4. The fourth if statement, which is nested inside the third if statement, checks if any two sides are equal, in which case it prints \"Isosceles triangle\".  \n",
    "5. If none of the above conditions are met, the program prints \"Scalene triangle\".  "
   ]
  },
  {
   "cell_type": "code",
   "execution_count": 4,
   "id": "cbfa11c1",
   "metadata": {},
   "outputs": [
    {
     "name": "stdout",
     "output_type": "stream",
     "text": [
      "Enter the length of side a: 8\n",
      "Enter the length of side b: 8\n",
      "Enter the length of side c: 7\n",
      "Isosceles triangle\n"
     ]
    }
   ],
   "source": [
    "a = int(input(\"Enter the length of side a: \"))\n",
    "b = int(input(\"Enter the length of side b: \"))\n",
    "c = int(input(\"Enter the length of side c: \"))\n",
    "\n",
    "if a <= 0 or b <= 0 or c <= 0:\n",
    "    print(\"Invalid triangle\")\n",
    "else:\n",
    "    if a + b <= c or a + c <= b or b + c <= a:\n",
    "        print(\"Invalid triangle\")\n",
    "    else:\n",
    "        if a == b and b == c:\n",
    "            print(\"Equilateral triangle\")\n",
    "        else:\n",
    "            if a == b or b == c or a == c:\n",
    "                print(\"Isosceles triangle\")\n",
    "            else:\n",
    "                print(\"Scalene triangle\")\n"
   ]
  },
  {
   "cell_type": "markdown",
   "id": "02e4d2ef",
   "metadata": {},
   "source": [
    "---  \n",
    "\n",
    "#### Exercise 5.\n",
    "\n",
    "Write a program to calculate a student's exam grade based on their score, which is taken as input from the user. The program uses if-else statements to determine the grade based on the following scale:\n",
    "\n",
    "A: 90 or above  \n",
    "B: 80 or above  \n",
    "C: 70 or above  \n",
    "D: 60 or above  \n",
    "F: below 60  \n",
    "\n",
    "The program then uses another set of if-else statements to determine whether the student passed or failed the exam based on the grade. If the grade is 'A', 'B', or 'C', the program prints \"You passed the exam with a grade of [grade]\". If the grade is 'D' or 'F', the program prints \"You failed the exam with a grade of [grade]\"."
   ]
  },
  {
   "cell_type": "code",
   "execution_count": 5,
   "id": "b8de9222",
   "metadata": {},
   "outputs": [
    {
     "name": "stdout",
     "output_type": "stream",
     "text": [
      "Enter the student's exam score: 88\n",
      "You passed the exam with a grade of B\n"
     ]
    }
   ],
   "source": [
    "# Solution 1\n",
    "score = int(input(\"Enter the student's exam score: \"))\n",
    "\n",
    "if score >= 90:\n",
    "    grade = 'A'\n",
    "else:\n",
    "    if score >= 80:\n",
    "        grade = 'B'\n",
    "    else:\n",
    "        if score >= 70:\n",
    "            grade = 'C'\n",
    "        else:\n",
    "            if score >= 60:\n",
    "                grade = 'D'\n",
    "            else:\n",
    "                grade = 'F'\n",
    "\n",
    "if grade == 'A' or grade == 'B' or grade == 'C':\n",
    "    print(\"You passed the exam with a grade of\", grade)\n",
    "else:\n",
    "    print(\"You failed the exam with a grade of\", grade)\n"
   ]
  },
  {
   "cell_type": "code",
   "execution_count": 10,
   "id": "91fd8b0b",
   "metadata": {},
   "outputs": [],
   "source": [
    "# Solution 2: I haven't teach if-elif-else \n",
    "score = float(input(\"Enter your score: \"))\n",
    "\n",
    "if score >= 90:\n",
    "    grade = 'A'\n",
    "elif score >= 80:\n",
    "    grade = 'B'\n",
    "elif score >= 70:\n",
    "    grade = 'C'\n",
    "elif score >= 60:\n",
    "    grade = 'D'\n",
    "else:\n",
    "    grade = 'F'\n",
    "\n",
    "if grade == 'A' or grade == 'B' or grade == 'C':\n",
    "    print(\"You passed the exam with a grade of\", grade)\n",
    "else:\n",
    "    print(\"You failed the exam with a grade of\", grade)\n"
   ]
  },
  {
   "cell_type": "markdown",
   "id": "c6b18d0a",
   "metadata": {},
   "source": [
    "---\n",
    "\n",
    "#### Exercise 6. Compute Change\n",
    "\n",
    "Write a program to help cashiers to calculate changes.   \n",
    "1. Enter the total value of a purchase.\n",
    "2. Enter the total money received for the payment.\n",
    "3. Check if the money received is larger the purchase value:  \n",
    "\n",
    ">**If not:**  \n",
    ">>Calclulate the difference between total value and money received.\n",
    ">>print \"The customer has to pay $difference.\n",
    "\n",
    ">**else:**    \n",
    ">>Calculate how much money should be returned to the customer.\n",
    ">>Break down the returen amount into how many 20, 10, 5, 1, quarters, dimes, nickels, and pennies.  \n",
    ">>print \"Returen: + amount to return  \n",
    ">>show in screen:  \n",
    ">>  XX twenty\n",
    ">>  XX ten\n",
    ">>  XX five\n",
    ">>  XX one dollor\n",
    ">>  XX quarters\n",
    ">>  XX dims\n",
    ">>  XX nickels\n",
    ">>  XX pennies"
   ]
  },
  {
   "cell_type": "code",
   "execution_count": 9,
   "id": "851375f3",
   "metadata": {},
   "outputs": [
    {
     "name": "stdout",
     "output_type": "stream",
     "text": [
      "Enter the total value of the purchase: 654.32\n",
      "Enter the total money received: 700\n",
      "Return: $45.68\n",
      "2 twenties\n",
      "0 tens\n",
      "1 fives\n",
      "0 ones\n",
      "2 quarters\n",
      "1 dimes\n",
      "1 nickels\n",
      "2 pennies\n"
     ]
    }
   ],
   "source": [
    "purchase_value = float(input(\"Enter the total value of the purchase: \"))\n",
    "money_received = float(input(\"Enter the total money received: \"))\n",
    "\n",
    "if money_received < purchase_value:\n",
    "    print(f\"The customer has to pay {purchase_value - money_received}$\")\n",
    "else:\n",
    "    totalReturn = money_received - purchase_value\n",
    "    change = totalReturn\n",
    "    twenties = change // 20\n",
    "    change = change % 20\n",
    "    tens = change // 10\n",
    "    change = change % 10\n",
    "    fives = change // 5\n",
    "    change = change % 5\n",
    "    ones = 100*change//100\n",
    "    change = 100*change % 100\n",
    "    quarters = change // 25\n",
    "    change = change % 25\n",
    "    dimes = change // 10\n",
    "    change = change % 10\n",
    "    nickels = change // 5\n",
    "    change = change % 5\n",
    "    pennies = int(change // 1)\n",
    "    print(f\"Return: ${totalReturn:,.2f}\")\n",
    "    print(str(int(twenties)) + \" twenties\\n\" + \n",
    "          str(int(tens)) + \" tens\\n\" + \n",
    "          str(int(fives)) + \" fives\\n\" + \n",
    "          str(int(ones)) + \" ones\\n\" + \n",
    "          str(int(quarters)) + \" quarters\\n\" + \n",
    "          str(int(dimes)) + \" dimes\\n\" + \n",
    "          str(int(nickels)) + \" nickels\\n\" + \n",
    "          str(int(pennies)) + \" pennies\")"
   ]
  }
 ],
 "metadata": {
  "kernelspec": {
   "display_name": "Python 3 (ipykernel)",
   "language": "python",
   "name": "python3"
  },
  "language_info": {
   "codemirror_mode": {
    "name": "ipython",
    "version": 3
   },
   "file_extension": ".py",
   "mimetype": "text/x-python",
   "name": "python",
   "nbconvert_exporter": "python",
   "pygments_lexer": "ipython3",
   "version": "3.9.15"
  }
 },
 "nbformat": 4,
 "nbformat_minor": 5
}
