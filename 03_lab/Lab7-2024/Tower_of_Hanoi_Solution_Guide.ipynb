{
 "cells": [
  {
   "cell_type": "markdown",
   "metadata": {},
   "source": [
    "# ISE224: Recursive function"
   ]
  },
  {
   "cell_type": "markdown",
   "metadata": {},
   "source": [
    "## Tower of Hanoi Solution Guide\n",
    "\n",
    "The Tower of Hanoi is a classic puzzle game that consists of three rods and a number of disks of different sizes, which can slide onto any rod. The puzzle starts with the disks in a neat stack in ascending order of size on one rod, the smallest at the top, thus making a conical shape.\n",
    "\n",
    "\n",
    "### Objective\n",
    "\n",
    "The objective of the puzzle is to move the entire stack to another rod, obeying the following simple rules:\n",
    "\n",
    "1. **Only one disk can be moved at a time.**\n",
    "2. **Each move consists of taking the upper disk from one of the stacks and placing it on top of another stack or on an empty rod.**\n",
    "3. **No disk may be placed on top of a smaller disk.**\n",
    "\n",
    "### Solution Strategy\n",
    "\n",
    "A simple solution for the Tower of Hanoi problem can be achieved using recursion. Here's how you can approach it:\n",
    "\n",
    "1. Move `n - 1` disks from the source rod to the auxiliary rod, using the destination rod as a temporary placeholder.\n",
    "2. Move the remaining disk (the largest one) to the destination rod.\n",
    "3. Move the `n - 1` disks from the auxiliary rod to the destination rod, using the source rod as a placeholder.\n",
    "\n",
    "This process can be defined by a recursive function, `moveTower`, which takes the following parameters:\n",
    "\n",
    "- `height`: the number of disks to move.\n",
    "- `fromPole`: the rod to move disks from.\n",
    "- `toPole`: the rod to move disks to.\n",
    "- `withPole`: the rod to use as a temporary placeholder.\n",
    "\n",
    "![Hanoi](https://craftofcoding.wordpress.com/wp-content/uploads/2020/06/towershanoialg.jpg)\n",
    "\n",
    "**Reference:** \n",
    "1. https://craftofcoding.wordpress.com/2020/06/23/recursion-the-towers-of-hanoi-iii/   \n",
    "2. https://www.lancaster.ac.uk/stor-i-student-sites/lidia-andre/2021/03/30/tower-hanoi/  \n",
    "\n",
    "### Implementation\n",
    "\n",
    "Below is a Python implementation of the Tower of Hanoi solution:"
   ]
  },
  {
   "cell_type": "code",
   "execution_count": 1,
   "metadata": {},
   "outputs": [],
   "source": [
    "def moveTower(height, fromPole, toPole, withPole):\n",
    "    if height >= 1:\n",
    "        moveTower(height-1, fromPole, withPole, toPole)\n",
    "        moveDisk(fromPole, toPole)\n",
    "        moveTower(height-1, withPole, toPole, fromPole)\n",
    "\n",
    "def moveDisk(fp, tp):\n",
    "    print(f'Moving disk from {fp} to {tp}')"
   ]
  },
  {
   "cell_type": "code",
   "execution_count": 2,
   "metadata": {},
   "outputs": [
    {
     "name": "stdout",
     "output_type": "stream",
     "text": [
      "Moving disk from A to B\n",
      "Moving disk from A to C\n",
      "Moving disk from B to C\n",
      "Moving disk from A to B\n",
      "Moving disk from C to A\n",
      "Moving disk from C to B\n",
      "Moving disk from A to B\n"
     ]
    }
   ],
   "source": [
    "moveTower(3, 'A', 'B', 'C')"
   ]
  }
 ],
 "metadata": {
  "kernelspec": {
   "display_name": "Python 3 (ipykernel)",
   "language": "python",
   "name": "python3"
  },
  "language_info": {
   "codemirror_mode": {
    "name": "ipython",
    "version": 3
   },
   "file_extension": ".py",
   "mimetype": "text/x-python",
   "name": "python",
   "nbconvert_exporter": "python",
   "pygments_lexer": "ipython3",
   "version": "3.11.8"
  }
 },
 "nbformat": 4,
 "nbformat_minor": 4
}
