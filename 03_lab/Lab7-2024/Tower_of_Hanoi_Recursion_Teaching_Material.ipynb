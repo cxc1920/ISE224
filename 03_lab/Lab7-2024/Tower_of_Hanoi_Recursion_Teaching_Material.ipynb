{
 "cells": [
  {
   "cell_type": "markdown",
   "id": "dce89183",
   "metadata": {},
   "source": [
    "# ISE224: Lab7\n",
    "\n",
    "**Topics**  \n",
    "1. Recursion\n",
    "---"
   ]
  },
  {
   "cell_type": "markdown",
   "id": "e86aad4e",
   "metadata": {},
   "source": [
    "## The Hanoi Tower\n",
    "\n",
    "- **Problem Statement**: The Tower of Hanoi is a mathematical puzzle that consists of three rods and a number of disks of different sizes which can slide onto any rod. The puzzle starts with the disks stacked on one rod in ascending order of size, the smallest at the top. The objective is to move the entire stack to another rod, obeying the following rules:  \n",
    "\n",
    "  1. Only one disk can be moved at a time.\n",
    "  2. Each move consists of taking the upper disk from one of the stacks and placing it on top of another stack.\n",
    "  3. No disk may be placed on top of a smaller disk.  \n",
    "\n",
    "\n",
    "\n",
    "- **Goal**: Teach students how to apply recursive thinking to solve the Tower of Hanoi puzzle.\n",
    "\n",
    "## 3. Python Implementation of Tower of Hanoi\n",
    "\n",
    "```python\n",
    "def hanoi(n, source, target, auxiliary):\n",
    "    if n == 1:\n",
    "        print(f\"Move disk 1 from rod {source} to rod {target}\")\n",
    "        return\n",
    "    hanoi(n-1, source, auxiliary, target)\n",
    "    print(f\"Move disk {n} from rod {source} to rod {target}\")\n",
    "    hanoi(n-1, auxiliary, target, source)\n",
    "\n",
    "# Example usage:\n",
    "n = 3  # Number of disks\n",
    "hanoi(n, 'A', 'C', 'B')  # A, B, and C are the names of the rods\n",
    "```\n",
    "\n",
    "- **Explanation**:\n",
    "  - **Base Case**: If there's only one disk, move it directly to the target rod.\n",
    "  - **Recursive Case**: Move `n-1` disks to the auxiliary rod, then move the nth disk to the target rod, and finally move the `n-1` disks from the auxiliary rod to the target rod.\n",
    "\n",
    "## 4. Exercises for Further Practice\n",
    "\n",
    "1. **Modify the Code**: Ask students to modify the Python code to count the total number of moves required to solve the puzzle for `n` disks.\n",
    "2. **Non-Recursive Solution**: Challenge students to come up with a non-recursive solution to the Tower of Hanoi problem and discuss the differences in complexity and readability.\n",
    "3. **Visual Representation**: Have students write a program or modify the existing one to visually represent the state of the rods and disks after each move (this can be as simple as printing text-based diagrams).\n",
    "\n",
    "## 5. Discussion Points\n",
    "\n",
    "- Discuss the importance of choosing the right base case.\n",
    "- Compare recursive and iterative approaches to solving problems.\n",
    "- Emphasize the concept of problem decomposition in recursion: breaking a problem down into smaller, more manageable parts.\n"
   ]
  },
  {
   "cell_type": "code",
   "execution_count": 1,
   "id": "174305d7",
   "metadata": {},
   "outputs": [
    {
     "name": "stdout",
     "output_type": "stream",
     "text": [
      "Move disk 1 from rod A to rod C\n",
      "Move disk 2 from rod A to rod B\n",
      "Move disk 1 from rod C to rod B\n",
      "Move disk 3 from rod A to rod C\n",
      "Move disk 1 from rod B to rod A\n",
      "Move disk 2 from rod B to rod C\n",
      "Move disk 1 from rod A to rod C\n"
     ]
    }
   ],
   "source": [
    "def hanoi(n, source, target, auxiliary):\n",
    "    if n == 1:\n",
    "        print(f\"Move disk 1 from rod {source} to rod {target}\")\n",
    "        return\n",
    "    hanoi(n-1, source, auxiliary, target)\n",
    "    print(f\"Move disk {n} from rod {source} to rod {target}\")\n",
    "    hanoi(n-1, auxiliary, target, source)\n",
    "\n",
    "# Example usage:\n",
    "n = 3  # Number of disks\n",
    "hanoi(n, 'A', 'C', 'B')  # A, B, and C are the names of the rods"
   ]
  },
  {
   "cell_type": "code",
   "execution_count": null,
   "id": "84674925",
   "metadata": {},
   "outputs": [],
   "source": []
  }
 ],
 "metadata": {
  "kernelspec": {
   "display_name": "Python 3 (ipykernel)",
   "language": "python",
   "name": "python3"
  },
  "language_info": {
   "codemirror_mode": {
    "name": "ipython",
    "version": 3
   },
   "file_extension": ".py",
   "mimetype": "text/x-python",
   "name": "python",
   "nbconvert_exporter": "python",
   "pygments_lexer": "ipython3",
   "version": "3.10.10"
  }
 },
 "nbformat": 4,
 "nbformat_minor": 5
}
