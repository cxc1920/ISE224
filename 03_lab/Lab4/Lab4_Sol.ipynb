{
 "cells": [
  {
   "cell_type": "markdown",
   "id": "874a5656",
   "metadata": {},
   "source": [
    "# ISE224: Lab 4  \n",
    "---  \n",
    "\n",
    "**Topics:**  \n",
    "- `strip()`\n",
    "- `while` loop  \n",
    "\n",
    "---"
   ]
  },
  {
   "cell_type": "markdown",
   "id": "7fe3cb21",
   "metadata": {},
   "source": [
    "#### strip()  \n",
    "\n",
    "- The `Strip()` method in Python is one of the built-in functions that come from the Python library.  \n",
    "- The `Strip()` method in Python removes or truncates the given characters from the beginning and the end of the original string. \n",
    "- The default behavior of the `strip()` method is to remove the whitespace from the beginning and at the end of the string.\n",
    "\n",
    "**Syntax:**\n",
    "\n",
    "`string.strip([characters])`"
   ]
  },
  {
   "cell_type": "code",
   "execution_count": 4,
   "id": "0dd8b560",
   "metadata": {},
   "outputs": [
    {
     "name": "stdout",
     "output_type": "stream",
     "text": [
      "X=    123    \n",
      "X.strip()=123\n"
     ]
    }
   ],
   "source": [
    "### Example of strip function\n",
    "X = '    123    '\n",
    "print('X=',X,sep=\"\")\n",
    "print('X.strip()=',X.strip(), sep=\"\")"
   ]
  },
  {
   "cell_type": "markdown",
   "id": "8d8e08de",
   "metadata": {},
   "source": [
    "---  \n",
    "\n",
    "#### Problem 1\n",
    "\n",
    "Write a program that prompts the user for a positive integer and then prints the numbers from 1 to that integer. For multiples of three, print \"Fizz\" instead of the number, and for the multiples of five, print \"Buzz\". For numbers which are multiples of both three and five, print \"FizzBuzz\"."
   ]
  },
  {
   "cell_type": "code",
   "execution_count": 2,
   "id": "dda2d252",
   "metadata": {},
   "outputs": [
    {
     "name": "stdout",
     "output_type": "stream",
     "text": [
      "Enter a positive integer:\n",
      "3\n",
      "1\n",
      "2\n",
      "Fizz\n"
     ]
    }
   ],
   "source": [
    "print(\"Enter a positive integer:\")\n",
    "num = int(input().strip())\n",
    "i = 1\n",
    "while i <= num:\n",
    "    if i % 3 == 0 and i % 5 == 0:\n",
    "        print(\"FizzBuzz\")\n",
    "    elif i % 3 == 0:\n",
    "        print(\"Fizz\")\n",
    "    elif i % 5 == 0:\n",
    "        print(\"Buzz\")\n",
    "    else:\n",
    "        print(i)\n",
    "    i += 1"
   ]
  },
  {
   "cell_type": "markdown",
   "id": "24fba629",
   "metadata": {},
   "source": [
    "---\n",
    "\n",
    "#### Problem 2\n",
    "Write a program that repeatedly asks the user to enter a number until the user enters the number 42."
   ]
  },
  {
   "cell_type": "code",
   "execution_count": 3,
   "id": "782a181e",
   "metadata": {},
   "outputs": [
    {
     "name": "stdout",
     "output_type": "stream",
     "text": [
      "Enter a number:\n",
      "43\n",
      "Try again.\n",
      "Enter a number:\n",
      "42\n",
      "You found the answer to the ultimate question of life, the universe, and everything!\n"
     ]
    }
   ],
   "source": [
    "while True:\n",
    "    print(\"Enter a number:\")\n",
    "    num = int(input().strip())\n",
    "    if num == 42:\n",
    "        print(\"You found the answer to the ultimate question of life, the universe, and everything!\")\n",
    "        break\n",
    "    else:\n",
    "        print(\"Try again.\")"
   ]
  },
  {
   "cell_type": "markdown",
   "id": "743846cf",
   "metadata": {},
   "source": [
    "---  \n",
    "#### Problem 3\n",
    "\n",
    "Write a program that calculates the factorial of a number entered by the user."
   ]
  },
  {
   "cell_type": "code",
   "execution_count": 5,
   "id": "d64c890c",
   "metadata": {},
   "outputs": [
    {
     "name": "stdout",
     "output_type": "stream",
     "text": [
      "Enter a positive integer:\n",
      "5\n",
      "The factorial of 5 is 120\n"
     ]
    }
   ],
   "source": [
    "print(\"Enter a positive integer:\")\n",
    "num = int(input().strip())\n",
    "factorial = 1\n",
    "i = 1\n",
    "while i <= num:\n",
    "    factorial *= i\n",
    "    i += 1\n",
    "print(\"The factorial of\", num, \"is\", factorial)"
   ]
  },
  {
   "cell_type": "markdown",
   "id": "892b5927",
   "metadata": {},
   "source": [
    "---   \n",
    "#### Problem 4\n",
    "\n",
    "Write a program that prints the **Fibonacci sequence** up to a certain number of terms, entered by the user.\n",
    "\n",
    "The **Fibonacci Sequence** is the series of numbers:\n",
    "\n",
    "0, 1, 1, 2, 3, 5, 8, 13, 21, 34, ...  \n",
    "\n",
    "The next number is found by adding up the two numbers before it:  \n",
    "- the 2 is found by adding the two numbers before it (1+1),  \n",
    "- the 3 is found by adding the two numbers before it (1+2),  \n",
    "- the 5 is (2+3),  \n",
    "- and so on!"
   ]
  },
  {
   "cell_type": "code",
   "execution_count": 1,
   "id": "63dc5c2f",
   "metadata": {},
   "outputs": [
    {
     "name": "stdout",
     "output_type": "stream",
     "text": [
      "Enter the number of terms:\n",
      "5\n",
      "0\n",
      "1\n",
      "1\n",
      "2\n",
      "3\n"
     ]
    }
   ],
   "source": [
    "print(\"Enter the number of terms:\")\n",
    "num_terms = int(input().strip())\n",
    "a = 0\n",
    "b = 1\n",
    "i = 1\n",
    "while i <= num_terms:\n",
    "    print(a)\n",
    "    c = a + b\n",
    "    a = b\n",
    "    b = c\n",
    "    i += 1"
   ]
  },
  {
   "cell_type": "markdown",
   "id": "24757a7f",
   "metadata": {},
   "source": [
    "#### Problem 5\n",
    "\n",
    "Write a program that simulates a guessing game. The program should generate a random number between 1 and 100, then repeatedly prompt the user to guess the number. The program should give the user hints (e.g. \"Too high!\", \"Too low!\", \"You got it!\") based on their guesses, and terminate when the user correctly guesses the number.\n",
    "\n",
    "**[Hint: creating random integer]**  \n",
    "_Get a random integer between i and j_  \n",
    "import random  \n",
    "random.randint(i,j)  "
   ]
  },
  {
   "cell_type": "code",
   "execution_count": 8,
   "id": "60dfa547",
   "metadata": {},
   "outputs": [
    {
     "name": "stdout",
     "output_type": "stream",
     "text": [
      "Enter your guess:\n",
      "35\n",
      "Too low!\n",
      "Enter your guess:\n",
      "55\n",
      "Too low!\n",
      "Enter your guess:\n",
      "78\n",
      "Too low!\n",
      "Enter your guess:\n",
      "99\n",
      "Too high!\n",
      "Enter your guess:\n",
      "87\n",
      "Too low!\n",
      "Enter your guess:\n",
      "94\n",
      "Too high!\n",
      "Enter your guess:\n",
      "90\n",
      "Too low!\n",
      "Enter your guess:\n",
      "92\n",
      "Too high!\n",
      "Enter your guess:\n",
      "91\n",
      "You got it!\n"
     ]
    }
   ],
   "source": [
    "import random\n",
    "random_number = random.randint(1, 100)\n",
    "while True:\n",
    "    print(\"Enter your guess:\")\n",
    "    guess = int(input().strip())\n",
    "    if guess == random_number:\n",
    "        print(\"You got it!\")\n",
    "        break\n",
    "    elif guess < random_number:\n",
    "        print(\"Too low!\")\n",
    "    else:\n",
    "        print(\"Too high!\")"
   ]
  }
 ],
 "metadata": {
  "kernelspec": {
   "display_name": "Python 3 (ipykernel)",
   "language": "python",
   "name": "python3"
  },
  "language_info": {
   "codemirror_mode": {
    "name": "ipython",
    "version": 3
   },
   "file_extension": ".py",
   "mimetype": "text/x-python",
   "name": "python",
   "nbconvert_exporter": "python",
   "pygments_lexer": "ipython3",
   "version": "3.10.10"
  }
 },
 "nbformat": 4,
 "nbformat_minor": 5
}
