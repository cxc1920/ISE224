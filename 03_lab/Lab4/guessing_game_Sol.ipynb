{
 "cells": [
  {
   "cell_type": "markdown",
   "id": "106787bc",
   "metadata": {},
   "source": [
    "\n",
    "## 4-digits Guess Game\n",
    "\n",
    "Let's create a number guessing game with the following rules:\n",
    "\n",
    "1. **Initialization**: The game automatically selects a unique, 4-digit sequence composed of non-repeating characters from the set \"0\" to \"9\". This sequence is kept secret from the player.  (Use the following code to generate a random 4-digit sequence.)\n",
    "```\n",
    "import random\n",
    "sample_4_digits = random.sample(\"0123456789\",4) # Random sample 4 characters from \"0123456789\"\n",
    "                                                # sample_4_digits is a list with 4 elements\n",
    "unique_digits = ''.join(sample_4_digits)        # Covert a character list to a string: from ['0','2','1','4'] to '0214' \n",
    "```\n",
    "2. **Player's Guess**: The player attempts to guess the secret sequence by entering their own 4-digit string, ensuring no repetitions in their guess.\n",
    "3. **Comparison**: The game then compares the player's guess with the secret sequence.\n",
    "4. **Exact Matches**: It counts how many digits in the player's guess match exactly with the digits in the secret sequence (both in value and position). Let's denote this number as \\(x\\).\n",
    "5. **Partial Matches**: Next, for the digits not already counted as exact matches, the game counts how many digits from the player's guess appear in the secret sequence but are in different positions. Let's denote this number as \\(y\\).\n",
    "6. **Feedback**: The game provides feedback in the format of \"\\(x\\)A\\(y\\)B\", where \\(x\\) represents the number of exact matches and \\(y\\) represents the number of partial matches.\n",
    "7. **Winning Condition**: If the player achieves \"4A0B\", meaning all digits are correctly guessed in their exact positions, the game ends as the player wins. Otherwise, the game prompts for another guess, repeating steps 2 through 6.\n",
    "\n",
    "This game challenges the player to deduce the secret sequence through iterative guessing and interpretation of feedback.\n"
   ]
  },
  {
   "cell_type": "code",
   "execution_count": 7,
   "id": "38b9ee45",
   "metadata": {},
   "outputs": [
    {
     "name": "stdout",
     "output_type": "stream",
     "text": [
      "Enter your guess (4 unique digits): 1234\n",
      "1A1B\n",
      "Enter your guess (4 unique digits): 5678\n",
      "0A1B\n",
      "Enter your guess (4 unique digits): 1290\n",
      "2A0B\n",
      "Enter your guess (4 unique digits): 1498\n",
      "0A1B\n",
      "Enter your guess (4 unique digits): 4280\n",
      "2A1B\n",
      "Enter your guess (4 unique digits): 8230\n",
      "2A0B\n",
      "Enter your guess (4 unique digits): 7240\n",
      "4A0B\n",
      "Congratulations! You've guessed the sequence in 7 attempts.\n"
     ]
    }
   ],
   "source": [
    "import random\n",
    "\n",
    "# Initialize the game\n",
    "# Step 1: Generate a unique, 4-digit sequence from \"0\" to \"9\" without repetition\n",
    "sample_4_digits = random.sample(\"0123456789\",4) # Random sample 4 characters from \"0123456789\"\n",
    "                                                # sample_4_digits is a list with 4 elements\n",
    "unique_digits = ''.join(sample_4_digits)        # Covert a character list to a string: from ['0','2','1','4'] to '0214' \n",
    "\n",
    "# Prepare for the game loop\n",
    "win = False\n",
    "attempts = 0\n",
    "\n",
    "# Game loop\n",
    "while not win:\n",
    "    # Step 2: Player makes a guess\n",
    "    guess = input(\"Enter your guess (4 unique digits): \")\n",
    "    \n",
    "    # Validate the guess\n",
    "    if len(guess) != 4 or not guess.isdigit() or len(set(guess)) != 4:\n",
    "        print(\"Invalid input. Please enter 4 unique digits.\")\n",
    "        continue\n",
    "    \n",
    "    attempts += 1\n",
    "    \n",
    "    # Step 3 & 4: Compare the guess with the unique sequence and count exact matches (x)\n",
    "    x = sum(a == b for a, b in zip(unique_digits, guess))\n",
    "    \n",
    "    # Step 5: Count partial matches (y)\n",
    "    y = sum(min(unique_digits.count(g), guess.count(g)) for g in set(guess)) - x\n",
    "    \n",
    "    # Step 6: Provide feedback\n",
    "    print(f\"{x}A{y}B\")\n",
    "    \n",
    "    # Check for winning condition\n",
    "    if x == 4:\n",
    "        print(f\"Congratulations! You've guessed the sequence in {attempts} attempts.\")\n",
    "        win = True\n"
   ]
  }
 ],
 "metadata": {
  "kernelspec": {
   "display_name": "Python 3 (ipykernel)",
   "language": "python",
   "name": "python3"
  },
  "language_info": {
   "codemirror_mode": {
    "name": "ipython",
    "version": 3
   },
   "file_extension": ".py",
   "mimetype": "text/x-python",
   "name": "python",
   "nbconvert_exporter": "python",
   "pygments_lexer": "ipython3",
   "version": "3.11.5"
  }
 },
 "nbformat": 4,
 "nbformat_minor": 5
}
