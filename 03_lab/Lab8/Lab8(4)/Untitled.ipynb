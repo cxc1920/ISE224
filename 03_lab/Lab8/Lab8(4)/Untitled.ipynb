{
 "cells": [
  {
   "cell_type": "code",
   "execution_count": 1,
   "id": "8a01f0b3-4b8e-45ae-84ab-f8676782ae50",
   "metadata": {},
   "outputs": [
    {
     "name": "stdout",
     "output_type": "stream",
     "text": [
      "10\n"
     ]
    }
   ],
   "source": [
    "x = 10\n",
    "print(x)"
   ]
  },
  {
   "cell_type": "markdown",
   "id": "83ab29c3-657f-4fbf-8406-b442605a473a",
   "metadata": {},
   "source": [
    "**This is bold text**  \n",
    "__This is bold text__"
   ]
  },
  {
   "cell_type": "markdown",
   "id": "b9cca926-d4ac-46e6-8f01-daab59c18e15",
   "metadata": {},
   "source": [
    "Hello world!   \n",
    "We are learning Markdown."
   ]
  },
  {
   "cell_type": "code",
   "execution_count": null,
   "id": "c723dee0-f221-4c02-b925-5aede32f268e",
   "metadata": {},
   "outputs": [],
   "source": []
  }
 ],
 "metadata": {
  "kernelspec": {
   "display_name": "Python 3 (ipykernel)",
   "language": "python",
   "name": "python3"
  },
  "language_info": {
   "codemirror_mode": {
    "name": "ipython",
    "version": 3
   },
   "file_extension": ".py",
   "mimetype": "text/x-python",
   "name": "python",
   "nbconvert_exporter": "python",
   "pygments_lexer": "ipython3",
   "version": "3.11.7"
  }
 },
 "nbformat": 4,
 "nbformat_minor": 5
}
