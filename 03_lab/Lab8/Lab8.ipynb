{
 "cells": [
  {
   "cell_type": "markdown",
   "id": "14edffc6",
   "metadata": {},
   "source": [
    "# ISE 224: Lab8: Jupyter Notebook\n",
    "\n",
    "---\n",
    "\n",
    "**Topics**\n",
    "1. Install Jupyter notebook\n",
    "2. Basic introduction to Jupyter notebook  \n",
    "---"
   ]
  },
  {
   "cell_type": "markdown",
   "id": "88ad8b09",
   "metadata": {},
   "source": [
    "# Install jupyter notebook\n",
    "\n",
    "- Method 1: (Recommended) \n",
    "1. Open your terminal (in window, search `cmd` and press enter to open Command Prompt window)  \n",
    "2. Type `python -m pip install jupyter`  \n",
    "3. After installation, type `jupyter notebook` in command Prompt window  \n",
    "\n",
    "- Method 2:  \n",
    "1. Open your spyder  \n",
    "2. Type `!pip install juypter` in console section of spyder\n",
    "3. After installation, type `!jupyter notebook` in console section of spyder"
   ]
  },
  {
   "cell_type": "markdown",
   "id": "fa01776f",
   "metadata": {},
   "source": [
    "# Header"
   ]
  },
  {
   "cell_type": "code",
   "execution_count": null,
   "id": "13700c01",
   "metadata": {},
   "outputs": [],
   "source": [
    "# Header 1\n",
    "## Header 2\n",
    "### Header 3\n",
    "#### Header 4\n",
    "##### Header 5\n",
    "###### Header 6"
   ]
  },
  {
   "cell_type": "markdown",
   "id": "e0754be5",
   "metadata": {},
   "source": [
    "# Header 1\n",
    "## Header 2\n",
    "### Header 3\n",
    "#### Header 4\n",
    "##### Header 5\n",
    "###### Header 6"
   ]
  },
  {
   "cell_type": "markdown",
   "id": "134b79cd",
   "metadata": {},
   "source": [
    "---  \n",
    "## Bold text"
   ]
  },
  {
   "cell_type": "code",
   "execution_count": null,
   "id": "04cd4fc8",
   "metadata": {},
   "outputs": [],
   "source": [
    "**This is bold text**  \n",
    "__This is bold text__"
   ]
  },
  {
   "cell_type": "markdown",
   "id": "6ab57f31",
   "metadata": {},
   "source": [
    "**This is bold text**  \n",
    "__This is bold text__"
   ]
  },
  {
   "cell_type": "markdown",
   "id": "f350154c",
   "metadata": {},
   "source": [
    "## Italic text"
   ]
  },
  {
   "cell_type": "code",
   "execution_count": null,
   "id": "80a2db54",
   "metadata": {},
   "outputs": [],
   "source": [
    "*This is italic text*  \n",
    "_This is italic text_"
   ]
  },
  {
   "cell_type": "markdown",
   "id": "a25eee08",
   "metadata": {},
   "source": [
    "*This is italic text*  \n",
    "_This is italic text_"
   ]
  },
  {
   "cell_type": "markdown",
   "id": "23b41ebd",
   "metadata": {},
   "source": [
    "## Bold and Italic"
   ]
  },
  {
   "cell_type": "code",
   "execution_count": null,
   "id": "558728bf",
   "metadata": {},
   "outputs": [],
   "source": [
    "***Bold and Italic***  \n",
    "___Bold and Italic___"
   ]
  },
  {
   "cell_type": "markdown",
   "id": "be420e4c",
   "metadata": {},
   "source": [
    "***Bold and Italic***  \n",
    "___Bold and Italic___"
   ]
  },
  {
   "cell_type": "markdown",
   "id": "d137d266",
   "metadata": {},
   "source": [
    "## Scratch text"
   ]
  },
  {
   "cell_type": "code",
   "execution_count": null,
   "id": "a56d3bf1",
   "metadata": {},
   "outputs": [],
   "source": [
    "~~Scratch this~~"
   ]
  },
  {
   "cell_type": "markdown",
   "id": "3e545eef",
   "metadata": {},
   "source": [
    "~~Scratch this~~"
   ]
  },
  {
   "cell_type": "markdown",
   "id": "bd1ac13f",
   "metadata": {},
   "source": [
    "## Backslash Escape\n",
    "Backslash Escape prevents Markdown from interpreting a character as an instruction, rather than as the character itself."
   ]
  },
  {
   "cell_type": "code",
   "execution_count": null,
   "id": "6876c244",
   "metadata": {},
   "outputs": [],
   "source": [
    "\\# Not a header"
   ]
  },
  {
   "cell_type": "markdown",
   "id": "13e91557",
   "metadata": {},
   "source": [
    "\\# Not a header"
   ]
  },
  {
   "cell_type": "markdown",
   "id": "0e13e41f",
   "metadata": {},
   "source": [
    "## Make paragraphs"
   ]
  },
  {
   "cell_type": "code",
   "execution_count": null,
   "id": "324d3fe9",
   "metadata": {},
   "outputs": [],
   "source": [
    "Hello World!  \n",
    "We are learning Markdown."
   ]
  },
  {
   "cell_type": "markdown",
   "id": "c8d25519",
   "metadata": {},
   "source": [
    "Hello World!  \n",
    "We are learning Markdown."
   ]
  },
  {
   "cell_type": "code",
   "execution_count": null,
   "id": "7dbe4beb",
   "metadata": {},
   "outputs": [],
   "source": [
    "Hello World!\n",
    "We are learning Markdown."
   ]
  },
  {
   "cell_type": "markdown",
   "id": "d0dba485",
   "metadata": {},
   "source": [
    "Hello World!\n",
    "We are learning Markdown."
   ]
  },
  {
   "cell_type": "markdown",
   "id": "53263218",
   "metadata": {},
   "source": [
    "## Blockquote"
   ]
  },
  {
   "cell_type": "code",
   "execution_count": null,
   "id": "39c93065",
   "metadata": {},
   "outputs": [],
   "source": [
    "> This is a blockquote"
   ]
  },
  {
   "cell_type": "markdown",
   "id": "4ea74c9b",
   "metadata": {},
   "source": [
    "> This is a blockquote"
   ]
  },
  {
   "cell_type": "markdown",
   "id": "85223baa",
   "metadata": {},
   "source": [
    "## Nested blockquote"
   ]
  },
  {
   "cell_type": "code",
   "execution_count": null,
   "id": "73dda4e2",
   "metadata": {},
   "outputs": [],
   "source": [
    "> some text\n",
    ">> and then some more text\n",
    ">>> and then some more"
   ]
  },
  {
   "cell_type": "markdown",
   "id": "0014a79a",
   "metadata": {},
   "source": [
    "> some text\n",
    ">> and then some more text\n",
    ">>> and then some more"
   ]
  },
  {
   "cell_type": "markdown",
   "id": "dcdd21f3",
   "metadata": {},
   "source": [
    "## Horizontal lines"
   ]
  },
  {
   "cell_type": "code",
   "execution_count": null,
   "id": "b81f2094",
   "metadata": {},
   "outputs": [],
   "source": [
    "---\n",
    "___\n",
    "***"
   ]
  },
  {
   "cell_type": "markdown",
   "id": "1bd94b4a",
   "metadata": {},
   "source": [
    "---\n",
    "___\n",
    "***"
   ]
  },
  {
   "cell_type": "markdown",
   "id": "5aab9fd8",
   "metadata": {},
   "source": [
    "## Make lists"
   ]
  },
  {
   "cell_type": "code",
   "execution_count": null,
   "id": "f22136de",
   "metadata": {},
   "outputs": [],
   "source": [
    "1. Cheese\n",
    "2. Carrot\n",
    "3. Coconut"
   ]
  },
  {
   "cell_type": "markdown",
   "id": "3c42d891",
   "metadata": {},
   "source": [
    "1. Cheese\n",
    "2. Carrot\n",
    "3. Coconut"
   ]
  },
  {
   "cell_type": "code",
   "execution_count": null,
   "id": "4ff08d63",
   "metadata": {},
   "outputs": [],
   "source": [
    "- Cheese\n",
    "- Carrot\n",
    "- Coconut"
   ]
  },
  {
   "cell_type": "markdown",
   "id": "307fda1b",
   "metadata": {},
   "source": [
    "- Cheese\n",
    "- Carrot\n",
    "- Coconut"
   ]
  },
  {
   "cell_type": "markdown",
   "id": "a75c9cc4",
   "metadata": {},
   "source": [
    "## Attach images"
   ]
  },
  {
   "cell_type": "code",
   "execution_count": null,
   "id": "c4cc280d",
   "metadata": {},
   "outputs": [],
   "source": [
    "1. *Reference style*  \n",
    "![][1]\n",
    "\n",
    "[1]: https://www.python.org/static/community_logos/python-logo-master-v3-TM.png \"Python Logo\"  \n",
    "\n",
    "2. *Just adding*  \n",
    "![Python Logo](https://www.python.org/static/community_logos/python-logo-master-v3-TM.png)   \n",
    "\n",
    "3. *From local*\n",
    "![Tom](IMG_5565.JPG)"
   ]
  },
  {
   "cell_type": "markdown",
   "id": "ae3752dd",
   "metadata": {},
   "source": [
    "1. *Reference style*  \n",
    "![][1]\n",
    "\n",
    "[1]: https://www.python.org/static/community_logos/python-logo-master-v3-TM.png \"Python Logo\"  \n",
    "\n",
    "2. *Just adding*  \n",
    "![Python Logo](https://www.python.org/static/community_logos/python-logo-master-v3-TM.png)   \n",
    "\n",
    "3. *From local*\n",
    "![Tom](https://github.com/cxc1920/ISE224/blob/main/pictures/IMG_5565.JPG?raw=true)"
   ]
  },
  {
   "cell_type": "markdown",
   "id": "911e0061",
   "metadata": {},
   "source": [
    "## Hyperlinks"
   ]
  },
  {
   "cell_type": "code",
   "execution_count": null,
   "id": "59f885e7",
   "metadata": {},
   "outputs": [],
   "source": [
    "1. *Reference style*  \n",
    "This is [a reference][]\n",
    "\n",
    "[a reference]: https://en.wikipedia.org \"Wikipedia\"  \n",
    "\n",
    "2. *Just adding*  \n",
    "[click me](https://en.wikipedia.org)"
   ]
  },
  {
   "cell_type": "markdown",
   "id": "2d67100f",
   "metadata": {},
   "source": [
    "1. *Reference style*  \n",
    "This is [a reference][]\n",
    "\n",
    "[a reference]: https://en.wikipedia.org \"Wikipedia\"   \n",
    "2. *Just adding*  \n",
    "[click me](https://en.wikipedia.org)"
   ]
  },
  {
   "cell_type": "markdown",
   "id": "8c8c41a6",
   "metadata": {},
   "source": [
    "## Anchor links  \n",
    "An anchor link is a link on a page that brings you to a specific place on that page. In a Jupyter Notebook, it can be used to link to any section of the notebook for easy navigation."
   ]
  },
  {
   "cell_type": "code",
   "execution_count": null,
   "id": "bbb770c1",
   "metadata": {},
   "outputs": [],
   "source": [
    "[Section title](#Header)"
   ]
  },
  {
   "cell_type": "markdown",
   "id": "857f8e49",
   "metadata": {},
   "source": [
    "[Section title](#Header)"
   ]
  },
  {
   "cell_type": "markdown",
   "id": "380114aa",
   "metadata": {},
   "source": [
    "## TASK LISTS"
   ]
  },
  {
   "cell_type": "code",
   "execution_count": null,
   "id": "cca9ca9a",
   "metadata": {},
   "outputs": [],
   "source": [
    "- [x] Some task\n",
    "- [ ] Some more task"
   ]
  },
  {
   "cell_type": "markdown",
   "id": "51afc45f",
   "metadata": {},
   "source": [
    "- [x] Some task\n",
    "- [ ] Some more task"
   ]
  },
  {
   "cell_type": "markdown",
   "id": "5a7c6df1",
   "metadata": {},
   "source": [
    "## Code section"
   ]
  },
  {
   "cell_type": "code",
   "execution_count": null,
   "id": "0ef33569",
   "metadata": {},
   "outputs": [],
   "source": [
    "```python\n",
    "s = 'Hello world!'\n",
    "print(s)\n",
    "```"
   ]
  },
  {
   "cell_type": "markdown",
   "id": "fe6d8c16",
   "metadata": {},
   "source": [
    "```python\n",
    "s = 'Hello world!'\n",
    "print(s)\n",
    "```"
   ]
  },
  {
   "cell_type": "markdown",
   "id": "58c8cc16",
   "metadata": {},
   "source": [
    "## Table"
   ]
  },
  {
   "cell_type": "code",
   "execution_count": 5,
   "id": "04a355c1",
   "metadata": {},
   "outputs": [
    {
     "ename": "SyntaxError",
     "evalue": "invalid syntax (4082457312.py, line 1)",
     "output_type": "error",
     "traceback": [
      "\u001b[1;36m  File \u001b[1;32m\"C:\\Users\\CHENG-BANG\\AppData\\Local\\Temp\\ipykernel_14752\\4082457312.py\"\u001b[1;36m, line \u001b[1;32m1\u001b[0m\n\u001b[1;33m    |Header|Header|Header|\u001b[0m\n\u001b[1;37m    ^\u001b[0m\n\u001b[1;31mSyntaxError\u001b[0m\u001b[1;31m:\u001b[0m invalid syntax\n"
     ]
    }
   ],
   "source": [
    "|Header|Header|Header|\n",
    "|------|------|------|\n",
    "|A     |B     |C     |\n",
    "|X     |Y     |Z     |"
   ]
  },
  {
   "cell_type": "markdown",
   "id": "9278bceb",
   "metadata": {},
   "source": [
    "|Header|Header|Header|\n",
    "|------|------|------|\n",
    "|A     |B     |C     |\n",
    "|X     |Y     |Z     |"
   ]
  },
  {
   "cell_type": "markdown",
   "id": "b8531842",
   "metadata": {},
   "source": [
    "Use `:-:` for centered  \n",
    "Use `—` for right centered  \n",
    "Use `:-` for left centered"
   ]
  },
  {
   "cell_type": "markdown",
   "id": "d54cc2d4",
   "metadata": {},
   "source": [
    "## Text color"
   ]
  },
  {
   "cell_type": "code",
   "execution_count": null,
   "id": "4c266c41",
   "metadata": {},
   "outputs": [],
   "source": [
    "<span style=\"color:red\">Green text</span>"
   ]
  },
  {
   "cell_type": "markdown",
   "id": "873fdba0",
   "metadata": {},
   "source": [
    "<span style=\"color:red\">Green text</span>"
   ]
  },
  {
   "cell_type": "markdown",
   "id": "2b1bbe37",
   "metadata": {},
   "source": [
    "## Text font"
   ]
  },
  {
   "cell_type": "code",
   "execution_count": null,
   "id": "b3af6e5d",
   "metadata": {},
   "outputs": [],
   "source": [
    "<span style=\"font-family:Comic Sans MS\">This is Comic Sans MS</span>"
   ]
  },
  {
   "cell_type": "markdown",
   "id": "9802d808",
   "metadata": {},
   "source": [
    "<span style=\"font-family:Comic Sans MS\">This is Comic Sans MS</span>"
   ]
  },
  {
   "cell_type": "markdown",
   "id": "44e15a09",
   "metadata": {},
   "source": [
    "## Colored note boxes"
   ]
  },
  {
   "cell_type": "code",
   "execution_count": null,
   "id": "ea9366e4",
   "metadata": {},
   "outputs": [],
   "source": [
    "<div class=\"alert alert-block alert-info\">\n",
    "<b>Tip:</b> Use blue boxes (alert-info) for tips and notes.\n",
    "</div>\n",
    "\n",
    "<div class=\"alert alert-block alert-warning\">\n",
    "<b>Example:</b> Use yellow boxes for examples that are not inside code cells, or use for mathematical formulas if needed. Typically also used to display warning messages.\n",
    "</div>\n",
    "\n",
    "<div class=\"alert alert-block alert-success\">\n",
    "<b>Success:</b> This alert box indicates a successful or positive action.\n",
    "</div>\n",
    "\n",
    "<div class=\"alert alert-block alert-danger\">\n",
    "<b>Danger:</b> This alert box indicates a dangerous or potentially negative action.\n",
    "</div>"
   ]
  },
  {
   "cell_type": "markdown",
   "id": "38dd75b4",
   "metadata": {},
   "source": [
    "<div class=\"alert alert-block alert-info\">\n",
    "<b>Tip:</b> Use blue boxes (alert-info) for tips and notes.\n",
    "</div>\n",
    "<div class=\"alert alert-block alert-warning\">\n",
    "<b>Example:</b> Use yellow boxes for examples that are not inside code cells, or use for mathematical formulas if needed. Typically also used to display warning messages.\n",
    "</div>\n",
    "<div class=\"alert alert-block alert-success\">\n",
    "<b>Success:</b> This alert box indicates a successful or positive action.\n",
    "</div>\n",
    "<div class=\"alert alert-block alert-danger\">\n",
    "<b>Danger:</b> This alert box indicates a dangerous or potentially negative action.\n",
    "</div>"
   ]
  },
  {
   "cell_type": "markdown",
   "id": "ffcefd85",
   "metadata": {},
   "source": [
    "## Cell background color"
   ]
  },
  {
   "cell_type": "code",
   "execution_count": null,
   "id": "68fab2c8",
   "metadata": {},
   "outputs": [],
   "source": [
    "<code style=\"background:yellow;color:black\">Useful for highlighting to grab the attention of the reader towards certain points.</code>"
   ]
  },
  {
   "cell_type": "markdown",
   "id": "66ad8735",
   "metadata": {},
   "source": [
    "<code style=\"background:yellow;color:black\">Useful for highlighting to grab the attention of the reader towards certain points.</code>"
   ]
  },
  {
   "cell_type": "markdown",
   "id": "aa257050",
   "metadata": {},
   "source": [
    "## Mark tag"
   ]
  },
  {
   "cell_type": "code",
   "execution_count": null,
   "id": "6671ff55",
   "metadata": {},
   "outputs": [],
   "source": [
    "Do not forget to buy some <mark>milk</mark> today."
   ]
  },
  {
   "cell_type": "markdown",
   "id": "b7479f3b",
   "metadata": {},
   "source": [
    "Do not forget to buy some <mark>milk</mark> today."
   ]
  },
  {
   "cell_type": "markdown",
   "id": "e091d847",
   "metadata": {},
   "source": [
    "## Definition lists"
   ]
  },
  {
   "cell_type": "code",
   "execution_count": null,
   "id": "573e59aa",
   "metadata": {},
   "outputs": [],
   "source": [
    "<dl>\n",
    "<dt>First Term</dt>\n",
    "<dd>This is the definition of the first term.</dd>\n",
    "<dt>Second Term</dt>\n",
    "<dd>This is one definition of the second term. </dd>\n",
    "<dd>This is another definition of the second term.</dd>\n",
    "</dl>"
   ]
  },
  {
   "cell_type": "markdown",
   "id": "6b2fa125",
   "metadata": {},
   "source": [
    "<dl>\n",
    "<dt>First Term</dt>\n",
    "<dd>This is the definition of the first term.</dd>\n",
    "<dt>Second Term</dt>\n",
    "<dd>This is one definition of the second term. </dd>\n",
    "<dd>This is another definition of the second term.</dd>\n",
    "</dl>"
   ]
  },
  {
   "cell_type": "markdown",
   "id": "7e125076",
   "metadata": {},
   "source": [
    "## Navigation menu"
   ]
  },
  {
   "cell_type": "code",
   "execution_count": null,
   "id": "5fc2751b",
   "metadata": {},
   "outputs": [],
   "source": [
    "<nav>\n",
    "<a href=\"https://google.com\">Google</a> |\n",
    "<a href=\"https://github.com\">Github</a> |\n",
    "<a href=\"https://linkedin.com\">Linkedin</a> |\n",
    "</nav>"
   ]
  },
  {
   "cell_type": "markdown",
   "id": "ab6de465",
   "metadata": {},
   "source": [
    "<nav>\n",
    "<a href=\"https://google.com\">Google</a> |\n",
    "<a href=\"https://github.com\">Github</a> |\n",
    "<a href=\"https://linkedin.com\">Linkedin</a> |\n",
    "</nav>"
   ]
  },
  {
   "cell_type": "markdown",
   "id": "3506cae4",
   "metadata": {},
   "source": [
    "## LaTeX math \n",
    "Use dolor sign"
   ]
  },
  {
   "cell_type": "code",
   "execution_count": null,
   "id": "6055ac97",
   "metadata": {},
   "outputs": [],
   "source": [
    "$\\sqrt{k}$"
   ]
  },
  {
   "cell_type": "markdown",
   "id": "8ccf6815",
   "metadata": {},
   "source": [
    "$\\sqrt{k}$"
   ]
  },
  {
   "cell_type": "markdown",
   "id": "ecbc473d",
   "metadata": {},
   "source": [
    "<a href=\"http://tug.ctan.org/info/undergradmath/undergradmath.pdf\">LaTex math cheatsheet</a>"
   ]
  },
  {
   "cell_type": "markdown",
   "id": "af96645d",
   "metadata": {},
   "source": [
    "---  \n",
    "# Exercise\n",
    "\n",
    "***Create one notebook like the following and save it as <code style=\"background:yellow;color:black\">Lab8_YourGroupNumber.ipynb</code> and <code style=\"background:yellow;color:black\">Lab8_YourGroupNumber.html</code> two files***\n",
    "***Submit these two files to blackboard***\n",
    "\n",
    "---  "
   ]
  },
  {
   "cell_type": "markdown",
   "id": "6c46fb1a",
   "metadata": {},
   "source": [
    "# ISE224 Lab8  \n",
    "\n",
    "--- \n",
    "#### <code style=\"background:white;color:blue\">Group:</code> Your group number/background:white;color:blue  \n",
    "\n",
    "**- <code style=\"background:white;color:blue\">Name 1:</code> Member name 1**    \n",
    "**- <code style=\"background:white;color:blue\">Name 2:</code> Member name 2**  \n",
    "\n",
    "---\n",
    "\n",
    "Convert a list of numbers scores = [78, 82, 90, 68, 73] to their corresponding letter grades using for loop:  \n",
    "\n",
    "| Range    | Grade     |\n",
    "|----------|-----------|\n",
    "|s>=90     | A         |\n",
    "|80<=s<90  | B         |\n",
    "|70<=s<80  | C         |\n",
    "|60<=s<70  | D         |\n",
    "|s<60      | F         |\n"
   ]
  },
  {
   "cell_type": "code",
   "execution_count": 2,
   "id": "c95accb0",
   "metadata": {},
   "outputs": [
    {
     "name": "stdout",
     "output_type": "stream",
     "text": [
      "Score: 78 Grade: C\n",
      "Score: 82 Grade: B\n",
      "Score: 90 Grade: A\n",
      "Score: 68 Grade: D\n",
      "Score: 73 Grade: C\n"
     ]
    }
   ],
   "source": [
    "scores = [78, 82, 90, 68, 73]\n",
    "for score in scores:\n",
    "    if score >= 90:\n",
    "        grade = \"A\"\n",
    "    elif score >= 80:\n",
    "        grade = \"B\"\n",
    "    elif score >= 70:\n",
    "        grade = \"C\"\n",
    "    elif score >= 60:\n",
    "        grade = \"D\"\n",
    "    else:\n",
    "        grade = \"F\"\n",
    "    print(\"Score:\", score, \"Grade:\", grade)"
   ]
  }
 ],
 "metadata": {
  "kernelspec": {
   "display_name": "Python 3 (ipykernel)",
   "language": "python",
   "name": "python3"
  },
  "language_info": {
   "codemirror_mode": {
    "name": "ipython",
    "version": 3
   },
   "file_extension": ".py",
   "mimetype": "text/x-python",
   "name": "python",
   "nbconvert_exporter": "python",
   "pygments_lexer": "ipython3",
   "version": "3.11.7"
  }
 },
 "nbformat": 4,
 "nbformat_minor": 5
}
