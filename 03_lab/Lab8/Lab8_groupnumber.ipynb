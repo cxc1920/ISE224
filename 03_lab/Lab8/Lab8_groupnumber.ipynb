{
 "cells": [
  {
   "cell_type": "markdown",
   "id": "1faf8733",
   "metadata": {},
   "source": [
    "# ISE224 Lab8  \n",
    "\n",
    "---"
   ]
  },
  {
   "cell_type": "markdown",
   "id": "dbbb3611",
   "metadata": {},
   "source": [
    "<code style=\"background:white;color:blue\">Group:</span>   Your group number\n",
    "- <code style=\"background:white;color:blue\">Name 1:</span> Member name 1\n",
    "- <code style=\"background:white;color:blue\">Name 2:</span> Member name 2\n",
    "\n",
    "---"
   ]
  },
  {
   "cell_type": "markdown",
   "id": "e6ab5cbc",
   "metadata": {},
   "source": [
    "Convert a list of numbers scores = [78, 82, 90, 68, 73] to their corresponding letter grades using for loop:  \n",
    "\n",
    "|Range\t|Grade|\n",
    "|-------|--------|\n",
    "|s>=90\t|A       |\n",
    "|80<=s<90|\tB    |\n",
    "|70<=s<80|\tC    |\n",
    "|60<=s<70|\tD    |\n",
    "|s<60  |\tF    |\n"
   ]
  },
  {
   "cell_type": "code",
   "execution_count": 2,
   "id": "1b2d607c",
   "metadata": {},
   "outputs": [
    {
     "name": "stdout",
     "output_type": "stream",
     "text": [
      "Score: 78 Grade: C\n",
      "Score: 82 Grade: B\n",
      "Score: 90 Grade: A\n",
      "Score: 68 Grade: D\n",
      "Score: 73 Grade: C\n"
     ]
    }
   ],
   "source": [
    "scores = [78, 82, 90, 68, 73]\n",
    "for score in scores:\n",
    "    if score >= 90:\n",
    "        grade = \"A\"\n",
    "    elif score >= 80:\n",
    "        grade = \"B\"\n",
    "    elif score >= 70:\n",
    "        grade = \"C\"\n",
    "    elif score >= 60:\n",
    "        grade = \"D\"\n",
    "    else:\n",
    "        grade = \"F\"\n",
    "    print(\"Score:\", score, \"Grade:\", grade)"
   ]
  }
 ],
 "metadata": {
  "kernelspec": {
   "display_name": "Python 3 (ipykernel)",
   "language": "python",
   "name": "python3"
  },
  "language_info": {
   "codemirror_mode": {
    "name": "ipython",
    "version": 3
   },
   "file_extension": ".py",
   "mimetype": "text/x-python",
   "name": "python",
   "nbconvert_exporter": "python",
   "pygments_lexer": "ipython3",
   "version": "3.9.12"
  }
 },
 "nbformat": 4,
 "nbformat_minor": 5
}
