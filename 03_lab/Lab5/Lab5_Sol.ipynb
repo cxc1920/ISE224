{
 "cells": [
  {
   "cell_type": "markdown",
   "id": "b20a0423",
   "metadata": {},
   "source": [
    "# ISE224: Lab5\n",
    "\n",
    "**Topics**  \n",
    "1. For Loop\n",
    "2. List comprehensions\n"
   ]
  },
  {
   "cell_type": "markdown",
   "id": "cae8ae0e",
   "metadata": {},
   "source": [
    "**Problem 1.** Convert a list of numbers scores = [78, 82, 90, 68, 73] to their corresponding letter grades using for loop:  \n",
    "\n",
    "| Range    | Grade     |\n",
    "|----------|-----------|\n",
    "|s>=90     | A         |\n",
    "|80<=s<90  | B         |\n",
    "|70<=s<80  | C         |\n",
    "|60<=s<70  | D         |\n",
    "|s<60      | F         |"
   ]
  },
  {
   "cell_type": "code",
   "execution_count": 3,
   "id": "8a2bd9ab",
   "metadata": {},
   "outputs": [
    {
     "name": "stdout",
     "output_type": "stream",
     "text": [
      "Score: 78 Grade: C\n",
      "Score: 82 Grade: B\n",
      "Score: 90 Grade: A\n",
      "Score: 68 Grade: D\n",
      "Score: 73 Grade: C\n"
     ]
    }
   ],
   "source": [
    "scores = [78, 82, 90, 68, 73]\n",
    "for score in scores:\n",
    "    if score >= 90:\n",
    "        grade = \"A\"\n",
    "    elif score >= 80:\n",
    "        grade = \"B\"\n",
    "    elif score >= 70:\n",
    "        grade = \"C\"\n",
    "    elif score >= 60:\n",
    "        grade = \"D\"\n",
    "    else:\n",
    "        grade = \"F\"\n",
    "    print(\"Score:\", score, \"Grade:\", grade)"
   ]
  },
  {
   "cell_type": "markdown",
   "id": "ccffc7a8",
   "metadata": {},
   "source": [
    "**Problem 2.** Print a multiplication table and highlight the even numbers:"
   ]
  },
  {
   "cell_type": "code",
   "execution_count": 4,
   "id": "15fec28c",
   "metadata": {},
   "outputs": [
    {
     "name": "stdout",
     "output_type": "stream",
     "text": [
      "1\t2*\t3\t4*\t5\t6*\t7\t8*\t9\t10*\t\n",
      "2*\t4*\t6*\t8*\t10*\t12*\t14*\t16*\t18*\t20*\t\n",
      "3\t6*\t9\t12*\t15\t18*\t21\t24*\t27\t30*\t\n",
      "4*\t8*\t12*\t16*\t20*\t24*\t28*\t32*\t36*\t40*\t\n",
      "5\t10*\t15\t20*\t25\t30*\t35\t40*\t45\t50*\t\n",
      "6*\t12*\t18*\t24*\t30*\t36*\t42*\t48*\t54*\t60*\t\n",
      "7\t14*\t21\t28*\t35\t42*\t49\t56*\t63\t70*\t\n",
      "8*\t16*\t24*\t32*\t40*\t48*\t56*\t64*\t72*\t80*\t\n",
      "9\t18*\t27\t36*\t45\t54*\t63\t72*\t81\t90*\t\n",
      "10*\t20*\t30*\t40*\t50*\t60*\t70*\t80*\t90*\t100*\t\n"
     ]
    }
   ],
   "source": [
    "for i in range(1, 11):\n",
    "    for j in range(1, 11):\n",
    "        if i * j % 2 == 0:\n",
    "            print(f\"{i*j}*\", end='\\t')\n",
    "        else:\n",
    "            print(i*j, end='\\t')\n",
    "    print()"
   ]
  },
  {
   "cell_type": "markdown",
   "id": "7982f685",
   "metadata": {},
   "source": [
    "**Problem 3.** Determine whether a number is prime or composite. \n",
    "\n",
    "[Hints:] The idea to solve this problem is to iterate through all the numbers starting from **2** to **(N/2)** using a `for loop` and for every number check if it divides N. If we find any number that divides, we return false. If we did not find any number between 2 and N/2 which divides N then it means that N is prime and we will return True."
   ]
  },
  {
   "cell_type": "code",
   "execution_count": 5,
   "id": "7e40cf93",
   "metadata": {},
   "outputs": [
    {
     "name": "stdout",
     "output_type": "stream",
     "text": [
      "Enter a non-negative integer: 13\n",
      "13 is a prime number\n"
     ]
    }
   ],
   "source": [
    "n = int(input(\"Enter a non-negative integer: \"))\n",
    "is_prime = True\n",
    "for i in range(2, int(n ** 0.5) + 1):\n",
    "    if n % i == 0:\n",
    "        is_prime = False\n",
    "        break\n",
    "if is_prime:\n",
    "    print(n, \"is a prime number\")\n",
    "else:\n",
    "    print(n, \"is a composite number\")"
   ]
  },
  {
   "cell_type": "markdown",
   "id": "b5dac9e2",
   "metadata": {},
   "source": [
    "#### Use list comprehensions to finish the following problems\n",
    "\n",
    "**`List comprehensions`** in Python provide a concise way to create new lists by applying an expression to each element of an existing list (or other iterable). It is a way of creating a new list in a single line of code.\n",
    "\n",
    "`new_list` = [expression `for` item `in` iterable `if` condition]\n",
    "\n",
    "\n",
    "**Problem 4.** Create a list using list comprehensions: Squares of numbers from 1 to 10:"
   ]
  },
  {
   "cell_type": "code",
   "execution_count": 6,
   "id": "1a3d59b8",
   "metadata": {},
   "outputs": [
    {
     "name": "stdout",
     "output_type": "stream",
     "text": [
      "[1, 4, 9, 16, 25, 36, 49, 64, 81, 100]\n"
     ]
    }
   ],
   "source": [
    "squares = [x**2 for x in range(1, 11)]\n",
    "print(squares) "
   ]
  },
  {
   "cell_type": "markdown",
   "id": "704294a5",
   "metadata": {},
   "source": [
    "**Problem 5.** List of vowels in a string: [Hint:] vowels='aeiouAEIOU'"
   ]
  },
  {
   "cell_type": "code",
   "execution_count": 7,
   "id": "aaa835c8",
   "metadata": {},
   "outputs": [
    {
     "name": "stdout",
     "output_type": "stream",
     "text": [
      "Enter a string: Honda Civic\n",
      "['o', 'a', 'i', 'i']\n"
     ]
    }
   ],
   "source": [
    "string = input(\"Enter a string: \")\n",
    "vowels = [x for x in string if x in 'aeiouAEIOU']\n",
    "print(vowels)"
   ]
  },
  {
   "cell_type": "markdown",
   "id": "8be31b76",
   "metadata": {},
   "source": [
    "**Problem 6.** Print the 2nd column of matrix (matrix is a list of lists): Note: matrix = [[1, 2, 3], [4, 5, 6], [7, 8, 9]]"
   ]
  },
  {
   "cell_type": "code",
   "execution_count": 8,
   "id": "7db2356e",
   "metadata": {},
   "outputs": [
    {
     "name": "stdout",
     "output_type": "stream",
     "text": [
      "[2, 5, 8]\n"
     ]
    }
   ],
   "source": [
    "# create a 3x3 matrix with random values\n",
    "matrix = [[1, 2, 3], [4, 5, 6], [7, 8, 9]]\n",
    "\n",
    "# print the second column\n",
    "col = [row[1] for row in matrix]\n",
    "print(col)"
   ]
  }
 ],
 "metadata": {
  "kernelspec": {
   "display_name": "Python 3 (ipykernel)",
   "language": "python",
   "name": "python3"
  },
  "language_info": {
   "codemirror_mode": {
    "name": "ipython",
    "version": 3
   },
   "file_extension": ".py",
   "mimetype": "text/x-python",
   "name": "python",
   "nbconvert_exporter": "python",
   "pygments_lexer": "ipython3",
   "version": "3.9.12"
  }
 },
 "nbformat": 4,
 "nbformat_minor": 5
}
