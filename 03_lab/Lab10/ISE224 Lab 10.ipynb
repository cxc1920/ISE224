{
 "cells": [
  {
   "cell_type": "markdown",
   "id": "0f17b6fa",
   "metadata": {},
   "source": [
    "# ISE 224 Lab 10\n",
    "\n",
    "## Useful packages: Pandas and Matplotlib"
   ]
  },
  {
   "cell_type": "markdown",
   "id": "c59f5cf5",
   "metadata": {},
   "source": [
    "#### Group Number: *Your group number*   \n",
    "\n",
    "- Member name 1: *Member name 1* \n",
    "- Member name 2: *Member name 2*   \n",
    "---"
   ]
  },
  {
   "cell_type": "markdown",
   "id": "01b3513b",
   "metadata": {},
   "source": [
    "### Problem 1\n",
    "\n",
    "Using the `pandas` package, open the 'Airports.xlsx' file, and copy the data where 'Origin_airport' equals 'MIA' and the 'Distance' is greater than 1000 to a new Excel file named 'output1.xlsx'."
   ]
  },
  {
   "cell_type": "code",
   "execution_count": 6,
   "id": "9add74c9",
   "metadata": {},
   "outputs": [],
   "source": [
    "### Write your code here\n",
    "\n",
    "\n",
    "\n"
   ]
  },
  {
   "cell_type": "markdown",
   "id": "95f7ad7b",
   "metadata": {},
   "source": [
    "### Problem 2\n",
    "\n",
    "Using the `pandas` package, open the 'Airports.xlsx' file and extract the information from the **SID**, **Destination_airport**, **Passengers**, and **Seats** columns where the 'Origin_airport' equals 'MIA' and the 'Distance' is greater than 1000. Save this information to a new Excel file named 'output2.xlsx'."
   ]
  },
  {
   "cell_type": "code",
   "execution_count": 7,
   "id": "7054d790",
   "metadata": {},
   "outputs": [],
   "source": [
    "### Write your code here\n",
    "\n",
    "\n",
    "\n"
   ]
  },
  {
   "cell_type": "markdown",
   "id": "236ff909",
   "metadata": {},
   "source": [
    "### Problem 3\n",
    "\n",
    "To analyze the **Destination_airport** variable from the output of problem 2, we first count the frequency of each airport and create a **line plot** to visualize the data. The x-axis represents the airports, while the y-axis represents the frequency. We label the x-axis as \"Airport\" and the y-axis as \"Frequency\", and title the figure as \"Destination Airport\". To enhance the plot's aesthetics, we change the line color to **green**, the linestyle to **\"dashdot\"**, and the marker to **\"^\"**.\n",
    "\n",
    "- Hint1: `pandas_obj.value_counts()` to get the frequency\n",
    "- Hint2: `plt.plot(x, y)` for line plot"
   ]
  },
  {
   "cell_type": "code",
   "execution_count": 1,
   "id": "33b2bbe1",
   "metadata": {},
   "outputs": [],
   "source": [
    "### Write your code here\n",
    "\n",
    "\n",
    "\n"
   ]
  },
  {
   "cell_type": "markdown",
   "id": "a9a29efa",
   "metadata": {},
   "source": [
    "### Problem 4\n",
    "\n",
    "To analyze the **Destination_airport** variable from problem 2, we count the frequency of each airport and create a **scatter plot** to visualize the data. The x-axis represents the airports, while the y-axis represents the frequency. We label the x-axis as \"Airport\" and the y-axis as \"Frequency\", and title the figure as \"Destination Airport\". Change the color to red, and marker to 's'.  \n",
    "\n",
    "- Hint1: `pandas_obj.value_counts()` to get the frequency\n",
    "- Hint2: `fig=plt.figure()`,`ax=fig.add_axes([1,1,1,1])`,`ax.scatter(x, y)` for scatter plot\n",
    "- Hint3: Use `plt.xticks(rotation=90)` to rotate the x tick labels."
   ]
  },
  {
   "cell_type": "code",
   "execution_count": 2,
   "id": "82b41922",
   "metadata": {},
   "outputs": [],
   "source": [
    "### Write your code here\n",
    "\n",
    "\n",
    "\n"
   ]
  },
  {
   "cell_type": "markdown",
   "id": "ea41f4f3",
   "metadata": {},
   "source": [
    "### Problem 5\n",
    "\n",
    "To analyze the **Destination_airport** variable from problem 2, we count the frequency of each airport and create a **bar chart** to visualize the data. The x-axis represents the airports, while the y-axis represents the frequency. We label the x-axis as \"Airport\" and the y-axis as \"Frequency\", and title the figure as \"Destination Airport\". Change the color to orange.\n",
    "\n",
    "- Hint1: `pandas_obj.value_counts()` to get the frequency\n",
    "- Hint2: `fig=plt.figure()`,`ax=fig.add_axes([1,1,1,1])`, `ax.bar(x, y)` for bar chart\n",
    "- Hint3: Use `plt.xticks(rotation=90)` to rotate tick labels "
   ]
  },
  {
   "cell_type": "code",
   "execution_count": 3,
   "id": "73532982",
   "metadata": {},
   "outputs": [],
   "source": [
    "### Write your code here\n",
    "\n",
    "\n",
    "\n"
   ]
  }
 ],
 "metadata": {
  "kernelspec": {
   "display_name": "Python 3 (ipykernel)",
   "language": "python",
   "name": "python3"
  },
  "language_info": {
   "codemirror_mode": {
    "name": "ipython",
    "version": 3
   },
   "file_extension": ".py",
   "mimetype": "text/x-python",
   "name": "python",
   "nbconvert_exporter": "python",
   "pygments_lexer": "ipython3",
   "version": "3.9.15"
  }
 },
 "nbformat": 4,
 "nbformat_minor": 5
}
