{
 "cells": [
  {
   "cell_type": "markdown",
   "id": "762b4268",
   "metadata": {},
   "source": [
    "# ISE224 Python for Engineers - Lab 1\n",
    "\n",
    "Welcome to your first Python lab session! You'll be getting hands-on experience with Python in both `interactive` and `script` modes. Please follow the steps below carefully and capture screenshots as instructed to document your work.\n",
    "\n",
    "## Part 0: Anaconda Installation  \n",
    "- [[Anaconda Installation Win11]](https://www.youtube.com/watch?v=VZQtSWpBhzo&ab_channel=TheCodeCity)  \n",
    "\n",
    "- [[Anaconda Installation Mac]](https://www.youtube.com/watch?v=0xYWWFOEBi8&ab_channel=IsaacVaghefi)   \n",
    "\n",
    "## Part 1: Interactive Mode\n",
    "\n",
    "In this part, you'll use Python's interactive mode to execute simple commands.\n",
    "\n",
    "### Task 1: Print a Greeting\n",
    "\n",
    "1. Open the Python console on your computer.\n",
    "2. Type the following command and press Enter:\n",
    "   ```python\n",
    "   print('Hello! I am <<put your name here>>. This is my first python code!') \n",
    "   ```   \n",
    "   Replace `<<put your name here>>` with your actual name.   \n",
    "3. Ensure that the greeting is printed correctly in the console.   \n",
    "4. **Take a screenshot of the console with the result.**\n",
    "5. Paste your screenshot to the report."
   ]
  },
  {
   "cell_type": "markdown",
   "id": "4f182a18",
   "metadata": {},
   "source": [
    "### Task 2: String Repetition\n",
    "\n",
    "1. In the same console, run the following code:\n",
    "    ```python\n",
    "    x = \"ISE224\"\n",
    "    print(x*3)\n",
    "    ```\n",
    "\n",
    "2. Observe the output, where the string ISE224 is printed three times consecutively.  \n",
    "3. **Capture a screenshot of this output.**\n",
    "4. Paste your screenshot to the report."
   ]
  },
  {
   "cell_type": "markdown",
   "id": "b2001f46",
   "metadata": {},
   "source": [
    "### Task 3: Numerical Operation\n",
    "\n",
    "1. Open the Python console on your computer.\n",
    "2. Now, execute this command in the Python console: (press Enter when finishing one line of command)\n",
    "   ```python\n",
    "   y = 224\n",
    "   print(y*3)\n",
    "   ```\n",
    "\n",
    "3. This will print out the result of the number 224 multiplied by 3.  \n",
    "4. **Take a screenshot showing this calculation in the console.**\n",
    "5. Paste your screenshot to the report."
   ]
  },
  {
   "cell_type": "markdown",
   "id": "7b5f479a",
   "metadata": {},
   "source": [
    "## Part 2: Script Mode\n",
    "\n",
    "In script mode, you'll write and execute Python code that's saved in a file.\n",
    "\n",
    "### Task 1-1: Your First Script\n",
    "\n",
    "1. Open a text editor or an Integrated Development Environment (IDE) of your choice.\n",
    "2. Enter the following code:\n",
    "\n",
    "   ```python\n",
    "   print(\"This is my first python script!\")\n",
    "   ```\n",
    "3. Save the file with the name `my_1st_script.py` in a known directory."
   ]
  },
  {
   "cell_type": "markdown",
   "id": "ee3bc3a3",
   "metadata": {},
   "source": [
    "### Task 1-2: Running Your Script  \n",
    "\n",
    "4. Open a command line terminal (anaconda prompt).  \n",
    "5. Change the directory to where your script is saved using the `cd` command.  \n",
    "6. Execute the script by typing the following command and pressing Enter:  \n",
    "\n",
    "    ```bash\n",
    "    python my_1st_script.py   \n",
    "    ```\n",
    "\n",
    "7. Confirm that your script prints the expected output to the terminal.  \n",
    "8. **Take a screenshot of the terminal with your script's output visible.**\n",
    "9. Paste your screenshot to the report."
   ]
  },
  {
   "cell_type": "markdown",
   "id": "b5c8bfdc",
   "metadata": {},
   "source": [
    "### Task 2: Download and Execute a Provided Script\n",
    "\n",
    "1. Download the script named `ISE224_lab1.py` from the course's Blackboard or provided resource.\n",
    "2. Save the downloaded script in the same directory where you saved your first script.\n",
    "3. Open your command line terminal.\n",
    "4. Navigate to the directory where you saved the script using the `cd` command.\n",
    "5. Run the script by typing the following command and pressing Enter:\n",
    "   \n",
    "   ```bash\n",
    "   python ISE224_lab1.py\n",
    "   ```\n",
    "6. Follow any instructions provided by the script, inputting necessary information when prompted.    \n",
    "7. After the script completes, take a screenshot of the results as displayed in the terminal.\n",
    "8. Paste your screenshot to the report."
   ]
  },
  {
   "cell_type": "markdown",
   "id": "32bdac24",
   "metadata": {},
   "source": [
    "## Submission Guidelines\n",
    "\n",
    "- Compile all the screenshots you've taken during this lab into a single document, such as a word document.\n",
    "- Ensure each screenshot is clearly labeled with the corresponding task number.\n",
    "- Check that each screenshot is clear and legible, showing the entire console or terminal window for full context.\n",
    "- Ensure the names of all your team members are listed in the docement.\n",
    "- Submit the compiled document in **one pdf** to blackboard."
   ]
  }
 ],
 "metadata": {
  "kernelspec": {
   "display_name": "Python 3 (ipykernel)",
   "language": "python",
   "name": "python3"
  },
  "language_info": {
   "codemirror_mode": {
    "name": "ipython",
    "version": 3
   },
   "file_extension": ".py",
   "mimetype": "text/x-python",
   "name": "python",
   "nbconvert_exporter": "python",
   "pygments_lexer": "ipython3",
   "version": "3.10.10"
  }
 },
 "nbformat": 4,
 "nbformat_minor": 5
}
