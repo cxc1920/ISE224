{
 "cells": [
  {
   "cell_type": "markdown",
   "id": "cbb206a9",
   "metadata": {},
   "source": [
    "# ISE224: Lab2\n",
    "---\n",
    "Topics:\n",
    "- **Variables**\n",
    "- **Input from keyboard**\n",
    "- **Basic Calculation**\n",
    "---"
   ]
  },
  {
   "cell_type": "markdown",
   "id": "6d369e7f",
   "metadata": {},
   "source": [
    "### Variable\n",
    "- Use *assigment statement*, `variable = value`,to create a variable and make it reference data \n",
    "- Show/Call the data assigned to variable\n",
    "- varialbe types: `int`, `float`, `str`\n",
    "- Using `type()` to check the variable type"
   ]
  },
  {
   "cell_type": "code",
   "execution_count": 1,
   "id": "14bb671b",
   "metadata": {},
   "outputs": [
    {
     "name": "stdout",
     "output_type": "stream",
     "text": [
      "2024\n"
     ]
    }
   ],
   "source": [
    "# Create a variable named Year and assign a value 2024\n",
    "Year = 2024\n",
    "# Show/Call the variable Year\n",
    "Year # you can see the value showing in the screen at interaction mode but there is no return at script mode\n",
    "print(Year) # show in screen"
   ]
  },
  {
   "cell_type": "code",
   "execution_count": 2,
   "id": "f4c28af1",
   "metadata": {},
   "outputs": [],
   "source": [
    "# Create a variable: year and assign your birth year\n",
    "year = 2000.00"
   ]
  },
  {
   "cell_type": "code",
   "execution_count": 3,
   "id": "011f7c24",
   "metadata": {},
   "outputs": [],
   "source": [
    "# Calculate age and assign this value to a variable Age\n",
    "Age = Year - year"
   ]
  },
  {
   "cell_type": "code",
   "execution_count": 4,
   "id": "dbca104a",
   "metadata": {},
   "outputs": [
    {
     "name": "stdout",
     "output_type": "stream",
     "text": [
      "My age is  24.0\n"
     ]
    }
   ],
   "source": [
    "# show Age in screen\n",
    "print(\"My age is \", Age)"
   ]
  },
  {
   "cell_type": "code",
   "execution_count": 5,
   "id": "8807f43e",
   "metadata": {},
   "outputs": [],
   "source": [
    "# Calcuate your age at 2050 and assign it to the variable Age again\n",
    "Age = 2050 - year"
   ]
  },
  {
   "cell_type": "code",
   "execution_count": 6,
   "id": "3bcf7369",
   "metadata": {},
   "outputs": [
    {
     "name": "stdout",
     "output_type": "stream",
     "text": [
      "I will be 50 at 2050.\n"
     ]
    }
   ],
   "source": [
    "# show the result\n",
    "print(\"I will be\", int(Age), \"at 2050.\") # change the data type of Age"
   ]
  },
  {
   "cell_type": "code",
   "execution_count": 7,
   "id": "a6483895",
   "metadata": {},
   "outputs": [
    {
     "name": "stdout",
     "output_type": "stream",
     "text": [
      "I will be 50.0 at 2050.\n"
     ]
    }
   ],
   "source": [
    "print(\"I will be\", Age, \"at 2050.\")      # Why?"
   ]
  },
  {
   "cell_type": "code",
   "execution_count": 8,
   "id": "df097bbf",
   "metadata": {},
   "outputs": [
    {
     "name": "stdout",
     "output_type": "stream",
     "text": [
      "The variable type of Year is <class 'int'>\n",
      "The variable type of year is <class 'float'>\n",
      "Tye variable type of Age is <class 'float'>\n"
     ]
    }
   ],
   "source": [
    "# Check the type of variable\n",
    "type(Year)\n",
    "type(year)\n",
    "type(Age)\n",
    "print(\"The variable type of Year is\", type(Year))\n",
    "print(\"The variable type of year is\", type(year))\n",
    "print(\"Tye variable type of Age is\", type(year))"
   ]
  },
  {
   "cell_type": "code",
   "execution_count": 9,
   "id": "1d56e7d2",
   "metadata": {},
   "outputs": [
    {
     "name": "stdout",
     "output_type": "stream",
     "text": [
      "The variable type of Year is <class 'int'>\n",
      "The variable type of year is <class 'int'>\n",
      "Tye variable type of Age is <class 'int'>\n"
     ]
    }
   ],
   "source": [
    "# Change variable type\n",
    "Year = int(Year)\n",
    "year = int(year)\n",
    "Age = int(Age)\n",
    "print(\"The variable type of Year is\", type(Year))\n",
    "print(\"The variable type of year is\", type(year))\n",
    "print(\"Tye variable type of Age is\", type(year))"
   ]
  },
  {
   "cell_type": "code",
   "execution_count": 10,
   "id": "37537aa9",
   "metadata": {},
   "outputs": [
    {
     "name": "stdout",
     "output_type": "stream",
     "text": [
      "2024 2000 50\n"
     ]
    }
   ],
   "source": [
    "# Show different items at the same time (Show it with different delimiter)\n",
    "print(Year,year,Age)"
   ]
  },
  {
   "cell_type": "code",
   "execution_count": 11,
   "id": "14340e63",
   "metadata": {},
   "outputs": [
    {
     "name": "stdout",
     "output_type": "stream",
     "text": [
      "2024200050\n"
     ]
    }
   ],
   "source": [
    "print(Year,year,Age,sep=\"\")"
   ]
  },
  {
   "cell_type": "code",
   "execution_count": 12,
   "id": "bc330984",
   "metadata": {},
   "outputs": [
    {
     "name": "stdout",
     "output_type": "stream",
     "text": [
      "2024 2000 50 "
     ]
    }
   ],
   "source": [
    "print(Year,year,Age,end=\" \")"
   ]
  },
  {
   "cell_type": "code",
   "execution_count": 13,
   "id": "59fd132d",
   "metadata": {},
   "outputs": [
    {
     "name": "stdout",
     "output_type": "stream",
     "text": [
      "2024~2000~50\n"
     ]
    }
   ],
   "source": [
    "print(Year,year,Age,sep=\"~\")"
   ]
  },
  {
   "cell_type": "code",
   "execution_count": 14,
   "id": "43184b14",
   "metadata": {},
   "outputs": [
    {
     "name": "stdout",
     "output_type": "stream",
     "text": [
      "2024*2000*50\n"
     ]
    }
   ],
   "source": [
    "print(Year,year,Age,sep=\"*\")"
   ]
  },
  {
   "cell_type": "code",
   "execution_count": 15,
   "id": "059e206c",
   "metadata": {},
   "outputs": [
    {
     "name": "stdout",
     "output_type": "stream",
     "text": [
      "2024\t2000\t50\n"
     ]
    }
   ],
   "source": [
    "print(Year,year,Age,sep=\"\\t\") # separate by <tab>"
   ]
  },
  {
   "cell_type": "code",
   "execution_count": 16,
   "id": "bbc51ef4",
   "metadata": {},
   "outputs": [
    {
     "name": "stdout",
     "output_type": "stream",
     "text": [
      "2024\n",
      "2000\n",
      "50\n"
     ]
    }
   ],
   "source": [
    "print(Year,year,Age,sep=\"\\n\") # separate by changing a line"
   ]
  },
  {
   "cell_type": "code",
   "execution_count": 17,
   "id": "ab4930f9",
   "metadata": {},
   "outputs": [
    {
     "name": "stdout",
     "output_type": "stream",
     "text": [
      "I am a student of Industrial and System Engineering, University of Miami\n"
     ]
    }
   ],
   "source": [
    "schoolName=\"University of Miami\"\n",
    "depName=\"Industrial and System Engineering\"\n",
    "print(\"I am a student of \",depName,\", \",schoolName,sep=\"\")"
   ]
  },
  {
   "cell_type": "code",
   "execution_count": 18,
   "id": "749d74ad",
   "metadata": {},
   "outputs": [
    {
     "data": {
      "text/plain": [
       "str"
      ]
     },
     "execution_count": 18,
     "metadata": {},
     "output_type": "execute_result"
    }
   ],
   "source": [
    "type(schoolName) # also check what is the data type of depName yourself"
   ]
  },
  {
   "cell_type": "markdown",
   "id": "3b3c8307",
   "metadata": {},
   "source": [
    "---\n",
    "### Input From Keyboard\n",
    "- Use `input()` to get the input from keyboard: `variable = input(prompt)`\n",
    "- Assign **data type** to input data"
   ]
  },
  {
   "cell_type": "code",
   "execution_count": 19,
   "id": "69afcca3",
   "metadata": {},
   "outputs": [
    {
     "name": "stdout",
     "output_type": "stream",
     "text": [
      "Enter your first name: John\n"
     ]
    }
   ],
   "source": [
    "# Get the user's first name. \n",
    "first_name = input('Enter your first name: ') "
   ]
  },
  {
   "cell_type": "code",
   "execution_count": 20,
   "id": "c5626a45",
   "metadata": {},
   "outputs": [
    {
     "name": "stdout",
     "output_type": "stream",
     "text": [
      "Enter your last name: Geisinger\n"
     ]
    }
   ],
   "source": [
    "# Get the user's last name. \n",
    "last_name = input('Enter your last name: ') "
   ]
  },
  {
   "cell_type": "code",
   "execution_count": 21,
   "id": "db423a9d",
   "metadata": {},
   "outputs": [
    {
     "name": "stdout",
     "output_type": "stream",
     "text": [
      "John Geisinger\n"
     ]
    }
   ],
   "source": [
    "myname = first_name +' '+ last_name\n",
    "print(myname)"
   ]
  },
  {
   "cell_type": "code",
   "execution_count": 22,
   "id": "fe45edea",
   "metadata": {},
   "outputs": [
    {
     "name": "stdout",
     "output_type": "stream",
     "text": [
      "Enter your birth year:2000\n"
     ]
    }
   ],
   "source": [
    "# Input your birth year from keyboard and assign it to variable year\n",
    "year = input(\"Enter your birth year:\")"
   ]
  },
  {
   "cell_type": "code",
   "execution_count": 23,
   "id": "89d1c9f4",
   "metadata": {},
   "outputs": [
    {
     "name": "stdout",
     "output_type": "stream",
     "text": [
      "Enter a year:2032\n"
     ]
    }
   ],
   "source": [
    "# Input a selected year from keyboard and assign it to variable Year\n",
    "Year = input(\"Enter a year:\")"
   ]
  },
  {
   "cell_type": "code",
   "execution_count": 24,
   "id": "d23c3ce8",
   "metadata": {},
   "outputs": [
    {
     "ename": "TypeError",
     "evalue": "unsupported operand type(s) for -: 'str' and 'str'",
     "output_type": "error",
     "traceback": [
      "\u001b[1;31m---------------------------------------------------------------------------\u001b[0m",
      "\u001b[1;31mTypeError\u001b[0m                                 Traceback (most recent call last)",
      "Cell \u001b[1;32mIn[24], line 1\u001b[0m\n\u001b[1;32m----> 1\u001b[0m Age \u001b[38;5;241m=\u001b[39m \u001b[43mYear\u001b[49m\u001b[43m \u001b[49m\u001b[38;5;241;43m-\u001b[39;49m\u001b[43m \u001b[49m\u001b[43myear\u001b[49m\n",
      "\u001b[1;31mTypeError\u001b[0m: unsupported operand type(s) for -: 'str' and 'str'"
     ]
    }
   ],
   "source": [
    "Age = Year - year"
   ]
  },
  {
   "cell_type": "code",
   "execution_count": 25,
   "id": "762fc1a9",
   "metadata": {},
   "outputs": [
    {
     "data": {
      "text/plain": [
       "str"
      ]
     },
     "execution_count": 25,
     "metadata": {},
     "output_type": "execute_result"
    }
   ],
   "source": [
    "type(Year)"
   ]
  },
  {
   "cell_type": "code",
   "execution_count": 26,
   "id": "11033d98",
   "metadata": {},
   "outputs": [
    {
     "data": {
      "text/plain": [
       "str"
      ]
     },
     "execution_count": 26,
     "metadata": {},
     "output_type": "execute_result"
    }
   ],
   "source": [
    "type(year)"
   ]
  },
  {
   "cell_type": "code",
   "execution_count": 27,
   "id": "ad749d87",
   "metadata": {},
   "outputs": [
    {
     "name": "stdout",
     "output_type": "stream",
     "text": [
      "Year = 2032 \n",
      " year = 2000 \n",
      " Age = 32\n"
     ]
    }
   ],
   "source": [
    "# Solution: change the data type\n",
    "Year = int(Year)\n",
    "year = int(year)\n",
    "Age = Year - year\n",
    "print(\"Year =\",Year,\"\\n\",\"year =\",year,\"\\n\",\"Age =\", Age)"
   ]
  },
  {
   "cell_type": "code",
   "execution_count": 28,
   "id": "3e9d0e0e",
   "metadata": {},
   "outputs": [
    {
     "name": "stdout",
     "output_type": "stream",
     "text": [
      "Enter a year:2032\n",
      "Enter your birth year:2000\n",
      "I am 32-year old when 2032\n"
     ]
    }
   ],
   "source": [
    "# Solution2: assigne the data type when inputting the information\n",
    "Year = int(input(\"Enter a year:\"))\n",
    "year = int(input(\"Enter your birth year:\"))\n",
    "Age = Year - year\n",
    "print(\"I am \", Age, \"-year old when \",Year, sep=\"\")"
   ]
  },
  {
   "cell_type": "code",
   "execution_count": 29,
   "id": "572a18f7",
   "metadata": {},
   "outputs": [
    {
     "name": "stdout",
     "output_type": "stream",
     "text": [
      "I am 32-year old when 2032\n"
     ]
    }
   ],
   "source": [
    "print(\"I am \",\n",
    "     Age, \n",
    "      \"-year old when \",\n",
    "      Year, sep=\"\")"
   ]
  },
  {
   "cell_type": "code",
   "execution_count": 30,
   "id": "8053e602",
   "metadata": {},
   "outputs": [
    {
     "ename": "TypeError",
     "evalue": "can only concatenate str (not \"int\") to str",
     "output_type": "error",
     "traceback": [
      "\u001b[1;31m---------------------------------------------------------------------------\u001b[0m",
      "\u001b[1;31mTypeError\u001b[0m                                 Traceback (most recent call last)",
      "Cell \u001b[1;32mIn[30], line 1\u001b[0m\n\u001b[1;32m----> 1\u001b[0m \u001b[38;5;28mprint\u001b[39m(\u001b[38;5;124;43m\"\u001b[39;49m\u001b[38;5;124;43mI am \u001b[39;49m\u001b[38;5;124;43m\"\u001b[39;49m\u001b[38;5;241;43m+\u001b[39;49m\u001b[43m \u001b[49m\u001b[43mAge\u001b[49m \u001b[38;5;241m+\u001b[39m \u001b[38;5;124m\"\u001b[39m\u001b[38;5;124m-year old when \u001b[39m\u001b[38;5;124m\"\u001b[39m\u001b[38;5;241m+\u001b[39mYear)\n",
      "\u001b[1;31mTypeError\u001b[0m: can only concatenate str (not \"int\") to str"
     ]
    }
   ],
   "source": [
    "print(\"I am \"+ Age + \"-year old when \"+Year)"
   ]
  },
  {
   "cell_type": "code",
   "execution_count": 31,
   "id": "6e766871",
   "metadata": {},
   "outputs": [
    {
     "name": "stdout",
     "output_type": "stream",
     "text": [
      "I am 32-year old when 2032\n"
     ]
    }
   ],
   "source": [
    "print(\"I am \"+ str(Age) + \"-year old when \"+ str(Year))"
   ]
  },
  {
   "cell_type": "markdown",
   "id": "1753d416",
   "metadata": {},
   "source": [
    "---\n",
    "### Calculation\n",
    "\n",
    "|operator  |Name            |Example    |\n",
    "|----------|----------------|-----------|\n",
    "|+         | Addition       | x+y       |\n",
    "|-         | Subtraction    | x-y       |\n",
    "|*         | Multiplication | x*y       |\n",
    "|/         | Division       | x/y       |\n",
    "|%         | Modulus        | x%y       |\n",
    "|**        | Exponentiation | x**y      |\n",
    "|//        | Floor division | x//y      |"
   ]
  },
  {
   "cell_type": "code",
   "execution_count": 32,
   "id": "d59b995e",
   "metadata": {},
   "outputs": [
    {
     "name": "stdout",
     "output_type": "stream",
     "text": [
      "8\n"
     ]
    }
   ],
   "source": [
    "x = 5\n",
    "y = 3\n",
    "# Addition\n",
    "print(x + y)"
   ]
  },
  {
   "cell_type": "code",
   "execution_count": 33,
   "id": "f898a94c",
   "metadata": {},
   "outputs": [
    {
     "name": "stdout",
     "output_type": "stream",
     "text": [
      "2\n"
     ]
    }
   ],
   "source": [
    "# Subtraction\n",
    "print(x - y)"
   ]
  },
  {
   "cell_type": "code",
   "execution_count": 34,
   "id": "b995d0c4",
   "metadata": {},
   "outputs": [
    {
     "name": "stdout",
     "output_type": "stream",
     "text": [
      "15\n"
     ]
    }
   ],
   "source": [
    "# Multiplication\n",
    "print(x*y)"
   ]
  },
  {
   "cell_type": "code",
   "execution_count": 35,
   "id": "0004de91",
   "metadata": {},
   "outputs": [
    {
     "name": "stdout",
     "output_type": "stream",
     "text": [
      "1.6666666666666667\n"
     ]
    }
   ],
   "source": [
    "# Division\n",
    "print(x/y)"
   ]
  },
  {
   "cell_type": "code",
   "execution_count": 36,
   "id": "6856d76c",
   "metadata": {},
   "outputs": [
    {
     "name": "stdout",
     "output_type": "stream",
     "text": [
      "2\n"
     ]
    }
   ],
   "source": [
    "# Modulus\n",
    "print(x%y)"
   ]
  },
  {
   "cell_type": "code",
   "execution_count": 37,
   "id": "a34aca26",
   "metadata": {},
   "outputs": [
    {
     "name": "stdout",
     "output_type": "stream",
     "text": [
      "125\n"
     ]
    }
   ],
   "source": [
    "# Exponentiation\n",
    "print(x ** y)"
   ]
  },
  {
   "cell_type": "code",
   "execution_count": 38,
   "id": "874d4018",
   "metadata": {},
   "outputs": [
    {
     "name": "stdout",
     "output_type": "stream",
     "text": [
      "1\n"
     ]
    }
   ],
   "source": [
    "# Floor division\n",
    "print(x//y)"
   ]
  },
  {
   "cell_type": "markdown",
   "id": "dc0d85b9",
   "metadata": {},
   "source": [
    "---\n",
    "#### Using math module\n",
    "There are some widely used math functions, such as square root, log, which are not defined in the basic arithmetic operators, are established by other people and are packed in a module.\n",
    "Now, we can import this `math` module and then use those pre-build math functions in our code.\n",
    "- You have to import the module into RAM first:`import module`. Once you import the module into RAM, you can start to use it.\n",
    "- Use `module.function()` to use the predefined functions in the module"
   ]
  },
  {
   "cell_type": "code",
   "execution_count": 39,
   "id": "afdfad83",
   "metadata": {},
   "outputs": [
    {
     "data": {
      "text/plain": [
       "2.23606797749979"
      ]
     },
     "execution_count": 39,
     "metadata": {},
     "output_type": "execute_result"
    }
   ],
   "source": [
    "import math\n",
    "math.sqrt(x)"
   ]
  },
  {
   "cell_type": "code",
   "execution_count": 40,
   "id": "82ed9679",
   "metadata": {},
   "outputs": [
    {
     "data": {
      "text/plain": [
       "20.085536923187668"
      ]
     },
     "execution_count": 40,
     "metadata": {},
     "output_type": "execute_result"
    }
   ],
   "source": [
    "# e^3\n",
    "math.exp(3)"
   ]
  },
  {
   "cell_type": "code",
   "execution_count": 41,
   "id": "3500bf7f",
   "metadata": {},
   "outputs": [
    {
     "data": {
      "text/plain": [
       "20.085536923187664"
      ]
     },
     "execution_count": 41,
     "metadata": {},
     "output_type": "execute_result"
    }
   ],
   "source": [
    "math.exp(1) ** 3"
   ]
  },
  {
   "cell_type": "code",
   "execution_count": 42,
   "id": "93580526",
   "metadata": {},
   "outputs": [
    {
     "data": {
      "text/plain": [
       "2.0"
      ]
     },
     "execution_count": 42,
     "metadata": {},
     "output_type": "execute_result"
    }
   ],
   "source": [
    "# log10(100)\n",
    "math.log10(100)"
   ]
  },
  {
   "cell_type": "code",
   "execution_count": 43,
   "id": "6799a045",
   "metadata": {},
   "outputs": [
    {
     "data": {
      "text/plain": [
       "2.0"
      ]
     },
     "execution_count": 43,
     "metadata": {},
     "output_type": "execute_result"
    }
   ],
   "source": [
    "# log(e^2)\n",
    "m=math.exp(2)\n",
    "math.log(m)"
   ]
  },
  {
   "cell_type": "markdown",
   "id": "1145f49d",
   "metadata": {},
   "source": [
    "---\n",
    "#### Exercise 1.\n",
    "Print your laptop's brand, and operation system in two lines"
   ]
  },
  {
   "cell_type": "markdown",
   "id": "c338cfef",
   "metadata": {},
   "source": [
    "--- \n",
    "#### Exercise 2.\n",
    "Print your laptop's brand, and operation system in two lines with `input()`"
   ]
  },
  {
   "cell_type": "markdown",
   "id": "1ed3284f",
   "metadata": {},
   "source": [
    "---  \n",
    "#### Exercise 3.\n",
    "Print your laptop's brand, and operation system with `input()` function, and connect them in to a sentence.\n",
    "\n",
    "*The input example*  \n",
    "Apple  \n",
    "MacOS\n",
    "\n",
    "*The expected output*  \n",
    "My laptop is Apple, which is a MacOS system."
   ]
  },
  {
   "cell_type": "markdown",
   "id": "c05092c5",
   "metadata": {},
   "source": [
    "---   \n",
    "#### Exercise 4.\n",
    "Write a program to calculate salary.  \n",
    "- Enter the working hours using `input()`  \n",
    "- Enter the pay rate using `input()`\n",
    "- total salary is __working hours*pay rate__\n",
    "- Print the total salary as \"The total salary is <total salary>!\"\n",
    "\n",
    "*The input example*  \n",
    "Working hours: 20  \n",
    "Pay Rate: 10  \n",
    "    \n",
    "*The expected Output*  \n",
    "The total salary is 200"
   ]
  },
  {
   "cell_type": "markdown",
   "id": "479de975",
   "metadata": {},
   "source": [
    "---   \n",
    "#### Exercise 5.\n",
    "Write a program that asks the user for the number of males and the number of females registered in a class. The program should display the percentage of males and females in the class.\n",
    "\n",
    "*The input example*\n",
    "How many females: 12  \n",
    "How many males: 8  \n",
    "\n",
    "*The expected Output*\n",
    "The percentage of female is 0.6, and the percentage of male is 0.4."
   ]
  }
 ],
 "metadata": {
  "kernelspec": {
   "display_name": "Python 3 (ipykernel)",
   "language": "python",
   "name": "python3"
  },
  "language_info": {
   "codemirror_mode": {
    "name": "ipython",
    "version": 3
   },
   "file_extension": ".py",
   "mimetype": "text/x-python",
   "name": "python",
   "nbconvert_exporter": "python",
   "pygments_lexer": "ipython3",
   "version": "3.11.5"
  }
 },
 "nbformat": 4,
 "nbformat_minor": 5
}
