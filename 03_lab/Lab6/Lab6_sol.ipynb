{
 "cells": [
  {
   "cell_type": "markdown",
   "id": "bab4108a",
   "metadata": {},
   "source": [
    "# ISE224: Lab6\n",
    "\n",
    "**Topics**  \n",
    "1. Functions\n"
   ]
  },
  {
   "cell_type": "markdown",
   "id": "7e046a9a",
   "metadata": {},
   "source": [
    "---\n",
    "#### Exercise 1\n",
    "\n",
    "Given an integer array nums sorted in non-decreasing order (we can use `.sort()`), remove the duplicates in-place such that each unique element appears only once. The relative order of the elements should be kept the same.\n",
    "\n",
    "Solution: \n",
    "\n",
    "1. Create a new list and take the first element from the array as its first element\n",
    "2. From the second element in the array, check whether it equals to the previous one\n",
    "    * If yes, skip it and compare the next element\n",
    "    * If no, add this element to the new list"
   ]
  },
  {
   "cell_type": "code",
   "execution_count": 1,
   "id": "1b6ffeba",
   "metadata": {},
   "outputs": [
    {
     "name": "stdout",
     "output_type": "stream",
     "text": [
      "Please enter a sorted sequence, separated by space: 1 1 2 3 3 4 4 4 4 4\n",
      "4\n",
      "['1', '2', '3', '4']\n"
     ]
    }
   ],
   "source": [
    "nums = input('Please enter a sorted sequence, separated by space: ')\n",
    "nums = nums.split()\n",
    "nums.sort()\n",
    "\n",
    "def removeDuplicates(nums):\n",
    "    size = len(nums)\n",
    "    insertIndex = 1\n",
    "    new_nums = [nums[0]]\n",
    "    for i in range(1, size):\n",
    "        # Found unique element\n",
    "        if nums[i - 1] != nums[i]:      \n",
    "            # Updating insertIndex in our main array\n",
    "            nums[insertIndex] = nums[i] \n",
    "            # Incrementing insertIndex count by 1 \n",
    "            insertIndex += 1       \n",
    "            # New list\n",
    "            new_nums.append(nums[i])\n",
    "    return insertIndex, new_nums\n",
    "\n",
    "insertIndex, new_nums = removeDuplicates(nums)\n",
    "print(insertIndex)\n",
    "print(new_nums)"
   ]
  },
  {
   "cell_type": "code",
   "execution_count": 4,
   "id": "6e2193fe",
   "metadata": {},
   "outputs": [
    {
     "name": "stdout",
     "output_type": "stream",
     "text": [
      "Please enter a integer sequence, separated by space: 3 1 2 8 1 2 3 4\n",
      "['3', '1', '2', '8', '4']\n"
     ]
    }
   ],
   "source": [
    "def rmDuplicate(nums):\n",
    "    nums = nums.split() # convert a space seperated array to an integer list\n",
    "    new_nums = []\n",
    "    i = 0\n",
    "    while i<len(nums):\n",
    "        if not nums[i] in new_nums:\n",
    "            new_nums.append(nums[i])\n",
    "        i+=1\n",
    "    return new_nums\n",
    "\n",
    "nums = input('Please enter a integer sequence, separated by space: ')\n",
    "new_nums=rmDuplicate(nums)\n",
    "print(new_nums)"
   ]
  },
  {
   "cell_type": "markdown",
   "id": "b0f5ef45",
   "metadata": {},
   "source": [
    "#### Example 2\n",
    "\n",
    "Given a <u>sorted array of distinct integers</u> and a target value, return the index if the target is found. If not, return the index where it would be if it were inserted in order."
   ]
  },
  {
   "cell_type": "code",
   "execution_count": 25,
   "id": "933ee2d3",
   "metadata": {},
   "outputs": [
    {
     "name": "stdout",
     "output_type": "stream",
     "text": [
      "Please enter a sorted sequence, separated by space: 1 2 3 4 5\n",
      "Please enter a target number: 3\n",
      "2\n"
     ]
    }
   ],
   "source": [
    "nums = input('Please enter a sorted sequence, separated by space: ')\n",
    "nums = nums.split()\n",
    "target = input('Please enter a target number: ')\n",
    "\n",
    "def searchInsert(nums,target) -> int:\n",
    "    start = 0\n",
    "    end = len(nums)-1\n",
    "    while start <= end:\n",
    "        mid = (start + end)//2\n",
    "        if nums[mid] == target:\n",
    "            return mid\n",
    "        elif nums[mid] > target:\n",
    "            end = mid - 1\n",
    "        else:\n",
    "            start = mid + 1\n",
    "    return end+1\n",
    "\n",
    "pos = searchInsert(nums,target)\n",
    "print(pos)"
   ]
  },
  {
   "cell_type": "markdown",
   "id": "aef81b60",
   "metadata": {},
   "source": [
    "#### Example 3\n",
    "\n",
    "You are given two integer arrays nums1 and nums2, sorted in non-decreasing order. Merge nums1 and nums2 into a single array sorted in non-decreasing order."
   ]
  },
  {
   "cell_type": "code",
   "execution_count": 44,
   "id": "4c285d1c",
   "metadata": {},
   "outputs": [
    {
     "name": "stdout",
     "output_type": "stream",
     "text": [
      "Please enter the first sorted sequence, separated by space: 1 2 3 4\n",
      "Please enter the second sorted sequence, separated by space: 2 3 4 5\n",
      "['1', '2', '2', '3', '3', '4', '4', '5']\n"
     ]
    }
   ],
   "source": [
    "nums1 = input('Please enter the first sorted sequence, separated by space: ')\n",
    "nums1 = nums1.split()\n",
    "nums2 = input('Please enter the second sorted sequence, separated by space: ')\n",
    "nums2 = nums2.split()\n",
    "\n",
    "def merge(nums1, nums2) -> list:\n",
    "    \n",
    "    i = len(nums1) - 1\n",
    "    j = len(nums2) - 1\n",
    "    k = len(nums1) + len(nums2) - 1\n",
    "    new_num = [0]*(k+1)\n",
    "    \n",
    "    while i >= 0 and j>=0:\n",
    "        if nums1[i] > nums2[j]:\n",
    "            new_num[k] = nums1[i]\n",
    "            i = i - 1\n",
    "        else:\n",
    "            new_num[k] = nums2[j]\n",
    "            j = j - 1 \n",
    "        k = k - 1\n",
    "        \n",
    "    while i>=0:\n",
    "        new_num[k] = nums1[i]\n",
    "        i = i - 1\n",
    "        k = k - 1\n",
    "\n",
    "    while j >= 0:\n",
    "        new_num[k] = nums2[j]\n",
    "        j = j - 1 \n",
    "        k = k - 1\n",
    "    \n",
    "    return new_num\n",
    "\n",
    "new_num = merge(nums1, nums2)\n",
    "print(new_num)"
   ]
  }
 ],
 "metadata": {
  "kernelspec": {
   "display_name": "Python 3 (ipykernel)",
   "language": "python",
   "name": "python3"
  },
  "language_info": {
   "codemirror_mode": {
    "name": "ipython",
    "version": 3
   },
   "file_extension": ".py",
   "mimetype": "text/x-python",
   "name": "python",
   "nbconvert_exporter": "python",
   "pygments_lexer": "ipython3",
   "version": "3.10.10"
  }
 },
 "nbformat": 4,
 "nbformat_minor": 5
}
