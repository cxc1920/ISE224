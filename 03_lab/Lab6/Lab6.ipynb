{
 "cells": [
  {
   "cell_type": "markdown",
   "id": "bab4108a",
   "metadata": {},
   "source": [
    "# ISE224: Lab6\n",
    "\n",
    "**Topics**  \n",
    "1. Functions\n",
    "2. Loops\n",
    "\n",
    "### ***Write self-defined functions to accomplish the following tasks.***"
   ]
  },
  {
   "cell_type": "markdown",
   "id": "7e046a9a",
   "metadata": {},
   "source": [
    "---\n",
    "#### Exercise 1\n",
    "\n",
    "Given an integer array nums sorted in non-decreasing order, remove the duplicates in-place such that each unique element appears only once. The relative order of the elements should be kept the same.\n",
    "\n",
    "Solution: \n",
    "\n",
    "1. Create a new list and take the first element from the array as its first element\n",
    "2. From the second element in the array, check wether it equals to the previous one\n",
    "3. If yes, skip it and compare the next element\n",
    "4. If no, add this element to the new list"
   ]
  },
  {
   "cell_type": "code",
   "execution_count": null,
   "id": "1b6ffeba",
   "metadata": {},
   "outputs": [],
   "source": []
  },
  {
   "cell_type": "markdown",
   "id": "b0f5ef45",
   "metadata": {},
   "source": [
    "#### Exercise 2\n",
    "\n",
    "Given a sorted array of distinct integers and a target value, return the index if the target is found. If not, return the index where it would be if it were inserted in order.\n",
    "\n",
    "***We will introduce binary search for this question***\n",
    "\n",
    "Solution:\n",
    "\n",
    "1. Find the middle point position of the array, compare its value with the target value.\n",
    "    ***You will didvide the array into 2 parts***\n",
    "2. If the median equals to the target, return that position\n",
    "3. If the median is greater than the target, find the middle position of the first part and compare its value with the target\n",
    "4. If the median is smaller than the target, find the middle position of the second part and compare its value with the target\n",
    "5. Repeat until we find equal values\n"
   ]
  },
  {
   "cell_type": "code",
   "execution_count": null,
   "id": "933ee2d3",
   "metadata": {},
   "outputs": [],
   "source": []
  },
  {
   "cell_type": "markdown",
   "id": "99a82f54",
   "metadata": {},
   "source": [
    "#### Exercise 3: Password Validator\n",
    "\n",
    "**Description:** Write a program that prompts the user to create a new password and validates it according to the following criteria:\n",
    "\n",
    "- It must contain at least 8 characters. `len()`\n",
    "- It must have at least one uppercase letter. `.isupper()`\n",
    "- It must have at least one lowercase letter. `.islower()`\n",
    "- It must have at least one digit. `.isdigit()`\n",
    "- It must have at least one special character (`!@#$%^&*()-_+=`).\n",
    "\n",
    "The program should keep prompting the user to enter a new password until all conditions are met. Once a valid password is entered, the program should print \"Password valid and accepted\".\n",
    "\n",
    "Hint: use `any()`"
   ]
  },
  {
   "cell_type": "code",
   "execution_count": null,
   "id": "0aa708a9",
   "metadata": {},
   "outputs": [],
   "source": []
  },
  {
   "cell_type": "markdown",
   "id": "aef81b60",
   "metadata": {},
   "source": [
    "#### Exercise 4:\n",
    "\n",
    "You are given two integer arrays nums1 and nums2, sorted in non-decreasing order. Merge nums1 and nums2 into a single array sorted in non-decreasing order.\n",
    "\n",
    "Solution:\n",
    "\n",
    "1. `l1` is the first input, `l2` is the second input, and create a new list `lnew`, length = the sum of lengths of the two inputs\n",
    "2. $i$ = the length of the first array, $j$ = the length of the second array, $k$ = length of the new list\n",
    "3. Check whether `l1[i]` is greater than `l2[j]`\n",
    "4. If yes, `lnew[k]=l1[i]`, then `i=i-1`\n",
    "5. If no, `lnew[k]=l2[j]`, then `j=j-1`\n",
    "6. Repeat until one input has nothing left, and add all the remaining elements of the other array into `lnew`"
   ]
  },
  {
   "cell_type": "code",
   "execution_count": 44,
   "id": "4c285d1c",
   "metadata": {},
   "outputs": [
    {
     "name": "stdout",
     "output_type": "stream",
     "text": [
      "Please enter the first sorted sequence, separated by space: 1 2 3 4\n",
      "Please enter the second sorted sequence, separated by space: 2 3 4 5\n",
      "['1', '2', '2', '3', '3', '4', '4', '5']\n"
     ]
    }
   ],
   "source": []
  }
 ],
 "metadata": {
  "kernelspec": {
   "display_name": "Python 3 (ipykernel)",
   "language": "python",
   "name": "python3"
  },
  "language_info": {
   "codemirror_mode": {
    "name": "ipython",
    "version": 3
   },
   "file_extension": ".py",
   "mimetype": "text/x-python",
   "name": "python",
   "nbconvert_exporter": "python",
   "pygments_lexer": "ipython3",
   "version": "3.10.10"
  }
 },
 "nbformat": 4,
 "nbformat_minor": 5
}
