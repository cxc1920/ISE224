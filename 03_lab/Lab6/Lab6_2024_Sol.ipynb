{
 "cells": [
  {
   "cell_type": "markdown",
   "id": "7b6f8dfb",
   "metadata": {},
   "source": [
    "# ISE224: Lab6\n",
    "\n",
    "**Topics**  \n",
    "1. Functions  \n",
    "--"
   ]
  },
  {
   "cell_type": "markdown",
   "id": "ca56fa14",
   "metadata": {},
   "source": [
    "### Python Coding Problem: Rolling Dice Game\n",
    "\n",
    "#### Problem Statement\n",
    "\n",
    "Write a Python program that simulates a game of rolling three dice. The game can be played against the computer or between two human players. Here's how the game should work:\n",
    "\n",
    "1. At the start of the game, the program should ask the user if they want to play against the computer or if two players will be playing the game. The user should input their choice.\n",
    "2. Player 1 rolls three dice, and the program displays the number of each die and the total sum of the dice.\n",
    "3. Player 2 (either a human or the computer, based on the initial choice) rolls three dice, and again, the program displays the number of each die and the total sum of the dice.\n",
    "4. The player (or computer) with the higher total sum wins the game. If the sums are equal, the game continues until one player wins.\n",
    "\n",
    "#### Requirements\n",
    "\n",
    "- Use the `random` module to simulate dice rolls. \n",
    "  - **import random**\n",
    "  - **random.randint(1,6)**\n",
    "- Ensure the game loops until a winner is determined when the sums are equal.\n",
    "- Handle user inputs appropriately and provide feedback for invalid inputs.\n",
    "- write a `roll_dice()` function to roll dice.\n",
    "- write a `play_game()` function to play a game."
   ]
  },
  {
   "cell_type": "code",
   "execution_count": 2,
   "id": "06c45da2",
   "metadata": {},
   "outputs": [
    {
     "name": "stdout",
     "output_type": "stream",
     "text": [
      "Do you want to play against the computer? (yes/no): no\n",
      "Player 1's turn:...Press any key to roll the dice...\n",
      "\n",
      "Player 1 rolled: [6, 6, 6] with a total of 18\n",
      "Player 2's turn:...Press any key to roll the dice...\n",
      "\n",
      "Player 2 rolled: [2, 4, 2] with a total of 8\n",
      "Player 1 wins!\n"
     ]
    }
   ],
   "source": [
    "import random\n",
    "\n",
    "def roll_dice():\n",
    "    # Simulate rolling three dice and return the results and sum.\n",
    "    rolls = [random.randint(1, 6) for x in range(3)]\n",
    "    return rolls, sum(rolls)\n",
    "\n",
    "def play_game():\n",
    "    mode = input(\"Do you want to play against the computer? (yes/no): \").strip().lower()\n",
    "    while mode not in ['yes', 'no']:\n",
    "        print(\"Invalid input. Please enter 'yes' or 'no'.\")\n",
    "        mode = input(\"Do you want to play against the computer? (yes/no): \").strip().lower()\n",
    "\n",
    "    player1_wins = player2_wins = False\n",
    "\n",
    "    while not player1_wins and not player2_wins:\n",
    "        # Player 1's turn\n",
    "        input(\"Player 1's turn:...Press any key to roll the dice...\")\n",
    "        rolls, total = roll_dice()\n",
    "        print(\"\\nPlayer 1 rolled:\", rolls, \"with a total of\", total)\n",
    "\n",
    "        # Player 2/Computer's turn\n",
    "        if mode == \"yes\":\n",
    "            print(\"Computer's turn: \")\n",
    "            rolls, total_computer = roll_dice()\n",
    "            print(\"Computer rolled:\", rolls, \"with a total of\", total_computer)\n",
    "        else:\n",
    "            input(\"Player 2's turn:...Press any key to roll the dice...\")\n",
    "            rolls, total_computer = roll_dice()\n",
    "            print(\"\\nPlayer 2 rolled:\", rolls, \"with a total of\", total_computer)\n",
    "\n",
    "        # Determine winner\n",
    "        if total > total_computer:\n",
    "            print(\"Player 1 wins!\")\n",
    "            player1_wins = True\n",
    "        elif total_computer > total:\n",
    "            if mode == \"yes\":\n",
    "                print(\"Computer wins!\")\n",
    "            else:\n",
    "                print(\"Player 2 wins!\")\n",
    "            player2_wins = True\n",
    "        else:\n",
    "            print(\"It's a tie. Rolling again...\")\n",
    "\n",
    "play_game()"
   ]
  }
 ],
 "metadata": {
  "kernelspec": {
   "display_name": "Python 3 (ipykernel)",
   "language": "python",
   "name": "python3"
  },
  "language_info": {
   "codemirror_mode": {
    "name": "ipython",
    "version": 3
   },
   "file_extension": ".py",
   "mimetype": "text/x-python",
   "name": "python",
   "nbconvert_exporter": "python",
   "pygments_lexer": "ipython3",
   "version": "3.11.7"
  }
 },
 "nbformat": 4,
 "nbformat_minor": 5
}
