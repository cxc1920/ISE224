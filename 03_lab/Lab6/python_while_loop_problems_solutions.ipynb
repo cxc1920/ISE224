{
 "cells": [
  {
   "cell_type": "markdown",
   "id": "29ba6b04",
   "metadata": {},
   "source": [
    "# Python While Loop Problems and Solutions\n",
    "\n",
    "This notebook contains two medium-level problems that involve while loops, along with their solutions. Each problem is designed to challenge your understanding of while loops, conditionals, and other Python features.\n"
   ]
  },
  {
   "cell_type": "markdown",
   "id": "3566a9aa",
   "metadata": {},
   "source": [
    "## Problem 1: Password Validator\n",
    "\n",
    "**Description:** Write a program that prompts the user to create a new password and validates it according to the following criteria:\n",
    "\n",
    "- It must contain at least 8 characters. `len()`\n",
    "- It must have at least one uppercase letter. `.isupper()`\n",
    "- It must have at least one lowercase letter. `.islower()`\n",
    "- It must have at least one digit. `.isdigit()`\n",
    "- It must have at least one special character (`!@#$%^&*()-_+=`).\n",
    "\n",
    "The program should keep prompting the user to enter a new password until all conditions are met. Once a valid password is entered, the program should print \"Password valid and accepted\".\n",
    "\n",
    "Hint: use `any()`"
   ]
  },
  {
   "cell_type": "code",
   "execution_count": null,
   "id": "eebb9b54",
   "metadata": {},
   "outputs": [],
   "source": [
    "\n",
    "def is_valid(password):\n",
    "    if len(password) < 8:\n",
    "        return False\n",
    "    if not any(char.isdigit() for char in password):\n",
    "        return False\n",
    "    if not any(char.isupper() for char in password):\n",
    "        return False\n",
    "    if not any(char.islower() for char in password):\n",
    "        return False\n",
    "    if not any(char in \"!@#$%^&*()-_+=\" for char in password):\n",
    "        return False\n",
    "    return True\n",
    "\n",
    "password = input(\"Enter a new password: \")\n",
    "while not is_valid(password):\n",
    "    print(\"Password does not meet the requirements.\")\n",
    "    password = input(\"Enter a new password: \")\n",
    "\n",
    "print(\"Password valid and accepted.\")\n"
   ]
  },
  {
   "cell_type": "markdown",
   "id": "3b14e049",
   "metadata": {},
   "source": [
    "## Problem 2: Number Guessing Game\n",
    "\n",
    "**Description:** Implement a number guessing game. The program should randomly select a number between 1 and 100, inclusive, and prompt the user to guess the number. After each guess, the program should provide feedback indicating whether the guess is too low, too high, or correct. The game continues until the user guesses the number correctly. After the correct guess, the program should print the number of attempts taken by the user.\n"
   ]
  },
  {
   "cell_type": "code",
   "execution_count": null,
   "id": "b20844c9",
   "metadata": {},
   "outputs": [],
   "source": [
    "\n",
    "import random\n",
    "\n",
    "target_number = random.randint(1, 100)\n",
    "guess = None\n",
    "attempts = 0\n",
    "\n",
    "while guess != target_number:\n",
    "    guess = int(input(\"Guess the number between 1 and 100: \"))\n",
    "    attempts += 1\n",
    "    if guess < target_number:\n",
    "        print(\"Too low!\")\n",
    "    elif guess > target_number:\n",
    "        print(\"Too high!\")\n",
    "    else:\n",
    "        print(f\"Congratulations! You guessed the number in {attempts} attempts.\")\n"
   ]
  }
 ],
 "metadata": {
  "kernelspec": {
   "display_name": "Python 3 (ipykernel)",
   "language": "python",
   "name": "python3"
  },
  "language_info": {
   "codemirror_mode": {
    "name": "ipython",
    "version": 3
   },
   "file_extension": ".py",
   "mimetype": "text/x-python",
   "name": "python",
   "nbconvert_exporter": "python",
   "pygments_lexer": "ipython3",
   "version": "3.10.10"
  }
 },
 "nbformat": 4,
 "nbformat_minor": 5
}
