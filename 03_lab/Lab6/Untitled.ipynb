{
 "cells": [
  {
   "cell_type": "code",
   "execution_count": 8,
   "id": "e131cf17",
   "metadata": {},
   "outputs": [
    {
     "name": "stdout",
     "output_type": "stream",
     "text": [
      "before assign j. \n",
      "i: 0\n",
      "[1]\n",
      "after assign j. \n",
      "j: 1 \n",
      "i+1: 1\n",
      "--------------------------------------------------\n",
      "before assign j. \n",
      "i: 1\n",
      "[1, 2, 3, 4]\n",
      "after assign j. \n",
      "j: 4 \n",
      "i+1: 2\n",
      "--------------------------------------------------\n",
      "before assign j. \n",
      "i: 2\n",
      "[1]\n",
      "after assign j. \n",
      "j: 1 \n",
      "i+1: 3\n",
      "--------------------------------------------------\n",
      "before assign j. \n",
      "i: 3\n",
      "[1, 2, 3, 4, 5, 6, 7]\n",
      "after assign j. \n",
      "j: 7 \n",
      "i+1: 4\n",
      "--------------------------------------------------\n",
      "before assign j. \n",
      "i: 4\n",
      "[1, 2, 3, 4, 5, 6, 7]\n",
      "after assign j. \n",
      "j: 7 \n",
      "i+1: 5\n",
      "--------------------------------------------------\n",
      "before assign j. \n",
      "i: 5\n",
      "[1, 2, 3, 4, 5]\n",
      "after assign j. \n",
      "j: 5 \n",
      "i+1: 6\n",
      "--------------------------------------------------\n",
      "before assign j. \n",
      "i: 6\n",
      "[1, 2, 3, 4, 5, 6]\n",
      "after assign j. \n",
      "j: 6 \n",
      "i+1: 7\n",
      "--------------------------------------------------\n",
      "before assign j. \n",
      "i: 7\n",
      "[1, 2, 3, 4, 5, 6, 7, 8]\n",
      "after assign j. \n",
      "j: 8 \n",
      "i+1: 8\n",
      "--------------------------------------------------\n",
      "before assign j. \n",
      "i: 8\n",
      "[1, 2, 3]\n",
      "after assign j. \n",
      "j: 3 \n",
      "i+1: 9\n",
      "--------------------------------------------------\n",
      "before assign j. \n",
      "i: 9\n",
      "[1, 2, 3, 4, 5, 6, 7, 8, 9]\n",
      "after assign j. \n",
      "j: 9 \n",
      "i+1: 10\n",
      "--------------------------------------------------\n",
      "before assign j. \n",
      "i: 10\n",
      "[1, 2]\n",
      "after assign j. \n",
      "j: 2 \n",
      "i+1: 11\n",
      "--------------------------------------------------\n",
      "before assign j. \n",
      "i: 11\n",
      "[1, 2, 3, 4, 5, 6]\n",
      "after assign j. \n",
      "j: 6 \n",
      "i+1: 12\n",
      "--------------------------------------------------\n",
      "before assign j. \n",
      "i: 12\n",
      "[1, 2, 3, 4]\n",
      "after assign j. \n",
      "j: 4 \n",
      "i+1: 13\n",
      "--------------------------------------------------\n",
      "before assign j. \n",
      "i: 13\n",
      "[1, 2, 3, 4]\n",
      "after assign j. \n",
      "j: 4 \n",
      "i+1: 14\n",
      "--------------------------------------------------\n",
      "before assign j. \n",
      "i: 14\n",
      "[1, 2, 3, 4, 5, 6, 7, 8, 9, 10]\n",
      "after assign j. \n",
      "j: 10 \n",
      "i+1: 15\n",
      "--------------------------------------------------\n"
     ]
    }
   ],
   "source": [
    "import random\n",
    "i = 0\n",
    "j = 0\n",
    "while j < 10:\n",
    "    print(f'before assign j. \\ni: {i}')\n",
    "    j = random.randint(1,10)\n",
    "    i += 1\n",
    "    print([k for k in range(1,j+1)])\n",
    "    print(f'after assign j. \\nj: {j} \\ni+1: {i}')\n",
    "    print('--------------------------------------------------')"
   ]
  },
  {
   "cell_type": "code",
   "execution_count": 21,
   "id": "91249cf9",
   "metadata": {},
   "outputs": [],
   "source": [
    "def set_list(list):\n",
    "    list[0] = \"K\"\n",
    "    list = [\"A\", \"B\", \"C\"]\n",
    "    list[0] = \"Y\"\n",
    "    return list"
   ]
  },
  {
   "cell_type": "code",
   "execution_count": 22,
   "id": "d1460bb0",
   "metadata": {},
   "outputs": [],
   "source": [
    "L = [\"E\"]"
   ]
  },
  {
   "cell_type": "code",
   "execution_count": 23,
   "id": "56e8e5d2",
   "metadata": {},
   "outputs": [
    {
     "data": {
      "text/plain": [
       "['Y', 'B', 'C']"
      ]
     },
     "execution_count": 23,
     "metadata": {},
     "output_type": "execute_result"
    }
   ],
   "source": [
    "set_list(L)"
   ]
  },
  {
   "cell_type": "code",
   "execution_count": 24,
   "id": "f914b207",
   "metadata": {},
   "outputs": [
    {
     "data": {
      "text/plain": [
       "['K']"
      ]
     },
     "execution_count": 24,
     "metadata": {},
     "output_type": "execute_result"
    }
   ],
   "source": [
    "L"
   ]
  },
  {
   "cell_type": "code",
   "execution_count": null,
   "id": "692a0cf6",
   "metadata": {},
   "outputs": [],
   "source": [
    "list = "
   ]
  }
 ],
 "metadata": {
  "kernelspec": {
   "display_name": "Python 3 (ipykernel)",
   "language": "python",
   "name": "python3"
  },
  "language_info": {
   "codemirror_mode": {
    "name": "ipython",
    "version": 3
   },
   "file_extension": ".py",
   "mimetype": "text/x-python",
   "name": "python",
   "nbconvert_exporter": "python",
   "pygments_lexer": "ipython3",
   "version": "3.10.10"
  }
 },
 "nbformat": 4,
 "nbformat_minor": 5
}
