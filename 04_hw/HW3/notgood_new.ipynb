{
 "cells": [
  {
   "cell_type": "markdown",
   "id": "0a3c41e0",
   "metadata": {},
   "source": [
    "### ISE224 Homework Assignment\n",
    "---\n",
    "\n",
    "- Due: March 16, 2024 11:59 PM (ET)\n",
    "- Submit one `.ipynb` file following the format of this template.\n",
    "\n",
    "Please make sure to follow all instructions carefully and complete each question. Code cells are provided for coding questions, and markdown cells for theoretical questions or instructions.\n"
   ]
  },
  {
   "cell_type": "markdown",
   "id": "e47336d5",
   "metadata": {},
   "source": [
    "#### Question: Explain the difference between mutable and immutable types in Python."
   ]
  },
  {
   "cell_type": "markdown",
   "id": "16306aa8",
   "metadata": {},
   "source": [
    "#### Question: What is the significance of the `self` parameter in Python classes?"
   ]
  },
  {
   "cell_type": "markdown",
   "id": "b8bdfda1",
   "metadata": {},
   "source": [
    "#### Question: Discuss how Python's garbage collection works and how it affects program performance."
   ]
  },
  {
   "cell_type": "markdown",
   "id": "6662d4d1",
   "metadata": {},
   "source": [
    "#### Coding Exercise: Write a Python function that takes a list of numbers and returns a list of their squares."
   ]
  },
  {
   "cell_type": "code",
   "execution_count": null,
   "id": "811ef809",
   "metadata": {},
   "outputs": [],
   "source": [
    "# Your code here\n",
    "\n"
   ]
  },
  {
   "cell_type": "markdown",
   "id": "df53baaf",
   "metadata": {},
   "source": [
    "#### Coding Exercise: Implement a Python class representing a basic bank account. The class should have methods for depositing, withdrawing, and checking the balance."
   ]
  },
  {
   "cell_type": "code",
   "execution_count": null,
   "id": "95c2aff5",
   "metadata": {},
   "outputs": [],
   "source": [
    "# Your code here\n",
    "\n"
   ]
  },
  {
   "cell_type": "markdown",
   "id": "24d0d529",
   "metadata": {},
   "source": [
    "#### Coding Exercise: Using NumPy, create a 5x5 array filled with random numbers between 0 and 1."
   ]
  },
  {
   "cell_type": "code",
   "execution_count": null,
   "id": "c6741d3e",
   "metadata": {},
   "outputs": [],
   "source": [
    "# Your code here\n",
    "\n"
   ]
  }
 ],
 "metadata": {},
 "nbformat": 4,
 "nbformat_minor": 5
}
