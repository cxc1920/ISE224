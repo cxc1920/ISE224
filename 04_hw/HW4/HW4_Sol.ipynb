{
 "cells": [
  {
   "cell_type": "markdown",
   "id": "90ff6bd9",
   "metadata": {},
   "source": [
    "### ISE224 HW4\n",
    "\n",
    "---  \n",
    "\n",
    " - Due: February 27th 11:59 PM (ET)\n",
    " - Submit one py file using the format of HW3_template.py"
   ]
  },
  {
   "cell_type": "markdown",
   "id": "8b34a036",
   "metadata": {},
   "source": [
    "#### Problem 1\n",
    "\n",
    "Write a program that takes an integer input from the user and prints the multiplication table of that number using for loop. (# iterate through the numbers 1 to 10)"
   ]
  },
  {
   "cell_type": "code",
   "execution_count": null,
   "id": "96c5f45b",
   "metadata": {},
   "outputs": [],
   "source": []
  },
  {
   "cell_type": "code",
   "execution_count": 1,
   "id": "eab0b783",
   "metadata": {},
   "outputs": [
    {
     "name": "stdout",
     "output_type": "stream",
     "text": [
      "Enter a number: 5\n",
      "5 x 1 = 5\n",
      "5 x 2 = 10\n",
      "5 x 3 = 15\n",
      "5 x 4 = 20\n",
      "5 x 5 = 25\n",
      "5 x 6 = 30\n",
      "5 x 7 = 35\n",
      "5 x 8 = 40\n",
      "5 x 9 = 45\n",
      "5 x 10 = 50\n"
     ]
    }
   ],
   "source": [
    "# take input from the user\n",
    "num = int(input(\"Enter a number: \"))\n",
    "\n",
    "# iterate through the numbers 1 to 10\n",
    "for i in range(1, 11):\n",
    "    # calculate the product\n",
    "    product = num * i\n",
    "    # print the result\n",
    "    print(num, \"x\", i, \"=\", product)\n"
   ]
  },
  {
   "cell_type": "markdown",
   "id": "ec8e3055",
   "metadata": {},
   "source": [
    "#### Problem 2\n",
    "\n",
    "Write a program that takes an input from the user and calculates the sum of all even numbers between 1 and the given number using while loop."
   ]
  },
  {
   "cell_type": "code",
   "execution_count": null,
   "id": "909b95e2",
   "metadata": {},
   "outputs": [],
   "source": []
  },
  {
   "cell_type": "code",
   "execution_count": 2,
   "id": "77fd2e81",
   "metadata": {},
   "outputs": [
    {
     "name": "stdout",
     "output_type": "stream",
     "text": [
      "Enter a number: 20\n",
      "Sum of all even numbers between 1 and 20 is 110\n"
     ]
    }
   ],
   "source": [
    "num = int(input(\"Enter a number: \"))\n",
    "sum = 0\n",
    "i = 2\n",
    "while i <= num:\n",
    "    if i % 2 == 0:\n",
    "        sum += i\n",
    "    i = i + 1\n",
    "print(\"Sum of all even numbers between 1 and\", num, \"is\", sum)"
   ]
  },
  {
   "cell_type": "markdown",
   "id": "cb43b03b",
   "metadata": {},
   "source": [
    "#### Problem 3\n",
    "\n",
    "Write a program that takes a string input from the user and outputs the number of vowels in the string using while loop."
   ]
  },
  {
   "cell_type": "code",
   "execution_count": null,
   "id": "35ba2712",
   "metadata": {},
   "outputs": [],
   "source": []
  },
  {
   "cell_type": "code",
   "execution_count": 3,
   "id": "49fb1851",
   "metadata": {},
   "outputs": [
    {
     "name": "stdout",
     "output_type": "stream",
     "text": [
      "Enter a string: Hello world\n",
      "Number of vowels in the string: 3\n"
     ]
    }
   ],
   "source": [
    "text = input(\"Enter a string: \")\n",
    "vowels = \"aeiouAEIOU\"\n",
    "count = 0\n",
    "for char in text:\n",
    "    if char in vowels:\n",
    "        count += 1\n",
    "print(\"Number of vowels in the string:\", count)"
   ]
  },
  {
   "cell_type": "markdown",
   "id": "238c1ce7",
   "metadata": {},
   "source": [
    "#### Problem 4\n",
    "\n",
    "Write a program that takes a number from the user and outputs whether it is a prime number or not using while loop."
   ]
  },
  {
   "cell_type": "code",
   "execution_count": null,
   "id": "ff70fa6b",
   "metadata": {},
   "outputs": [],
   "source": []
  },
  {
   "cell_type": "code",
   "execution_count": 4,
   "id": "c5f25e00",
   "metadata": {},
   "outputs": [
    {
     "name": "stdout",
     "output_type": "stream",
     "text": [
      "Enter a number: 7\n",
      "7 is a prime number\n"
     ]
    }
   ],
   "source": [
    "num = int(input(\"Enter a number: \"))\n",
    "if num > 1:\n",
    "    for i in range(2, num):\n",
    "        if num % i == 0:\n",
    "            print(num, \"is not a prime number\")\n",
    "            break\n",
    "    else:\n",
    "        print(num, \"is a prime number\")\n",
    "else:\n",
    "    print(num, \"is not a prime number\")"
   ]
  },
  {
   "cell_type": "markdown",
   "id": "f1ca1210",
   "metadata": {},
   "source": [
    "#### Problem 5\n",
    "\n",
    "Write a program that takes two numbers from the user and outputs all numbers between them that are divisible by 3 or 5 using while loop."
   ]
  },
  {
   "cell_type": "code",
   "execution_count": null,
   "id": "b64deb15",
   "metadata": {},
   "outputs": [],
   "source": []
  },
  {
   "cell_type": "code",
   "execution_count": 6,
   "id": "259497ea",
   "metadata": {},
   "outputs": [
    {
     "name": "stdout",
     "output_type": "stream",
     "text": [
      "Enter the start number: 15\n",
      "Enter the end number: 21\n",
      "Numbers between 15 and 21 that are divisible by 3 or 5:\n",
      "15\n",
      "18\n",
      "20\n",
      "21\n"
     ]
    }
   ],
   "source": [
    "start = int(input(\"Enter the start number: \"))\n",
    "end = int(input(\"Enter the end number: \"))\n",
    "print(\"Numbers between\", start, \"and\", end, \"that are divisible by 3 or 5:\")\n",
    "for i in range(start, end + 1):\n",
    "    if i % 3 == 0 or i % 5 == 0:\n",
    "        print(i)"
   ]
  },
  {
   "cell_type": "markdown",
   "id": "303a9ea7",
   "metadata": {},
   "source": [
    "#### Problem 6\n",
    "\n",
    "Write a program that prompts the user for a positive integer and calculates the sum of all positive integers up to the number entered."
   ]
  },
  {
   "cell_type": "code",
   "execution_count": null,
   "id": "0e37bba2",
   "metadata": {},
   "outputs": [],
   "source": []
  },
  {
   "cell_type": "code",
   "execution_count": 7,
   "id": "07273ce9",
   "metadata": {},
   "outputs": [
    {
     "name": "stdout",
     "output_type": "stream",
     "text": [
      "Enter a positive integer: 5\n",
      "The sum of all positive integers up to 5 is 15\n"
     ]
    }
   ],
   "source": [
    "number = int(input(\"Enter a positive integer: \"))\n",
    "sum = 0\n",
    "i = 1\n",
    "while i <= number:\n",
    "    sum += i\n",
    "    i += 1\n",
    "print(\"The sum of all positive integers up to\", number, \"is\", sum)"
   ]
  },
  {
   "cell_type": "markdown",
   "id": "646f48b7",
   "metadata": {},
   "source": [
    "#### Problem 7\n",
    "\n",
    "Write a program that prompts the user for a positive integer and calculates the product of all positive integers up to the number entered. "
   ]
  },
  {
   "cell_type": "code",
   "execution_count": null,
   "id": "fb6cc79b",
   "metadata": {},
   "outputs": [],
   "source": []
  },
  {
   "cell_type": "code",
   "execution_count": 9,
   "id": "481c0bc0",
   "metadata": {},
   "outputs": [
    {
     "name": "stdout",
     "output_type": "stream",
     "text": [
      "Enter a positive integer: 5\n",
      "The product of all positive integers up to 5 is 120\n"
     ]
    }
   ],
   "source": [
    "number = int(input(\"Enter a positive integer: \"))\n",
    "product = 1\n",
    "i = 1\n",
    "while i <= number:\n",
    "    product *= i\n",
    "    i += 1\n",
    "print(\"The product of all positive integers up to\", number, \"is\", product)"
   ]
  },
  {
   "cell_type": "markdown",
   "id": "dc0e2318",
   "metadata": {},
   "source": [
    "#### Problem 8\n",
    "\n",
    "Write a program that prompts the user for two positive integers, m and n, and calculates the greatest common divisor (GCD) of the two numbers using the Euclidean algorithm. The Euclidean algorithm is a method for finding the GCD of two numbers by repeatedly subtracting the smaller number from the larger number until the two numbers are equal. The GCD of the two numbers is then equal to the final number obtained."
   ]
  },
  {
   "cell_type": "code",
   "execution_count": null,
   "id": "2229e7d8",
   "metadata": {},
   "outputs": [],
   "source": []
  },
  {
   "cell_type": "code",
   "execution_count": 11,
   "id": "68ab6fb0",
   "metadata": {},
   "outputs": [
    {
     "name": "stdout",
     "output_type": "stream",
     "text": [
      "Enter the first positive integer: 12\n",
      "Enter the second positive integer: 16\n",
      "The GCD is 4\n"
     ]
    }
   ],
   "source": [
    "m = int(input(\"Enter the first positive integer: \"))\n",
    "n = int(input(\"Enter the second positive integer: \"))\n",
    "\n",
    "while m != n:\n",
    "    if m > n:\n",
    "        m -= n\n",
    "    else:\n",
    "        n -= m\n",
    "\n",
    "gcd = m\n",
    "\n",
    "print(\"The GCD is\", gcd)"
   ]
  },
  {
   "cell_type": "markdown",
   "id": "52960731",
   "metadata": {},
   "source": [
    "#### Problem 9\n",
    "\n",
    "Write a program that prompts the user for a positive integer n and calculates the sum of the first n terms of the harmonic series. The harmonic series is a series of numbers in which each number is the reciprocal of a positive integer, starting with 1. The sum of the first n terms of the harmonic series can be calculated as sum = sum + 1/i where i is the ith positive integer."
   ]
  },
  {
   "cell_type": "code",
   "execution_count": null,
   "id": "34f90ab7",
   "metadata": {},
   "outputs": [],
   "source": []
  },
  {
   "cell_type": "code",
   "execution_count": 12,
   "id": "5d123765",
   "metadata": {},
   "outputs": [
    {
     "name": "stdout",
     "output_type": "stream",
     "text": [
      "Enter a positive integer n: 5\n",
      "The sum of the first 5 terms of the harmonic series is: 2.283333333333333\n"
     ]
    }
   ],
   "source": [
    "n = int(input(\"Enter a positive integer n: \"))\n",
    "sum = 0\n",
    "i = 1\n",
    "while i <= n:\n",
    "    sum += 1/i\n",
    "    i += 1\n",
    "\n",
    "print(\"The sum of the first\", n, \"terms of the harmonic series is:\", sum)"
   ]
  },
  {
   "cell_type": "markdown",
   "id": "f32aa7f6",
   "metadata": {},
   "source": [
    "#### Problem 10\n",
    "\n",
    "Write a program that asks the user for a positive integer n and keeps asking for a positive integer until the user inputs a number that is greater than 0. Then, the program should print the sum of the first n odd numbers."
   ]
  },
  {
   "cell_type": "code",
   "execution_count": null,
   "id": "ccd20b55",
   "metadata": {},
   "outputs": [],
   "source": []
  },
  {
   "cell_type": "code",
   "execution_count": 13,
   "id": "091026b1",
   "metadata": {},
   "outputs": [
    {
     "name": "stdout",
     "output_type": "stream",
     "text": [
      "Enter a positive integer n: 10\n",
      "The sum of the first 10 odd numbers is: 100\n"
     ]
    }
   ],
   "source": [
    "n = int(input(\"Enter a positive integer n: \"))\n",
    "if n <= 0:\n",
    "    print(\"Invalid input. Please enter a positive integer.\")\n",
    "    n = int(input(\"Enter a positive integer n: \"))\n",
    "else:\n",
    "    i = 1\n",
    "    sum = 0\n",
    "    while i <= n:\n",
    "        sum += 2 * i - 1\n",
    "        i += 1\n",
    "print(\"The sum of the first\", n, \"odd numbers is:\", sum)"
   ]
  },
  {
   "cell_type": "code",
   "execution_count": null,
   "id": "5d54c5cf",
   "metadata": {},
   "outputs": [],
   "source": []
  }
 ],
 "metadata": {
  "kernelspec": {
   "display_name": "Python 3 (ipykernel)",
   "language": "python",
   "name": "python3"
  },
  "language_info": {
   "codemirror_mode": {
    "name": "ipython",
    "version": 3
   },
   "file_extension": ".py",
   "mimetype": "text/x-python",
   "name": "python",
   "nbconvert_exporter": "python",
   "pygments_lexer": "ipython3",
   "version": "3.9.12"
  }
 },
 "nbformat": 4,
 "nbformat_minor": 5
}
