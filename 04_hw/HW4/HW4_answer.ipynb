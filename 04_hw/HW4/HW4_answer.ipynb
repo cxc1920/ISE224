{
 "cells": [
  {
   "cell_type": "markdown",
   "id": "1223193a",
   "metadata": {},
   "source": [
    "# ISE224 HW4\n",
    "\n",
    "---  \n",
    "\n",
    " - Due: February 27th 11:59 PM (ET)\n",
    " - Submit one py file using the format of HW4_template.py"
   ]
  },
  {
   "cell_type": "markdown",
   "id": "ed2f7c86",
   "metadata": {},
   "source": [
    "#### Problem 1\n",
    "\n",
    "Write a program that takes an integer input from the user and prints the multiplication table of that number using for loop."
   ]
  },
  {
   "cell_type": "code",
   "execution_count": 2,
   "id": "8995b495",
   "metadata": {},
   "outputs": [
    {
     "name": "stdout",
     "output_type": "stream",
     "text": [
      "Enter a number: 5\n",
      "5 x 0 = 0\n",
      "5 x 1 = 5\n",
      "5 x 2 = 10\n",
      "5 x 3 = 15\n",
      "5 x 4 = 20\n",
      "5 x 5 = 25\n",
      "5 x 6 = 30\n",
      "5 x 7 = 35\n",
      "5 x 8 = 40\n",
      "5 x 9 = 45\n",
      "5 x 10 = 50\n"
     ]
    }
   ],
   "source": [
    "num = int(input(\"Enter a number: \"))\n",
    "for i in range(11):\n",
    "    print(num, \"x\", i, \"=\", num * i)"
   ]
  },
  {
   "cell_type": "markdown",
   "id": "fa1df2df",
   "metadata": {},
   "source": [
    "#### Problem 2\n",
    "\n",
    "Write a program that takes an input from the user and calculates the sum of all even numbers between 1 and the given number using for loop."
   ]
  },
  {
   "cell_type": "code",
   "execution_count": 3,
   "id": "c6ca676f",
   "metadata": {},
   "outputs": [
    {
     "name": "stdout",
     "output_type": "stream",
     "text": [
      "Enter a number: 5\n",
      "Sum of all even numbers between 1 and 5 is 6\n"
     ]
    }
   ],
   "source": [
    "num = int(input(\"Enter a number: \"))\n",
    "sum = 0\n",
    "for i in range(num+1):\n",
    "    if i % 2 == 0:\n",
    "        sum += i\n",
    "print(\"Sum of all even numbers between 1 and\", num, \"is\", sum)"
   ]
  },
  {
   "cell_type": "markdown",
   "id": "743fa436",
   "metadata": {},
   "source": [
    "#### Problem 3\n",
    "\n",
    "Write a program that takes a number from the user and outputs whether it is a prime number or not using for loop."
   ]
  },
  {
   "cell_type": "code",
   "execution_count": 1,
   "id": "06f3d7cb",
   "metadata": {},
   "outputs": [
    {
     "name": "stdout",
     "output_type": "stream",
     "text": [
      "Enter a number: 43\n",
      "43 is a prime number\n"
     ]
    }
   ],
   "source": [
    "num = int(input(\"Enter a number: \"))\n",
    "if num > 1:\n",
    "    for i in range(2, num):\n",
    "        if num % i == 0:\n",
    "            print(num, \"is not a prime number\")\n",
    "            break\n",
    "    else:\n",
    "        print(num, \"is a prime number\")\n",
    "else:\n",
    "    print(num, \"is not a prime number\")"
   ]
  },
  {
   "cell_type": "markdown",
   "id": "e1d640fc",
   "metadata": {},
   "source": [
    "#### Problem 4\n",
    "\n",
    "Write a program that prompts the user for a positive integer and calculates the sum of all positive integers up to the number entered using for loop."
   ]
  },
  {
   "cell_type": "code",
   "execution_count": 4,
   "id": "360a7fc1",
   "metadata": {},
   "outputs": [
    {
     "name": "stdout",
     "output_type": "stream",
     "text": [
      "Enter a positive integer: 10\n",
      "The sum of all positive integers up to 10 is 55\n"
     ]
    }
   ],
   "source": [
    "number = int(input(\"Enter a positive integer: \"))\n",
    "sum = 0\n",
    "for i in range(number+1):\n",
    "    sum += i\n",
    "print(\"The sum of all positive integers up to\", number, \"is\", sum)"
   ]
  },
  {
   "cell_type": "markdown",
   "id": "1b179f7d",
   "metadata": {},
   "source": [
    "#### Problem 5\n",
    "\n",
    "Using for loop, write a program that asks the user for a positive integer $n$ and keeps asking for a positive integer until the user inputs a number that is greater than 0. Then, the program should print the sum of the first $n$ odd numbers."
   ]
  },
  {
   "cell_type": "code",
   "execution_count": 2,
   "id": "dcb2f96b",
   "metadata": {},
   "outputs": [
    {
     "name": "stdout",
     "output_type": "stream",
     "text": [
      "Enter a positive integer n: 20\n",
      "The sum of the first 20 odd numbers is: 399\n"
     ]
    }
   ],
   "source": [
    "n = int(input(\"Enter a positive integer n: \"))\n",
    "if n <= 0:\n",
    "    print(\"Invalid input. Please enter a positive integer.\")\n",
    "    n = int(input(\"Enter a positive integer n: \"))\n",
    "else:\n",
    "    sum = 0\n",
    "    for i in range(n+1):\n",
    "        sum += 2 * i - 1\n",
    "print(\"The sum of the first\", n, \"odd numbers is:\", sum)"
   ]
  },
  {
   "cell_type": "markdown",
   "id": "195bc3ee",
   "metadata": {},
   "source": [
    "#### ***Please use list comprehensions to complete problems 6-10.***\n",
    "\n",
    "#### Problem 6\n",
    "\n",
    "Find all of the numbers from 1–1000 that are divisible by 17"
   ]
  },
  {
   "cell_type": "code",
   "execution_count": 2,
   "id": "f18eae38",
   "metadata": {},
   "outputs": [
    {
     "name": "stdout",
     "output_type": "stream",
     "text": [
      "[17, 34, 51, 68, 85, 102, 119, 136, 153, 170, 187, 204, 221, 238, 255, 272, 289, 306, 323, 340, 357, 374, 391, 408, 425, 442, 459, 476, 493, 510, 527, 544, 561, 578, 595, 612, 629, 646, 663, 680, 697, 714, 731, 748, 765, 782, 799, 816, 833, 850, 867, 884, 901, 918, 935, 952, 969, 986]\n"
     ]
    }
   ],
   "source": [
    "nums = [i for i in range(1,1001)]\n",
    "ans = [num for num in nums if num % 17 == 0]\n",
    "print(ans)"
   ]
  },
  {
   "cell_type": "markdown",
   "id": "45b6c2bb",
   "metadata": {},
   "source": [
    "#### Problem 7\n",
    "\n",
    "Create a matrix as below: (using nested structure)\n",
    "\n",
    "**Hint:** matrix = [[j for j in ...] for i in ...]\n",
    "\n",
    "\n",
    "$$ \\begin{bmatrix} \n",
    "   1 & 2 & 3 \\\\\n",
    "   1 & 2 & 3 \\\\\n",
    "   1 & 2 & 3 \\\\\n",
    "   \\end{bmatrix} $$"
   ]
  },
  {
   "cell_type": "code",
   "execution_count": 8,
   "id": "7c63bb70",
   "metadata": {},
   "outputs": [
    {
     "name": "stdout",
     "output_type": "stream",
     "text": [
      "[[1, 2, 3], [1, 2, 3], [1, 2, 3]]\n"
     ]
    }
   ],
   "source": [
    "matrix = [[j for j in range(1,4)] for i in range(3)]\n",
    "   \n",
    "print(matrix)"
   ]
  },
  {
   "cell_type": "markdown",
   "id": "fca98777",
   "metadata": {},
   "source": [
    "#### Problem 8\n",
    "\n",
    "Display all the elements in a sentence."
   ]
  },
  {
   "cell_type": "code",
   "execution_count": 10,
   "id": "8880e2fe",
   "metadata": {},
   "outputs": [
    {
     "name": "stdout",
     "output_type": "stream",
     "text": [
      "Please enter your sentence: Hello world!\n",
      "['H', 'e', 'l', 'l', 'o', ' ', 'w', 'o', 'r', 'l', 'd', '!']\n"
     ]
    }
   ],
   "source": [
    "string = input('Please enter your sentence: ')\n",
    "List = [character for character in string]\n",
    "print(List)"
   ]
  },
  {
   "cell_type": "markdown",
   "id": "2c94e9c3",
   "metadata": {},
   "source": [
    "#### Problem 9\n",
    "\n",
    "Display all the words with letter 'a'.\\\n",
    "fruits = [\"apple\", \"banana\", \"cherry\", \"kiwi\", \"mango\"]"
   ]
  },
  {
   "cell_type": "code",
   "execution_count": 2,
   "id": "bce37ce5",
   "metadata": {},
   "outputs": [
    {
     "name": "stdout",
     "output_type": "stream",
     "text": [
      "['apple', 'banana', 'mango']\n"
     ]
    }
   ],
   "source": [
    "fruits = [\"apple\", \"banana\", \"cherry\", \"kiwi\", \"mango\"]\n",
    "\n",
    "newlist = [x for x in fruits if \"a\" in x]\n",
    "\n",
    "print(newlist)"
   ]
  },
  {
   "cell_type": "markdown",
   "id": "a37e1fdf",
   "metadata": {},
   "source": [
    "#### Problem 10\n",
    "\n",
    "Enter a list of numbers, replace all the negative numbers with 0.\n",
    "\n",
    "Hint: l = input('Please enter a list of numbers separated by space').split()"
   ]
  },
  {
   "cell_type": "code",
   "execution_count": 1,
   "id": "e25f08d1",
   "metadata": {},
   "outputs": [
    {
     "name": "stdout",
     "output_type": "stream",
     "text": [
      "Please enter a list of numbers separated by space: 1 3 -5 -7 10 -8\n",
      "[1.0, 3.0, 0, 0, 10.0, 0]\n"
     ]
    }
   ],
   "source": [
    "l = input('Please enter a list of numbers separated by space: ').split()\n",
    "new = [float(i) if float(i) > 0 else 0 for i in l]\n",
    "print(new)"
   ]
  }
 ],
 "metadata": {
  "kernelspec": {
   "display_name": "Python 3 (ipykernel)",
   "language": "python",
   "name": "python3"
  },
  "language_info": {
   "codemirror_mode": {
    "name": "ipython",
    "version": 3
   },
   "file_extension": ".py",
   "mimetype": "text/x-python",
   "name": "python",
   "nbconvert_exporter": "python",
   "pygments_lexer": "ipython3",
   "version": "3.9.12"
  }
 },
 "nbformat": 4,
 "nbformat_minor": 5
}
