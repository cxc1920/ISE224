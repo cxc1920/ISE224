{
 "cells": [
  {
   "cell_type": "markdown",
   "id": "406e6b35",
   "metadata": {},
   "source": [
    "# ISE224 HW5\n",
    "\n",
    "---  \n",
    "\n",
    " - Due: March 20th 11:59 PM (ET)\n",
    " - Submit one py file using the format of HW5_template.py"
   ]
  },
  {
   "cell_type": "markdown",
   "id": "255e537e",
   "metadata": {},
   "source": [
    "### Problem 1: Pascal's triangle\n",
    "\n",
    "Write a function to implement Pascal's triangle.\n",
    "\n",
    "Given an integer `numRows`, return the first numRows of Pascal's triangle.\n",
    "\n",
    "For example,\n",
    "\n",
    "**Please enter the number of rows: 6**\n",
    "\n",
    "**[[1], [1, 1], [1, 2, 1], [1, 3, 3, 1], [1, 4, 6, 4, 1], [1, 5, 10, 10, 5, 1]]**  \n",
    "\n",
    "In Pascal's triangle, each number is the sum of the two numbers directly above it as shown:\n",
    "\n",
    "<img src=\"https://upload.wikimedia.org/wikipedia/commons/0/0d/PascalTriangleAnimated2.gif\">\n",
    "\n",
    "**Hints:**\n",
    "\n",
    "1. If `numRows=1`, return `[[1]]`\n",
    "2. If `numRows=2`, return `[[1],[1,1]]`\n",
    "3. If `numRows>=3`, create a `List` with first two elements `[1]` and `[1,1]`\n",
    "4. Starting from the third row, create a `list` with first element `[1]`. Then from the second element (use index `i`), each element is the sum of the `i-1th` and `ith` element from the previous row\n",
    "\n",
    "**Requirement:**\n",
    "\n",
    "Define your function as\n",
    "\n",
    "**def Pascal(numRows):**  \n",
    "    - ....   \n",
    "    - ....  \n",
    "    - **return pascal_trig**"
   ]
  },
  {
   "cell_type": "code",
   "execution_count": 90,
   "id": "f6f354d2",
   "metadata": {},
   "outputs": [
    {
     "name": "stdout",
     "output_type": "stream",
     "text": [
      "Please enter the number of rows: 6\n",
      "[[1], [1, 1], [1, 2, 1], [1, 3, 3, 1], [1, 4, 6, 4, 1], [1, 5, 10, 10, 5, 1]]\n"
     ]
    }
   ],
   "source": [
    "def Pascal(numRows):\n",
    "# Write your code here\n",
    "    return passcal_trig\n",
    "\n",
    "num = int(input('Please enter the number of rows: '))\n",
    "tri = Pascal(num)\n",
    "print(tri)"
   ]
  },
  {
   "cell_type": "markdown",
   "id": "054cfc95",
   "metadata": {},
   "source": [
    "### Problem 2: Eight queens puzzle\n",
    "\n",
    "The eight queens puzzle is the problem of placing eight chess queens on an 8×8 chessboard so that no two queens threaten each other; thus, a solution requires that **no two queens share the same row, column, or diagonal.**\n",
    "\n",
    "Write a function to solve the eight queens puzzle, where input is a `8*8 matrix` with partial solution and output of the function is the full solution of the eight queens puzzle. \n",
    "\n",
    "**Hint:**   \n",
    "This is one thought to solve the eight queens puzzle.  \n",
    "\n",
    "1. **create a 8*8 matrix to represnet the checkboard status, if the cell(i,j) = 1 means one queen is put at (i,j), else cell(i,j) = 0 means no queen at (i,j)\n",
    "2. **Write a function to check if all cells of a given row are 0: check_row(puzzle, row)**\n",
    "3. **Write a function to check if all cells of a given column are 0: check_col(puzzle, col)**\n",
    "4. **Write a function to check if all cells at diaganol directions of cell(row, col) are 0: check_diaganol(puzzle, row, col)** \n",
    "5. **Write a backtrack function (a recursive function) to solve the eight queens puzzle: backtrack(puzzle, row)**  \n",
    "    - **backtrack(puzzle, row): Given the current puzzle status, and a row number**  \n",
    "        - If there is one queen in this row, then check next row: backtrack(puzzle, row+1)  \n",
    "        - If row is larger than the boundry, then return the `puzzle`\n",
    "        - for each cell(column) in this row, check the row, column, and diaganol to see if we can put a queen\n",
    "            - If we can put a queen at a cell(i,j), then mark cell(i,j) = 1 and run backtrack(puzzle, row+1) \n",
    "            - If backtrack(puzzle, row+1) return a puzzle, then return this puzzle for the current backtrack function\n",
    "            - If backtrack(puzzle, row+1) return a puzzle, then return None for the current backtrack function"
   ]
  },
  {
   "cell_type": "code",
   "execution_count": 71,
   "id": "59200f93",
   "metadata": {},
   "outputs": [],
   "source": [
    "# Check if all cells of a given row are all 0.\n",
    "def check_row(puzzle, row):\n",
    "# Write your code here\n"
   ]
  },
  {
   "cell_type": "code",
   "execution_count": 72,
   "id": "2a981d37",
   "metadata": {},
   "outputs": [],
   "source": [
    "# Check if all cells of a given column are all 0.\n",
    "def check_col(puzzle, col):\n",
    "# Write your code here\n"
   ]
  },
  {
   "cell_type": "code",
   "execution_count": 73,
   "id": "faf059be",
   "metadata": {},
   "outputs": [],
   "source": [
    "# Check if all the cells of the diagonal directions of a given location are 0\n",
    "def check_diagonal(puzzle, row, col):\n",
    "# Write your code here\n"
   ]
  },
  {
   "cell_type": "code",
   "execution_count": 80,
   "id": "01a7a66d",
   "metadata": {},
   "outputs": [],
   "source": [
    "def backtrack(puzzle, row):\n",
    "# Write your code here\n"
   ]
  },
  {
   "cell_type": "code",
   "execution_count": 83,
   "id": "721d493d",
   "metadata": {},
   "outputs": [],
   "source": [
    "puzzle = [[0, 0, 0, 0, 0, 0, 0, 0],\n",
    "         [0, 0, 0, 0, 0, 0, 0, 0],\n",
    "         [0, 0, 0, 0, 0, 0, 0, 0],\n",
    "         [0, 0, 0, 0, 0, 0, 0, 0],\n",
    "         [0, 0, 0, 0, 0, 0, 0, 0],\n",
    "         [0, 0, 0, 0, 0, 0, 0, 0],\n",
    "         [0, 0, 0, 0, 0, 0, 0, 0],\n",
    "         [0, 0, 0, 0, 0, 0, 0, 0]]"
   ]
  },
  {
   "cell_type": "code",
   "execution_count": 84,
   "id": "74121abd",
   "metadata": {},
   "outputs": [
    {
     "data": {
      "text/plain": [
       "[[1, 0, 0, 0, 0, 0, 0, 0],\n",
       " [0, 0, 0, 0, 1, 0, 0, 0],\n",
       " [0, 0, 0, 0, 0, 0, 0, 1],\n",
       " [0, 0, 0, 0, 0, 1, 0, 0],\n",
       " [0, 0, 1, 0, 0, 0, 0, 0],\n",
       " [0, 0, 0, 0, 0, 0, 1, 0],\n",
       " [0, 1, 0, 0, 0, 0, 0, 0],\n",
       " [0, 0, 0, 1, 0, 0, 0, 0]]"
      ]
     },
     "execution_count": 84,
     "metadata": {},
     "output_type": "execute_result"
    }
   ],
   "source": [
    "backtrack(puzzle,0)"
   ]
  }
 ],
 "metadata": {
  "kernelspec": {
   "display_name": "Python 3 (ipykernel)",
   "language": "python",
   "name": "python3"
  },
  "language_info": {
   "codemirror_mode": {
    "name": "ipython",
    "version": 3
   },
   "file_extension": ".py",
   "mimetype": "text/x-python",
   "name": "python",
   "nbconvert_exporter": "python",
   "pygments_lexer": "ipython3",
   "version": "3.9.15"
  }
 },
 "nbformat": 4,
 "nbformat_minor": 5
}
