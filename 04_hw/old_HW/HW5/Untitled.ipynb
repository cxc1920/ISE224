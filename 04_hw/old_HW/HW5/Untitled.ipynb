{
 "cells": [
  {
   "cell_type": "markdown",
   "id": "e84d031f",
   "metadata": {},
   "source": [
    "# ISE224 HW5\n",
    "\n",
    "---  \n",
    "\n",
    " - Due: March 20th 11:59 PM (ET)\n",
    " - Submit one py file using the format of HW5_template.py"
   ]
  },
  {
   "cell_type": "markdown",
   "id": "21d49547",
   "metadata": {},
   "source": [
    "### Problem 1: Pascal's triangle\n",
    "\n",
    "Write a function to implement Pascal's triangle.\n",
    "\n",
    "Given an integer `numRows`, return the first numRows of Pascal's triangle.\n",
    "\n",
    "For example,\n",
    "\n",
    "**Please enter the number of rows: 6**\n",
    "\n",
    "**[[1], [1, 1], [1, 2, 1], [1, 3, 3, 1], [1, 4, 6, 4, 1], [1, 5, 10, 10, 5, 1]]**  \n",
    "\n",
    "In Pascal's triangle, each number is the sum of the two numbers directly above it as shown:\n",
    "\n",
    "<img src=\"https://upload.wikimedia.org/wikipedia/commons/0/0d/PascalTriangleAnimated2.gif\">(attachment:PascalTriangleAnimated2.gif)\n",
    "\n",
    "**Hints:**\n",
    "\n",
    "1. If `numRows=1`, return `[[1]]`\n",
    "2. If `numRows=2`, return `[[1],[1,1]]`\n",
    "3. If `numRows>=3`, create a `List` with first two elements `[1]` and `[1,1]`\n",
    "4. Starting from the third row, create a `list` with first element `[1]`. Then from the second element (use index `i`), each element is the sum of the `i-1th` and `ith` element from the previous row\n",
    "\n",
    "**Requirement:**\n",
    "\n",
    "Define your function as\n",
    "\n",
    "**def Pascal(numRows):**  \n",
    "    - ....   \n",
    "    - ....  \n",
    "    - **return pascal_trig**"
   ]
  },
  {
   "cell_type": "code",
   "execution_count": 89,
   "id": "b0e82012",
   "metadata": {},
   "outputs": [
    {
     "name": "stdout",
     "output_type": "stream",
     "text": [
      "Please enter the number of rows: 5\n",
      "[[1], [1, 1], [1, 2, 1], [1, 3, 3, 1], [1, 4, 6, 4, 1]]\n"
     ]
    }
   ],
   "source": [
    "def Pascal(numRows):\n",
    "    pascal_trig=[]\n",
    "    pascal_trig.append([1])\n",
    "    pascal_trig.append([1,1])\n",
    "    \n",
    "    if numRows == 1:\n",
    "        return [[1]]\n",
    "    if numRows == 2:\n",
    "        return [[1],[1,1]]\n",
    "    if numRows>=3:\n",
    "        for i in range(2,numRows):\n",
    "            list_i=[1]\n",
    "            for j in range (1,i):\n",
    "                list_i.append(pascal_trig[i-1][j-1]+pascal_trig[i-1][j])\n",
    "            list_i.append(1)\n",
    "            pascal_trig.append(list_i)\n",
    "\n",
    "    return pascal_trig\n",
    "\n",
    "num = int(input('Please enter the number of rows: '))\n",
    "tri = Pascal(num)\n",
    "print(tri)"
   ]
  },
  {
   "cell_type": "markdown",
   "id": "53ab5aa1",
   "metadata": {},
   "source": [
    "### Problem 2: Eight queens puzzle\n",
    "\n",
    "The eight queens puzzle is the problem of placing eight chess queens on an 8×8 chessboard so that no two queens threaten each other; thus, a solution requires that **no two queens share the same row, column, or diagonal.**\n",
    "\n",
    "Write a function to solve the eight queens puzzle, where input is a `8*8 matrix` with partial solution and output of the function is the full solution of the eight queens puzzle. \n",
    "\n",
    "**Hint:**   \n",
    "This is one thought to solve the eight queens puzzle.  \n",
    "\n",
    "1. **create a 8*8 matrix to represnet the checkboard status, if the cell(i,j) = 1 means one queen is put at (i,j), else cell(i,j) = 0 means no queen at (i,j)\n",
    "2. **Write a function to check if all cells of a given row are 0: check_row(puzzle, row)**\n",
    "3. **Write a function to check if all cells of a given column are 0: check_col(puzzle, col)**\n",
    "4. **Write a function to check if all cells at diaganol directions of cell(row, col) are 0: check_diaganol(puzzle, row, col)** \n",
    "5. **Write a backtrack function (a recursive function) to solve the eight queens puzzle: backtrack(puzzle, row)**  \n",
    "    - **backtrack(puzzle, row): Given the current puzzle status, and a row number**  \n",
    "        - If there is one queen in this row, then check next row: backtrack(puzzle, row+1)  \n",
    "        - If row is larger than the boundry, then return the `puzzle`\n",
    "        - for each cell(column) in this row, check the row, column, and diaganol to see if we can put a queen\n",
    "            - If we can put a queen at a cell(i,j), then mark cell(i,j) = 1 and run backtrack(puzzle, row+1) \n",
    "            - If backtrack(puzzle, row+1) return a puzzle, then return this puzzle for the current backtrack function\n",
    "            - If backtrack(puzzle, row+1) return a puzzle, then return None for the current backtrack function"
   ]
  },
  {
   "cell_type": "code",
   "execution_count": 71,
   "id": "59cf1772",
   "metadata": {},
   "outputs": [],
   "source": [
    "# Check if all cells of a given row are all 0.\n",
    "def check_row(puzzle, row):\n",
    "    for i in range(8):\n",
    "        if puzzle[row][i] == 1:\n",
    "            return False\n",
    "    return True"
   ]
  },
  {
   "cell_type": "code",
   "execution_count": 72,
   "id": "43df51c1",
   "metadata": {},
   "outputs": [],
   "source": [
    "# Check if all cells of a given column are all 0.\n",
    "def check_col(puzzle, col):\n",
    "    for i in range(8):\n",
    "        if puzzle[i][col] == 1:\n",
    "            return False\n",
    "    return True"
   ]
  },
  {
   "cell_type": "code",
   "execution_count": 73,
   "id": "66dcbe5c",
   "metadata": {},
   "outputs": [],
   "source": [
    "# Check if all the cells of the diagonal directions of a given location are 0\n",
    "def check_diagonal(puzzle, row, col):\n",
    "    for i in range(8):\n",
    "        for j in range(8):\n",
    "            if (i + j == row + col) or (i - j == row - col):\n",
    "                if puzzle[i][j] == 1:\n",
    "                        return False\n",
    "\n",
    "    return True"
   ]
  },
  {
   "cell_type": "code",
   "execution_count": 80,
   "id": "c5caf49a",
   "metadata": {},
   "outputs": [],
   "source": [
    "def backtrack(puzzle, row):\n",
    "    # base case: we have placed all eight queens\n",
    "    if row == 8:\n",
    "        return puzzle\n",
    "    if sum(puzzle[row]) == 1:\n",
    "        result = backtrack(puzzle,row+1)\n",
    "        if result is not None:\n",
    "            return result\n",
    "    # try placing a queen in each column of the current row\n",
    "    for col in range(8):\n",
    "        if check_row(puzzle, row) and check_col(puzzle, col) and check_diagonal(puzzle, row, col):\n",
    "            puzzle[row][col] = 1\n",
    "            # recursively backtrack on the next row\n",
    "            result = backtrack(puzzle, row+1)\n",
    "            if result is not None:\n",
    "                return result\n",
    "            puzzle[row][col] = 0\n",
    "    # if we get here, there is no valid solution from this position\n",
    "    return None"
   ]
  },
  {
   "cell_type": "code",
   "execution_count": 83,
   "id": "231d6eb5",
   "metadata": {},
   "outputs": [],
   "source": [
    "puzzle = [[0, 0, 0, 0, 0, 0, 0, 0],\n",
    "         [0, 0, 0, 0, 0, 0, 0, 0],\n",
    "         [0, 0, 0, 0, 0, 0, 0, 0],\n",
    "         [0, 0, 0, 0, 0, 0, 0, 0],\n",
    "         [0, 0, 0, 0, 0, 0, 0, 0],\n",
    "         [0, 0, 0, 0, 0, 0, 0, 0],\n",
    "         [0, 0, 0, 0, 0, 0, 0, 0],\n",
    "         [0, 0, 0, 0, 0, 0, 0, 0]]"
   ]
  },
  {
   "cell_type": "code",
   "execution_count": 84,
   "id": "21073fa3",
   "metadata": {},
   "outputs": [
    {
     "data": {
      "text/plain": [
       "[[1, 0, 0, 0, 0, 0, 0, 0],\n",
       " [0, 0, 0, 0, 1, 0, 0, 0],\n",
       " [0, 0, 0, 0, 0, 0, 0, 1],\n",
       " [0, 0, 0, 0, 0, 1, 0, 0],\n",
       " [0, 0, 1, 0, 0, 0, 0, 0],\n",
       " [0, 0, 0, 0, 0, 0, 1, 0],\n",
       " [0, 1, 0, 0, 0, 0, 0, 0],\n",
       " [0, 0, 0, 1, 0, 0, 0, 0]]"
      ]
     },
     "execution_count": 84,
     "metadata": {},
     "output_type": "execute_result"
    }
   ],
   "source": [
    "backtrack(puzzle,0)"
   ]
  },
  {
   "cell_type": "code",
   "execution_count": 87,
   "id": "0a5034c6",
   "metadata": {},
   "outputs": [],
   "source": [
    "puzzle2 = [[0, 0, 0, 0, 0, 0, 0, 0],\n",
    "         [0, 0, 0, 0, 0, 0, 0, 0],\n",
    "         [0, 1, 0, 0, 0, 0, 0, 0],\n",
    "         [0, 0, 0, 0, 0, 0, 0, 0],\n",
    "         [0, 0, 0, 0, 0, 0, 0, 0],\n",
    "         [0, 0, 0, 0, 0, 0, 0, 0],\n",
    "         [0, 0, 0, 0, 0, 0, 0, 0],\n",
    "         [0, 0, 0, 0, 0, 0, 0, 0]]"
   ]
  },
  {
   "cell_type": "code",
   "execution_count": 88,
   "id": "05a7a464",
   "metadata": {},
   "outputs": [
    {
     "data": {
      "text/plain": [
       "[[0, 0, 1, 0, 0, 0, 0, 0],\n",
       " [0, 0, 0, 0, 1, 0, 0, 0],\n",
       " [0, 1, 0, 0, 0, 0, 0, 0],\n",
       " [0, 0, 0, 0, 0, 0, 0, 1],\n",
       " [1, 0, 0, 0, 0, 0, 0, 0],\n",
       " [0, 0, 0, 0, 0, 0, 1, 0],\n",
       " [0, 0, 0, 1, 0, 0, 0, 0],\n",
       " [0, 0, 0, 0, 0, 1, 0, 0]]"
      ]
     },
     "execution_count": 88,
     "metadata": {},
     "output_type": "execute_result"
    }
   ],
   "source": [
    "backtrack(puzzle2,0)"
   ]
  }
 ],
 "metadata": {
  "kernelspec": {
   "display_name": "Python 3 (ipykernel)",
   "language": "python",
   "name": "python3"
  },
  "language_info": {
   "codemirror_mode": {
    "name": "ipython",
    "version": 3
   },
   "file_extension": ".py",
   "mimetype": "text/x-python",
   "name": "python",
   "nbconvert_exporter": "python",
   "pygments_lexer": "ipython3",
   "version": "3.9.15"
  }
 },
 "nbformat": 4,
 "nbformat_minor": 5
}
