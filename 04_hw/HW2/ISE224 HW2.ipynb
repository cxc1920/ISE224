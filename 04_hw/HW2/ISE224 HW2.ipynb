{
 "cells": [
  {
   "cell_type": "markdown",
   "id": "fcca34f9",
   "metadata": {},
   "source": [
    "# ISE224 HW2\n",
    "\n",
    "---  \n",
    "\n",
    " - Due: **February 19th 11:59 PM (ET)**\n",
    " - Submit one py file using the format of HW2_template.py"
   ]
  },
  {
   "cell_type": "markdown",
   "id": "24ad6d76",
   "metadata": {},
   "source": [
    "#### Problem 1\n",
    "\n",
    "Write a program that asks the user for a number in the range of 1 through 7. The program should display the corresponding day of the week, where 1 = Monday, 2 = Tuesday, 3 = Wednesday, 4 = Thursday, 5 = Friday, 6 = Saturday, and 7 = Sunday. The program should display an error message, \"Error: the number must be in the range of 1 through 7\", if the user enters a number that is outside the range of 1 through 7."
   ]
  },
  {
   "cell_type": "code",
   "execution_count": 17,
   "id": "1a586fb6",
   "metadata": {},
   "outputs": [
    {
     "name": "stdout",
     "output_type": "stream",
     "text": [
      "Enter a number in the range of 1 through 7: 8\n",
      "Error: the number must be in the range of 1 through 7\n"
     ]
    }
   ],
   "source": []
  },
  {
   "cell_type": "markdown",
   "id": "eaa3cb51",
   "metadata": {},
   "source": [
    "---   \n",
    "Enter a number in the range of 1 through 7: 2   \n",
    "Tuesday  "
   ]
  },
  {
   "cell_type": "markdown",
   "id": "efe63bda",
   "metadata": {},
   "source": [
    "#### Problem 2\n",
    "\n",
    "The area of a rectangle is the rectangle's length times its width. Write a program that asks for the length and width of two rectangles. The program should tell the user which rectangle has the greater area, or it the areas are the same."
   ]
  },
  {
   "cell_type": "code",
   "execution_count": 2,
   "id": "212314c3",
   "metadata": {},
   "outputs": [
    {
     "name": "stdout",
     "output_type": "stream",
     "text": [
      "Enter the length of rectangle 1: 3\n",
      "Enter the width of rectangle 1: 4\n",
      "Enter the length of rectangle 2: 4\n",
      "Enter the width of rectangle 2: 5\n",
      "Rectangle 2 has a greater area.\n"
     ]
    }
   ],
   "source": []
  },
  {
   "cell_type": "markdown",
   "id": "eb33b4fc",
   "metadata": {},
   "source": [
    "#### Problem 3\n",
    "\n",
    "Write a program that asks the user to enter a person's age. The program should display a message indicating whether the person is an infant, a child, a teenager, or an adult.\n",
    "Following are the guidelines:\n",
    "\n",
    "- If the person is 1 year old or less, he or she is an `infant`.  \n",
    "- If the person is older than 1 year, but younger than 13 years, he or she is a `child`.  \n",
    "- If the person is at least 13 years old, but less than 20 years old, he or she is a `teenager`.  \n",
    "- If the person is at least 20 years old, he or she is an `adult`. "
   ]
  },
  {
   "cell_type": "code",
   "execution_count": 3,
   "id": "e7440f5b",
   "metadata": {},
   "outputs": [
    {
     "name": "stdout",
     "output_type": "stream",
     "text": [
      "Enter a person's age: 34\n",
      "The person is an adult.\n"
     ]
    }
   ],
   "source": []
  },
  {
   "cell_type": "markdown",
   "id": "f4c5756e",
   "metadata": {},
   "source": [
    "#### Problem 4\n",
    "\n",
    "The date June 10, 1960, is special because when it is written in the following format, the month times the day equals the year:\n",
    "\n",
    "06/10/60\n",
    "\n",
    "Design a program that asks the user to enter a month (in numeric form), a day, and a two-digit year. The program should then determine whether the month times the day equals the year. It so, it should display a message saying \"The date is magic.\" Otherwise, it should display a message saying \"The date is not magic.\""
   ]
  },
  {
   "cell_type": "code",
   "execution_count": 6,
   "id": "3bc18059",
   "metadata": {},
   "outputs": [
    {
     "name": "stdout",
     "output_type": "stream",
     "text": [
      "Enter a month in numeric form: 6\n",
      "Enter a day: 3\n",
      "Enter a two-digit year: 26\n",
      "The date is not magic.\n"
     ]
    }
   ],
   "source": []
  },
  {
   "cell_type": "markdown",
   "id": "0cd1eefc",
   "metadata": {},
   "source": [
    "---   \n",
    "Enter a month in numeric form: 12  \n",
    "Enter a day: 3  \n",
    "Enter a two-digit year: 36  \n",
    "The date is magic.  "
   ]
  },
  {
   "cell_type": "markdown",
   "id": "e699f31e",
   "metadata": {},
   "source": [
    "#### Problem 5\n",
    "\n",
    "The colors red, blue, and yellow are known as the primary colors because they cannot be made by mixing other colors. When you mix two primary colors, you get a secondary color, as shown here:\n",
    "\n",
    "When you mix red and blue, you get purple.\n",
    "\n",
    "When you mix red and yellow, you get orange.\n",
    "\n",
    "When you mix blue and yellow, you get green.\n",
    "\n",
    "Design a program that prompts the user to enter the names of two primary colors to mix. If the user enters anything other than \"red,\" \"blue,\" or \"yellow,\" the program should display an error message. Otherwise, the program should display the name of the secondary color that results."
   ]
  },
  {
   "cell_type": "code",
   "execution_count": 8,
   "id": "cfa965b2",
   "metadata": {},
   "outputs": [
    {
     "name": "stdout",
     "output_type": "stream",
     "text": [
      "Enter the first primary color: yellow\n",
      "Enter the second primary color: green\n",
      "Error: the colors must be either red, blue, or yellow.\n"
     ]
    }
   ],
   "source": []
  },
  {
   "cell_type": "markdown",
   "id": "cf4809c9",
   "metadata": {},
   "source": [
    "---  \n",
    "Enter the first primary color: red  \n",
    "Enter the second primary color: blue  \n",
    "The secondary color is purple.  "
   ]
  },
  {
   "cell_type": "markdown",
   "id": "834f81e0",
   "metadata": {},
   "source": [
    "#### Problem 6\n",
    "\n",
    "On a roulette wheel, the pockets are numbered from 0 to 36. The colors of the pockets are as follows:\n",
    "\n",
    "• Pocket 0 is green.\n",
    "\n",
    "• For pockets 1 through 10, the odd-numbered pockets are red and the even-numbered pockets are black.\n",
    "\n",
    "• For pockets 11 through 18, the odd-numbered pockets are black and the even-numbered pockets are red.\n",
    "\n",
    "• For pockets 19 through 28, the odd-numbered pockets are red and the even-numbered pockets are black.\n",
    "\n",
    "• For pockets 29 through 36, the odd-numbered pockets are black and the even-numbered pockets are red.\n",
    "\n",
    "Write a program that asks the user to enter a pocket number and displays whether the pocket is green, red, or black. The program should display an error message if the user enters a number that is outside the range ot O through 36."
   ]
  },
  {
   "cell_type": "code",
   "execution_count": 9,
   "id": "e04103e8",
   "metadata": {},
   "outputs": [
    {
     "name": "stdout",
     "output_type": "stream",
     "text": [
      "Enter a pocket number (0-36): 23\n",
      "The pocket is red.\n"
     ]
    }
   ],
   "source": []
  },
  {
   "cell_type": "markdown",
   "id": "05953d23",
   "metadata": {},
   "source": [
    "#### Problem 7\n",
    "\n",
    "Write a program that takes a year as input from the user and determines whether it is a leap year or not. If the year is a leap year, the program should print \"The year [year] is a leap year.\". If the year is not a leap year, the program should print \"The year [year] is not a leap year.\". \n",
    "\n",
    "A year is considered a leap year if it meets one of the following criteria:\n",
    "\n",
    "1. The year is divisible by 4 but not divisible by 100.  \n",
    "2. The year is divisible by 400.  \n",
    "\n",
    "For example, the year 2000 was a leap year because it was divisible by 400, while the year 1900 was not a leap year because it was divisible by 100 but not divisible by 400."
   ]
  },
  {
   "cell_type": "code",
   "execution_count": 18,
   "id": "8353abf4",
   "metadata": {},
   "outputs": [
    {
     "name": "stdout",
     "output_type": "stream",
     "text": [
      "Enter a year: 1900\n",
      "The year 1900 is not a leap year.\n"
     ]
    }
   ],
   "source": []
  },
  {
   "cell_type": "markdown",
   "id": "0aab157b",
   "metadata": {},
   "source": [
    "---  \n",
    "Enter a year: 2004  \n",
    "The year 2004 is a leap year.  "
   ]
  },
  {
   "cell_type": "markdown",
   "id": "df1741b9",
   "metadata": {},
   "source": [
    "#### Problem 8\n",
    "\n",
    "Write a program that asks the user to enter a number of seconds and works as follows:\n",
    "\n",
    "• There are 60 seconds in a minute. If the number of seconds entered by the user is greater than or equal to 60, the program should convert the number of seconds to minutes and seconds.\n",
    "\n",
    "• there are 3,600 seconds in an hour. It the number of seconds entered by the user is greater than or equal to 3,600, the program should convert the number of seconds to hours, minutes, and seconds.\n",
    "\n",
    "• There are 86,400 seconds in a day. If the number of seconds entered by the user is greater than or equal to 86,400, the program should convert the number of seconds to days, hours, minutes, and seconds."
   ]
  },
  {
   "cell_type": "code",
   "execution_count": 13,
   "id": "2591ea15",
   "metadata": {},
   "outputs": [
    {
     "name": "stdout",
     "output_type": "stream",
     "text": [
      "Enter the number of seconds: 55660\n",
      "15 hours, 27 minutes, 40 seconds\n"
     ]
    }
   ],
   "source": []
  },
  {
   "cell_type": "markdown",
   "id": "abc6b7a4",
   "metadata": {},
   "source": [
    "#### Problem 9\n",
    "\n",
    "A software company sells a package that retails for $99. Quantity discounts are given according to the following table:\n",
    "\n",
    "| Quantity     | Discount    |\n",
    "| :----:       |    :----:   |\n",
    "| 10-19        | 10%         |\n",
    "| 20-49        | 20%         |\n",
    "| 50-99        | 30%         |\n",
    "| 100 or more  | 40%         |\n",
    "\n",
    "Write a program that asks the user to enter the number of packages purchased. The program should then display the amount of the discount (if any) and the total amount of the purchase after the discount."
   ]
  },
  {
   "cell_type": "code",
   "execution_count": 14,
   "id": "34ee40b4",
   "metadata": {},
   "outputs": [
    {
     "name": "stdout",
     "output_type": "stream",
     "text": [
      "Enter the number of packages: 84\n",
      "Discount: $2494.80\n",
      "Total: $5821.20\n"
     ]
    }
   ],
   "source": []
  },
  {
   "cell_type": "markdown",
   "id": "13206bb8",
   "metadata": {},
   "source": [
    "#### Problem 10\n",
    "\n",
    "Write a program that calculates and displays a person's body mass index (BMI). The BMI is often used to determine whether a person is overweight or underweight for his or her height. A person's BMI is calculated with the following formula:\n",
    "\n",
    "$$\n",
    "BMI = weight \\times 703/height^2\n",
    "$$\n",
    "\n",
    "where weight is measured in pounds and height is measured in inches. The program should ask the user to enter his or her weight and height, then display the user's BML. The program should also display a message indicating whether the person has optimal weight, is underweight, or is overweight. A person's weight is considered to be optimal if his or her BMI is between 18.5 and 25. If the BMI is less than 18.5, the person is considered to be underweight. If the BMI value is greater than 25, the person is considered to be overweight."
   ]
  },
  {
   "cell_type": "code",
   "execution_count": 15,
   "id": "1ca94bf3",
   "metadata": {},
   "outputs": [
    {
     "name": "stdout",
     "output_type": "stream",
     "text": [
      "Enter your weight in pounds: 140\n",
      "Enter your height in inches: 70\n",
      "Your weight is optimal.\n",
      "Your BMI is:  20.085714285714285\n"
     ]
    }
   ],
   "source": []
  }
 ],
 "metadata": {
  "kernelspec": {
   "display_name": "Python 3 (ipykernel)",
   "language": "python",
   "name": "python3"
  },
  "language_info": {
   "codemirror_mode": {
    "name": "ipython",
    "version": 3
   },
   "file_extension": ".py",
   "mimetype": "text/x-python",
   "name": "python",
   "nbconvert_exporter": "python",
   "pygments_lexer": "ipython3",
   "version": "3.10.10"
  }
 },
 "nbformat": 4,
 "nbformat_minor": 5
}
