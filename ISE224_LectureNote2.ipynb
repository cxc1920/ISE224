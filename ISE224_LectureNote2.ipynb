{
 "cells": [
  {
   "cell_type": "markdown",
   "id": "366f2fa8",
   "metadata": {},
   "source": [
    "# ISE224 LectureNote 2: Input, Processing, and Output"
   ]
  },
  {
   "cell_type": "markdown",
   "id": "0545cb7c",
   "metadata": {},
   "source": [
    "---   \n",
    "<div style=\"background-color:lightgray; padding: 12px;\">\n",
    "<strong>Topics </strong><br>  \n",
    "1. Designing a Program<br>  \n",
    "2. Input, Processing, and Output<br>  \n",
    "3. Displaying Output with print Function<br>  \n",
    "4. Comments<br>   \n",
    "5. Variables<br>  \n",
    "6. Reading Input from the Keyboard<br>  \n",
    "7. Performing Calculations<br>  \n",
    "8. String Concatenation<br>  \n",
    "9. More About The print Function<br>  \n",
    "10. Displaying Formatted Output<br>  \n",
    "11. Named Constants<br>  \n",
    "</div>"
   ]
  },
  {
   "cell_type": "markdown",
   "id": "749424f9",
   "metadata": {},
   "source": [
    "---"
   ]
  },
  {
   "cell_type": "markdown",
   "id": "e3c20ee6",
   "metadata": {},
   "source": [
    "## Designing a Program\n",
    "\n",
    "- `Programs must be designed before they are written`\n",
    "\n",
    "- Program development cycle:\n",
    "  \n",
    "<div style=\"text-align: center;\">\n",
    "    <img src=\"https://raw.githubusercontent.com/cxc1920/ISE224/main/pictures/2-1.png\" alt=\"DevelopmentCycle\" title=\"program development cycle\">\n",
    "</div>"
   ]
  },
  {
   "cell_type": "markdown",
   "id": "a246cbf3",
   "metadata": {},
   "source": [
    "- `Design` is the most important part of the program development cycle  \n",
    "- Understand the task that the program is to perform   \n",
    "  - Work with customer to get a sense what the program is supposed to do  \n",
    "  - Ask questions about program details  \n",
    "  - Create one or more software requirements  \n",
    "  \n",
    "- Determine the **steps** that must be taken to perform the **task**  \n",
    "  - Break down required task into a series of steps  \n",
    "  - Create an algorithm, listing logical steps that must be taken  \n",
    "  \n",
    "- **Algorithm**: **set of well-defined logical steps that must be taken to perform a task**\n",
    "\n",
    "Example. Determine the steps to make a fruit bowl from materials (including fruits and boxes)\n",
    "![Program](https://raw.githubusercontent.com/cxc1920/ISE224/main/pictures/2-2.png \"program\")"
   ]
  },
  {
   "cell_type": "markdown",
   "id": "1a8219ec",
   "metadata": {},
   "source": [
    "### Pseudocode   \n",
    "**Pseudocode:** `fake code`  \n",
    "- Not Informal language that has no syntax rule   \n",
    "- meant to be compiled or executed  \n",
    "- Used to create model program  \n",
    "  - No need to worry about syntax errors, can focus on program’s design  \n",
    "  - Can be translated directly into actual code in any programming language  \n",
    "\t\n",
    "- Example: Pass and fail\n",
    "\n",
    "```\n",
    "Input one student score  \n",
    "If student's grade is greater than or equal to 60  \n",
    "\tPrint \"passed\"  \n",
    "else  \n",
    "\tPrint \"failed\"  \n",
    "```"
   ]
  },
  {
   "cell_type": "markdown",
   "id": "00ddb8df",
   "metadata": {},
   "source": [
    "### Flowcharts\n",
    "\n",
    "- **Flowchart:** diagram that graphically depicts the steps in a program   \n",
    "\n",
    "  - **Ovals** are terminal symbols\n",
    "  - **Parallelograms** are input and output symbols  \n",
    "  - **Rectangles** are processing symbols  \n",
    "  - Symbols are connected by arrows that represent the flow of the program\n",
    "  \n",
    "  ![flowchart1](https://raw.githubusercontent.com/cxc1920/ISE224/main/pictures/2-3.png \"program\")"
   ]
  },
  {
   "cell_type": "markdown",
   "id": "528e5c8e",
   "metadata": {},
   "source": [
    "The program development cycle\n",
    "\n",
    "![ProgramDevelopmentCycle](https://raw.githubusercontent.com/cxc1920/ISE224/main/pictures/2-4.png \"ProgramDevelopmentCycle\")"
   ]
  },
  {
   "cell_type": "markdown",
   "id": "5f5e86c6",
   "metadata": {},
   "source": [
    "### Input, Processing, and Output   \n",
    "Typically, computer performs three-step process    \n",
    "- <u>Receive input</u>  \n",
    "  - Input: any data that the program receives while it is running  \n",
    "- <u>Perform some process on the input</u>    \n",
    "  - Example: mathematical calculation  \n",
    "- <u>Produce output</u>  \n",
    "\n",
    "- Example. The input, processing, and output of the pay calculating program  \n",
    "\n",
    "<div style=\"text-align: center;\">\n",
    "    <img src=\"https://raw.githubusercontent.com/cxc1920/ISE224/main/pictures/2-5.png\" alt=\"InputProcessingOutput\" title=\"InputProcessingOutput\">\n",
    "</div>"
   ]
  },
  {
   "cell_type": "markdown",
   "id": "403e383f",
   "metadata": {},
   "source": [
    "### Displaying Output with the `print` Function   \n",
    "- **Function:**  piece of pre-written code that performs an operation  \n",
    "- **`print` function:** displays output on the screen   \n",
    "- **Argument:** data given to a function\n",
    "    - Example: data that is printed to screen    \n",
    "    \n",
    "- `Statements` in a program execute in the order that they appear\n",
    "    - From top to bottom \n",
    "    ```\n",
    "    >>>print('Hello ISE224') [Enter]\n",
    "    Hello ISE224\n",
    "    ```"
   ]
  },
  {
   "cell_type": "markdown",
   "id": "7ddb2155",
   "metadata": {},
   "source": [
    "#### Exercise   \n",
    "```\n",
    "print('Kate Austen')  \n",
    "print('123 Full Circle Drive')  \n",
    "print('Asheville, NC 28899')  \n",
    "```"
   ]
  },
  {
   "cell_type": "code",
   "execution_count": 1,
   "id": "e6a9fa38",
   "metadata": {},
   "outputs": [
    {
     "name": "stdout",
     "output_type": "stream",
     "text": [
      "Kate Austen\n",
      "123 Full Circle Drive\n",
      "Asheville, NC 28899\n"
     ]
    }
   ],
   "source": [
    "print('Kate Austen')  \n",
    "print('123 Full Circle Drive')  \n",
    "print('Asheville, NC 28899')"
   ]
  },
  {
   "cell_type": "markdown",
   "id": "0951c4b2",
   "metadata": {},
   "source": [
    "### Strings and String Literals   \n",
    "- **String:** sequence of characters that is used as data\n",
    "  A string is a data type used in programming to represent text. It is a sequence of characters that can include letters, numbers, and symbols. Strings are used to store information that can be represented as text.  \n",
    "  \n",
    "- **String literal:** string that appears in actual code of a program  \n",
    "  - Must be enclosed in single (`'`) or double (`\"`) quote marks\n",
    "  - String literal can be enclosed in triple quotes (`'''` or `\"\"\"`)\n",
    "    - Enclosed string can contain both single and double quotes and can have multiple lines\n",
    "  A string literal, on the other hand, is the representation of a string value within the code of a program. It is the actual text that you write in the code to create a string. String literals are typically enclosed in quotation marks. For example, in many programming languages, the text **Hello, World!** inside quotation marks (**\\\"Hello, World!\\\"**) is a string literal that represents a string with the value of Hello, World!.\n",
    "  \n",
    "  The key difference is that a string is a general concept for a sequence of characters, whereas a string literal is a specific syntax in code that creates a string. \n",
    "\n",
    "<div style=\"text-align: center;\">\n",
    "    <img src=\"https://raw.githubusercontent.com/cxc1920/ISE224/main/pictures/2-6.png\" alt=\"String\" title=\"String\">\n",
    "</div>"
   ]
  },
  {
   "cell_type": "markdown",
   "id": "383be3fe",
   "metadata": {},
   "source": [
    "#### Exercise.  \n",
    "```\n",
    "print(\"Kate Austen\")\n",
    "print(\"123 Dharma Lane\")\n",
    "print(\"Asheville, NC 28899\")\n",
    "\n",
    "print(\"Don't fear!\")\n",
    "print(\"I'm here!\")\n",
    "\n",
    "print('Your assignment is to read \"Hamlet\" by tomorrow.’)\n",
    "print(\"Your assignment is to read \"Hamlet\" by tomorrow.\")\n",
    "```"
   ]
  },
  {
   "cell_type": "code",
   "execution_count": 2,
   "id": "533db924",
   "metadata": {},
   "outputs": [
    {
     "name": "stdout",
     "output_type": "stream",
     "text": [
      "Kate Austen\n",
      "123 Dharma Lane\n",
      "Asheville, NC 28899\n"
     ]
    }
   ],
   "source": [
    "print(\"Kate Austen\")\n",
    "print(\"123 Dharma Lane\")\n",
    "print(\"Asheville, NC 28899\")"
   ]
  },
  {
   "cell_type": "code",
   "execution_count": 3,
   "id": "01b875d9",
   "metadata": {},
   "outputs": [
    {
     "name": "stdout",
     "output_type": "stream",
     "text": [
      "Don't fear!\n",
      "I'm here!\n"
     ]
    }
   ],
   "source": [
    "print(\"Don't fear!\")\n",
    "print(\"I'm here!\")"
   ]
  },
  {
   "cell_type": "code",
   "execution_count": 4,
   "id": "4c535903",
   "metadata": {},
   "outputs": [
    {
     "name": "stdout",
     "output_type": "stream",
     "text": [
      "Your assignment is to read \"Hamlet\" by tomorrow.\n"
     ]
    }
   ],
   "source": [
    "print('Your assignment is to read \"Hamlet\" by tomorrow.')"
   ]
  },
  {
   "cell_type": "code",
   "execution_count": 5,
   "id": "be3209ad",
   "metadata": {},
   "outputs": [
    {
     "ename": "SyntaxError",
     "evalue": "invalid syntax. Perhaps you forgot a comma? (1567618252.py, line 1)",
     "output_type": "error",
     "traceback": [
      "\u001b[1;36m  Cell \u001b[1;32mIn[5], line 1\u001b[1;36m\u001b[0m\n\u001b[1;33m    print(\"Your assignment is to read \"Hamlet\" by tomorrow.\")\u001b[0m\n\u001b[1;37m          ^\u001b[0m\n\u001b[1;31mSyntaxError\u001b[0m\u001b[1;31m:\u001b[0m invalid syntax. Perhaps you forgot a comma?\n"
     ]
    }
   ],
   "source": [
    "print(\"Your assignment is to read \"Hamlet\" by tomorrow.\")"
   ]
  },
  {
   "cell_type": "markdown",
   "id": "4001627e",
   "metadata": {},
   "source": [
    "### Triple quotes  \n",
    "Triple quoted strings can contain both single quotes and double quotes as part of the string. \n",
    "```\n",
    "\tprint(\"\"\" I'm reading \"Hamlet\" tonight.\"\"\")\n",
    "```  \n",
    "Triple quotes can also be used to surround _multiline_ strings, something for which single and double quotes cannot be used.\n",
    "```\n",
    "\tprint(\"\"\"One\n",
    "\tTwo\n",
    "\tThree\"\"\")\n",
    "\n",
    "```"
   ]
  },
  {
   "cell_type": "code",
   "execution_count": 6,
   "id": "740b0dae",
   "metadata": {},
   "outputs": [
    {
     "name": "stdout",
     "output_type": "stream",
     "text": [
      " I'm reading \"Hamlet\" tonight.\n"
     ]
    }
   ],
   "source": [
    "print(\"\"\" I'm reading \"Hamlet\" tonight.\"\"\")"
   ]
  },
  {
   "cell_type": "code",
   "execution_count": 7,
   "id": "1ff9caa3",
   "metadata": {},
   "outputs": [
    {
     "name": "stdout",
     "output_type": "stream",
     "text": [
      "One\n",
      "Two\n",
      "Three\n"
     ]
    }
   ],
   "source": [
    "print(\"\"\"One\n",
    "Two\n",
    "Three\"\"\")"
   ]
  },
  {
   "cell_type": "markdown",
   "id": "4734f90a",
   "metadata": {},
   "source": [
    "#### Practices.  \n",
    "1. Write a statement that displays your name.  \n",
    "2. Write a statement that displays the following text:  \n",
    "\tPython's the best!  \n",
    "3. Write a statement that displays the following text:  \n",
    "\tThe cat said \"meow.\"   "
   ]
  },
  {
   "cell_type": "markdown",
   "id": "370d921f",
   "metadata": {},
   "source": [
    "### Comments  \n",
    "- **Comments:** notes of explanation within a program\n",
    "  - Ignored by Python interpreter\n",
    "    - Intended for a person reading the program’s code\n",
    "  - Begin with a # character"
   ]
  },
  {
   "cell_type": "code",
   "execution_count": 8,
   "id": "49be7644",
   "metadata": {},
   "outputs": [
    {
     "name": "stdout",
     "output_type": "stream",
     "text": [
      "Kate Austen\n",
      "123 Full Circle Drive\n",
      "Asheville, NC 28899\n"
     ]
    }
   ],
   "source": [
    "# This program displays a person's\n",
    "# name and address.\n",
    "print('Kate Austen')\n",
    "print('123 Full Circle Drive')\n",
    "print('Asheville, NC 28899')"
   ]
  },
  {
   "cell_type": "markdown",
   "id": "5f9e2197",
   "metadata": {},
   "source": [
    "- **End-line comment:** appears at the end of a line of code\n",
    "  - Typically explains the purpose of that line"
   ]
  },
  {
   "cell_type": "code",
   "execution_count": 9,
   "id": "30b1c2f6",
   "metadata": {},
   "outputs": [
    {
     "name": "stdout",
     "output_type": "stream",
     "text": [
      "Kate Austen\n",
      "123 Full Circle Drive\n",
      "Asheville, NC 28899\n"
     ]
    }
   ],
   "source": [
    "print('Kate Austen')           # Name\n",
    "print('123 Full Circle Drive') # Street address\n",
    "print('Asheville, NC 28899')   # City, state, and ZIP"
   ]
  },
  {
   "cell_type": "markdown",
   "id": "b31bb2e9",
   "metadata": {},
   "source": [
    "### Variables  \n",
    "- **Variable:** name that represents a value stored in the computer memory\n",
    "  - Used to access and manipulate data stored in memory\n",
    "  - A variable references the value it represents\n",
    "- **Assignment statement:** used to create a variable and make it reference data\n",
    "- General format is `variable = expression`\n",
    "- Assignment operator: the equal sign (**=**)\n",
    "Example: \n",
    "```\n",
    "age = 25\n",
    "```"
   ]
  },
  {
   "cell_type": "code",
   "execution_count": 1,
   "id": "0518437a",
   "metadata": {},
   "outputs": [],
   "source": [
    "width = 10"
   ]
  },
  {
   "cell_type": "code",
   "execution_count": 2,
   "id": "aef8aca8",
   "metadata": {},
   "outputs": [],
   "source": [
    "length = 5"
   ]
  },
  {
   "cell_type": "code",
   "execution_count": 3,
   "id": "a4aa6554",
   "metadata": {},
   "outputs": [
    {
     "name": "stdout",
     "output_type": "stream",
     "text": [
      "10\n"
     ]
    }
   ],
   "source": [
    "print(width)"
   ]
  },
  {
   "cell_type": "code",
   "execution_count": 4,
   "id": "51a0d6cf",
   "metadata": {},
   "outputs": [
    {
     "name": "stdout",
     "output_type": "stream",
     "text": [
      "5\n"
     ]
    }
   ],
   "source": [
    "print(length)"
   ]
  },
  {
   "cell_type": "code",
   "execution_count": 5,
   "id": "4f625ec0",
   "metadata": {},
   "outputs": [
    {
     "name": "stdout",
     "output_type": "stream",
     "text": [
      "width\n"
     ]
    }
   ],
   "source": [
    "print('width')  # compare the difference"
   ]
  },
  {
   "cell_type": "code",
   "execution_count": 15,
   "id": "e89bd052",
   "metadata": {},
   "outputs": [
    {
     "name": "stdout",
     "output_type": "stream",
     "text": [
      "length\n"
     ]
    }
   ],
   "source": [
    "print('length') # compare the difference"
   ]
  },
  {
   "cell_type": "markdown",
   "id": "fd173c79",
   "metadata": {},
   "source": [
    "In assignment statement, **variable receiving value must be on left side**"
   ]
  },
  {
   "cell_type": "code",
   "execution_count": 16,
   "id": "374c3cc6",
   "metadata": {},
   "outputs": [
    {
     "ename": "SyntaxError",
     "evalue": "cannot assign to literal here. Maybe you meant '==' instead of '='? (3042566980.py, line 1)",
     "output_type": "error",
     "traceback": [
      "\u001b[1;36m  Cell \u001b[1;32mIn[16], line 1\u001b[1;36m\u001b[0m\n\u001b[1;33m    25 = age\u001b[0m\n\u001b[1;37m    ^\u001b[0m\n\u001b[1;31mSyntaxError\u001b[0m\u001b[1;31m:\u001b[0m cannot assign to literal here. Maybe you meant '==' instead of '='?\n"
     ]
    }
   ],
   "source": [
    "25 = age"
   ]
  },
  {
   "cell_type": "markdown",
   "id": "dbc0d3aa",
   "metadata": {},
   "source": [
    "A variable can be passed as an **argument** to a function\n",
    "  - Variable name should not be enclosed in quote marks\n",
    "  - You can only use a variable if a value is assigned to it"
   ]
  },
  {
   "cell_type": "code",
   "execution_count": 18,
   "id": "190c89af",
   "metadata": {},
   "outputs": [
    {
     "name": "stdout",
     "output_type": "stream",
     "text": [
      "The ISE224 is at room\n",
      "203\n"
     ]
    }
   ],
   "source": [
    "# demonstration: print\n",
    "room = 203\n",
    "print('The ISE224 is at room')\n",
    "print(room)"
   ]
  },
  {
   "cell_type": "code",
   "execution_count": 19,
   "id": "8e806ed7",
   "metadata": {},
   "outputs": [
    {
     "name": "stdout",
     "output_type": "stream",
     "text": [
      "The ISE224 is at room 203\n"
     ]
    }
   ],
   "source": [
    "# This program demonstrates displaying multiple items within a print\n",
    "room = 203\n",
    "print('The ISE224 is at room',room)"
   ]
  },
  {
   "cell_type": "markdown",
   "id": "666c8344",
   "metadata": {},
   "source": [
    "- Python allows one to display multiple items with a single call to print\n",
    "- Items are separated by commas when passed as arguments\n",
    "- Arguments displayed in the order they are passed to the function\n",
    "- Items are automatically separated by a space when displayed on screen"
   ]
  },
  {
   "cell_type": "markdown",
   "id": "bbed081b",
   "metadata": {},
   "source": [
    "#### Exercise."
   ]
  },
  {
   "cell_type": "code",
   "execution_count": 20,
   "id": "144b20d6",
   "metadata": {},
   "outputs": [
    {
     "name": "stdout",
     "output_type": "stream",
     "text": [
      "The top speed is\n",
      "160\n",
      "The distance traveled is\n",
      "300\n"
     ]
    }
   ],
   "source": [
    "# Create two variables: top_speed and distance. \n",
    "top_speed = 160 \n",
    "distance = 300 \n",
    "# Display the values referenced by the variables. \n",
    "print('The top speed is') \n",
    "print(top_speed) \n",
    "print('The distance traveled is') \n",
    "print(distance)"
   ]
  },
  {
   "cell_type": "markdown",
   "id": "1c9cf66f",
   "metadata": {},
   "source": [
    "### Variable Naming in Python\n",
    "\n",
    "In Python, a variable is a name given to a storage location in the program's memory. Variable naming is the process of assigning identifiers to these variables. There are some rules and conventions for naming variables in Python:\n",
    "\n",
    "#### Rules for Naming Variables:\n",
    "1. Variable names must start with a letter or an underscore.\n",
    "2. The rest of the variable name can consist of letters, numbers, and underscores.\n",
    "3. Names are case-sensitive. This means `myvariable`, `myVariable`, and `MYVARIABLE` are all different variables.\n",
    "4. Reserved words (also known as keywords) cannot be used as variable names.\n",
    "5. Variable name cannot contain spaces.\n",
    "\n",
    "#### Conventions:\n",
    "1. Variable names should be descriptive, to make the code more readable.\n",
    "2. Use lowercase letters and underscores for multi-word variables (snake_case).\n",
    "3. **suggestion:** Avoid using the lowercase letter 'l', uppercase 'O', and uppercase 'I' to avoid confusion with the numbers '1' and '0'.\n",
    "\n",
    "Variable name should reflect its use.\n",
    "\n",
    "- Good variable names:\n",
    "    ```\n",
    "    gross_pay\n",
    "    pay_rate\n",
    "    hot_dogs_shold_today\n",
    "    ```\n",
    "- Bad variable names:\n",
    "    ```\n",
    "    xxxx\n",
    "    abc\n",
    "    xyz\n",
    "    ```\n",
    "---  \n",
    "#### Exercises:\n",
    "\n",
    "#### Problem 1:\n",
    "What is the correct way to name a variable that stores the age of a user?\n",
    "- A) 1_age\n",
    "- B) age_of_user\n",
    "- C) user's_age\n",
    "- D) !AgeOfUser\n",
    "\n",
    "**Answer:** B) age_of_user\n",
    "\n",
    "#### Problem 2:\n",
    "Which of the following is NOT a valid variable name in Python?\n",
    "- A) _my_var\n",
    "- B) my-var\n",
    "- C) my_var3\n",
    "- D) var_4_you\n",
    "\n",
    "**Answer:** B) my-var\n",
    "\n",
    "#### Problem 3:\n",
    "If you have a variable for storing the first name of a person, which of the following would be the most appropriate variable name?\n",
    "- A) f_name\n",
    "- B) firstName\n",
    "- C) first_name_of_person\n",
    "- D) FName\n",
    "\n",
    "**Answer:** C) first_name_of_person (**While A and B are also correct**, C is the most descriptive and adheres to the snake_case convention in Python. D is not in snake_case.)\n",
    "\n",
    "#### Problem 4:\n",
    "Is it allowed to use Python reserved keywords as variable names?\n",
    "- A) Yes\n",
    "- B) No\n",
    "\n",
    "**Answer:** B) No"
   ]
  },
  {
   "cell_type": "markdown",
   "id": "f15292ce",
   "metadata": {},
   "source": [
    "#### Problem 5:   \n",
    "Which ones are valid variable Names in python:\n",
    "\n",
    "1. user_age\n",
    "2. 2nd_user\n",
    "3. user-name\n",
    "4. userAddress\n",
    "5. _user2\n",
    "6. for\n",
    "7. user_age!\n",
    "8. userProfile3\n",
    "9. True\n",
    "10. user_data\n",
    "\n",
    "##### Answer\n",
    "\n",
    "1. `user_age`: Valid\n",
    "2. `2nd_user`: Invalid (starts with a number)\n",
    "3. `user-name`: Invalid (contains a dash)\n",
    "4. `userAddress`: Valid\n",
    "5. `_user2`: Valid\n",
    "6. `for`: Invalid (reserved keyword in Python)\n",
    "7. `user_age!`: Invalid (contains an exclamation mark)\n",
    "8. `userProfile3`: Valid\n",
    "9. `True`: Invalid (reserved keyword in Python)\n",
    "10. `user_data`: Valid\n"
   ]
  },
  {
   "cell_type": "markdown",
   "id": "a7163cf8",
   "metadata": {},
   "source": [
    "### Variable Reassignment\n",
    "- Variables can reference different values while program is running  \n",
    "- **Garbage collection:** removal of values that are no longer referenced by variables  \n",
    "  - Carried out by Python interpreter  \n",
    "- A variable can refer to item of any type  \n",
    "  - Variable that has been assigned to one type can be reassigned to another type  "
   ]
  },
  {
   "cell_type": "code",
   "execution_count": 21,
   "id": "7bf0a0c6",
   "metadata": {},
   "outputs": [
    {
     "name": "stdout",
     "output_type": "stream",
     "text": [
      "I have 2.75 in my account.\n",
      "But now I have 99.95 in my account!\n"
     ]
    }
   ],
   "source": [
    "# This program demonstrates variable reassignment. # Assign a value to the dollars variable. \n",
    "dollars = 2.75 \n",
    "print('I have', dollars, 'in my account.') \n",
    "\n",
    "# Reassign dollars so it references \n",
    "# a different value. \n",
    "dollars = 99.95 \n",
    "print('But now I have', dollars, 'in my account!') "
   ]
  },
  {
   "cell_type": "markdown",
   "id": "c5429316",
   "metadata": {},
   "source": [
    "### Numeric Data Types, Literals, and the `str` Data Type\n",
    "- **Data types:** categorize value in memory\n",
    "  e.g., `int` for integer, `float` for real number, `str` used for storing strings in memory  \n",
    "- **Numeric literal:** number written in a program  \n",
    "  No decimal point considered `int`, otherwise, considered `float`    \n",
    "- Some operations behave differently depending on data type"
   ]
  },
  {
   "cell_type": "code",
   "execution_count": 22,
   "id": "828d0a83",
   "metadata": {},
   "outputs": [],
   "source": [
    "# Example.\n",
    "x = 224 \n",
    "y = 224. \n",
    "z = '224' "
   ]
  },
  {
   "cell_type": "code",
   "execution_count": 23,
   "id": "b5ff7da8",
   "metadata": {},
   "outputs": [
    {
     "data": {
      "text/plain": [
       "int"
      ]
     },
     "execution_count": 23,
     "metadata": {},
     "output_type": "execute_result"
    }
   ],
   "source": [
    "# show variable types \n",
    "type(x) # <class 'int’> "
   ]
  },
  {
   "cell_type": "code",
   "execution_count": 24,
   "id": "b11ab8d2",
   "metadata": {},
   "outputs": [
    {
     "data": {
      "text/plain": [
       "float"
      ]
     },
     "execution_count": 24,
     "metadata": {},
     "output_type": "execute_result"
    }
   ],
   "source": [
    "type(y) # <class 'float’> "
   ]
  },
  {
   "cell_type": "code",
   "execution_count": 25,
   "id": "743a1e2b",
   "metadata": {},
   "outputs": [
    {
     "data": {
      "text/plain": [
       "str"
      ]
     },
     "execution_count": 25,
     "metadata": {},
     "output_type": "execute_result"
    }
   ],
   "source": [
    "type(z) # <class 'str’> "
   ]
  },
  {
   "cell_type": "code",
   "execution_count": 26,
   "id": "6ee54dc0",
   "metadata": {},
   "outputs": [
    {
     "data": {
      "text/plain": [
       "448.0"
      ]
     },
     "execution_count": 26,
     "metadata": {},
     "output_type": "execute_result"
    }
   ],
   "source": [
    "# operation behave differently depending on data type x*2\n",
    "y*2"
   ]
  },
  {
   "cell_type": "code",
   "execution_count": 27,
   "id": "444e7223",
   "metadata": {},
   "outputs": [
    {
     "data": {
      "text/plain": [
       "'224224'"
      ]
     },
     "execution_count": 27,
     "metadata": {},
     "output_type": "execute_result"
    }
   ],
   "source": [
    "z*2 "
   ]
  },
  {
   "cell_type": "markdown",
   "id": "93bf0f2f",
   "metadata": {},
   "source": [
    "### Reassigning a Variable to a Different Type  \n",
    "A variable in Python can refer to items of any type"
   ]
  },
  {
   "cell_type": "code",
   "execution_count": 28,
   "id": "a83edca7",
   "metadata": {},
   "outputs": [
    {
     "name": "stdout",
     "output_type": "stream",
     "text": [
      "99\n",
      "Take me to your leader\n"
     ]
    }
   ],
   "source": [
    "x = 99\n",
    "print(x)\n",
    "# reassign x to a different type\n",
    "x = 'Take me to your leader'\n",
    "print(x)"
   ]
  },
  {
   "cell_type": "markdown",
   "id": "acc3a620",
   "metadata": {},
   "source": [
    "### Reading Input from the Keyboard  \n",
    "In most programming scenarios, obtaining user input is crucial for interactive functionality. Python addresses this need with its built-in `input` function, which is designed to capture input directly from the keyboard. The function returns the inputted data as a string. The typical usage format is expressed as `variable = input(prompt)`. Here, `variable` serves as the storage for the input, while `prompt` is a string presented to the user, usually containing instructions for the input required. Notably, the `input` function does not automatically append a space after the prompt text, so if a space is desired, it must be explicitly included at the end of the `prompt` string."
   ]
  },
  {
   "cell_type": "code",
   "execution_count": 29,
   "id": "78ec3244",
   "metadata": {},
   "outputs": [
    {
     "name": "stdout",
     "output_type": "stream",
     "text": [
      "Enter your first name: John\n",
      "Enter your last name: Geisinger\n",
      "Hello John Geisinger\n"
     ]
    }
   ],
   "source": [
    "# Get the user's first name. \n",
    "first_name = input('Enter your first name: ') \n",
    "\n",
    "# Get the user's last name. \n",
    "last_name = input('Enter your last name: ') \n",
    "\n",
    "# Print a greeting to the user. \n",
    "print('Hello', first_name, last_name)"
   ]
  },
  {
   "cell_type": "markdown",
   "id": "3ff7b450",
   "metadata": {},
   "source": [
    "### Reading Numbers with the input Function  \n",
    "\n",
    "The `input` function in Python is a straightforward method for reading user input. It's important to note that regardless of what the user enters, the `input` function always returns data in the form of a string. To work with numbers, you must convert these strings into numeric data types. This is where built-in functions like `int()` and `float()` come into play. The function `int(item)` is used to convert `item` to an integer, and similarly, `float(item)` converts `item` to a floating-point number. These conversions are necessary when the input needs to be manipulated mathematically, as strings cannot be used for numerical operations.\n",
    "\n",
    "Conversion functions can be used in a nested fashion, a common pattern in Python. The general format for nesting functions is `function1(function2(argument))`, where the value returned by `function2` is immediately passed to `function1`. For example, `int(input(\"Enter a number: \"))` first gets the string from `input`, then converts it to an integer. However, it's crucial to ensure that the provided string represents a valid numeric value. If `item` is not a valid number, attempting a type conversion will result in an exception, typically a `ValueError`, halting the program if not handled properly."
   ]
  },
  {
   "cell_type": "code",
   "execution_count": 30,
   "id": "fe47ef88",
   "metadata": {},
   "outputs": [
    {
     "name": "stdout",
     "output_type": "stream",
     "text": [
      "How many hours did you work in this project?40\n",
      "I spent 40 in this project.\n"
     ]
    }
   ],
   "source": [
    "string_value = input('How many hours did you work in this project?') \n",
    "hours = int(string_value)\n",
    "print(\"I spent\", hours,\"in this project.\")"
   ]
  },
  {
   "cell_type": "code",
   "execution_count": 31,
   "id": "318dd2a8",
   "metadata": {},
   "outputs": [
    {
     "name": "stdout",
     "output_type": "stream",
     "text": [
      "How many hours did you work last month? 160\n",
      "What is your hourly pay rate?30\n",
      "I worked 160 hours. I should get 4800.0 .\n"
     ]
    }
   ],
   "source": [
    "hours2 = int(input('How many hours did you work last month? ')) \n",
    "pay_rate = float(input('What is your hourly pay rate?'))\n",
    "print(\"I worked\", hours2, \"hours. I should get\", hours2*pay_rate,\".\")"
   ]
  },
  {
   "cell_type": "markdown",
   "id": "cbc39021",
   "metadata": {},
   "source": [
    "#### Exercise."
   ]
  },
  {
   "cell_type": "code",
   "execution_count": 32,
   "id": "989c15f9",
   "metadata": {},
   "outputs": [
    {
     "name": "stdout",
     "output_type": "stream",
     "text": [
      "What is your name? John\n",
      "What is your age? 24\n",
      "What is your income? 70000\n",
      "Here is the data you entered:\n",
      "Name: John\n",
      "Age: 24\n",
      "Income: 70000.0\n"
     ]
    }
   ],
   "source": [
    "# Get the user's name, age, and income. \n",
    "name = input('What is your name? ') \n",
    "age = int(input('What is your age? ')) \n",
    "income = float(input('What is your income? ')) \n",
    "\n",
    "# Display the data. \n",
    "print('Here is the data you entered:') \n",
    "print('Name:', name) \n",
    "print('Age:', age) \n",
    "print('Income:', income)"
   ]
  },
  {
   "cell_type": "markdown",
   "id": "f077133f",
   "metadata": {},
   "source": [
    "---  "
   ]
  },
  {
   "cell_type": "markdown",
   "id": "0cf5fb9d",
   "metadata": {},
   "source": [
    "### Performing Calculations\n",
    "- **Math expression:** performs calculation and gives a value   \n",
    "  - **Math operator:** tool for performing calculation  \n",
    "  - **Operands:** values surrounding operator  \n",
    "    - Variables can be used as operands\n",
    "  - Resulting value typically assigned to variable\n",
    "\n",
    "\n",
    "- **Two types of division:**\n",
    "  - `/` operator performs *floating point division*\n",
    "  - `//` operator performs *integer division*\n",
    "    - Positive results truncated, negative rounded away from zero"
   ]
  },
  {
   "cell_type": "markdown",
   "id": "d9401f75",
   "metadata": {},
   "source": [
    "### Operator  Precedence and Grouping with Parentheses   \n",
    "- Python operator precedence:  \n",
    "  1. Operations enclosed in parentheses\n",
    "     - Forces operations to be performed before others\n",
    "  2. Exponentiation __(**)__  \n",
    "  3. Multiplication __(*)__, division **(/ and //)**, and remainder __(%)__\n",
    "  4. Addition __(+)__ and subtraction __(-)__  \n",
    "- Higher precedence performed first  \n",
    "  - Same precedence operators execute from left to right\n",
    "  \n",
    "<div style=\"text-align: center;\">\n",
    "    <img src=\"https://raw.githubusercontent.com/cxc1920/ISE224/main/pictures/2-7.png\" alt=\"Operator\" title=\"Operators\">\n",
    "</div>\n"
   ]
  },
  {
   "cell_type": "markdown",
   "id": "d86386fe",
   "metadata": {},
   "source": [
    "### The `Exponent` Operator and the `Remainder` Operator  \n",
    "- `Exponent operator (**):` Raises a number to a power\n",
    "  - x ** y = $x^y$  \n",
    "\n",
    "- `Remainder operator (%):` Performs division and returns the remainder\n",
    "  - a.k.a. modulus operator\n",
    "  - e.g.,\n",
    "  ```\n",
    "    4%2=0\n",
    "    5%2=1\n",
    "  ```\n",
    "Typically used to convert times and distances, and to detect odd or even numbers"
   ]
  },
  {
   "cell_type": "code",
   "execution_count": 33,
   "id": "a4a1f506",
   "metadata": {},
   "outputs": [],
   "source": [
    "# Example\n",
    "x = 2 \n",
    "y = 9. "
   ]
  },
  {
   "cell_type": "code",
   "execution_count": 34,
   "id": "c7f31283",
   "metadata": {},
   "outputs": [
    {
     "data": {
      "text/plain": [
       "512.0"
      ]
     },
     "execution_count": 34,
     "metadata": {},
     "output_type": "execute_result"
    }
   ],
   "source": [
    "x**y "
   ]
  },
  {
   "cell_type": "code",
   "execution_count": 35,
   "id": "7339e978",
   "metadata": {},
   "outputs": [
    {
     "data": {
      "text/plain": [
       "1.0"
      ]
     },
     "execution_count": 35,
     "metadata": {},
     "output_type": "execute_result"
    }
   ],
   "source": [
    "x/2 "
   ]
  },
  {
   "cell_type": "code",
   "execution_count": 36,
   "id": "d6d37727",
   "metadata": {},
   "outputs": [
    {
     "data": {
      "text/plain": [
       "1"
      ]
     },
     "execution_count": 36,
     "metadata": {},
     "output_type": "execute_result"
    }
   ],
   "source": [
    "x//2 "
   ]
  },
  {
   "cell_type": "code",
   "execution_count": 37,
   "id": "c23684cf",
   "metadata": {},
   "outputs": [
    {
     "data": {
      "text/plain": [
       "4.5"
      ]
     },
     "execution_count": 37,
     "metadata": {},
     "output_type": "execute_result"
    }
   ],
   "source": [
    "y/2"
   ]
  },
  {
   "cell_type": "code",
   "execution_count": 38,
   "id": "4b074499",
   "metadata": {},
   "outputs": [
    {
     "data": {
      "text/plain": [
       "4.0"
      ]
     },
     "execution_count": 38,
     "metadata": {},
     "output_type": "execute_result"
    }
   ],
   "source": [
    "y//2"
   ]
  },
  {
   "cell_type": "code",
   "execution_count": 39,
   "id": "9caf2861",
   "metadata": {},
   "outputs": [
    {
     "data": {
      "text/plain": [
       "0"
      ]
     },
     "execution_count": 39,
     "metadata": {},
     "output_type": "execute_result"
    }
   ],
   "source": [
    "x%2"
   ]
  },
  {
   "cell_type": "code",
   "execution_count": 40,
   "id": "228e612e",
   "metadata": {},
   "outputs": [
    {
     "data": {
      "text/plain": [
       "1.0"
      ]
     },
     "execution_count": 40,
     "metadata": {},
     "output_type": "execute_result"
    }
   ],
   "source": [
    "y%2"
   ]
  },
  {
   "cell_type": "markdown",
   "id": "e6cccae0",
   "metadata": {},
   "source": [
    "**Exercise.**  \n",
    "```\n",
    "5 + 2 * 4\n",
    "10 / 2 - 3\n",
    "8 + 12 * 2 - 4\n",
    "6 - 3 *2 + 7 - 1\n",
    "```"
   ]
  },
  {
   "cell_type": "markdown",
   "id": "7ba46e58",
   "metadata": {},
   "source": [
    "### Converting Math Formulas to Programming Statements   \n",
    "- Operator required for any mathematical operation  \n",
    "- When converting mathematical expression to programming statement:  \n",
    "  - May need to add multiplication operators  \n",
    "  - May need to insert parentheses  "
   ]
  },
  {
   "cell_type": "markdown",
   "id": "d12c3ea7",
   "metadata": {},
   "source": [
    "### Mixed-Type Expressions and Data Type Conversion  \n",
    "- Data type resulting from math operation depends on data types of operands\n",
    "  - Two `int` values: result is an `int`\n",
    "  - Two `float` values: result is a `float`\n",
    "  - `int` and `float`: `int` temporarily converted to `float`, result of the operation is a `float` (Mixed-type expression)\n",
    "  - **Type conversion of `float` to `int` causes truncation of fractional part**"
   ]
  },
  {
   "cell_type": "markdown",
   "id": "35682497",
   "metadata": {},
   "source": [
    "### Breaking Long Statements into Multiple Lines\n",
    "- Long statements cannot be viewed on screen without scrolling and cannot be printed without cutting off  \n",
    "- Multiline continuation character (`\\`): Allows to break a statement into multiple lines  "
   ]
  },
  {
   "cell_type": "code",
   "execution_count": 41,
   "id": "cfcef650",
   "metadata": {},
   "outputs": [
    {
     "name": "stdout",
     "output_type": "stream",
     "text": [
      "14\n"
     ]
    }
   ],
   "source": [
    "var1 = var2 = var3 = var4 = var5 = 1\n",
    "\n",
    "result = var1 * 2 + var2 * 3 + \\\n",
    "         var3 * 4 + var4 * 5\n",
    "\n",
    "print(result)"
   ]
  },
  {
   "cell_type": "markdown",
   "id": "47dddbc7",
   "metadata": {},
   "source": [
    "- Any part of a statement that is enclosed in parentheses can be broken without the line continuation character.\u000b"
   ]
  },
  {
   "cell_type": "code",
   "execution_count": 42,
   "id": "b490c642",
   "metadata": {},
   "outputs": [
    {
     "name": "stdout",
     "output_type": "stream",
     "text": [
      "Monday's sales are 18 and Tuesday's sales are 22 and Wednesday's sales are 30\n"
     ]
    }
   ],
   "source": [
    "monday = 18\n",
    "tuesday = 22\n",
    "wednesday = 30\n",
    "\n",
    "print(\"Monday's sales are\", monday,\n",
    "      \"and Tuesday's sales are\", tuesday,\n",
    "      \"and Wednesday's sales are\", wednesday)"
   ]
  },
  {
   "cell_type": "code",
   "execution_count": 43,
   "id": "11fa583f",
   "metadata": {},
   "outputs": [
    {
     "data": {
      "text/plain": [
       "10"
      ]
     },
     "execution_count": 43,
     "metadata": {},
     "output_type": "execute_result"
    }
   ],
   "source": [
    "value1 = value2 = value3 = 1\n",
    "value4 = value5 \\\n",
    "= 2\n",
    "value6 =\\\n",
    "3\n",
    "\n",
    "total = (value1 + value2 +\n",
    "         value3 + value4 +\n",
    "         value5 + value6)\n",
    "total"
   ]
  },
  {
   "cell_type": "markdown",
   "id": "2f6b2aa8",
   "metadata": {},
   "source": [
    "### String Concatenation   \n",
    "- To append one string to the end of another string\n",
    "- Use the `+` operator to concatenate strings\n",
    "```\n",
    ">>> message = 'Hello ' + 'world'\n",
    ">>> print(message)\n",
    "Hello world\n",
    "```"
   ]
  },
  {
   "cell_type": "code",
   "execution_count": 45,
   "id": "7ec89198",
   "metadata": {},
   "outputs": [
    {
     "name": "stdout",
     "output_type": "stream",
     "text": [
      "Enter your first name: John\n",
      "Enter your last name: Geisinger\n",
      "Your full name is John Geisinger\n"
     ]
    }
   ],
   "source": [
    "# This program demonstrates string concatenation. \n",
    "first_name = input('Enter your first name: ') \n",
    "last_name = input('Enter your last name: ') \n",
    "\n",
    "# Combine the names with a space between them. \n",
    "full_name = first_name + ' ' + last_name \n",
    "\n",
    "# Display the user's full name. \n",
    "print('Your full name is ' + full_name)\n"
   ]
  },
  {
   "cell_type": "markdown",
   "id": "adc79bd0",
   "metadata": {},
   "source": [
    "- You can use string concatenation to break up a long string literal"
   ]
  },
  {
   "cell_type": "code",
   "execution_count": 46,
   "id": "90e217b8",
   "metadata": {},
   "outputs": [
    {
     "name": "stdout",
     "output_type": "stream",
     "text": [
      "Enter the amount of sales for each day and press Enter.\n"
     ]
    }
   ],
   "source": [
    "print('Enter the amount of ' +\n",
    "      'sales for each day and ' +\n",
    "      'press Enter.')"
   ]
  },
  {
   "cell_type": "markdown",
   "id": "7a82e6c2",
   "metadata": {},
   "source": [
    "### Implicit String Literal Concatenation  \n",
    "- Two or more string literals written adjacent to each other are implicitly concatenated into a single string"
   ]
  },
  {
   "cell_type": "code",
   "execution_count": 47,
   "id": "58d43ac7",
   "metadata": {},
   "outputs": [
    {
     "name": "stdout",
     "output_type": "stream",
     "text": [
      "onetwothree\n"
     ]
    }
   ],
   "source": [
    "my_str = 'one' 'two' 'three'\n",
    "print(my_str)"
   ]
  },
  {
   "cell_type": "code",
   "execution_count": 48,
   "id": "545c83e7",
   "metadata": {},
   "outputs": [
    {
     "name": "stdout",
     "output_type": "stream",
     "text": [
      "Enter the amount of sales for each day and press Enter.\n"
     ]
    }
   ],
   "source": [
    "print('Enter the amount of '\n",
    "      'sales for each day and '\n",
    "      'press Enter.')"
   ]
  },
  {
   "cell_type": "markdown",
   "id": "a34e16b7",
   "metadata": {},
   "source": [
    "### More About The `print` Function\n",
    "- `print` function displays line of output   \n",
    "  - Newline character at end of printed data\n",
    "  - Special argument `end='delimiter'` causes `print` to place `delimiter` at end of data instead of newline character"
   ]
  },
  {
   "cell_type": "code",
   "execution_count": 49,
   "id": "35b788e3",
   "metadata": {},
   "outputs": [
    {
     "name": "stdout",
     "output_type": "stream",
     "text": [
      "One Two Three\n"
     ]
    }
   ],
   "source": [
    "print('One', end=' ') \n",
    "print('Two', end=' ')\n",
    "print('Three')"
   ]
  },
  {
   "cell_type": "markdown",
   "id": "598467aa",
   "metadata": {},
   "source": [
    "- `print` function uses space as item separator\n",
    "  - Special argument **sep='delimiter'** causes print to use delimiter as item separator"
   ]
  },
  {
   "cell_type": "code",
   "execution_count": 50,
   "id": "4d0731a2",
   "metadata": {},
   "outputs": [
    {
     "name": "stdout",
     "output_type": "stream",
     "text": [
      "One*Two*Three\n",
      "One~~~Two~~~Three\n"
     ]
    }
   ],
   "source": [
    "print('One', 'Two', 'Three', sep='*')\n",
    "print('One', 'Two', 'Three', sep='~~~')"
   ]
  },
  {
   "cell_type": "markdown",
   "id": "dc606aa6",
   "metadata": {},
   "source": [
    "- Special characters appearing in string literal \n",
    "  - Preceded by backslash (`\\`)\n",
    "    - Examples: newline (`\\n`), horizontal tab (`\\t`)"
   ]
  },
  {
   "cell_type": "code",
   "execution_count": 51,
   "id": "4d7053da",
   "metadata": {},
   "outputs": [
    {
     "name": "stdout",
     "output_type": "stream",
     "text": [
      "One\n",
      "Two\n",
      "Three\n",
      "One\tTwo\tThree\n"
     ]
    }
   ],
   "source": [
    "print('One\\nTwo\\nThree')\n",
    "print('One\\tTwo\\tThree')"
   ]
  },
  {
   "cell_type": "markdown",
   "id": "1b214d7b",
   "metadata": {},
   "source": [
    "- Treated as commands embedded in string\n",
    "\n",
    "<div style=\"text-align: center;\">\n",
    "    <img src=\"https://raw.githubusercontent.com/cxc1920/ISE224/main/pictures/2-8.png\" alt=\"EscapeCharacter\" title=\"Escape Character\">\n",
    "</div>\n"
   ]
  },
  {
   "cell_type": "markdown",
   "id": "f31b09fe",
   "metadata": {},
   "source": [
    "### Displaying Formatted Output with F-strings   \n",
    "- An f-string is a special type of string literal that is prefixed with the letter f\n",
    "```\n",
    ">>> print(f'Hello world')\n",
    "Hello world\n",
    "```\n",
    "- F-strings support placeholders for variables\n",
    "```\n",
    ">>> name = 'Johnny'\n",
    ">>> print(f'Hello {name}.')\n",
    "Hello Johnny.\n",
    "```"
   ]
  },
  {
   "cell_type": "markdown",
   "id": "d326a946",
   "metadata": {},
   "source": [
    "- Placeholders can also be expressions that are evaluated\n",
    "```\n",
    ">>> print(f'The value is {10 + 2}.')\n",
    "The value is 12.\n",
    "\n",
    ">>> val = 10\n",
    ">>> print(f'The value is {val + 2}.')\n",
    "The value is 12.\n",
    "```"
   ]
  },
  {
   "cell_type": "markdown",
   "id": "cd135511",
   "metadata": {},
   "source": [
    "- **Format specifiers can be used with placeholders**\n",
    "```\n",
    ">> num = 123.456789\n",
    ">> print(f'{num:.2f}') \n",
    "123.46\n",
    "```\n",
    "\n",
    "- **`.2f` means:**\n",
    "  - round the value to 2 decimal places\n",
    "  - display the value as a floating-point number"
   ]
  },
  {
   "cell_type": "markdown",
   "id": "0843ef29",
   "metadata": {},
   "source": [
    "```\n",
    ">> num = 1000000.00\n",
    ">> print(f'{num:,.2f}') \n",
    "1,000,000.00\n",
    "```\n",
    "```\n",
    ">> discount = 0.5\n",
    ">> print(f'{discount:.0%}')\n",
    "50%\n",
    "```"
   ]
  },
  {
   "cell_type": "markdown",
   "id": "e6719dcf",
   "metadata": {},
   "source": [
    "```\n",
    ">> num = 123456789\n",
    ">> print(f'{num:,d}') \n",
    "123,456,789\n",
    "```\n",
    "```\n",
    ">>> num = 12345.6789\n",
    ">>> print(f'{num:.2e}')\n",
    "1.23e+04\n",
    "```"
   ]
  },
  {
   "cell_type": "markdown",
   "id": "890f0b40",
   "metadata": {},
   "source": [
    "- Specifying a minimum field width:\n",
    "```\n",
    ">>> num = 12345.6789\n",
    ">>> print(f'The number is {num:12,.2f}')\n",
    "The number is   12,345.68\n",
    "```\n",
    "<div style=\"text-align: center;\">\n",
    "    <img src=\"https://raw.githubusercontent.com/cxc1920/ISE224/main/pictures/2-9.png\" alt=\"fstring\" title=\"fstring\">\n",
    "</div>\n"
   ]
  },
  {
   "cell_type": "markdown",
   "id": "0366050c",
   "metadata": {},
   "source": [
    "- Aligning values within a field\n",
    "  - Use `<` for left alignment\n",
    "  - Use `>` for right alignment\n",
    "  - Use `^` for center alignment"
   ]
  },
  {
   "cell_type": "code",
   "execution_count": 52,
   "id": "c863bd3d",
   "metadata": {},
   "outputs": [
    {
     "name": "stdout",
     "output_type": "stream",
     "text": [
      "12345.68            \n"
     ]
    }
   ],
   "source": [
    "# Examples:\n",
    "num = 12345.6789\n",
    "print(f'{num:<20.2f}')"
   ]
  },
  {
   "cell_type": "code",
   "execution_count": 53,
   "id": "5354a5c5",
   "metadata": {},
   "outputs": [
    {
     "name": "stdout",
     "output_type": "stream",
     "text": [
      "            12345.68\n"
     ]
    }
   ],
   "source": [
    "print(f'{num:>20.2f}') "
   ]
  },
  {
   "cell_type": "code",
   "execution_count": 54,
   "id": "7ca1141b",
   "metadata": {},
   "outputs": [
    {
     "name": "stdout",
     "output_type": "stream",
     "text": [
      "      12345.68      \n"
     ]
    }
   ],
   "source": [
    "print(f'{num:^20.2f}')"
   ]
  },
  {
   "cell_type": "markdown",
   "id": "de14dd51",
   "metadata": {},
   "source": [
    "- The order of designators in a format specifier\n",
    "  - When using multiple designators in a format specifier, write them in this order:\n",
    "\n",
    "  `[aligment][width][,][.precision][type]`"
   ]
  },
  {
   "cell_type": "code",
   "execution_count": 55,
   "id": "9d65873d",
   "metadata": {},
   "outputs": [
    {
     "name": "stdout",
     "output_type": "stream",
     "text": [
      "12,345.68 \n"
     ]
    }
   ],
   "source": [
    "# Example:\n",
    "print(f'{num:^10,.2f}') # center alignment, 10 space, 2 decimal places, display the value as a floating-point number"
   ]
  },
  {
   "cell_type": "markdown",
   "id": "453049c2",
   "metadata": {},
   "source": [
    "### Magic Numbers  \n",
    "- A <u>magic number</u> is an unexplained numeric value that appears in a program’s code. \n",
    "```\n",
    "Example:  amount = balance * 0.069\n",
    "```\n",
    "- What is the value 0.069? An interest rate? A fee percentage? Only the person who wrote the code knows for sure."
   ]
  },
  {
   "cell_type": "markdown",
   "id": "8e4688b2",
   "metadata": {},
   "source": [
    "- The **Problem** with Magic Numbers\n",
    "  - It can be difficult to determine the purpose of the number.\n",
    "  - If the magic number is used in multiple places in the program, it can take a lot of effort to change the number in each location, should the need arise.\n",
    "  - You take the risk of making a mistake each time you type the magic number in the program’s code. \n",
    "    - For example, suppose you intend to type 0.069, but you accidentally type .0069. This mistake will cause mathematical errors that can be difficult to find."
   ]
  },
  {
   "cell_type": "markdown",
   "id": "cbc4134b",
   "metadata": {},
   "source": [
    "### Named Constants  \n",
    "- You should use named constants instead of magic numbers.  \n",
    "- A named constant is a name that represents a value that does not change during the program's execution.\n",
    "Example:\n",
    "```\n",
    "\tINTEREST_RATE = 0.069\n",
    "```\n",
    "This creates a named constant named `INTEREST_RATE`, assigned the value 0.069. It can be used instead of the magic number:\u000b",
    "\n",
    "```\n",
    "    amount = balance * INTEREST_RATE\n",
    "```"
   ]
  },
  {
   "cell_type": "markdown",
   "id": "afa53076",
   "metadata": {},
   "source": [
    "- Advantages of Using Named Constants\n",
    "  - Named constants make code _self-explanatory_ (self-documenting)\n",
    "  - Named constants make code _easier to maintain_ (change the value assigned to the constant, and the new value takes effect everywhere the constant is used)\n",
    "  - Named constants help prevent _typographical errors_ that are common when using magic numbers"
   ]
  },
  {
   "cell_type": "markdown",
   "id": "90cb2302",
   "metadata": {},
   "source": [
    "### Summary   \n",
    "This chapter covered:  \n",
    "- The program development cycle, tools for program design, and the design process  \n",
    "- Ways in which programs can receive input, particularly from the keyboard   \n",
    "- Ways in which programs can present and format output  \n",
    "- Use of comments in programs  \n",
    "- Uses of variables and named constants  \n",
    "- Tools for performing calculations in programs  "
   ]
  }
 ],
 "metadata": {
  "kernelspec": {
   "display_name": "Python 3 (ipykernel)",
   "language": "python",
   "name": "python3"
  },
  "language_info": {
   "codemirror_mode": {
    "name": "ipython",
    "version": 3
   },
   "file_extension": ".py",
   "mimetype": "text/x-python",
   "name": "python",
   "nbconvert_exporter": "python",
   "pygments_lexer": "ipython3",
   "version": "3.12.7"
  }
 },
 "nbformat": 4,
 "nbformat_minor": 5
}
