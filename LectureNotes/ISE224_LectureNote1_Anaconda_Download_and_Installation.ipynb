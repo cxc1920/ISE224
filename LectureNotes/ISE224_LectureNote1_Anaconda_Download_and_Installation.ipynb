{
 "cells": [
  {
   "cell_type": "markdown",
   "metadata": {},
   "source": [
    "# Anaconda Download and Installation"
   ]
  },
  {
   "cell_type": "markdown",
   "metadata": {},
   "source": [
    "### Anaconda and Python"
   ]
  },
  {
   "cell_type": "markdown",
   "metadata": {},
   "source": [
    "- Anaconda is a free open source Python distribution that supports Windows, Mac OS, and Linux.\n",
    "- It includes more than 1000 of the most popular Python packages for math, science, and engineering.\n",
    "- It has a strong focus on scientific computing and data analytics."
   ]
  },
  {
   "cell_type": "markdown",
   "metadata": {},
   "source": [
    "To start working with Python, it is essential to have Python installed and properly configured on your system. One of the critical components that get installed with Python is the Python interpreter. In this course, we are going to install `anaconda`, which is a open-source distribution of the `Python` and `R` programming languages for scientific computing (data science, machine learning applications, large-scale data processing, predictive analytics, etc.), that aims to simplify package management and deployment. Package versions are managed by the package management system.\n",
    "\n",
    "- [[Anaconda Installation Win11]](https://www.youtube.com/watch?v=VZQtSWpBhzo&ab_channel=TheCodeCity)  \n",
    "\n",
    "- [[Anaconda Installation Mac]](https://www.youtube.com/watch?v=0xYWWFOEBi8&ab_channel=IsaacVaghefi)  "
   ]
  },
  {
   "cell_type": "markdown",
   "metadata": {},
   "source": [
    "### Download and Installation"
   ]
  },
  {
   "cell_type": "markdown",
   "metadata": {},
   "source": [
    "- Download the newest version of Anaconda with Python Version 3.11 (64-bit) or higher from https://www.anaconda.com/download and install it on your computer.   \n",
    "\n",
    "<img src=\"https://raw.githubusercontent.com/cxc1920/ISE224/main/pictures/anaconda_download.png\" alt=\"Anaconda download\" style=\"width: 720px;\"/>\n",
    "\n",
    "- Install it for \"Just me\" instead of all users. This can save you a lot of trouble caused by access permissions.  \n",
    "<img src=\"https://raw.githubusercontent.com/cxc1920/ISE224/main/pictures/anaconda_installation_just_me.png\" alt=\"Anaconda Installation\" style=\"width: 550px;\"/>\n",
    "\n",
    "- For Windows users, make sure you check the boxes \"Register Anaconda as the system Python 3.11\" and \"Clear the package cache upon completion\" during installation (this is not required in Mac OS):   \n",
    "<img src=\"https://raw.githubusercontent.com/cxc1920/ISE224/main/pictures/anaconda_installation_advanced_options1.png\" alt=\"Anaconda Installation\" style=\"width: 550px;\"/>"
   ]
  }
 ],
 "metadata": {
  "kernelspec": {
   "display_name": "Python 3 (ipykernel)",
   "language": "python",
   "name": "python3"
  },
  "language_info": {
   "codemirror_mode": {
    "name": "ipython",
    "version": 3
   },
   "file_extension": ".py",
   "mimetype": "text/x-python",
   "name": "python",
   "nbconvert_exporter": "python",
   "pygments_lexer": "ipython3",
   "version": "3.10.10"
  }
 },
 "nbformat": 4,
 "nbformat_minor": 2
}
