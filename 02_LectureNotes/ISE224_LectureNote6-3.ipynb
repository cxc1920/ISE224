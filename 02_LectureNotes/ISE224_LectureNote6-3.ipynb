{
 "cells": [
  {
   "cell_type": "markdown",
   "id": "2aada69c",
   "metadata": {},
   "source": [
    "# ISE224 LectureNote 6-3:  handle the `csv` and `xlsx` files\n",
    "\n",
    "**Topics:**\n",
    "\n",
    "1. Using `csv` package\n",
    "2. Using `openpyxl` package\n",
    "\n",
    "---"
   ]
  },
  {
   "cell_type": "markdown",
   "id": "8e683681",
   "metadata": {},
   "source": [
    "### Using 'csv' package\n",
    "\n",
    "`csv` package is a default package coming with python. So, we just need to import the package before using it.\n",
    "\n",
    "#### Reading csv files\n",
    "\n",
    "To read a CSV file using the csv package, you can use the `csv.reader()` function. Here's an example:"
   ]
  },
  {
   "cell_type": "code",
   "execution_count": 1,
   "id": "9d6618f7",
   "metadata": {},
   "outputs": [
    {
     "name": "stdout",
     "output_type": "stream",
     "text": [
      "['id', 'Sepal.Length', 'Sepal.Width', 'Petal.Length', 'Petal.Width', 'Species']\n",
      "['1', '5.1', '3.5', '1.4', '0.2', 'setosa']\n",
      "['2', '4.9', '3', '1.4', '0.2', 'setosa']\n",
      "['3', '4.7', '3.2', '1.3', '0.2', 'setosa']\n",
      "['4', '4.6', '3.1', '1.5', '0.2', 'setosa']\n",
      "['5', '5', '3.6', '1.4', '0.2', 'setosa']\n",
      "['6', '5.4', '3.9', '1.7', '0.4', 'setosa']\n",
      "['7', '4.6', '3.4', '1.4', '0.3', 'setosa']\n",
      "['8', '5', '3.4', '1.5', '0.2', 'setosa']\n",
      "['9', '4.4', '2.9', '1.4', '0.2', 'setosa']\n"
     ]
    }
   ],
   "source": [
    "import csv\n",
    "\n",
    "with open('sample.csv', 'r') as csv_file:\n",
    "    csv_reader = csv.reader(csv_file)\n",
    "    for idx, row in enumerate(csv_reader):\n",
    "        if idx < 10:\n",
    "            print(row)"
   ]
  },
  {
   "cell_type": "markdown",
   "id": "469a5a94",
   "metadata": {},
   "source": [
    "In this example, we open the file 'sample.csv' in read mode using `open()`, and pass the resulting file object to `csv.reader()`. We then iterate over the rows of the CSV file using a for loop and print each row to the console using print().\n",
    "\n",
    "Note, here we use `enumerate()` function to get the index and the corresponding row values in the csv file. \n",
    "\n",
    "If the CSV file has a `header` row, you can skip it by calling the `next()` function on the csv_reader object before entering the for loop. Here's an example:"
   ]
  },
  {
   "cell_type": "code",
   "execution_count": 2,
   "id": "9146b301",
   "metadata": {},
   "outputs": [
    {
     "name": "stdout",
     "output_type": "stream",
     "text": [
      "['1', '5.1', '3.5', '1.4', '0.2', 'setosa']\n",
      "['2', '4.9', '3', '1.4', '0.2', 'setosa']\n",
      "['3', '4.7', '3.2', '1.3', '0.2', 'setosa']\n",
      "['4', '4.6', '3.1', '1.5', '0.2', 'setosa']\n",
      "['5', '5', '3.6', '1.4', '0.2', 'setosa']\n",
      "['6', '5.4', '3.9', '1.7', '0.4', 'setosa']\n",
      "['7', '4.6', '3.4', '1.4', '0.3', 'setosa']\n",
      "['8', '5', '3.4', '1.5', '0.2', 'setosa']\n",
      "['9', '4.4', '2.9', '1.4', '0.2', 'setosa']\n",
      "['10', '4.9', '3.1', '1.5', '0.1', 'setosa']\n"
     ]
    }
   ],
   "source": [
    "import csv\n",
    "\n",
    "with open('sample.csv', 'r') as csv_file:\n",
    "    csv_reader = csv.reader(csv_file)\n",
    "    next(csv_reader)  # Skip the header row\n",
    "    for idx, row in enumerate(csv_reader):\n",
    "        if idx < 10:\n",
    "            print(row)"
   ]
  },
  {
   "cell_type": "markdown",
   "id": "212c2faa",
   "metadata": {},
   "source": [
    "#### Writing CSV Files\n",
    "\n",
    "To write data to a CSV file using the `csv` package, you can use the `csv.writer()` function. Here's an example:"
   ]
  },
  {
   "cell_type": "code",
   "execution_count": 3,
   "id": "743547ed",
   "metadata": {},
   "outputs": [],
   "source": [
    "import csv\n",
    "\n",
    "data = [\n",
    "    ['Name', 'Age', 'Email'],\n",
    "    ['Alice', 25, 'alice@example.com'],\n",
    "    ['Bob', 30, 'bob@example.com'],\n",
    "    ['Charlie', 35, 'charlie@example.com']\n",
    "]\n",
    "\n",
    "with open('write_csv.csv', 'w', newline='') as csv_file:\n",
    "    csv_writer = csv.writer(csv_file)\n",
    "    for row in data:\n",
    "        csv_writer.writerow(row)"
   ]
  },
  {
   "cell_type": "markdown",
   "id": "35535a86",
   "metadata": {},
   "source": [
    "In this example, we define a list of lists called data containing four sub-lists, each representing a row of data to be written to the CSV file. We open a new file called 'write_csv.csv' in write mode using open(), and pass the resulting file object to `csv.writer()`. We then iterate over the rows of data using a for loop and write each row to the CSV file using csv_writer.writerow(row)."
   ]
  },
  {
   "cell_type": "markdown",
   "id": "3d0883cb",
   "metadata": {},
   "source": [
    "#### Append data to csv files"
   ]
  },
  {
   "cell_type": "code",
   "execution_count": 4,
   "id": "1ca9ccfc",
   "metadata": {},
   "outputs": [
    {
     "name": "stdout",
     "output_type": "stream",
     "text": [
      "id,Sepal.Length,Sepal.Width,Petal.Length,Petal.Width,Species\n",
      "1,5.1,3.5,1.4,0.2,setosa\n",
      "2,4.9,3,1.4,0.2,setosa\n",
      "4,4.6,3.1,1.5,0.2,setosa\n",
      "\n",
      "\n"
     ]
    }
   ],
   "source": [
    "# Open the CSV file in append mode\n",
    "with open('append.csv', 'a') as file:\n",
    "    # Create a CSV writer object\n",
    "    writer = csv.writer(file)\n",
    "    \n",
    "    # Write a new row to the CSV file\n",
    "    writer.writerow(['4','4.6','3.1','1.5','0.2','setosa'])\n",
    "\n",
    "with open('append.csv','r') as file:\n",
    "    print(file.read())"
   ]
  },
  {
   "cell_type": "markdown",
   "id": "d48a4752",
   "metadata": {},
   "source": [
    "#### Copy data from one csv to another csv\n",
    "\n",
    "To copy data from one CSV file to another CSV file using the `csv` package in Python, you can use the `csv.reader()` and `csv.writer()` functions to read and write the data. Here's an example:"
   ]
  },
  {
   "cell_type": "code",
   "execution_count": 2,
   "id": "7ee5ac68",
   "metadata": {},
   "outputs": [],
   "source": [
    "import csv\n",
    "\n",
    "# Open the input CSV file for reading\n",
    "with open('sample.csv', 'r') as input_file:\n",
    "    # Create a CSV reader object\n",
    "    csv_reader = csv.reader(input_file)\n",
    "\n",
    "    # Open the output CSV file for writing\n",
    "    with open('sample_copy.csv', 'w', newline='') as output_file:\n",
    "        # Create a CSV writer object\n",
    "        csv_writer = csv.writer(output_file)\n",
    "\n",
    "        # Loop over the rows of the input CSV file\n",
    "        for row in csv_reader:\n",
    "            # Write the row to the output CSV file\n",
    "            csv_writer.writerow(row)"
   ]
  },
  {
   "cell_type": "markdown",
   "id": "286394c3",
   "metadata": {},
   "source": [
    "### Using 'openpyxl' package\n",
    "\n",
    "`openpyxl` is a Python library that provides tools for working with Excel files. It allows you to read, modify, and create Excel workbooks, worksheets, cells, and other objects. openpyxl is designed to work with modern versions of Excel (Excel 2010 and later) and supports both the `.xlsx` and `.xlsm` file formats."
   ]
  },
  {
   "cell_type": "markdown",
   "id": "92486b55",
   "metadata": {},
   "source": [
    "#### Reading Excel Files  \n",
    "\n",
    "To read an Excel file using `openpyxl`, you can use the `load_workbook()` function to load the `workbook`, and then use the `active` property or the `get_sheet_by_name()` method of the workbook to select a worksheet. Here's an example:"
   ]
  },
  {
   "cell_type": "markdown",
   "id": "5c2ae025",
   "metadata": {},
   "source": [
    "- create Workbook objects  \n",
    "    - `openpyxl.Workbook()`  \n",
    "    - `openpyxl.load_workbook('Excel.xlsx')`  \n",
    "- Select the active worksheet\n",
    "    - `worksheet_obj = workbook_obj.active`\n",
    "- Access the data of this worksheet\n",
    "    - Using `worksheet_obj[\"range\"]`  \n",
    "    - Using `cell(row, column)`      "
   ]
  },
  {
   "cell_type": "code",
   "execution_count": 6,
   "id": "81b73331",
   "metadata": {},
   "outputs": [
    {
     "name": "stdout",
     "output_type": "stream",
     "text": [
      "ID\n",
      "1\n",
      "2\n",
      "3\n"
     ]
    }
   ],
   "source": [
    "import openpyxl\n",
    "\n",
    "# Load the workbook\n",
    "workbook = openpyxl.load_workbook('example.xlsx')\n",
    "\n",
    "# Select the active worksheet\n",
    "worksheet = workbook.active\n",
    "\n",
    "# Print the values in the first column of the worksheet\n",
    "for cell in worksheet['A']:\n",
    "    print(cell.value)"
   ]
  },
  {
   "cell_type": "code",
   "execution_count": 7,
   "id": "603f1955",
   "metadata": {},
   "outputs": [
    {
     "name": "stdout",
     "output_type": "stream",
     "text": [
      "Name\n",
      "Bob\n",
      "Jack\n",
      "Rose\n"
     ]
    }
   ],
   "source": [
    "for cell in worksheet['B']:\n",
    "    print(cell.value)"
   ]
  },
  {
   "cell_type": "code",
   "execution_count": 8,
   "id": "ef93cd97",
   "metadata": {},
   "outputs": [
    {
     "name": "stdout",
     "output_type": "stream",
     "text": [
      "ID\n"
     ]
    }
   ],
   "source": [
    "cell_obj = worksheet.cell(row = 1, column = 1)\n",
    "print(cell_obj.value)"
   ]
  },
  {
   "cell_type": "markdown",
   "id": "22eb3b96",
   "metadata": {},
   "source": [
    "##### Read multiple lines or columns from an Excel file\n",
    "\n",
    "**Get max row/column**  \n",
    "- `worksheet_obj.max_row`  \n",
    "- `worksheet_obj.max_column`"
   ]
  },
  {
   "cell_type": "code",
   "execution_count": 9,
   "id": "576da227",
   "metadata": {},
   "outputs": [
    {
     "name": "stdout",
     "output_type": "stream",
     "text": [
      "The max row in this excel: 4\n",
      "The max column in this excel: 2\n"
     ]
    }
   ],
   "source": [
    "wb = openpyxl.load_workbook('example.xlsx')\n",
    "sht = wb.active\n",
    "max_row = sht.max_row\n",
    "max_column = sht.max_column\n",
    "print(f'The max row in this excel: {max_row}')\n",
    "print(f'The max column in this excel: {max_column}')"
   ]
  },
  {
   "cell_type": "code",
   "execution_count": 10,
   "id": "3704b3b9",
   "metadata": {},
   "outputs": [
    {
     "name": "stdout",
     "output_type": "stream",
     "text": [
      "ID\n",
      "1\n",
      "2\n",
      "3\n"
     ]
    }
   ],
   "source": [
    "# print value of first column\n",
    "for r in range(1, max_row+1):\n",
    "    cell_obj = sht.cell(row = r, column = 1)\n",
    "    print(cell_obj.value)"
   ]
  },
  {
   "cell_type": "code",
   "execution_count": 11,
   "id": "984ab007",
   "metadata": {},
   "outputs": [
    {
     "name": "stdout",
     "output_type": "stream",
     "text": [
      "1\n",
      "Bob\n"
     ]
    }
   ],
   "source": [
    "# print value of 2nd row\n",
    "for c in range(1, max_column+1):\n",
    "    cell_obj = sht.cell(row = 2, column = c)\n",
    "    print(cell_obj.value)"
   ]
  },
  {
   "cell_type": "markdown",
   "id": "e825042b",
   "metadata": {},
   "source": [
    "##### Using worksheet_obj.iter_rows() or worksheet_obj.iter_cols()\n",
    "- worksheet_obj.iter_rows(values_only=True)  \n",
    "- worksheet_obj.iter_cols(values_only=True)"
   ]
  },
  {
   "cell_type": "code",
   "execution_count": 12,
   "id": "c0428d64",
   "metadata": {},
   "outputs": [
    {
     "name": "stdout",
     "output_type": "stream",
     "text": [
      "['ID', 'Name']\n",
      "[1, 'Bob']\n",
      "[2, 'Jack']\n",
      "[3, 'Rose']\n"
     ]
    }
   ],
   "source": [
    "for row in sht.iter_rows(values_only=True):\n",
    "    print(list(row))"
   ]
  },
  {
   "cell_type": "code",
   "execution_count": 13,
   "id": "588728e8",
   "metadata": {},
   "outputs": [
    {
     "name": "stdout",
     "output_type": "stream",
     "text": [
      "['ID', 1, 2, 3]\n",
      "['Name', 'Bob', 'Jack', 'Rose']\n"
     ]
    }
   ],
   "source": [
    "for col in sht.iter_cols(values_only=True):\n",
    "    print(list(col))"
   ]
  },
  {
   "cell_type": "code",
   "execution_count": 14,
   "id": "10bd1d24",
   "metadata": {},
   "outputs": [
    {
     "name": "stdout",
     "output_type": "stream",
     "text": [
      "ID\n",
      "Name\n",
      "1\n",
      "Bob\n",
      "2\n",
      "Jack\n",
      "3\n",
      "Rose\n"
     ]
    }
   ],
   "source": [
    "# Load the workbook and select the worksheet\n",
    "workbook = openpyxl.load_workbook('example.xlsx')\n",
    "worksheet = workbook.active\n",
    "\n",
    "# Iterate over all rows in the worksheet\n",
    "for row in worksheet.iter_rows():\n",
    "    # Iterate over all cells in the row\n",
    "    for cell in row:\n",
    "        # Print the value of the cell\n",
    "        print(cell.value)\n"
   ]
  },
  {
   "cell_type": "markdown",
   "id": "b064f239",
   "metadata": {},
   "source": [
    "#### Writing Excel Files\n",
    "\n",
    "To write data to an Excel file using openpyxl, you can use the various classes and methods provided by the package to create and modify cells, worksheets, and workbooks. Here's an example:"
   ]
  },
  {
   "cell_type": "markdown",
   "id": "d11ca4a6",
   "metadata": {},
   "source": [
    "#### option 1:"
   ]
  },
  {
   "cell_type": "code",
   "execution_count": 15,
   "id": "cf1c335c",
   "metadata": {},
   "outputs": [],
   "source": [
    "import openpyxl\n",
    "\n",
    "# Create a new workbook\n",
    "workbook = openpyxl.Workbook()\n",
    "\n",
    "# Select the active worksheet\n",
    "worksheet = workbook.active\n",
    "\n",
    "# Write data to cells in the worksheet\n",
    "worksheet['A1'] = 'Name'\n",
    "worksheet['B1'] = 'Age'\n",
    "worksheet['C1'] = 'Email'\n",
    "\n",
    "worksheet['A2'] = 'Alice'\n",
    "worksheet['B2'] = 25\n",
    "worksheet['C2'] = 'alice@example.com'\n",
    "\n",
    "worksheet['A3'] = 'Bob'\n",
    "worksheet['B3'] = 30\n",
    "worksheet['C3'] = 'bob@example.com'\n",
    "\n",
    "# Save the workbook\n",
    "workbook.save('output.xlsx')\n"
   ]
  },
  {
   "cell_type": "markdown",
   "id": "b0417f14",
   "metadata": {},
   "source": [
    "#### option 2:"
   ]
  },
  {
   "cell_type": "code",
   "execution_count": 16,
   "id": "157a8ca8",
   "metadata": {},
   "outputs": [],
   "source": [
    "import openpyxl\n",
    "\n",
    "# Create a new workbook\n",
    "workbook = openpyxl.Workbook()\n",
    "\n",
    "# Select the active worksheet\n",
    "worksheet = workbook.active\n",
    "\n",
    "# Write data to cells in the worksheet\n",
    "worksheet.cell(row = 1, column = 1).value = 'Name'\n",
    "worksheet.cell(row = 1, column = 2).value = 'Age'\n",
    "worksheet.cell(row = 1, column = 3).value = 'Email'\n",
    "\n",
    "worksheet.cell(row = 2, column = 1).value = 'Alice'\n",
    "worksheet.cell(row = 2, column = 2).value = 25\n",
    "worksheet.cell(row = 2, column = 3).value = 'alice@example.com'\n",
    "\n",
    "worksheet.cell(row = 3, column = 1).value = 'Bob'\n",
    "worksheet.cell(row = 3, column = 2).value = 30\n",
    "worksheet.cell(row = 3, column = 3).value = 'bob@example.com'\n",
    "\n",
    "# Save the workbook\n",
    "workbook.save('output.xlsx')"
   ]
  },
  {
   "cell_type": "markdown",
   "id": "d8f7a073",
   "metadata": {},
   "source": [
    "#### option 3:"
   ]
  },
  {
   "cell_type": "code",
   "execution_count": 17,
   "id": "772ab22e",
   "metadata": {},
   "outputs": [],
   "source": [
    "dat = [['Name','Age','Email'],['Alice',25,'alice@example.com'],['Bob',30,'bob@example.com']]\n",
    "\n",
    "import openpyxl\n",
    "\n",
    "# Create a new workbook\n",
    "workbook = openpyxl.Workbook()\n",
    "\n",
    "# Select the active worksheet\n",
    "worksheet = workbook.active\n",
    "\n",
    "for r_idx, row in enumerate(dat): \n",
    "    for c_idx, val in enumerate(row):\n",
    "        cell_obj = worksheet.cell(row = r_idx+1, column = c_idx+1)\n",
    "        cell_obj.value = val\n",
    "\n",
    "# Save the workbook\n",
    "workbook.save('output.xlsx')"
   ]
  },
  {
   "cell_type": "markdown",
   "id": "3fc178ab",
   "metadata": {},
   "source": [
    "#### Apend data to existing Excel file"
   ]
  },
  {
   "cell_type": "code",
   "execution_count": 18,
   "id": "744a22fd",
   "metadata": {},
   "outputs": [],
   "source": [
    "import openpyxl\n",
    "\n",
    "# Load the workbook\n",
    "workbook = openpyxl.load_workbook('output.xlsx')\n",
    "\n",
    "# Select the active worksheet\n",
    "worksheet = workbook.active\n",
    "\n",
    "# Append a new row to the worksheet\n",
    "worksheet.append(['Mike', 22, 'mike@example.com'])\n",
    "\n",
    "# Save the updated workbook\n",
    "workbook.save('output.xlsx')"
   ]
  },
  {
   "cell_type": "markdown",
   "id": "be14a191",
   "metadata": {},
   "source": [
    "### Exercise:"
   ]
  },
  {
   "cell_type": "markdown",
   "id": "c8169481",
   "metadata": {},
   "source": [
    "Write a python code to copy the data from the 'sample.csv' file a new Excel file, named 'iris.xlsx'. Note that only copy the data where 'Species' is 'setosa'. "
   ]
  },
  {
   "cell_type": "code",
   "execution_count": 1,
   "id": "06e637f7",
   "metadata": {},
   "outputs": [],
   "source": [
    "import csv\n",
    "import openpyxl\n",
    "\n",
    "# write your code here\n",
    "# write your code here\n",
    "# write your code here"
   ]
  }
 ],
 "metadata": {
  "kernelspec": {
   "display_name": "Python 3 (ipykernel)",
   "language": "python",
   "name": "python3"
  },
  "language_info": {
   "codemirror_mode": {
    "name": "ipython",
    "version": 3
   },
   "file_extension": ".py",
   "mimetype": "text/x-python",
   "name": "python",
   "nbconvert_exporter": "python",
   "pygments_lexer": "ipython3",
   "version": "3.9.12"
  }
 },
 "nbformat": 4,
 "nbformat_minor": 5
}
