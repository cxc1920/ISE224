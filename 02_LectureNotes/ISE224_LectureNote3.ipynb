{
 "cells": [
  {
   "cell_type": "markdown",
   "id": "27c869ac",
   "metadata": {},
   "source": [
    "# ISE224: Decision Structures and Boolean Logic\n",
    "---\n",
    "- The `if` statement  \n",
    "- The `if-else` statement\n",
    "- Comparing Strings \n",
    "- Nested Decision Structures and the `if-elif-else` statement  \n",
    "- Logical Operators & Boolean Variables \n",
    "---"
   ]
  },
  {
   "cell_type": "markdown",
   "id": "58293538",
   "metadata": {},
   "source": [
    "### The `if` Statement\n",
    "\n",
    "**Concept:**  \n",
    "**The `if` statement is used to create a decision structure, which allows a program to have more than one path of execution. The `if` statement causes one or more statements to execute only when a Boolean expression is true**"
   ]
  },
  {
   "cell_type": "markdown",
   "id": "05e20a63",
   "metadata": {},
   "source": [
    "#### Operators:\n",
    "\n",
    "| operator |  Meaning                 |\n",
    "|----------|--------------------------|\n",
    "| >        | Grater than              |\n",
    "| <        | Less than                |\n",
    "| >=       | Greater than or equal to |\n",
    "| <=       | Less than or equal to    |\n",
    "| ==       | Equal to                 |\n",
    "| !=       | Not equal to             |\n"
   ]
  },
  {
   "cell_type": "code",
   "execution_count": 1,
   "id": "983d7776",
   "metadata": {},
   "outputs": [],
   "source": [
    "# example:\n",
    "x=1\n",
    "y=0\n",
    "z=1"
   ]
  },
  {
   "cell_type": "code",
   "execution_count": 2,
   "id": "5fc7562d",
   "metadata": {},
   "outputs": [
    {
     "data": {
      "text/plain": [
       "True"
      ]
     },
     "execution_count": 2,
     "metadata": {},
     "output_type": "execute_result"
    }
   ],
   "source": [
    "# > operator\n",
    "x>y"
   ]
  },
  {
   "cell_type": "code",
   "execution_count": 3,
   "id": "dfbfe19f",
   "metadata": {},
   "outputs": [
    {
     "data": {
      "text/plain": [
       "False"
      ]
     },
     "execution_count": 3,
     "metadata": {},
     "output_type": "execute_result"
    }
   ],
   "source": [
    "# < operator\n",
    "x<y"
   ]
  },
  {
   "cell_type": "code",
   "execution_count": 4,
   "id": "3a25edf6",
   "metadata": {},
   "outputs": [
    {
     "data": {
      "text/plain": [
       "True"
      ]
     },
     "execution_count": 4,
     "metadata": {},
     "output_type": "execute_result"
    }
   ],
   "source": [
    "# >= , <= operator\n",
    "x>=y"
   ]
  },
  {
   "cell_type": "code",
   "execution_count": 5,
   "id": "1af05211",
   "metadata": {},
   "outputs": [
    {
     "data": {
      "text/plain": [
       "True"
      ]
     },
     "execution_count": 5,
     "metadata": {},
     "output_type": "execute_result"
    }
   ],
   "source": [
    "x>=z"
   ]
  },
  {
   "cell_type": "code",
   "execution_count": 6,
   "id": "a0352f90",
   "metadata": {},
   "outputs": [
    {
     "data": {
      "text/plain": [
       "False"
      ]
     },
     "execution_count": 6,
     "metadata": {},
     "output_type": "execute_result"
    }
   ],
   "source": [
    "x<=y"
   ]
  },
  {
   "cell_type": "code",
   "execution_count": 7,
   "id": "fc5132df",
   "metadata": {},
   "outputs": [
    {
     "data": {
      "text/plain": [
       "True"
      ]
     },
     "execution_count": 7,
     "metadata": {},
     "output_type": "execute_result"
    }
   ],
   "source": [
    "x<=z"
   ]
  },
  {
   "cell_type": "code",
   "execution_count": 8,
   "id": "9fdecd41",
   "metadata": {},
   "outputs": [
    {
     "data": {
      "text/plain": [
       "False"
      ]
     },
     "execution_count": 8,
     "metadata": {},
     "output_type": "execute_result"
    }
   ],
   "source": [
    "# == operator\n",
    "x==y # single = is used to assign value"
   ]
  },
  {
   "cell_type": "code",
   "execution_count": 9,
   "id": "be5db41c",
   "metadata": {},
   "outputs": [
    {
     "data": {
      "text/plain": [
       "True"
      ]
     },
     "execution_count": 9,
     "metadata": {},
     "output_type": "execute_result"
    }
   ],
   "source": [
    "x==z"
   ]
  },
  {
   "cell_type": "code",
   "execution_count": 10,
   "id": "c02fad47",
   "metadata": {},
   "outputs": [
    {
     "data": {
      "text/plain": [
       "True"
      ]
     },
     "execution_count": 10,
     "metadata": {},
     "output_type": "execute_result"
    }
   ],
   "source": [
    "# != operator\n",
    "x!=y"
   ]
  },
  {
   "cell_type": "code",
   "execution_count": 11,
   "id": "6904616c",
   "metadata": {},
   "outputs": [
    {
     "data": {
      "text/plain": [
       "False"
      ]
     },
     "execution_count": 11,
     "metadata": {},
     "output_type": "execute_result"
    }
   ],
   "source": [
    "x!=z"
   ]
  },
  {
   "cell_type": "markdown",
   "id": "ef00a844",
   "metadata": {},
   "source": [
    "### `if`"
   ]
  },
  {
   "cell_type": "markdown",
   "id": "1d282ccb",
   "metadata": {},
   "source": [
    "#### syntax:\n",
    "if condition:  \n",
    ">statement  \n",
    ">statement  \n",
    ">etc.  "
   ]
  },
  {
   "cell_type": "code",
   "execution_count": 12,
   "id": "bc224aa0",
   "metadata": {},
   "outputs": [
    {
     "name": "stdout",
     "output_type": "stream",
     "text": [
      "Enter the sales: 450000\n",
      "The bonus is 0\n"
     ]
    }
   ],
   "source": [
    "# Example.\n",
    "sales = float(input(\"Enter the sales: \"))\n",
    "bonus = 0\n",
    "if sales > 500000:\n",
    "    bonus = 500.0\n",
    "print(f'The bonus is {bonus}')"
   ]
  },
  {
   "cell_type": "code",
   "execution_count": 13,
   "id": "1829a72b",
   "metadata": {},
   "outputs": [
    {
     "name": "stdout",
     "output_type": "stream",
     "text": [
      "Enter the sales: 500500\n",
      "The bonus is 500.0\n"
     ]
    }
   ],
   "source": [
    "# Example.\n",
    "sales = float(input(\"Enter the sales: \"))\n",
    "bonus = 0\n",
    "if sales > 500000:\n",
    "    bonus = 500.0\n",
    "print(f'The bonus is {bonus}')"
   ]
  },
  {
   "cell_type": "code",
   "execution_count": 14,
   "id": "11b418b8",
   "metadata": {},
   "outputs": [
    {
     "name": "stdout",
     "output_type": "stream",
     "text": [
      "Enter the sales: 500500\n",
      "The bonus is 500.0, and the commisson rate is 0.12.\n"
     ]
    }
   ],
   "source": [
    "# Example.\n",
    "sales = float(input(\"Enter the sales: \"))\n",
    "bonus = 0\n",
    "commission_rate = 0.\n",
    "if sales > 500000:\n",
    "    bonus = 500.0\n",
    "    commission_rate = 0.12\n",
    "\n",
    "print(f'The bonus is {bonus}, and the commisson rate is {commission_rate}.')"
   ]
  },
  {
   "cell_type": "markdown",
   "id": "dab51acb",
   "metadata": {},
   "source": [
    "---  \n",
    "#### [Exercise]: Using the `if` statment\n",
    "Kathryn teaches a science class and her students are required to take three tests. She wants to write a program that her students can use to calculate their average test score. She also wants the program to congratulate the student enthusiastically if the average is greater than 95. Here is the algorithm in pseudocode:\n",
    "\n",
    "Get the first test score  \n",
    "Get the second test score  \n",
    "Get the third test score  \n",
    "Calculate the average  \n",
    "Display the average  \n",
    "If the average is greater than 95:  \n",
    ">Congratulate the user  \n",
    "\n",
    "---"
   ]
  },
  {
   "cell_type": "code",
   "execution_count": 2,
   "id": "2acf45f1",
   "metadata": {},
   "outputs": [
    {
     "name": "stdout",
     "output_type": "stream",
     "text": [
      "Enter the score for test 1: 80\n",
      "Enter the score for test 2: 100\n",
      "Enter the score for test 3: 90\n",
      "The average is 90.0.\n"
     ]
    }
   ],
   "source": [
    "# Program 3-1\n",
    "# This program gets three test scores and displays\n",
    "# their average.  It congratulates the user if the\n",
    "# average is a high score.\n",
    "\n",
    "# The high score variable holds the value that is\n",
    "# considered a high score.\n",
    "high_score = 95\n",
    " \n",
    "# Get the three test scores.\n",
    "test1 = int(input(\"Enter the score for test 1: \"))\n",
    "test2 = int(input(\"Enter the score for test 2: \"))\n",
    "test3 = int(input(\"Enter the score for test 3: \"))\n",
    "\n",
    "# Calculate the average test score.\n",
    "average = (test1 + test2 + test3)/3\n",
    "\n",
    "# Print the average.\n",
    "print(f'The average is {average}.')\n",
    "\n",
    "# If the average is a high score,\n",
    "# congratulate the user.\n",
    "if average >= high_score:\n",
    "    print('Congratulation!')\n",
    "    print('That is a great average!')"
   ]
  },
  {
   "cell_type": "markdown",
   "id": "b094c000",
   "metadata": {},
   "source": [
    "### The `if-else` Statement"
   ]
  },
  {
   "cell_type": "markdown",
   "id": "f88db34a",
   "metadata": {},
   "source": [
    "---\n",
    "\n",
    "#### syntax:  \n",
    "\n",
    "**`if condition:`**  \n",
    ">statement  \n",
    ">statement  \n",
    ">etc.  \n",
    "\n",
    "**`else:`**  \n",
    ">statement  \n",
    ">statement  \n",
    ">etc.  \n",
    "\n",
    "---"
   ]
  },
  {
   "cell_type": "code",
   "execution_count": 16,
   "id": "baa490eb",
   "metadata": {},
   "outputs": [
    {
     "name": "stdout",
     "output_type": "stream",
     "text": [
      "Temperature: 75\n",
      "Nice weather we're having.\n"
     ]
    }
   ],
   "source": [
    "# Example. Temperature\n",
    "temperature = float(input(\"Temperature: \"))\n",
    "if temperature < 40:\n",
    "    print(\"A little cold, isn't it?\")\n",
    "else:\n",
    "    print(\"Nice weather we're having.\")"
   ]
  },
  {
   "cell_type": "markdown",
   "id": "e5d198cd",
   "metadata": {},
   "source": [
    "---  \n",
    "#### [Exercise]. Using the `if-else` statement\n",
    "Chris owns an auto repair business and has several employees. If any employee works over 40 hours in a week, he pays them 1.5 times their regular hourly pay ratefor all hours over 40. He has asked you to design a simple payroll program that calculates an employee's gross pay, including any overtime wages. You design the following algorithm:\n",
    "\n",
    "Get the number of hours worked.  \n",
    "Get the hourly pay rate.   \n",
    "if the employee worked more than 40 hours:\n",
    "> Calculate and display the gross pay with overtime   \n",
    "\n",
    "Else: \n",
    "> Calculate and display the gross pay as usual  \n",
    "\n",
    "---"
   ]
  },
  {
   "cell_type": "code",
   "execution_count": 17,
   "id": "5d7f5098",
   "metadata": {},
   "outputs": [],
   "source": [
    "# Program 3-2\n",
    "# Variables to represent the base hours and\n",
    "# the overtime multiplier.\n",
    "base_hours = 40       # Base hours per week\n",
    "ot_multiplier = 1.5   # Overtime multiplier\n",
    "\n",
    "# Get the hours worked and the hourly pay rate.\n",
    "\n",
    "\n",
    "# Calculate and display the gross pay.\n",
    "#if hours > base_hours:\n",
    "    # Calculate the gross pay with overtime.\n",
    "    # First, get the number of overtime hours worked.\n",
    "    \n",
    "\n",
    "    # Calculate the amount of overtime pay.\n",
    "    \n",
    "\n",
    "    # Calculate the gross pay.\n",
    "   \n",
    "#else:\n",
    "    # Calculate the gross pay without overtime.\n",
    "    \n",
    "\n",
    "# Display the gross pay.\n"
   ]
  },
  {
   "cell_type": "markdown",
   "id": "032c021c",
   "metadata": {},
   "source": [
    "### Comparing Strings  \n",
    "\n",
    "**Concept: Python allows you to compare strings. This allows you to create decision structures that test the value of a string**"
   ]
  },
  {
   "cell_type": "code",
   "execution_count": 18,
   "id": "fb9be956",
   "metadata": {},
   "outputs": [
    {
     "name": "stdout",
     "output_type": "stream",
     "text": [
      "The names are NOT the same.\n"
     ]
    }
   ],
   "source": [
    "# Example.\n",
    "name1 = \"Mary\"\n",
    "name2 = \"Mark\"\n",
    "if name1 == name2:\n",
    "    print('The names are the same.')\n",
    "else:\n",
    "    print('The names are NOT the same.')"
   ]
  },
  {
   "cell_type": "code",
   "execution_count": 19,
   "id": "fdab3d8e",
   "metadata": {},
   "outputs": [
    {
     "name": "stdout",
     "output_type": "stream",
     "text": [
      "Month:February\n",
      "This is the wrong time for Octoberfest!\n"
     ]
    }
   ],
   "source": [
    "# Example.\n",
    "month = input(\"Month:\")\n",
    "if month != 'October':\n",
    "    print('This is the wrong time for Octoberfest!')"
   ]
  },
  {
   "cell_type": "markdown",
   "id": "8ea82f08",
   "metadata": {},
   "source": [
    "---  \n",
    "#### [Exercise]. checking password\n",
    "\n",
    "The password is `prospero`\n",
    "Write a program to check if the use input the correct password.   \n",
    "---"
   ]
  },
  {
   "cell_type": "code",
   "execution_count": 20,
   "id": "899f4e74",
   "metadata": {},
   "outputs": [
    {
     "name": "stdout",
     "output_type": "stream",
     "text": [
      "Enter the password: \n"
     ]
    }
   ],
   "source": [
    "# Program 3-3\n",
    "# This program compares two strings.\n",
    "# Get a password from the user.\n",
    "password = input('Enter the password: ')\n",
    "\n",
    "# Determine whether the correct password\n",
    "# was entered.\n"
   ]
  },
  {
   "cell_type": "code",
   "execution_count": 21,
   "id": "df063702",
   "metadata": {},
   "outputs": [
    {
     "name": "stdout",
     "output_type": "stream",
     "text": [
      "Enter name1:Mary\n",
      "Enter name2:Mark\n",
      "The Mary is greater than Mark in terms of ASCII code.\n"
     ]
    }
   ],
   "source": [
    "# Example.\n",
    "name1 = input(\"Enter name1:\") # \"Mary\"\n",
    "name2 = input(\"Enter name2:\") # \"Mark\"\n",
    "if name1 > name2:\n",
    "    print(f'The {name1} is greater than {name2} in terms of ASCII code.')\n",
    "else:\n",
    "    print(f'The {name1} is NOT greater than {name2} in terms of ASCII code.')"
   ]
  },
  {
   "cell_type": "code",
   "execution_count": 22,
   "id": "ffa50f81",
   "metadata": {},
   "outputs": [
    {
     "name": "stdout",
     "output_type": "stream",
     "text": [
      "Enter name1:May\n",
      "Enter name2:Mark\n",
      "The May is greater than Mark in terms of ASCII code.\n"
     ]
    }
   ],
   "source": [
    "# Example.\n",
    "name1 = input(\"Enter name1:\") # \"May\"\n",
    "name2 = input(\"Enter name2:\") # \"Mark\"\n",
    "if name1 > name2:\n",
    "    print(f'The {name1} is greater than {name2} in terms of ASCII code.')\n",
    "else:\n",
    "    print(f'The {name1} is NOT greater than {name2} in terms of ASCII code.')"
   ]
  },
  {
   "cell_type": "markdown",
   "id": "fc395bfa",
   "metadata": {},
   "source": [
    "---   \n",
    "#### [Example]. sort name  \n",
    "The user is prompted to enter two names, and the program displays those two names in alphabetical order.\n",
    "\n",
    "---"
   ]
  },
  {
   "cell_type": "code",
   "execution_count": 23,
   "id": "d3df3de6",
   "metadata": {},
   "outputs": [
    {
     "name": "stdout",
     "output_type": "stream",
     "text": [
      "Enter a name (last name first): Jones, Richard\n",
      "Enter another name (last name first): Costa, Joan\n",
      "Here are the names, listed alphabetically.\n"
     ]
    }
   ],
   "source": [
    "# Program 3-4\n",
    "# This program compare strings with the < operator.\n",
    "# Get two names from the user.\n",
    "name1 = input('Enter a name (last name first): ')\n",
    "name2 = input('Enter another name (last name first): ')\n",
    "    \n",
    "# Display the names in alphabetical order.\n",
    "print('Here are the names, listed alphabetically.')\n",
    "\n",
    "# if name1 < name2:\n",
    "    #print()\n",
    "    #print()\n",
    "# else:\n",
    "    #print()\n",
    "    #print()"
   ]
  },
  {
   "cell_type": "markdown",
   "id": "4bcf2e03",
   "metadata": {},
   "source": [
    "---\n",
    "\n",
    "#### List\n",
    "\n",
    "A list in Python is an ordered collection of elements, which can be of different types (integer, float, string, etc.). Lists are defined using square brackets `[]` and the elements are separated by commas."
   ]
  },
  {
   "cell_type": "code",
   "execution_count": 2,
   "id": "43fedb02",
   "metadata": {},
   "outputs": [
    {
     "name": "stdout",
     "output_type": "stream",
     "text": [
      "[4, 2, 5, 1, 3]\n",
      "['John', 'Jane', 'Jim', 'Joan']\n",
      "[1, 'apple', 3.14, 'dog']\n"
     ]
    }
   ],
   "source": [
    "#### Examples of list.\n",
    "\n",
    "# list of integers\n",
    "numbers = [4, 2, 5, 1, 3]\n",
    "print(numbers)\n",
    "\n",
    "# list of strings\n",
    "names = ['John', 'Jane', 'Jim', 'Joan', 'Bob']\n",
    "print(names)\n",
    "\n",
    "# list of mixed types\n",
    "mixed = [1, 'apple', 3.14, 'dog']\n",
    "print(mixed)"
   ]
  },
  {
   "cell_type": "markdown",
   "id": "3ec0f60f",
   "metadata": {},
   "source": [
    "---  \n",
    "To access an element in a list, you can use square brackets [] and the index of the element you want to retrieve. \n",
    "\n",
    "The first element in a list has an index of **0**, the second element has an index of **1**, and so on."
   ]
  },
  {
   "cell_type": "code",
   "execution_count": 7,
   "id": "b08aef94",
   "metadata": {},
   "outputs": [
    {
     "name": "stdout",
     "output_type": "stream",
     "text": [
      "apple\n",
      "banana\n",
      "cherry\n"
     ]
    }
   ],
   "source": [
    "#### Example. call the elements in a list \n",
    "fruits = ['apple', 'banana', 'cherry']\n",
    "print(fruits[0]) # Output: 'apple'\n",
    "print(fruits[1]) # Output: 'banana'\n",
    "print(fruits[2]) # Output: 'cherry'"
   ]
  },
  {
   "cell_type": "code",
   "execution_count": 9,
   "id": "7c0db9c2",
   "metadata": {},
   "outputs": [
    {
     "name": "stdout",
     "output_type": "stream",
     "text": [
      "330\n",
      "224\n"
     ]
    }
   ],
   "source": [
    "#### Example. call the elements in a list \n",
    "numbers = [330, 712, 312, 224]\n",
    "print(numbers[0]) # Output: 330\n",
    "print(numbers[3]) # Output: 224"
   ]
  },
  {
   "cell_type": "code",
   "execution_count": 5,
   "id": "c5e351b0",
   "metadata": {},
   "outputs": [
    {
     "name": "stdout",
     "output_type": "stream",
     "text": [
      "[1, 2, 3, 4, 5]\n",
      "['Bob', 'Jane', 'Jim', 'Joan', 'John']\n"
     ]
    }
   ],
   "source": [
    "# sort of list\n",
    "numbers = [4, 2, 5, 1, 3]\n",
    "numbers.sort()\n",
    "print(numbers)\n",
    "\n",
    "names = ['John', 'Jane', 'Jim', 'Joan', 'Bob']\n",
    "names.sort()\n",
    "print(names)"
   ]
  },
  {
   "cell_type": "code",
   "execution_count": 6,
   "id": "b9d2bbe9",
   "metadata": {},
   "outputs": [
    {
     "ename": "TypeError",
     "evalue": "'<' not supported between instances of 'str' and 'int'",
     "output_type": "error",
     "traceback": [
      "\u001b[1;31m---------------------------------------------------------------------------\u001b[0m",
      "\u001b[1;31mTypeError\u001b[0m                                 Traceback (most recent call last)",
      "Cell \u001b[1;32mIn [6], line 2\u001b[0m\n\u001b[0;32m      1\u001b[0m mixed \u001b[38;5;241m=\u001b[39m [\u001b[38;5;241m1\u001b[39m, \u001b[38;5;124m'\u001b[39m\u001b[38;5;124mapple\u001b[39m\u001b[38;5;124m'\u001b[39m, \u001b[38;5;241m3.14\u001b[39m, \u001b[38;5;124m'\u001b[39m\u001b[38;5;124mdog\u001b[39m\u001b[38;5;124m'\u001b[39m]\n\u001b[1;32m----> 2\u001b[0m \u001b[43mmixed\u001b[49m\u001b[38;5;241;43m.\u001b[39;49m\u001b[43msort\u001b[49m\u001b[43m(\u001b[49m\u001b[43m)\u001b[49m\n\u001b[0;32m      3\u001b[0m \u001b[38;5;28mprint\u001b[39m(mixed)\n",
      "\u001b[1;31mTypeError\u001b[0m: '<' not supported between instances of 'str' and 'int'"
     ]
    }
   ],
   "source": [
    "mixed = [1, 'apple', 3.14, 'dog']\n",
    "mixed.sort()\n",
    "print(mixed)"
   ]
  },
  {
   "cell_type": "markdown",
   "id": "591f3c1a",
   "metadata": {},
   "source": [
    "### Nested Decision Structures and the `if-elif-else` Statement  \n",
    "**Concept: To test more than one condition, a decision structure can be nested inside another decision structure.**\n",
    "\n",
    "---   \n",
    "#### syntax:  \n",
    "\n",
    "**`if` condition1`:`**  \n",
    "> statement  \n",
    "> statement  \n",
    "> etc.  \n",
    "\n",
    "**`elif` condition2`:`**\n",
    "> statement  \n",
    "> statement  \n",
    "> etc.  \n",
    "\n",
    "**`else:`**\n",
    "> statement  \n",
    "> statement  \n",
    "> etc.  \n",
    "\n",
    "---"
   ]
  },
  {
   "cell_type": "markdown",
   "id": "9ca4b959",
   "metadata": {},
   "source": [
    "---   \n",
    "#### [Exercise]. Consider a program that determines whether a bank customer qualifies for a loan.  \n",
    "To qualify,two condistions must exit:  \n",
    "1. _the customer must earn at least $30,000 per year, and_  \n",
    "2. _the customer must have been employed for at least two years._ \n",
    "\n",
    "LectureNote#3 p. 18 shows a flowchart for an algorithm that could be used in such a program.  \n",
    "\n",
    "Assume the `salary` variable is assigned the customer's annual salary, and the `years_on_job` variable is assigned the number of years that the customer has worked on his or her current job.\n",
    "\n",
    "---"
   ]
  },
  {
   "cell_type": "code",
   "execution_count": 24,
   "id": "7393e426",
   "metadata": {},
   "outputs": [],
   "source": [
    "# Program 3-5\n",
    "# This program determines whether a bank customer\n",
    "# qualifies for a loan.\n",
    "\n",
    "MIN_SALARY = 30000.0  # The minimum annual salary\n",
    "MIN_YEARS = 2         # The minimum years on the job\n",
    "\n",
    "# Get the customer's annual salary.\n",
    " \n",
    "\n",
    "# Get the number of years on the current job.\n",
    "\n",
    "\n",
    "# Determine whether the customer qualifies.  \n"
   ]
  },
  {
   "cell_type": "code",
   "execution_count": 25,
   "id": "d7293758",
   "metadata": {},
   "outputs": [
    {
     "name": "stdout",
     "output_type": "stream",
     "text": [
      "Enter your annual salary:35000\n",
      "Enter the number of years employed:5\n",
      "You qualify for the loan.\n"
     ]
    }
   ],
   "source": [
    "# Example. Nested blocks\n",
    "salary = float(input('Enter your annual salary:'))\n",
    "years_on_job = int(input('Enter the number of years employed:'))\n",
    "MIN_SALARY = 30000.0  # The minimum annual salary\n",
    "MIN_YEARS = 2         # The minimum years on the job \n",
    "\n",
    "if salary >= MIN_SALARY:\n",
    "    if years_on_job >= MIN_YEARS:\n",
    "        print('You qualify for the loan.')\n",
    "    else:\n",
    "        print(f'You must have been employed '\n",
    "             f'for at least {MIN_YEARS} '\n",
    "             f'years to qualify.')\n",
    "else:\n",
    "    print(f'You must earn at least $'\n",
    "         f'{MIN_SALARY:,.2f} '\n",
    "         f'per year to qualify')"
   ]
  },
  {
   "cell_type": "markdown",
   "id": "866796d0",
   "metadata": {},
   "source": [
    "---  \n",
    "#### [Exercise]. Mutiple Nested Decision Structures   \n",
    "\n",
    "Dr. Suarez teaches a literature class and uses the follwoing 10-point grading scale for all of his exams:  \n",
    "\n",
    "|  Test Score  |  Grade  |\n",
    "|--------------|---------|\n",
    "|90 and above  |   A     |\n",
    "|80-89         |   B     |\n",
    "|70-79         |   C     |\n",
    "|60-69         |   D     |\n",
    "|Below 60      |   F     | \n",
    "\n",
    "He has asked you to write a program that will allow a student to enter a test score and then display the grade for that score. Here is the algorithm that you will use:  \n",
    "\n",
    "1. Ask the user to enter a test score.  \n",
    "2. Determine the grade in the following manner:   \n",
    "    \n",
    "    If the score is greater than or equal to 90, then the grade is A.\n",
    "       Else, if the score is greater than or equal to 80, then the grade is B.\n",
    "        Else, if the score is greater than or equal to 70, then the grade is C.\n",
    "         Else, if the score is greater than or equal to 60, then the grade is D.\n",
    "          Else, the grade is F.\n",
    "          \n",
    "You decide that the process of determining the grade will require several nested decision structures, as shown in LectureNote#3 p.22. \n",
    "\n",
    "---  "
   ]
  },
  {
   "cell_type": "code",
   "execution_count": 3,
   "id": "98837485",
   "metadata": {},
   "outputs": [
    {
     "name": "stdout",
     "output_type": "stream",
     "text": [
      "Enter your test score: 44\n",
      "Your grade is F\n"
     ]
    }
   ],
   "source": [
    "# Program 3-6\n",
    "# This program gets a numeric test score from the\n",
    "# user and displays the corresponding letter grade.\n",
    "\n",
    "# Variables to represent the grade thresholds\n",
    "A_score = 90\n",
    "B_score = 80\n",
    "C_score = 70\n",
    "D_score = 60\n",
    "\n",
    "# Get a test score from the user.\n",
    "score = int(input('Enter your test score: '))\n",
    " \n",
    "# Determine the grade.\n",
    "if score >= A_score:\n",
    "    print('Your grade is A.')\n",
    "elif score >= B_score:\n",
    "    print('Your grade is B.')\n",
    "elif score >= C_score:\n",
    "    print('Your grade is C.')\n",
    "elif score >= D_score:\n",
    "    print('Your grade is D.')\n",
    "else:\n",
    "    print('Your grade is F')"
   ]
  },
  {
   "cell_type": "markdown",
   "id": "9128e76a",
   "metadata": {},
   "source": [
    "---   \n",
    "### Logical Operators   \n",
    "**concept: The logical `and` operator and the logical `or` operator allow you to connect multiple Boolean expressions to create a compound expression. The logical `not` operator reverses the truth of a Boolean expression.**     \n",
    "\n",
    "---"
   ]
  },
  {
   "cell_type": "markdown",
   "id": "55ac0077",
   "metadata": {},
   "source": [
    "The Loan Qualifier Program Revisited \n",
    "In some situation the \"and\" operator can be used to simplify nested decision structures.\n",
    "For example, recall that the loan qualifier program in program 3-5 uses the following nested if-else statements:\n",
    "   \n",
    "if salary >= MIN_SALARY:  \n",
    ">if years_on_job >= MIN_YEARS:\n",
    ">>print('You qualify for the loan.')  \n",
    "\n",
    ">else:  \n",
    ">>print(f'You must have been employed '  \n",
    ">>      f'for at least {MIN_YEARS}'  \n",
    ">>      f'years to qualify.')  \n",
    "      \n",
    "else:\n",
    ">print(f'You must earn at least $ '  \n",
    ">      f'{MIN_SALARY:,.2f}'  \n",
    ">      f'per year to qualify.')  \n",
    "\n",
    "The purpose of this desicion structure is to determine that a person's salary is at least $30,000\n",
    "and that he or she has been at their current job for at least two years."
   ]
  },
  {
   "cell_type": "code",
   "execution_count": 28,
   "id": "09134495",
   "metadata": {},
   "outputs": [
    {
     "name": "stdout",
     "output_type": "stream",
     "text": [
      "Enter your annual salary: 35000\n",
      "Enter the number of years employed: 5\n"
     ]
    }
   ],
   "source": [
    "# Program 3-7.\n",
    "# This program determines whether a bank customer\n",
    "# qualifies for a loan.\n",
    "\n",
    "min_salary = 30000.0  # The minimum annual salary\n",
    "min_years = 2         # The minimum years on the job\n",
    "\n",
    "# Get the customer's annual salary.\n",
    "salary = float(input('Enter your annual salary: '))\n",
    "\n",
    "# Get the number of years on the current job.\n",
    "years_on_job = int(input('Enter the number of ' +\n",
    "                         'years employed: '))\n",
    "\n",
    "# Determine whether the customer qualifies.\n"
   ]
  },
  {
   "cell_type": "markdown",
   "id": "3efeb3c3",
   "metadata": {},
   "source": [
    "---   \n",
    "#### [Example]. Yet Another Loan Qualifier Program.   \n",
    "Suppose the bank is losing customer to a competing bank that is not as strict about to whom it loans money. In response, the bank decides to change its loan requirements. Now, **customers have to meet only one of the previous conditions, not both.**   \n",
    "\n",
    "Program 3-8 shows the code for the new loan qualifier program. The compound expression that is tested by the if-else statement using the 'or' operator.\n",
    "\n",
    "---  "
   ]
  },
  {
   "cell_type": "code",
   "execution_count": null,
   "id": "8f4d43c3",
   "metadata": {},
   "outputs": [],
   "source": [
    "# Program 3-8\n",
    "# This program determines whether a bank customer\n",
    "# qualifies for a loan.\n",
    "\n",
    "min_salary = 30000.0  # The minimum annual salary\n",
    "min_years = 2         # The minimum years on the job\n",
    "\n",
    "# Get the customer's annual salary.\n",
    "salary = float(input('Enter your annual salary: '))\n",
    "\n",
    "# Get the number of years on the current job.\n",
    "years_on_job = int(input('Enter the number of ' +\n",
    "                         'years employed: '))\n",
    "\n",
    "# Determine whether the customer qualifies."
   ]
  },
  {
   "cell_type": "markdown",
   "id": "c2df80f4",
   "metadata": {},
   "source": [
    "#### True or False\n",
    "\n",
    "|   Logical Expression-           |    Result (T or F)   |\n",
    "|---------------------------------|----------------------|\n",
    "| True  `and` False               |   T             F    |\n",
    "| True  `and` True                |   T             F    |\n",
    "| False `and` True                |   T             F    |\n",
    "| False `and` False               |   T             F    |\n",
    "| True  `or` False                |   T             F    |\n",
    "| True  `or` True                 |   T             F    |\n",
    "| False `or` True                 |   T             F    |\n",
    "| False `or` False                |   T             F    |\n",
    "| `not`  True                     |   T             F    |\n",
    "| `not`  False                    |   T             F    |"
   ]
  },
  {
   "cell_type": "markdown",
   "id": "fde57859",
   "metadata": {},
   "source": [
    "---   \n",
    "### Boolean Variable  \n",
    "**concept: A Boolean variable can be reference one of two values: `Ture` or `False`. Boolean variables are commonly used as flags, which indicate whether specific conditions exist.** \n",
    "\n",
    "---  "
   ]
  },
  {
   "cell_type": "code",
   "execution_count": 29,
   "id": "1622c9e6",
   "metadata": {},
   "outputs": [],
   "source": [
    "hungy = True\n",
    "sleep = False"
   ]
  },
  {
   "cell_type": "code",
   "execution_count": 30,
   "id": "39b09191",
   "metadata": {},
   "outputs": [
    {
     "data": {
      "text/plain": [
       "bool"
      ]
     },
     "execution_count": 30,
     "metadata": {},
     "output_type": "execute_result"
    }
   ],
   "source": [
    "type(hungy)"
   ]
  },
  {
   "cell_type": "code",
   "execution_count": 31,
   "id": "6ec41c5e",
   "metadata": {},
   "outputs": [
    {
     "data": {
      "text/plain": [
       "bool"
      ]
     },
     "execution_count": 31,
     "metadata": {},
     "output_type": "execute_result"
    }
   ],
   "source": [
    "type(sleep)"
   ]
  },
  {
   "cell_type": "code",
   "execution_count": 32,
   "id": "398b379d",
   "metadata": {},
   "outputs": [
    {
     "data": {
      "text/plain": [
       "2"
      ]
     },
     "execution_count": 32,
     "metadata": {},
     "output_type": "execute_result"
    }
   ],
   "source": [
    "int(hungy)+int(hungy)"
   ]
  },
  {
   "cell_type": "code",
   "execution_count": 33,
   "id": "cceacb47",
   "metadata": {},
   "outputs": [
    {
     "data": {
      "text/plain": [
       "1"
      ]
     },
     "execution_count": 33,
     "metadata": {},
     "output_type": "execute_result"
    }
   ],
   "source": [
    "int(hungy)+int(sleep)"
   ]
  }
 ],
 "metadata": {
  "kernelspec": {
   "display_name": "Python 3 (ipykernel)",
   "language": "python",
   "name": "python3"
  },
  "language_info": {
   "codemirror_mode": {
    "name": "ipython",
    "version": 3
   },
   "file_extension": ".py",
   "mimetype": "text/x-python",
   "name": "python",
   "nbconvert_exporter": "python",
   "pygments_lexer": "ipython3",
   "version": "3.11.5"
  }
 },
 "nbformat": 4,
 "nbformat_minor": 5
}
