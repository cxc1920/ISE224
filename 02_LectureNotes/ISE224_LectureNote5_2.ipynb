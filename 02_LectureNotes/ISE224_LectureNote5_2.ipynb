{
 "cells": [
  {
   "cell_type": "markdown",
   "id": "8e9d1705",
   "metadata": {},
   "source": [
    "# ISE224 LectureNote 5-1: Introduction to Functions (II)  \n",
    "---\n",
    "\n",
    "**topics**\n",
    "- gloabl variable\n",
    "- pass by value or pass by reference\n",
    "\n",
    "---"
   ]
  },
  {
   "cell_type": "markdown",
   "id": "6d945336",
   "metadata": {},
   "source": [
    "### What will happen?"
   ]
  },
  {
   "cell_type": "code",
   "execution_count": 1,
   "id": "e32a5643",
   "metadata": {},
   "outputs": [
    {
     "name": "stdout",
     "output_type": "stream",
     "text": [
      "100\n",
      "101\n"
     ]
    }
   ],
   "source": [
    "def add_one(num):\n",
    "    num += 1\n",
    "    return num\n",
    "    \n",
    "num2 = 100\n",
    "print(num2)\n",
    "print(add_one(num2))"
   ]
  },
  {
   "cell_type": "code",
   "execution_count": 2,
   "id": "340dadb1",
   "metadata": {},
   "outputs": [
    {
     "name": "stdout",
     "output_type": "stream",
     "text": [
      "100\n",
      "200\n"
     ]
    }
   ],
   "source": [
    "def add_one(num):\n",
    "    num = num + num2\n",
    "    return(num)\n",
    "\n",
    "num2 = 100\n",
    "print(num2)\n",
    "print(add_one(num2))"
   ]
  },
  {
   "cell_type": "markdown",
   "id": "f358a4fb",
   "metadata": {},
   "source": [
    "### What Is the Global Variable In Python?\n",
    "\n",
    "In the programming world, a `global variable` in Python means having a scope throughout the program, \n",
    "\n",
    "i.e., a global variable value is accessible throughout the program unless shadowed.  \n",
    "\n",
    "A `global variable` in Python is often declared as the `top` of the program. In other words, **variables that are declared outside of a function are known as global variables.**\n",
    "\n",
    "You can access global variables in Python both inside and outside the function.  "
   ]
  },
  {
   "cell_type": "code",
   "execution_count": 3,
   "id": "f0fcae21",
   "metadata": {},
   "outputs": [],
   "source": [
    "### Example 1.\n",
    "x = \"First Global Variable\"\n",
    "\n",
    "def myfunc():\n",
    "    print(\"Global Variable value:\", x)"
   ]
  },
  {
   "cell_type": "code",
   "execution_count": 4,
   "id": "ebe76ef0",
   "metadata": {},
   "outputs": [
    {
     "name": "stdout",
     "output_type": "stream",
     "text": [
      "Global Variable value: First Global Variable\n"
     ]
    }
   ],
   "source": [
    "myfunc()"
   ]
  },
  {
   "cell_type": "markdown",
   "id": "effc485e",
   "metadata": {},
   "source": [
    "### How to Access the Global Variable Inside and Outside of the Function?"
   ]
  },
  {
   "cell_type": "code",
   "execution_count": 5,
   "id": "e67bcaff",
   "metadata": {},
   "outputs": [],
   "source": [
    "### Example 2.\n",
    "x = \"First Global Variable\"\n",
    "\n",
    "def myfunc():\n",
    "    print(\"This is the value inside of the function:\", x)"
   ]
  },
  {
   "cell_type": "code",
   "execution_count": 6,
   "id": "ac710dba",
   "metadata": {},
   "outputs": [
    {
     "name": "stdout",
     "output_type": "stream",
     "text": [
      "This is the value inside of the function: First Global Variable\n",
      "This is the value outside of the function: First Global Variable\n"
     ]
    }
   ],
   "source": [
    "myfunc()\n",
    "print(\"This is the value outside of the function:\", x)"
   ]
  },
  {
   "cell_type": "markdown",
   "id": "2d011ad1",
   "metadata": {},
   "source": [
    "In the example depicted above, you saw a global variable declared and accessed both inside and outside of the function"
   ]
  },
  {
   "cell_type": "markdown",
   "id": "cb0edccb",
   "metadata": {},
   "source": [
    "### What happens if you try to modify the global scope variable value inside a function? "
   ]
  },
  {
   "cell_type": "code",
   "execution_count": 7,
   "id": "4b88a839",
   "metadata": {},
   "outputs": [],
   "source": [
    "### Example 3.\n",
    "x = 5\n",
    "\n",
    "def myfunc3():\n",
    "    x = x**2\n",
    "    print(\"This is the value inside of the function:\", x)"
   ]
  },
  {
   "cell_type": "code",
   "execution_count": 8,
   "id": "5ec8857d",
   "metadata": {},
   "outputs": [
    {
     "ename": "UnboundLocalError",
     "evalue": "local variable 'x' referenced before assignment",
     "output_type": "error",
     "traceback": [
      "\u001b[1;31m---------------------------------------------------------------------------\u001b[0m",
      "\u001b[1;31mUnboundLocalError\u001b[0m                         Traceback (most recent call last)",
      "\u001b[1;32m~\\AppData\\Local\\Temp\\ipykernel_7708\\572043547.py\u001b[0m in \u001b[0;36m<module>\u001b[1;34m\u001b[0m\n\u001b[1;32m----> 1\u001b[1;33m \u001b[0mmyfunc3\u001b[0m\u001b[1;33m(\u001b[0m\u001b[1;33m)\u001b[0m\u001b[1;33m\u001b[0m\u001b[1;33m\u001b[0m\u001b[0m\n\u001b[0m\u001b[0;32m      2\u001b[0m \u001b[0mprint\u001b[0m\u001b[1;33m(\u001b[0m\u001b[1;34m\"This is the value outside of the function:\"\u001b[0m\u001b[1;33m,\u001b[0m \u001b[0mx\u001b[0m\u001b[1;33m)\u001b[0m\u001b[1;33m\u001b[0m\u001b[1;33m\u001b[0m\u001b[0m\n",
      "\u001b[1;32m~\\AppData\\Local\\Temp\\ipykernel_7708\\4237198501.py\u001b[0m in \u001b[0;36mmyfunc3\u001b[1;34m()\u001b[0m\n\u001b[0;32m      3\u001b[0m \u001b[1;33m\u001b[0m\u001b[0m\n\u001b[0;32m      4\u001b[0m \u001b[1;32mdef\u001b[0m \u001b[0mmyfunc3\u001b[0m\u001b[1;33m(\u001b[0m\u001b[1;33m)\u001b[0m\u001b[1;33m:\u001b[0m\u001b[1;33m\u001b[0m\u001b[1;33m\u001b[0m\u001b[0m\n\u001b[1;32m----> 5\u001b[1;33m     \u001b[0mx\u001b[0m \u001b[1;33m=\u001b[0m \u001b[0mx\u001b[0m\u001b[1;33m**\u001b[0m\u001b[1;36m2\u001b[0m\u001b[1;33m\u001b[0m\u001b[1;33m\u001b[0m\u001b[0m\n\u001b[0m\u001b[0;32m      6\u001b[0m     \u001b[0mprint\u001b[0m\u001b[1;33m(\u001b[0m\u001b[1;34m\"This is the value inside of the function:\"\u001b[0m\u001b[1;33m,\u001b[0m \u001b[0mx\u001b[0m\u001b[1;33m)\u001b[0m\u001b[1;33m\u001b[0m\u001b[1;33m\u001b[0m\u001b[0m\n",
      "\u001b[1;31mUnboundLocalError\u001b[0m: local variable 'x' referenced before assignment"
     ]
    }
   ],
   "source": [
    "myfunc3()\n",
    "print(\"This is the value outside of the function:\", x)"
   ]
  },
  {
   "cell_type": "code",
   "execution_count": 9,
   "id": "b3ceab2a",
   "metadata": {},
   "outputs": [],
   "source": [
    "### Example 4.\n",
    "x = 5\n",
    "\n",
    "def myfunc4():\n",
    "    x = x**2\n",
    "    print(\"This is the value inside of the function:\", x)\n",
    "    return x"
   ]
  },
  {
   "cell_type": "code",
   "execution_count": 10,
   "id": "2171471b",
   "metadata": {},
   "outputs": [
    {
     "ename": "UnboundLocalError",
     "evalue": "local variable 'x' referenced before assignment",
     "output_type": "error",
     "traceback": [
      "\u001b[1;31m---------------------------------------------------------------------------\u001b[0m",
      "\u001b[1;31mUnboundLocalError\u001b[0m                         Traceback (most recent call last)",
      "\u001b[1;32m~\\AppData\\Local\\Temp\\ipykernel_7708\\3172214143.py\u001b[0m in \u001b[0;36m<module>\u001b[1;34m\u001b[0m\n\u001b[1;32m----> 1\u001b[1;33m \u001b[0mmyfunc4\u001b[0m\u001b[1;33m(\u001b[0m\u001b[1;33m)\u001b[0m\u001b[1;33m\u001b[0m\u001b[1;33m\u001b[0m\u001b[0m\n\u001b[0m\u001b[0;32m      2\u001b[0m \u001b[0mprint\u001b[0m\u001b[1;33m(\u001b[0m\u001b[1;34m\"This is the value outside of the function:\"\u001b[0m\u001b[1;33m,\u001b[0m \u001b[0mx\u001b[0m\u001b[1;33m)\u001b[0m\u001b[1;33m\u001b[0m\u001b[1;33m\u001b[0m\u001b[0m\n",
      "\u001b[1;32m~\\AppData\\Local\\Temp\\ipykernel_7708\\1623557919.py\u001b[0m in \u001b[0;36mmyfunc4\u001b[1;34m()\u001b[0m\n\u001b[0;32m      3\u001b[0m \u001b[1;33m\u001b[0m\u001b[0m\n\u001b[0;32m      4\u001b[0m \u001b[1;32mdef\u001b[0m \u001b[0mmyfunc4\u001b[0m\u001b[1;33m(\u001b[0m\u001b[1;33m)\u001b[0m\u001b[1;33m:\u001b[0m\u001b[1;33m\u001b[0m\u001b[1;33m\u001b[0m\u001b[0m\n\u001b[1;32m----> 5\u001b[1;33m     \u001b[0mx\u001b[0m \u001b[1;33m=\u001b[0m \u001b[0mx\u001b[0m\u001b[1;33m**\u001b[0m\u001b[1;36m2\u001b[0m\u001b[1;33m\u001b[0m\u001b[1;33m\u001b[0m\u001b[0m\n\u001b[0m\u001b[0;32m      6\u001b[0m     \u001b[0mprint\u001b[0m\u001b[1;33m(\u001b[0m\u001b[1;34m\"This is the value inside of the function:\"\u001b[0m\u001b[1;33m,\u001b[0m \u001b[0mx\u001b[0m\u001b[1;33m)\u001b[0m\u001b[1;33m\u001b[0m\u001b[1;33m\u001b[0m\u001b[0m\n\u001b[0;32m      7\u001b[0m     \u001b[1;32mreturn\u001b[0m \u001b[0mx\u001b[0m\u001b[1;33m\u001b[0m\u001b[1;33m\u001b[0m\u001b[0m\n",
      "\u001b[1;31mUnboundLocalError\u001b[0m: local variable 'x' referenced before assignment"
     ]
    }
   ],
   "source": [
    "myfunc4()\n",
    "print(\"This is the value outside of the function:\", x)"
   ]
  },
  {
   "cell_type": "markdown",
   "id": "e52d8a2e",
   "metadata": {},
   "source": [
    "As it is evident, this throws an error. When you try to modify the global variable value inside a function, it will throw UnboundLocalError, because while modifying Python treats x as a local variable, but x is also not defined inside the function (myfunc3(), myfunc4())"
   ]
  },
  {
   "cell_type": "code",
   "execution_count": 11,
   "id": "08f712ae",
   "metadata": {},
   "outputs": [],
   "source": [
    "### Example 5.\n",
    "x = 5\n",
    "\n",
    "def myfunc5():\n",
    "    print(\"This is the value inside of the function:\", x)\n",
    "    return x**2"
   ]
  },
  {
   "cell_type": "code",
   "execution_count": 12,
   "id": "fa3113a8",
   "metadata": {
    "scrolled": true
   },
   "outputs": [
    {
     "name": "stdout",
     "output_type": "stream",
     "text": [
      "This is the value inside of the function: 5\n",
      "This is the value outside of the function: 5\n",
      "This is the value returned by the function: 25\n"
     ]
    }
   ],
   "source": [
    "y=myfunc5()\n",
    "print(\"This is the value outside of the function:\", x)\n",
    "print(\"This is the value returned by the function:\", y)"
   ]
  },
  {
   "cell_type": "markdown",
   "id": "cf3f7c00",
   "metadata": {},
   "source": [
    "#### How to make a variable be seen globally?"
   ]
  },
  {
   "cell_type": "code",
   "execution_count": 13,
   "id": "a6a6e929",
   "metadata": {},
   "outputs": [],
   "source": [
    "### Example 6.\n",
    "x = 5\n",
    "\n",
    "def myfunc6():\n",
    "    global x\n",
    "    x = x**2\n",
    "    print(\"This is the value inside of the function:\", x)\n",
    "    return x"
   ]
  },
  {
   "cell_type": "code",
   "execution_count": 14,
   "id": "13b536ba",
   "metadata": {},
   "outputs": [
    {
     "name": "stdout",
     "output_type": "stream",
     "text": [
      "This is the value inside of the function: 25\n",
      "This is the value outside of the function: 25\n",
      "This is the value returned by the function: 25\n"
     ]
    }
   ],
   "source": [
    "y=myfunc6()\n",
    "print(\"This is the value outside of the function:\", x)\n",
    "print(\"This is the value returned by the function:\", y)"
   ]
  },
  {
   "cell_type": "code",
   "execution_count": 15,
   "id": "450892f1",
   "metadata": {},
   "outputs": [],
   "source": [
    "### Example 7.\n",
    "x = 5\n",
    "\n",
    "def myfunc7():\n",
    "    global y\n",
    "    y = x**2\n",
    "    print(\"This is the x value inside of the function:\", x)\n",
    "    print(\"This is the y value inside of the function:\", y)"
   ]
  },
  {
   "cell_type": "code",
   "execution_count": 16,
   "id": "44a142b5",
   "metadata": {},
   "outputs": [
    {
     "name": "stdout",
     "output_type": "stream",
     "text": [
      "This is the x value inside of the function: 5\n",
      "This is the y value inside of the function: 25\n",
      "This is the x value outside of the function: 5\n",
      "This is the y value outside by the function: 25\n",
      "This is the z value returned by the function: None\n"
     ]
    }
   ],
   "source": [
    "z = myfunc7()\n",
    "print(\"This is the x value outside of the function:\", x)\n",
    "print(\"This is the y value outside by the function:\", y)\n",
    "print(\"This is the z value returned by the function:\", z)"
   ]
  },
  {
   "cell_type": "markdown",
   "id": "68467dc3",
   "metadata": {},
   "source": [
    "### Difference Between Global and Local Variables"
   ]
  },
  {
   "cell_type": "code",
   "execution_count": 17,
   "id": "0e1b4cf1",
   "metadata": {},
   "outputs": [],
   "source": [
    "### Example 8.\n",
    "gx = \"global\"\n",
    "\n",
    "def function1():\n",
    "    global gx\n",
    "    ly = \"local\"\n",
    "    gx = gx*2\n",
    "    print(gx)\n",
    "    print(ly)"
   ]
  },
  {
   "cell_type": "code",
   "execution_count": 18,
   "id": "516e3611",
   "metadata": {},
   "outputs": [
    {
     "name": "stdout",
     "output_type": "stream",
     "text": [
      "globalglobal\n",
      "local\n"
     ]
    }
   ],
   "source": [
    "function1()"
   ]
  },
  {
   "cell_type": "markdown",
   "id": "c9acf94f",
   "metadata": {},
   "source": [
    "What is a global variable in Python?  \n",
    "1. A variable that can only be accessed within a specific function  \n",
    "2. A variable that can be accessed from any part of the program  \n",
    "3. A variable that is declared without a value  \n",
    "4. A variable that can only be accessed within a specific class  \n",
    "\n",
    "How do you declare a global variable in Python?  \n",
    "1. By using the global keyword  \n",
    "2. By using the public keyword  \n",
    "3. By using the var keyword  \n",
    "4. Global variables are declared automatically  \n",
    "\n",
    "What is the risk of using global variables in Python?  \n",
    "1. They can cause naming conflicts with other variables  \n",
    "2. They can be accessed by any part of the program, making it hard to track where they are used  \n",
    "3. They can cause memory leaks  \n",
    "4. They can slow down the program's performance  \n",
    "\n",
    "\n",
    "How can you modify a global variable inside a function in Python?  \n",
    "1. By using the public keyword  \n",
    "2. By reassigning the variable inside the function  \n",
    "3. By using the global keyword  \n",
    "4. By using the const keyword  "
   ]
  },
  {
   "cell_type": "markdown",
   "id": "64b38fe5",
   "metadata": {},
   "source": [
    "### Pass by value or Pass by reference\n",
    "\n",
    "### What will happen?"
   ]
  },
  {
   "cell_type": "code",
   "execution_count": 1,
   "id": "0e89438e",
   "metadata": {},
   "outputs": [
    {
     "name": "stdout",
     "output_type": "stream",
     "text": [
      "200 100\n"
     ]
    }
   ],
   "source": [
    "# pass by value\n",
    "num_1 = 100\n",
    "num_2 = num_1\n",
    "num_1 = num_1 + 100\n",
    "print(num_1, num_2)"
   ]
  },
  {
   "cell_type": "code",
   "execution_count": 20,
   "id": "3fa4bdd8",
   "metadata": {},
   "outputs": [
    {
     "name": "stdout",
     "output_type": "stream",
     "text": [
      "[1, 2, 3, 3] [1, 2, 3, 3]\n"
     ]
    }
   ],
   "source": [
    "# pass by reference\n",
    "list_1 = [1,2,3]\n",
    "list_2 = list_1\n",
    "list_1.append(3)\n",
    "print(list_1, list_2)"
   ]
  },
  {
   "cell_type": "markdown",
   "id": "30f1e64e",
   "metadata": {},
   "source": [
    "**What's happening under the hood in memory?**\n",
    "\n",
    "1. num_1  --> num_1 -> memoryLocation1 = 100  \n",
    "2. num_2  --> num_2 -> memoryLocation2 = 100  \n",
    "3. num_1 = num_1 + 100  --> num_1 = memoryLocation1 = 200 and num_2 = memoryLocation2 = 100"
   ]
  },
  {
   "cell_type": "markdown",
   "id": "848a0a1b",
   "metadata": {},
   "source": [
    "**What's happening under the hood in memory?**\n",
    "\n",
    "1. list_1 = [1,2,3] --> list_1 -> memoryLocation1 = [1,2,3]  \n",
    "2. list_2 = list_1  --> list_1 & list_2 -> memoryLocation1 = [1,2,3]\n",
    "3. list_1.append(3) --> list_1 & list_2 -> memoryLocation1 = [1,2,3,3]"
   ]
  },
  {
   "cell_type": "markdown",
   "id": "5e0afc6e",
   "metadata": {},
   "source": [
    "### Side effects of pass by reference"
   ]
  },
  {
   "cell_type": "code",
   "execution_count": 21,
   "id": "1834de6e",
   "metadata": {},
   "outputs": [
    {
     "name": "stdout",
     "output_type": "stream",
     "text": [
      "10 11\n"
     ]
    }
   ],
   "source": [
    "def add_one(number):\n",
    "    incremeted_number = number + 1\n",
    "    return incremeted_number\n",
    "ten = 10\n",
    "eleven = add_one(ten)\n",
    "print(ten, eleven)"
   ]
  },
  {
   "cell_type": "code",
   "execution_count": 22,
   "id": "54187466",
   "metadata": {},
   "outputs": [],
   "source": [
    "#### shallow copy sice both list_1 and incremented_list_1 will be pointing to the list"
   ]
  },
  {
   "cell_type": "code",
   "execution_count": 23,
   "id": "6e55c9b6",
   "metadata": {},
   "outputs": [
    {
     "name": "stdout",
     "output_type": "stream",
     "text": [
      "[2, 3, 4] [2, 3, 4]\n"
     ]
    }
   ],
   "source": [
    "def add_one(lst):\n",
    "    length = len(lst)\n",
    "    for i in range(length):\n",
    "        lst[i] += 1\n",
    "    return lst\n",
    "\n",
    "list_1 = [1,2,3]\n",
    "incremented_list_1 = add_one(list_1)\n",
    "print(list_1, incremented_list_1)"
   ]
  },
  {
   "cell_type": "code",
   "execution_count": 2,
   "id": "629907bf",
   "metadata": {},
   "outputs": [
    {
     "name": "stdout",
     "output_type": "stream",
     "text": [
      "[1, 2, 3] [2, 3, 4]\n"
     ]
    }
   ],
   "source": [
    "def add_one_deep_copy(lst):\n",
    "    new_list = [i for i in lst]\n",
    "    length = len(new_list)\n",
    "    for i in range(length):\n",
    "        new_list[i] += 1\n",
    "    return new_list\n",
    "\n",
    "list_2 = [1,2,3]\n",
    "incremented_list_2 = add_one_deep_copy(list_2)\n",
    "print(list_2, incremented_list_2)"
   ]
  },
  {
   "cell_type": "markdown",
   "id": "e7eca8eb",
   "metadata": {},
   "source": [
    "### How to pass a value by reference in Python and try to understand pass-by-reference examples in Python\n",
    "\n",
    "\n",
    "**ref: https://www.geeksforgeeks.org/**"
   ]
  },
  {
   "cell_type": "markdown",
   "id": "6d179c0b",
   "metadata": {},
   "source": [
    "Python’s argument passing model is neither **“Pass by Value”** nor **“Pass by Reference”** but it is **“Pass by Object Reference”.** "
   ]
  },
  {
   "cell_type": "markdown",
   "id": "e74c6a8f",
   "metadata": {},
   "source": [
    "The paradigms of “Pass by value”, “Pass by Reference” and “Pass by object Reference” can be understood by exploring the below example functions."
   ]
  },
  {
   "cell_type": "code",
   "execution_count": 4,
   "id": "9f118a07",
   "metadata": {},
   "outputs": [],
   "source": [
    "def set_list(list):\n",
    "    list = [\"A\", \"B\", \"C\"]\n",
    "    return list"
   ]
  },
  {
   "cell_type": "code",
   "execution_count": 5,
   "id": "390525f5",
   "metadata": {},
   "outputs": [],
   "source": [
    "def add(list):\n",
    "    list.append(\"D\")\n",
    "    return list"
   ]
  },
  {
   "cell_type": "code",
   "execution_count": 6,
   "id": "ed364339",
   "metadata": {},
   "outputs": [
    {
     "name": "stdout",
     "output_type": "stream",
     "text": [
      "['E']\n"
     ]
    }
   ],
   "source": [
    "my_list = [\"E\"]\n",
    "print(my_list)"
   ]
  },
  {
   "cell_type": "code",
   "execution_count": 7,
   "id": "95e3b1d4",
   "metadata": {},
   "outputs": [
    {
     "name": "stdout",
     "output_type": "stream",
     "text": [
      "['A', 'B', 'C']\n"
     ]
    }
   ],
   "source": [
    "print(set_list(my_list))"
   ]
  },
  {
   "cell_type": "code",
   "execution_count": 8,
   "id": "bd71bf96",
   "metadata": {},
   "outputs": [
    {
     "name": "stdout",
     "output_type": "stream",
     "text": [
      "['E', 'D']\n"
     ]
    }
   ],
   "source": [
    "print(add(my_list))"
   ]
  },
  {
   "cell_type": "code",
   "execution_count": 9,
   "id": "a4e096cd",
   "metadata": {},
   "outputs": [
    {
     "data": {
      "text/plain": [
       "['E', 'D']"
      ]
     },
     "execution_count": 9,
     "metadata": {},
     "output_type": "execute_result"
    }
   ],
   "source": [
    "my_list"
   ]
  }
 ],
 "metadata": {
  "kernelspec": {
   "display_name": "Python 3 (ipykernel)",
   "language": "python",
   "name": "python3"
  },
  "language_info": {
   "codemirror_mode": {
    "name": "ipython",
    "version": 3
   },
   "file_extension": ".py",
   "mimetype": "text/x-python",
   "name": "python",
   "nbconvert_exporter": "python",
   "pygments_lexer": "ipython3",
   "version": "3.10.10"
  }
 },
 "nbformat": 4,
 "nbformat_minor": 5
}
