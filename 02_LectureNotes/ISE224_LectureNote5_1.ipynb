{
 "cells": [
  {
   "cell_type": "markdown",
   "id": "ffc7dd3a",
   "metadata": {},
   "source": [
    "# ISE224 LectureNote 5: Introduction to Functions\n",
    "\n",
    "***Topics***\n",
    "\n",
    "- Introduction to `Function`  \n",
    "- Defining and Calling a `Function`  \n",
    "- Designing a Program to Use Functions  \n",
    "- Passing `Arguments` to Functions  \n",
    "- `Value-Returning` Functions\n",
    "\n",
    "---"
   ]
  },
  {
   "cell_type": "markdown",
   "id": "bcb80d8c",
   "metadata": {},
   "source": [
    "### Introduction to Functions\n",
    "\n",
    "**CONCEPT: A function is a group of statements that exist within a program for the purpose of performing a specific task.**\n",
    "\n",
    "---\n",
    "\n",
    "we described a simple algorithm for calculating an employee’s pay. In the algorithm, the number of hours worked is multiplied by an hourly pay rate.\n",
    "\n",
    "A more realistic payroll algorithm, however, would do much more than this. In a real-world application, the overall task of calculating an employee’s pay would consist of several subtasks, such as the following:\n",
    "\n",
    "- Getting the employee’s hourly pay rate  \n",
    "- Getting the number of hours worked  \n",
    "- Calculating the employee’s gross pay  \n",
    "- Calculating overtime pay\n",
    "- Calculating withholdings for taxes and benefits  \n",
    "- Calculating the net pay  \n",
    "- Printing the paycheck\n",
    "\n",
    "A program that has been written with each task in its own function is called a **modularized program**"
   ]
  },
  {
   "cell_type": "markdown",
   "id": "9d22916d",
   "metadata": {},
   "source": [
    "---  \n",
    "#### Benefits of Modularizing a Program with Functions  \n",
    "\n",
    "- **Simpler Code**  \n",
    "\n",
    "A program’s code tends to be simpler and easier to understand when it is broken down into functions. \n",
    "\n",
    "Several small functions are much easier to read than one long sequence of statements.\n",
    "\n",
    "- **Code Reuse**\n",
    "\n",
    "Functions also reduce the duplication of code within a program. \n",
    "\n",
    "If a specific operation is performed in several places in a program, a function can be written once to perform that operation, then be executed any time it is needed. \n",
    "\n",
    "This benefit of using functions is known as code reuse because you are writing the code to perform a task once, then reusing it each time you need to perform the task.\n",
    "\n",
    "- **Better Testing**  \n",
    "\n",
    "When each task within a program is contained in its own function, testing and debugging becomes simpler. \n",
    "\n",
    "Programmers can test each function in a program individually, to determine whether it correctly performs its operation. This makes it easier to isolate and fix errors.\n",
    "\n",
    "- **Faster Development**  \n",
    "\n",
    "Suppose a programmer or a team of programmers is developing multiple programs. \n",
    "\n",
    "They discover that each of the programs perform several common tasks, such as asking for a username and a password, displaying the current time, and so on. \n",
    "\n",
    "It doesn’t make sense to write the code for these tasks multiple times. Instead, functions can be written for the commonly needed tasks, and those functions can be incorporated into each program that needs them.\n",
    "\n",
    "- **Easier Facilitation of Teamwork**  \n",
    "\n",
    "Functions also make it easier for programmers to work in teams. \n",
    "\n",
    "When a program is developed as a set of functions that each performs an individual task, then different programmers can be assigned the job of writing different functions.\n"
   ]
  },
  {
   "cell_type": "markdown",
   "id": "8bb2e462",
   "metadata": {},
   "source": [
    "### Function"
   ]
  },
  {
   "cell_type": "markdown",
   "id": "997e55e7",
   "metadata": {},
   "source": [
    "- The first line tells Python we are defining a new function called `greet`. It takes no parameters (nothing inside the parentheses). This line ends with a colon **:**.\n",
    "- The next two lines are indented with four spaces to show that they are within the `greet` function."
   ]
  },
  {
   "cell_type": "code",
   "execution_count": 1,
   "id": "b81c92f3",
   "metadata": {},
   "outputs": [],
   "source": [
    "def greet():\n",
    "    print(\"Hello\")\n",
    "    print(\"World\")"
   ]
  },
  {
   "cell_type": "markdown",
   "id": "2af11396",
   "metadata": {},
   "source": [
    "- After the function is defined, we can run these lines of code by referring to the function name:"
   ]
  },
  {
   "cell_type": "code",
   "execution_count": 2,
   "id": "9988b945",
   "metadata": {},
   "outputs": [
    {
     "name": "stdout",
     "output_type": "stream",
     "text": [
      "Hello\n",
      "World\n"
     ]
    }
   ],
   "source": [
    "greet()"
   ]
  },
  {
   "cell_type": "markdown",
   "id": "e71b8a5f",
   "metadata": {},
   "source": [
    "<img src=\"https://www.programiz.com/sites/tutorial2program/files/working-function-python.png\">"
   ]
  },
  {
   "cell_type": "markdown",
   "id": "45056ff8",
   "metadata": {},
   "source": [
    "#### Indentation in Python\n",
    "\n",
    "- In Python, each line in a `block`, including function must be indented."
   ]
  },
  {
   "cell_type": "markdown",
   "id": "c73623d2",
   "metadata": {},
   "source": [
    "- Function definition can have changeable parts called **parameters**.\n",
    "- They are placed inside () in the first line and used in the body of the function."
   ]
  },
  {
   "cell_type": "code",
   "execution_count": 3,
   "id": "8bc5ec10",
   "metadata": {},
   "outputs": [],
   "source": [
    "def hello(firstname, lastname): # firstname and lastname are parameters\n",
    "    print(\"Hello,\")\n",
    "    print(firstname, lastname)"
   ]
  },
  {
   "cell_type": "markdown",
   "id": "f0b4df44",
   "metadata": {},
   "source": [
    "- An argument is a **value** that is accepted by a function"
   ]
  },
  {
   "cell_type": "code",
   "execution_count": 4,
   "id": "65757767",
   "metadata": {},
   "outputs": [
    {
     "name": "stdout",
     "output_type": "stream",
     "text": [
      "Hello,\n",
      "Jane Smith\n"
     ]
    }
   ],
   "source": [
    "hello('Jane', 'Smith')  # 'Jane' and 'Smith' are arguments"
   ]
  },
  {
   "cell_type": "code",
   "execution_count": 5,
   "id": "2dfc7fec",
   "metadata": {},
   "outputs": [
    {
     "name": "stdout",
     "output_type": "stream",
     "text": [
      "Hello,\n",
      "Tom Jones\n"
     ]
    }
   ],
   "source": [
    "hello('Tom', 'Jones')"
   ]
  },
  {
   "cell_type": "code",
   "execution_count": 6,
   "id": "46813908",
   "metadata": {},
   "outputs": [],
   "source": [
    "# function with two arguments\n",
    "def add_numbers(num1, num2):\n",
    "    sum = num1 + num2\n",
    "    print('Sum: ',sum)\n",
    "\n",
    "# function with no argument\n",
    "def no_argument_fn():\n",
    "    print(\"This is a no argument function!\")\n",
    "    "
   ]
  },
  {
   "cell_type": "markdown",
   "id": "a8f73919",
   "metadata": {},
   "source": [
    "<img src=\"https://www.programiz.com/sites/tutorial2program/files/function-argument-python.png\">"
   ]
  },
  {
   "cell_type": "code",
   "execution_count": 7,
   "id": "3cb53ef9",
   "metadata": {},
   "outputs": [
    {
     "name": "stdout",
     "output_type": "stream",
     "text": [
      "Sum:  8\n"
     ]
    }
   ],
   "source": [
    "add_numbers(3, 5)"
   ]
  },
  {
   "cell_type": "code",
   "execution_count": 8,
   "id": "4ddadc7e",
   "metadata": {},
   "outputs": [
    {
     "name": "stdout",
     "output_type": "stream",
     "text": [
      "Sum:  8\n"
     ]
    }
   ],
   "source": [
    "# We can also call the function by mentioning the argument name as:\n",
    "add_numbers(num2 = 5, num1 = 3)"
   ]
  },
  {
   "cell_type": "code",
   "execution_count": 6,
   "id": "230a7051",
   "metadata": {},
   "outputs": [],
   "source": [
    "def weighted_sum(num1, num2, a, b):\n",
    "    # weighted sum = a*num1 + b*num2\n",
    "    sum = a*num1 + b*num2\n",
    "    print(f'weighted sum: {sum}')"
   ]
  },
  {
   "cell_type": "code",
   "execution_count": 7,
   "id": "c25e2183",
   "metadata": {},
   "outputs": [
    {
     "name": "stdout",
     "output_type": "stream",
     "text": [
      "weighted sum: 25\n"
     ]
    }
   ],
   "source": [
    "weighted_sum(5,10,1,2)"
   ]
  },
  {
   "cell_type": "code",
   "execution_count": 11,
   "id": "5b865135",
   "metadata": {},
   "outputs": [
    {
     "name": "stdout",
     "output_type": "stream",
     "text": [
      "weighted sum: 25\n"
     ]
    }
   ],
   "source": [
    "weighted_sum(b = 2, num1 = 5, num2 = 10, a = 1)"
   ]
  },
  {
   "cell_type": "markdown",
   "id": "951a252e",
   "metadata": {},
   "source": [
    "#### Call function inside another function"
   ]
  },
  {
   "cell_type": "code",
   "execution_count": 12,
   "id": "7d65d38b",
   "metadata": {},
   "outputs": [],
   "source": [
    "# This program has two functions. First we\n",
    "# define the main function.\n",
    "def main():\n",
    "    print('I have a message for you.')\n",
    "    message()\n",
    "    print('Goodbye!')\n",
    "    \n",
    "# Next we define the message function.\n",
    "def message():\n",
    "    print(\"I am Arthur\\nKing of the Britions.\")"
   ]
  },
  {
   "cell_type": "code",
   "execution_count": 13,
   "id": "fff6eb92",
   "metadata": {},
   "outputs": [
    {
     "name": "stdout",
     "output_type": "stream",
     "text": [
      "I have a message for you.\n",
      "I am Arthur\n",
      "King of the Britions.\n",
      "Goodbye!\n"
     ]
    }
   ],
   "source": [
    "# Call the main function.\n",
    "main()"
   ]
  },
  {
   "cell_type": "markdown",
   "id": "c1785100",
   "metadata": {},
   "source": [
    "---\n",
    "\n",
    "#### Example. \n",
    "Professional Appliance Service, Inc. offers maintenance and repair services for household appliances. \n",
    "The owner wants to give each of the company’s service technicians a small handheld computer that displays step-by-step instructions for many of the repairs that they perform. \n",
    "\n",
    "To see how this might work, the owner has asked you to develop a program that displays the following instructions for disassembling an Acme laundry dryer:"
   ]
  },
  {
   "cell_type": "markdown",
   "id": "f19b7a09",
   "metadata": {},
   "source": [
    "- **Step 1: Unplug the dryer and move it away from the wall.**  \n",
    "- **Step 2: Remove the six screws from the back of the dryer.**  \n",
    "- **Step 3: Remove the dryer’s back panel.**  \n",
    "- **Step 4: Pull the top of the dryer straight up.**"
   ]
  },
  {
   "cell_type": "markdown",
   "id": "37127b8b",
   "metadata": {},
   "source": [
    "During your interview with the owner, you determine that the program should display the steps one at a time. You decide that after each step is displayed, the user will be asked to **press the Enter key to see the next step**. Here is the algorithm in pseudocode:"
   ]
  },
  {
   "cell_type": "code",
   "execution_count": 14,
   "id": "ca3c5e11",
   "metadata": {},
   "outputs": [],
   "source": [
    "### Pseudocode: \n",
    "# Display a starting message, explaining what the program does.\n",
    "\n",
    "# Ask the user to press Enter to see step 1.\n",
    "\n",
    "# Display the instructions for step 1.\n",
    "\n",
    "# Ask the user to press Enter to see the next step.\n",
    "\n",
    "# Display the instructions for step 2.\n",
    "\n",
    "# Ask the user to press Enter to see the next step.\n",
    "\n",
    "# Display the instructions for step 3.\n",
    "\n",
    "# Ask the user to press Enter to see the next step.\n",
    "\n",
    "# Display the instructions for step 4."
   ]
  },
  {
   "cell_type": "markdown",
   "id": "3c9c9a55",
   "metadata": {},
   "source": [
    "<img src=\"https://raw.githubusercontent.com/cxc1920/ISE224/main/pictures/5-1.png\" alt=\"5-1\">\n",
    "As you can see from the hierarchy chart, the `main` function will call several other functions. \n",
    "\n",
    "Here are summaries of those functions:\n",
    "\n",
    "- startup_message. This function will display the starting message that tells the technician what the program does.  \n",
    "- step1. This function will display the instructions for step 1.  \n",
    "- step2. This function will display the instructions for step 2.  \n",
    "- step3. This function will display the instructions for step 3.  \n",
    "- step4. This function will display the instructions for step 4."
   ]
  },
  {
   "cell_type": "markdown",
   "id": "6751c8b5",
   "metadata": {},
   "source": [
    "#### Pausing Execution Until the User Presses Enter\n",
    "\n",
    "- **input('Press Enter to see Step 1.')**"
   ]
  },
  {
   "cell_type": "markdown",
   "id": "6f755e29",
   "metadata": {},
   "source": [
    "#### Using the pass Keyword  \n",
    "\n",
    "Sometimes when you are initially writing a program’s code, you know the names of the functions you plan to use, but you might not know all the details of the code that will be in those functions. When this is the case, you can use the `pass` keyword to create empty functions. Later, when the details of the code are known, you can come back to the empty functions and replace the pass keyword with meaningful code."
   ]
  },
  {
   "cell_type": "code",
   "execution_count": 16,
   "id": "acd5e0c1",
   "metadata": {},
   "outputs": [],
   "source": [
    "#### Example of pass\n",
    "\n",
    "def step1():\n",
    "    pass\n",
    "\n",
    "def step2():\n",
    "    pass\n",
    "\n",
    "def step3():\n",
    "    pass\n",
    "\n",
    "def step4():\n",
    "    pass"
   ]
  },
  {
   "cell_type": "code",
   "execution_count": 17,
   "id": "4d695c26",
   "metadata": {},
   "outputs": [],
   "source": [
    "step1()"
   ]
  },
  {
   "cell_type": "code",
   "execution_count": 18,
   "id": "a355ed91",
   "metadata": {},
   "outputs": [
    {
     "name": "stdout",
     "output_type": "stream",
     "text": [
      "Enter X:728\n",
      "Enter Y:1234\n",
      "Y is not less than X!\n"
     ]
    }
   ],
   "source": [
    "#### When using pass in if-else:\n",
    "X = float(input(\"Enter X:\"))\n",
    "Y = float(input(\"Enter Y:\"))\n",
    "if X>Y:\n",
    "    pass\n",
    "else:\n",
    "    print(\"Y is not less than X!\")"
   ]
  },
  {
   "cell_type": "markdown",
   "id": "3a118188",
   "metadata": {},
   "source": [
    "### The return Statement in Python\n",
    "\n",
    "A Python function may or may not return a value. If we want our function to return some value to a function call, we use the `return` statement."
   ]
  },
  {
   "cell_type": "code",
   "execution_count": 19,
   "id": "a0fcff14",
   "metadata": {},
   "outputs": [],
   "source": [
    "### Example. \n",
    "def add_numbers(num1, num2):\n",
    "    sum = num1 + num2\n",
    "    return sum"
   ]
  },
  {
   "cell_type": "code",
   "execution_count": 20,
   "id": "d3679bea",
   "metadata": {},
   "outputs": [
    {
     "name": "stdout",
     "output_type": "stream",
     "text": [
      "8\n"
     ]
    }
   ],
   "source": [
    "X = add_numbers(3, 5)\n",
    "print(X)"
   ]
  },
  {
   "cell_type": "markdown",
   "id": "6e806b46",
   "metadata": {},
   "source": [
    "---"
   ]
  },
  {
   "cell_type": "code",
   "execution_count": 21,
   "id": "193cf504",
   "metadata": {},
   "outputs": [
    {
     "name": "stdout",
     "output_type": "stream",
     "text": [
      "Square: 9\n"
     ]
    }
   ],
   "source": [
    "#### Example. \n",
    "# function definition\n",
    "def find_square(num):\n",
    "    result = num * num\n",
    "    return result\n",
    "\n",
    "# function call\n",
    "square = find_square(3)\n",
    "\n",
    "print('Square:',square)\n",
    "\n",
    "# Output: Square: 9"
   ]
  },
  {
   "cell_type": "markdown",
   "id": "8175adb8",
   "metadata": {},
   "source": [
    "In the above example, we have created a function named `find_square()`. The function accepts a number and returns the square of the number."
   ]
  },
  {
   "cell_type": "code",
   "execution_count": 22,
   "id": "417a9d35",
   "metadata": {},
   "outputs": [],
   "source": [
    "#### multiple returns\n",
    "def cal_num(num1, num2):\n",
    "    Sum = num1 + num2\n",
    "    Diff = abs(num1 - num2)\n",
    "    return Sum, Diff"
   ]
  },
  {
   "cell_type": "code",
   "execution_count": 23,
   "id": "64447019",
   "metadata": {},
   "outputs": [
    {
     "name": "stdout",
     "output_type": "stream",
     "text": [
      "Sum: 25\n",
      "Difference: 5\n"
     ]
    }
   ],
   "source": [
    "SUM, DIFF = cal_num(10, 15)\n",
    "print(f'Sum: {SUM}')\n",
    "print(f'Difference: {DIFF}')"
   ]
  },
  {
   "cell_type": "markdown",
   "id": "f36c8eb1",
   "metadata": {},
   "source": [
    "---\n",
    "\n",
    "#### Examples: "
   ]
  },
  {
   "cell_type": "markdown",
   "id": "c74b306b",
   "metadata": {},
   "source": [
    "1. Write a function to calculate the weekly payment. The input parameters of this function are a. working hours, and b. payrate. The return of this function is working hours*payrate"
   ]
  },
  {
   "cell_type": "code",
   "execution_count": 24,
   "id": "c77d1eb0",
   "metadata": {},
   "outputs": [
    {
     "name": "stdout",
     "output_type": "stream",
     "text": [
      "Enter weekly working hours: 40\n",
      "Enter payrate per hour: 20\n",
      "Weekly payment: 800.00\n"
     ]
    }
   ],
   "source": [
    "# Example: Input working hours, and payrate, return a weekly payment\n",
    "def payment(hours, rate):\n",
    "    return hours*rate\n",
    "\n",
    "H = float(input(\"Enter weekly working hours: \"))\n",
    "R = float(input(\"Enter payrate per hour: \"))\n",
    "pay = payment(H, R)\n",
    "\n",
    "print(f'Weekly payment: {pay:.2f}')"
   ]
  },
  {
   "cell_type": "markdown",
   "id": "71c3d83f",
   "metadata": {},
   "source": [
    "2. Write a function to calculate the area of a rectangle, where the parameters of this function are length and width, and the return of this function is the area."
   ]
  },
  {
   "cell_type": "code",
   "execution_count": 25,
   "id": "c3d2bb01",
   "metadata": {},
   "outputs": [
    {
     "name": "stdout",
     "output_type": "stream",
     "text": [
      "Enter length:10\n",
      "Enter width:20\n",
      "Length: 10.0\n",
      "Width: 20.0\n",
      "Area is 200.0\n"
     ]
    }
   ],
   "source": [
    "def area(length, width):\n",
    "    AREA = length*width\n",
    "    print(f\"Length: {length}\")\n",
    "    print(f\"Width: {width}\")\n",
    "    return AREA\n",
    "\n",
    "L = float(input(\"Enter length:\"))\n",
    "W = float(input(\"Enter width:\"))\n",
    "\n",
    "A = area(width = W, length = L)\n",
    "print(f'Area is {A}')"
   ]
  },
  {
   "cell_type": "markdown",
   "id": "a0dff8c8",
   "metadata": {},
   "source": [
    "3. Write a function to convert a score to letter grade. Input argument is score, return is letter grade."
   ]
  },
  {
   "cell_type": "code",
   "execution_count": 26,
   "id": "858cc466",
   "metadata": {},
   "outputs": [
    {
     "name": "stdout",
     "output_type": "stream",
     "text": [
      "Enter the score: 82\n",
      "Score: 82.0 \t Grade: B\n"
     ]
    }
   ],
   "source": [
    "def grade(score):\n",
    "    if score>=90:\n",
    "        L = \"A\"\n",
    "    elif score >= 80:\n",
    "        L = \"B\"\n",
    "    elif score >= 70:\n",
    "        L = \"C\"\n",
    "    elif score >= 60:\n",
    "        L = \"D\"\n",
    "    else:\n",
    "        L = \"F\"\n",
    "    return L\n",
    "\n",
    "s = float(input(\"Enter the score: \"))\n",
    "L = grade(s)\n",
    "print(f'Score: {s} \\t Grade: {L}')"
   ]
  }
 ],
 "metadata": {
  "kernelspec": {
   "display_name": "Python 3 (ipykernel)",
   "language": "python",
   "name": "python3"
  },
  "language_info": {
   "codemirror_mode": {
    "name": "ipython",
    "version": 3
   },
   "file_extension": ".py",
   "mimetype": "text/x-python",
   "name": "python",
   "nbconvert_exporter": "python",
   "pygments_lexer": "ipython3",
   "version": "3.11.7"
  }
 },
 "nbformat": 4,
 "nbformat_minor": 5
}
