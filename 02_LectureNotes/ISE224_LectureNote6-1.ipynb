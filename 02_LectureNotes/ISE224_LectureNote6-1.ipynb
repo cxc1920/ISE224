{
 "cells": [
  {
   "cell_type": "markdown",
   "id": "5e38c532",
   "metadata": {},
   "source": [
    "# ISE224 LectureNote 6-1: How to work with File I/O\n",
    "---\n",
    "\n",
    "**Topics**\n",
    "1. Introduction to File Input and Output\n",
    "2. Processing Records\n",
    "---"
   ]
  },
  {
   "cell_type": "markdown",
   "id": "4e2a4382",
   "metadata": {},
   "source": [
    "### Introduction to File Input and Output\n",
    "\n",
    "**Concept: When a program needs to save data for later use, it writes the data in a file. The data can be read from the file at a later time.**"
   ]
  },
  {
   "cell_type": "markdown",
   "id": "1d087fe5",
   "metadata": {},
   "source": [
    "So far, the programs/applications you've developed necessitate users to input data each time they execute the program. This is because the data, stored in RAM and referenced by variables, vanishes once the program ceases to operate. To preserve data across multiple instances of the program, a method for saving it is required. By saving data in a `file`, typically located on a computer's disk, it remains accessible even after the program halts. This stored data can then be fetched and utilized at a later point in time."
   ]
  },
  {
   "cell_type": "markdown",
   "id": "a8291f18",
   "metadata": {},
   "source": [
    "#### Writing Data\n",
    "\n",
    "Programmers usually refer to the process of saving data in a file as **“writing data”** to the file. When a piece of data is written to a file, it is ***copied from a variable in RAM to the file***. This is illustrated in the following figure. The term output file is used to describe a file that data is written to. It is called an `output file` because the program stores `output` in it.\n",
    "\n",
    "<img src=\"https://raw.githubusercontent.com/cxc1920/ISE224/main/pictures/6-1.png\">"
   ]
  },
  {
   "cell_type": "markdown",
   "id": "7feafa8a",
   "metadata": {},
   "source": [
    "#### Reading Data  \n",
    "\n",
    "Retrieving data from a file is referred to as `\"reading data\"` from the file. When data is read, it is transferred from the file to RAM and associated with a variable. This concept is depicted in the following figure. A file that provides data for reading is known as an \"input file,\" since it supplies input to the program.\n",
    "\n",
    "<img src=\"https://raw.githubusercontent.com/cxc1920/ISE224/main/pictures/6-2.png\">"
   ]
  },
  {
   "cell_type": "markdown",
   "id": "bc4e16bd",
   "metadata": {},
   "source": [
    "#### How python read/write file?\n",
    "\n",
    "There are always three steps that must be taken when a file is used by a program.\n",
    "\n",
    "- **Open the file.** ***Opening a file creates a connection between the file and the program***. Opening an output file usually creates the file on the disk and allows the program to write data to it. Opening an input file allows the program to read data from the file.\n",
    "\n",
    "- **Process the file.** In this step, data is either written to the file (if it is an output file) or read from the file (if it is an input file).\n",
    "\n",
    "- **Close the file.** When the program is finished using the file, the ***file must be closed***. Closing a file disconnects the file from the program."
   ]
  },
  {
   "cell_type": "markdown",
   "id": "cdb3b7fc",
   "metadata": {},
   "source": [
    "#### Types of Files\n",
    "\n",
    "In general, there are two types of files: **text** and **binary.**.\n",
    "\n",
    "- A `text` file contains data that has been encoded as text, using a scheme such as ASCII or Unicode. Even if the file contains numbers, those numbers are stored in the file as a series of characters. As a result, the file may be opened and viewed in a text editor such as Notepad.\n",
    "\n",
    "<img src=\"https://raw.githubusercontent.com/cxc1920/ISE224/main/pictures/6-3.png\">\n",
    "\n",
    "-  A `binary` file contains data that has not been converted to text. The data that is stored in a binary file is intended only for a program to read. As a consequence, you cannot view the contents of a binary file with a text editor.\n",
    "\n",
    "<img src=\"https://raw.githubusercontent.com/cxc1920/ISE224/main/pictures/6-4.png\">\n"
   ]
  },
  {
   "cell_type": "markdown",
   "id": "f3cafb73",
   "metadata": {},
   "source": [
    "#### File Access Methods\n",
    "\n",
    "Most programming languages provide two different ways to access data stored in a file: sequential access and direct access.  \n",
    "\n",
    "- **Sequential Access:** When you work with a sequential access file, you access data from the beginning of the file to the end of the file. If you want to read a piece of data that is stored at the very end of the file, you have to read all of the data that comes before it—you cannot jump directly to the desired data.\n",
    "\n",
    "- **Direct Access:** When you work with a direct access file (which is also known as a random access file), you can jump directly to any piece of data in the file without reading the data that comes before it. This is similar to the way a CD player or an MP3 player works. You can jump directly to any song that you want to listen to.  \n",
    "\n",
    "In this class, we will use *sequential access files*. Sequential access files are easy to work with, and you can use them to gain an understanding of basic file operations."
   ]
  },
  {
   "cell_type": "markdown",
   "id": "5e8dea98",
   "metadata": {},
   "source": [
    "#### Filenames and File Objects\n",
    "\n",
    "Most computer users are accustomed to the fact that files are identified by a `filename`. For example, when you create a document with a word processor and save the document in a file, you have to specify a filename. When you use a utility such as Windows Explorer to examine the contents of your disk, you see a list of filenames. The following figure shows how three files named `cat.jpg`, `notes.txt`, and `resume.docx` might be graphically represented in Windows.\n",
    "\n",
    "<img src=\"https://raw.githubusercontent.com/cxc1920/ISE224/main/pictures/6-5.png\">\n",
    "\n",
    "\n",
    "Each operating system has its own rules for naming files. Many systems support the use of filename extensions, which are short sequences of characters that appear at the end of a filename preceded by a period (which is known as a “dot”). For example, the files depicted in the prior figure have the extensions `.jpg`,`.txt`, and`.doc`. The extension usually indicates the type of data stored in the file. \n",
    "\n",
    "- For example, the `.jpg` extension usually indicates that the file contains a graphic image that is compressed according to the JPEG image standard. \n",
    "\n",
    "- The `.txt` extension usually indicates that the file contains text. \n",
    "\n",
    "- The `.doc` extension (as well as the .docx extension) usually indicates that the file contains a Microsoft Word document.\n",
    "\n",
    "\n",
    "In order for a program to work with a file on the computer’s disk, the program must create a **file object** in memory. A **file object** is an object that is associated with a *specific file* and provides a way for the program to work with that file. In the program, a variable references the file object. This variable is used to carry out any operations that are performed on the file. "
   ]
  },
  {
   "cell_type": "markdown",
   "id": "39592507",
   "metadata": {},
   "source": [
    "### Opening a File\n",
    "\n",
    "You use the `open` function in Python to open a file. \n",
    "\n",
    "The `open` function creates a **file object** and associates it with a file on the disk. Here is the general format of how the open function is used:"
   ]
  },
  {
   "cell_type": "markdown",
   "id": "034ad454",
   "metadata": {},
   "source": [
    "**Syntax:**\n",
    "```\n",
    "file_variable = open(filename, mode)\n",
    "```"
   ]
  },
  {
   "cell_type": "markdown",
   "id": "fbd8648e",
   "metadata": {},
   "source": [
    "In the general format:\n",
    "\n",
    "- **file_variable** is the name of the variable that will reference the file object.\n",
    "\n",
    "- **filename** is a string specifying the name of the file.\n",
    "\n",
    "- **mode** is a string specifying the mode (reading, writing, etc.) in which the file will be opened.\n",
    "\n",
    "<img src=\"https://raw.githubusercontent.com/cxc1920/ISE224/main/pictures/6-6.png\">\n"
   ]
  },
  {
   "cell_type": "markdown",
   "id": "ac2a40dd",
   "metadata": {},
   "source": [
    "#### Example.\n",
    "\n",
    "For example, suppose the file `customers.txt` contains customer data, and we want to open it for reading. Here is an example of how we would call the open function:"
   ]
  },
  {
   "cell_type": "code",
   "execution_count": 5,
   "id": "0752657b",
   "metadata": {},
   "outputs": [],
   "source": [
    "customer_file = open('customers.txt', 'r')"
   ]
  },
  {
   "cell_type": "markdown",
   "id": "059a5957",
   "metadata": {},
   "source": [
    "After this statement executes, the file named `customers.txt` will be opened, and the variable `customer_file` will reference a file object that we can use to read data from the file."
   ]
  },
  {
   "cell_type": "markdown",
   "id": "66c79547",
   "metadata": {},
   "source": [
    "Suppose we want to create a file named `sales.txt` and write data to it. Here is an example of how we would call the open function:"
   ]
  },
  {
   "cell_type": "code",
   "execution_count": 6,
   "id": "438c857c",
   "metadata": {},
   "outputs": [],
   "source": [
    "sales_file = open('sales.txt', 'w')"
   ]
  },
  {
   "cell_type": "markdown",
   "id": "029afbc6",
   "metadata": {},
   "source": [
    "After this statement executes, the file named `sales.txt` will be created, and the variable `sales_file` will reference a file object that we can use to write data to the file.\n",
    "\n",
    "---"
   ]
  },
  {
   "cell_type": "markdown",
   "id": "0f7e3a2e",
   "metadata": {},
   "source": [
    "#### Warning!!!!!\n",
    "\n",
    "Remember, when you use the 'w' mode, you are creating the file on the disk. If a file with the specified name already exists when the file is opened, the contents of the existing file will be deleted.\n",
    "\n",
    "---"
   ]
  },
  {
   "cell_type": "markdown",
   "id": "3fbd4592",
   "metadata": {},
   "source": [
    "### Specifying the Location of a File\n",
    "\n",
    "When you pass a file name that does not contain a path as an argument to the open function, the Python interpreter assumes the file’s location is the same as that of the program. For example, suppose a program is located in the following folder on a Windows computer:"
   ]
  },
  {
   "cell_type": "markdown",
   "id": "3df82574",
   "metadata": {},
   "source": [
    "C:\\Users\\cxc1920\\Documents"
   ]
  },
  {
   "cell_type": "markdown",
   "id": "1c0d0d13",
   "metadata": {},
   "source": [
    "If the program is running and it executes the following statement, the file test.txt is created in the same folder:\n",
    "\n",
    "**test_file = open('test.txt', 'w')**\n",
    "\n",
    "If you want to open a file in a different location, you can specify a path as well as a filename in the argument that you pass to the open function. If you specify a path in a string literal (particularly on a Windows computer), be sure to prefix the string with the letter **r**. Here is an example:\n",
    "\n",
    "test_file = open(**r**'C:\\Users\\cxc1920\\temp\\test.txt', 'w')\n",
    "\n",
    "- This statement creates the file `test.txt` in the folder `C:\\Users\\cxc1920\\temp`. \n",
    "\n",
    "- The **r** prefix specifies that the string is a raw string. This causes the Python interpreter to read the **backslash characters** as literal backslashes. Without the **r** prefix, the interpreter would assume that the backslash characters were part of escape sequences, and an error would occur.\n",
    "\n",
    "**Syntax:**  \n",
    "```\n",
    "test_file = open('C:\\\\tmp\\\\test.txt', 'w')\n",
    "```"
   ]
  },
  {
   "cell_type": "code",
   "execution_count": 11,
   "id": "700a2298",
   "metadata": {},
   "outputs": [],
   "source": [
    "test_file = open(r'C:\\tmp\\test.txt', 'w')"
   ]
  },
  {
   "cell_type": "markdown",
   "id": "3c10f8f5",
   "metadata": {},
   "source": [
    "### Writing Data to a File  \n",
    "\n",
    "you have worked with several of Python’s library functions, and you have even written your own functions. Now, we will introduce you to another type of function, which is known as a `method`. \n",
    "\n",
    "A `method` is a function that belongs to an `object` and **performs some operation using that object**. Once you have opened a file, you use the file object’s methods to perform operations on the file."
   ]
  },
  {
   "cell_type": "markdown",
   "id": "aa005893",
   "metadata": {},
   "source": [
    "For example, file objects have a method named write that can be used to write data to a file. Here is the general format of how you call the write method:"
   ]
  },
  {
   "cell_type": "markdown",
   "id": "93ba025b",
   "metadata": {},
   "source": [
    "**file_variable.write(string)**"
   ]
  },
  {
   "cell_type": "markdown",
   "id": "ec5ee9d9",
   "metadata": {},
   "source": [
    "Let’s assume customer_file references a file object, and the file was opened for writing with the 'w' mode. \n",
    "\n",
    "Here is an example of how we would write the string ‘Charles Pace’ to the file:"
   ]
  },
  {
   "cell_type": "code",
   "execution_count": 10,
   "id": "47a201eb",
   "metadata": {},
   "outputs": [
    {
     "data": {
      "text/plain": [
       "12"
      ]
     },
     "execution_count": 10,
     "metadata": {},
     "output_type": "execute_result"
    }
   ],
   "source": [
    "customer_file = open('customers.txt', 'w')\n",
    "customer_file.write('Charles Pace')"
   ]
  },
  {
   "cell_type": "markdown",
   "id": "21f987ef",
   "metadata": {},
   "source": [
    "The following code shows another example:"
   ]
  },
  {
   "cell_type": "code",
   "execution_count": 14,
   "id": "42bcf302",
   "metadata": {},
   "outputs": [
    {
     "data": {
      "text/plain": [
       "12"
      ]
     },
     "execution_count": 14,
     "metadata": {},
     "output_type": "execute_result"
    }
   ],
   "source": [
    "name = \"Charles Pace\"\n",
    "customer_file.write(name)"
   ]
  },
  {
   "cell_type": "markdown",
   "id": "2e2d8a7f",
   "metadata": {},
   "source": [
    "In Python, you use the file object’s close method to close a file. For example, the following statement `closes` the file that is associated with customer_file:"
   ]
  },
  {
   "cell_type": "code",
   "execution_count": 16,
   "id": "8c0da948",
   "metadata": {},
   "outputs": [],
   "source": [
    "customer_file.close()"
   ]
  },
  {
   "cell_type": "markdown",
   "id": "c781004a",
   "metadata": {},
   "source": [
    "#### Example. open an output file, writes data to it, then closes it."
   ]
  },
  {
   "cell_type": "code",
   "execution_count": 22,
   "id": "d0188f08",
   "metadata": {},
   "outputs": [],
   "source": [
    "# Program 6 - 1\n",
    "# This program writes three lines of data\n",
    "# to a file.\n",
    "def writefile():\n",
    "    # Open a file named philosophers.txt.\n",
    "    outfile = open('philosophers.txt', 'w') # opens the file philosophers.txt using the 'w' mode. \n",
    "                                            # It also creates a file object in memory and \n",
    "                                            # assigns that object to the outfile variable \n",
    "    # Write the names of three philosphers\n",
    "    # to the file.\n",
    "    outfile.write('John Locke\\n')\n",
    "    outfile.write('David Hume\\n')\n",
    "    outfile.write('Edmund Burke\\n')\n",
    "\n",
    "    # Close the file.\n",
    "    outfile.close()\n",
    "\n",
    "writefile()"
   ]
  },
  {
   "cell_type": "markdown",
   "id": "b3142035",
   "metadata": {},
   "source": [
    "### Reading Data From a File"
   ]
  },
  {
   "cell_type": "markdown",
   "id": "243643c6",
   "metadata": {},
   "source": [
    "If a file has been opened for reading (using the `'r'` mode) you can use the file object’s read method to read its entire contents into memory. When you call the read method, it returns the file’s contents as a string. "
   ]
  },
  {
   "cell_type": "code",
   "execution_count": 23,
   "id": "201edff0",
   "metadata": {},
   "outputs": [
    {
     "name": "stdout",
     "output_type": "stream",
     "text": [
      "John Locke\n",
      "David Hume\n",
      "Edmund Burke\n",
      "\n"
     ]
    }
   ],
   "source": [
    "# Program 6 - 2\n",
    "# This program reads and displays the contents\n",
    "# of the philosophers.txt file.\n",
    "def readfile():\n",
    "    # Open a file named philosophers.txt.\n",
    "    infile = open('philosophers.txt', 'r')\n",
    "\n",
    "    # Read the file's contents.\n",
    "    file_contents = infile.read()\n",
    "\n",
    "    # Close the file.\n",
    "    infile.close()\n",
    "\n",
    "    # Print the data that was read into\n",
    "    # memory.\n",
    "    print(file_contents)\n",
    "\n",
    "readfile()"
   ]
  },
  {
   "cell_type": "markdown",
   "id": "15ca3ce1",
   "metadata": {},
   "source": [
    "Although the read method allows you to easily read the entire contents of a file with one statement, many programs need to read and process the items that are stored in a file **one at a time**. \n",
    "\n",
    "For example, suppose a file contains a series of sales amounts, and you need to write a program that calculates the total of the amounts in the file. The program would read each sale amount from the file and add it to an accumulator."
   ]
  },
  {
   "cell_type": "markdown",
   "id": "799f2b55",
   "metadata": {},
   "source": [
    "In Python, you can use the readline method to read a line from a file. (A line is simply a string of characters that are terminated with a \\n.) The method returns the line as a string, including the \\n."
   ]
  },
  {
   "cell_type": "code",
   "execution_count": 25,
   "id": "707aed5c",
   "metadata": {},
   "outputs": [
    {
     "name": "stdout",
     "output_type": "stream",
     "text": [
      "John Locke\n",
      "\n",
      "David Hume\n",
      "\n",
      "Edmund Burke\n",
      "\n"
     ]
    }
   ],
   "source": [
    "# Program 6 - 3\n",
    "# This program reads the contents of the\n",
    "# philosophers.txt file one line at a time.\n",
    "def Readbyline():\n",
    "    # Open a file named philosophers.txt.\n",
    "    infile = open('philosophers.txt', 'r')\n",
    "\n",
    "    # Read three lines from the file\n",
    "    line1 = infile.readline()\n",
    "    line2 = infile.readline()\n",
    "    line3 = infile.readline()\n",
    "\n",
    "    # Close the file.\n",
    "    infile.close()\n",
    "\n",
    "    # Print the data that was read into\n",
    "    # memory.\n",
    "    print(line1)\n",
    "    print(line2)\n",
    "    print(line3)\n",
    "    \n",
    "Readbyline()"
   ]
  },
  {
   "cell_type": "markdown",
   "id": "af40dc52",
   "metadata": {},
   "source": [
    "Before we examine the code, notice that a blank line is displayed after each line in the output. This is because each item that is read from the file ends with a newline character (\\n). Later, you will learn how to remove the newline character."
   ]
  },
  {
   "cell_type": "markdown",
   "id": "f46faeb9",
   "metadata": {},
   "source": [
    "<img src=\"https://raw.githubusercontent.com/cxc1920/ISE224/main/pictures/6-7.png\">\n"
   ]
  },
  {
   "cell_type": "markdown",
   "id": "d2fa9d07",
   "metadata": {},
   "source": [
    "### Concatenating a Newline to a String\n",
    "\n",
    "Program 6-1 wrote three string literals to a file, and each string literal ended with a \\n escape sequence. In most cases, the data items that are written to a file are not string literals, but values in memory that are referenced by variables. This would be the case in a program that prompts the user to enter data and then writes that data to a file.\n",
    "\n",
    "When a program writes data that has been entered by the user to a file, it is usually necessary to concatenate a `\\n` escape sequence to the data before writing it. This ensures that each piece of data is written to a separate line in the file"
   ]
  },
  {
   "cell_type": "code",
   "execution_count": 38,
   "id": "66f40ec4",
   "metadata": {},
   "outputs": [
    {
     "name": "stdout",
     "output_type": "stream",
     "text": [
      "Enter the names of three friends.\n",
      "Friend #1: Joe\n",
      "Friend #2: Rose\n",
      "Friend #3: Bob\n",
      "The names were written to friends.txt.\n"
     ]
    }
   ],
   "source": [
    "# Program 6 - 4\n",
    "# This program gets three names from the user\n",
    "# and writes them to a file.\n",
    "\n",
    "def WriteNames2File():\n",
    "    # Get three names.\n",
    "    print('Enter the names of three friends.')\n",
    "    name1 = input('Friend #1: ')\n",
    "    name2 = input('Friend #2: ')\n",
    "    name3 = input('Friend #3: ')\n",
    "\n",
    "    # Open a file named friends.txt.\n",
    "    myfile = open('friends.txt', 'w')\n",
    "\n",
    "    # Write the names to the file.\n",
    "    myfile.write(name1 + '\\n') # myfile.write(f'{name1}\\n')\n",
    "    myfile.write(name2 + '\\n')\n",
    "    myfile.write(name3 + '\\n')\n",
    "\n",
    "    # Close the file.\n",
    "    myfile.close()\n",
    "    print('The names were written to friends.txt.')\n",
    "\n",
    "WriteNames2File()"
   ]
  },
  {
   "cell_type": "markdown",
   "id": "833a4366",
   "metadata": {},
   "source": [
    "### Reading a String and Stripping the Newline from it"
   ]
  },
  {
   "cell_type": "markdown",
   "id": "a288ea9b",
   "metadata": {},
   "source": [
    "Sometimes complications are caused by the \\n that appears at the end of the strings that are returned from the readline method. For example, did you notice in the sample output of Program 6-3 that a blank line is printed after each line of output? This is because each of the strings that are printed in lines 17 through 19 end with a \\n escape sequence. When the strings are printed, the \\n causes an extra blank line to appear."
   ]
  },
  {
   "cell_type": "markdown",
   "id": "2cbe481a",
   "metadata": {},
   "source": [
    "- `[:-1]` \n",
    "- `.split('\\n')[0]`\n",
    "- `.rstrip('\\n')` "
   ]
  },
  {
   "cell_type": "code",
   "execution_count": 37,
   "id": "4b6b0ad5",
   "metadata": {},
   "outputs": [
    {
     "name": "stdout",
     "output_type": "stream",
     "text": [
      "John Locke\n",
      "David Hume\n",
      "Edmund Burke\n"
     ]
    }
   ],
   "source": [
    "# Program 6 - 5\n",
    "# This program reads the contents of the\n",
    "# philosophers.txt file one line at a time. \n",
    "# use [:-1] or .split('\\n')[0] or .rstrip('\\n') to remove '\\n' in the end\n",
    "def Readbyline():\n",
    "    # Open a file named philosophers.txt.\n",
    "    infile = open('philosophers.txt', 'r')\n",
    "\n",
    "    # Read three lines from the file\n",
    "    line1 = infile.readline().split('\\n')[0]\n",
    "    line2 = infile.readline().rstrip('\\n')\n",
    "    line3 = infile.readline()[:-1]\n",
    "\n",
    "    # Close the file.\n",
    "    infile.close()\n",
    "\n",
    "    # Print the data that was read into\n",
    "    # memory.\n",
    "    print(line1)\n",
    "    print(line2)\n",
    "    print(line3)\n",
    "    \n",
    "Readbyline()"
   ]
  },
  {
   "cell_type": "markdown",
   "id": "b2d13a1a",
   "metadata": {},
   "source": [
    "### Appending Data to an Existing File"
   ]
  },
  {
   "cell_type": "markdown",
   "id": "0783fd78",
   "metadata": {},
   "source": [
    "When you use the `'w'` mode to open an output file and a file with the specified filename already exists on the disk, the existing file will be deleted and a new empty file with the same name will be created. Sometimes you want to preserve an existing file and append new data to its current contents. Appending data to a file means writing new data to the end of the data that already exists in the file.\n",
    "\n",
    "In Python, you can use the `'a'` mode to open an output file in append mode, which means the following.\n",
    "\n",
    "- If the file already exists, it will not be erased. If the file does not exist, it will be created.  \n",
    "- When data is written to the file, it will be written at the end of the file’s current contents.  \n",
    "\n",
    "For example, assume the file friends.txt contains the following names, each in a separate line:"
   ]
  },
  {
   "cell_type": "markdown",
   "id": "d372a751",
   "metadata": {},
   "source": [
    "For example, assume the file `friends.txt` contains the following names, each in a separate line:\n",
    "\n",
    "Joe  \n",
    "Rose  \n",
    "Bob  \n",
    "\n",
    "For example, assume the file friends.txt contains the following names, each in a separate line:"
   ]
  },
  {
   "cell_type": "code",
   "execution_count": 39,
   "id": "16922d54",
   "metadata": {},
   "outputs": [],
   "source": [
    "# Program 6 - 6\n",
    "myfile = open('friends.txt', 'a')\n",
    "myfile.write('Matt\\n')\n",
    "myfile.write('Chris\\n')\n",
    "myfile.write('Suze\\n')\n",
    "myfile.close()"
   ]
  },
  {
   "cell_type": "markdown",
   "id": "97030094",
   "metadata": {},
   "source": [
    "### Writing and Reading Numeric Data"
   ]
  },
  {
   "cell_type": "markdown",
   "id": "b75729f3",
   "metadata": {},
   "source": [
    "Strings can be written directly to a file with the write method, but numbers must be converted to strings before they can be written. Python has a built-in function named str that converts a value to a string. For example, assuming the variable num is assigned the value 99, the expression str(num) will return the string '99'."
   ]
  },
  {
   "cell_type": "code",
   "execution_count": 40,
   "id": "c15e3a97",
   "metadata": {},
   "outputs": [
    {
     "ename": "TypeError",
     "evalue": "write() argument must be str, not int",
     "output_type": "error",
     "traceback": [
      "\u001b[1;31m---------------------------------------------------------------------------\u001b[0m",
      "\u001b[1;31mTypeError\u001b[0m                                 Traceback (most recent call last)",
      "\u001b[1;32m~\\AppData\\Local\\Temp\\ipykernel_9488\\1364505029.py\u001b[0m in \u001b[0;36m<module>\u001b[1;34m\u001b[0m\n\u001b[0;32m      1\u001b[0m \u001b[0mmyfile\u001b[0m \u001b[1;33m=\u001b[0m \u001b[0mopen\u001b[0m\u001b[1;33m(\u001b[0m\u001b[1;34m'tmp.txt'\u001b[0m\u001b[1;33m,\u001b[0m \u001b[1;34m'a+'\u001b[0m\u001b[1;33m)\u001b[0m\u001b[1;33m\u001b[0m\u001b[1;33m\u001b[0m\u001b[0m\n\u001b[1;32m----> 2\u001b[1;33m \u001b[0mmyfile\u001b[0m\u001b[1;33m.\u001b[0m\u001b[0mwrite\u001b[0m\u001b[1;33m(\u001b[0m\u001b[1;36m99\u001b[0m\u001b[1;33m)\u001b[0m\u001b[1;33m\u001b[0m\u001b[1;33m\u001b[0m\u001b[0m\n\u001b[0m\u001b[0;32m      3\u001b[0m \u001b[0mmyfile\u001b[0m\u001b[1;33m.\u001b[0m\u001b[0mclose\u001b[0m\u001b[1;33m(\u001b[0m\u001b[1;33m)\u001b[0m\u001b[1;33m\u001b[0m\u001b[1;33m\u001b[0m\u001b[0m\n",
      "\u001b[1;31mTypeError\u001b[0m: write() argument must be str, not int"
     ]
    }
   ],
   "source": [
    "# Example.\n",
    "myfile = open('tmp.txt', 'a+')\n",
    "myfile.write(99)\n",
    "myfile.close()"
   ]
  },
  {
   "cell_type": "code",
   "execution_count": 44,
   "id": "66fc0ebd",
   "metadata": {},
   "outputs": [],
   "source": [
    "# Example\n",
    "myfile = open('tmp.txt', 'a+')\n",
    "myfile.write('99')\n",
    "myfile.write('101')\n",
    "myfile.close()"
   ]
  },
  {
   "cell_type": "markdown",
   "id": "b37221d9",
   "metadata": {},
   "source": [
    "If you check the `tmp.txt`, you will find that the data stored is '99101'. How to save the numbers in newline?\n",
    "\n",
    "**outfile.write(str(num1) + '\\n')**"
   ]
  },
  {
   "cell_type": "code",
   "execution_count": 42,
   "id": "74623377",
   "metadata": {},
   "outputs": [
    {
     "name": "stdout",
     "output_type": "stream",
     "text": [
      "Enter a number: 22\n",
      "Enter another number: 14\n",
      "Enter another number: -99\n",
      "Data written to numbers.txt\n"
     ]
    }
   ],
   "source": [
    "# Program 6 - 7\n",
    "# This program demonstrates how numbers\n",
    "# must be converted to strings before they\n",
    "# are written to a text file.\n",
    "\n",
    "def WriteNumber2File():\n",
    "    # Open a file for writing.\n",
    "    outfile = open('numbers.txt', 'w')\n",
    "\n",
    "    # Get three numbers from the user.\n",
    "    num1 = int(input('Enter a number: '))\n",
    "    num2 = int(input('Enter another number: '))\n",
    "    num3 = int(input('Enter another number: '))\n",
    "\n",
    "    # Write the numbers to the file.\n",
    "    outfile.write(str(num1) + '\\n')\n",
    "    outfile.write(str(num2) + '\\n')\n",
    "    outfile.write(str(num3) + '\\n')\n",
    "\n",
    "    # Close the file.\n",
    "    outfile.close()\n",
    "    print('Data written to numbers.txt')\n",
    "\n",
    "WriteNumber2File()"
   ]
  },
  {
   "cell_type": "markdown",
   "id": "3e13a608",
   "metadata": {},
   "source": [
    "When you read numbers from a text file, they are always read as `strings`. For example, suppose a program uses the following code to read the first line from the numbers.txt"
   ]
  },
  {
   "cell_type": "code",
   "execution_count": 47,
   "id": "b3d2df13",
   "metadata": {},
   "outputs": [
    {
     "name": "stdout",
     "output_type": "stream",
     "text": [
      "22\n",
      "\n",
      "<class 'str'>\n"
     ]
    }
   ],
   "source": [
    "infile = open('numbers.txt', 'r')\n",
    "value = infile.readline()\n",
    "print(value)\n",
    "print(type(value))\n",
    "infile.close()"
   ]
  },
  {
   "cell_type": "markdown",
   "id": "6a7e58d1",
   "metadata": {},
   "source": [
    "Recall from Chapter 2 that Python provides the built-in function int to convert a string to an integer, and the built-in function float to convert a string to a floating-point number. \n",
    "\n",
    "For example, we could modify the code previously shown as follows:"
   ]
  },
  {
   "cell_type": "code",
   "execution_count": 48,
   "id": "643cf6bc",
   "metadata": {},
   "outputs": [
    {
     "name": "stdout",
     "output_type": "stream",
     "text": [
      "22\n",
      "<class 'int'>\n"
     ]
    }
   ],
   "source": [
    "infile = open('numbers.txt', 'r')\n",
    "string_input = infile.readline()\n",
    "value = int(string_input)\n",
    "print(value)\n",
    "print(type(value))\n",
    "infile.close()"
   ]
  },
  {
   "cell_type": "code",
   "execution_count": 49,
   "id": "6a410ffd",
   "metadata": {},
   "outputs": [
    {
     "name": "stdout",
     "output_type": "stream",
     "text": [
      "22\n",
      "<class 'int'>\n"
     ]
    }
   ],
   "source": [
    "infile = open('numbers.txt', 'r')\n",
    "value = int(infile.readline())\n",
    "print(value)\n",
    "print(type(value))\n",
    "infile.close()"
   ]
  },
  {
   "cell_type": "markdown",
   "id": "3ad84654",
   "metadata": {},
   "source": [
    "A more complete demonstration. The contents of the numbers.txt file are read, converted to integers, and added together."
   ]
  },
  {
   "cell_type": "code",
   "execution_count": 50,
   "id": "30a566c7",
   "metadata": {},
   "outputs": [
    {
     "name": "stdout",
     "output_type": "stream",
     "text": [
      "The numbers are: 22, 14, -99\n",
      "Their total is: -63\n"
     ]
    }
   ],
   "source": [
    "# Program 6 - 8\n",
    "# This program demonstrates how numbers that are\n",
    "# read from a file must be converted from strings\n",
    "# before they are used in a math operation.\n",
    "\n",
    "def main():\n",
    "    # Open a file for reading.\n",
    "    infile = open('numbers.txt', 'r')\n",
    "\n",
    "    # Read three numbers from the file.\n",
    "    num1 = int(infile.readline())\n",
    "    num2 = int(infile.readline())\n",
    "    num3 = int(infile.readline())\n",
    "\n",
    "    # Close the file.\n",
    "    infile.close()\n",
    "\n",
    "    # Add the three numbers.\n",
    "    total = num1 + num2 + num3\n",
    "\n",
    "    # Display the numbers and their total.\n",
    "    print(f'The numbers are: {num1}, {num2}, {num3}')\n",
    "    print(f'Their total is: {total}')\n",
    "\n",
    "# Call the main function.\n",
    "if __name__ == '__main__':\n",
    "    main()"
   ]
  },
  {
   "cell_type": "markdown",
   "id": "382ff1ae",
   "metadata": {},
   "source": [
    "#### Note: What does the if __name__ == \"__main__\": do in Python?\n",
    "\n",
    "A Python programme uses the condition if __name__ == '__main__' to only run the code inside the if statement when the program is run directly by the Python interpreter. The code inside the if statement is not executed when the file's code is imported as a module."
   ]
  }
 ],
 "metadata": {
  "kernelspec": {
   "display_name": "Python 3 (ipykernel)",
   "language": "python",
   "name": "python3"
  },
  "language_info": {
   "codemirror_mode": {
    "name": "ipython",
    "version": 3
   },
   "file_extension": ".py",
   "mimetype": "text/x-python",
   "name": "python",
   "nbconvert_exporter": "python",
   "pygments_lexer": "ipython3",
   "version": "3.10.10"
  }
 },
 "nbformat": 4,
 "nbformat_minor": 5
}
