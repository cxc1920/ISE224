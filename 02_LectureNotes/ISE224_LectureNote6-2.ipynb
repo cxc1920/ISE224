{
 "cells": [
  {
   "cell_type": "markdown",
   "id": "d9704936",
   "metadata": {},
   "source": [
    "# ISE224 LectureNote 6-2: Using Loops to Process Files\n",
    "---\n",
    "\n",
    "**Topics**\n",
    "1. Using Loop to process Files: Input and Output\n",
    "2. Processing Records\n",
    "---"
   ]
  },
  {
   "cell_type": "markdown",
   "id": "197a461a",
   "metadata": {},
   "source": [
    "**Concept:** Files usually hold large amounts of data, and programs typically use a loop to process the data in a file."
   ]
  },
  {
   "cell_type": "markdown",
   "id": "0abddcfa",
   "metadata": {},
   "source": [
    "Files are typically used to hold large collections of data. When a program uses a file to write or read a large amount of data, a loop is typically involved."
   ]
  },
  {
   "cell_type": "code",
   "execution_count": 1,
   "id": "aba3d2d9",
   "metadata": {},
   "outputs": [
    {
     "name": "stdout",
     "output_type": "stream",
     "text": [
      "For how many days do you have sales? 5\n",
      "Enter the sales for day #1: 1000.\n",
      "Enter the sales for day #2: 2000.\n",
      "Enter the sales for day #3: 3000.\n",
      "Enter the sales for day #4: 4000.\n",
      "Enter the sales for day #5: 5000.\n",
      "Data written to sales.txt.\n"
     ]
    }
   ],
   "source": [
    "# Example.\n",
    "# This program prompts the user for sales amounts\n",
    "# and writes those amounts to the sales.txt file.\n",
    "\n",
    "# Get the number of days.\n",
    "num_days = int(input('For how many days do ' +\n",
    "                     'you have sales? '))\n",
    "\n",
    "# Open a new file named sales.txt.\n",
    "sales_file = open('sales.txt', 'w')\n",
    "\n",
    "# Get the amount of sales for each day and write\n",
    "# it to the file.\n",
    "for count in range(1, num_days + 1):\n",
    "    # Get the sales for a day.\n",
    "    sales = float(input(\n",
    "        f'Enter the sales for day #{count}: '))\n",
    "\n",
    "    # Write the sales amount to the file.\n",
    "    sales_file.write(f'{sales}\\n')\n",
    "\n",
    "# Close the file.\n",
    "sales_file.close()\n",
    "print('Data written to sales.txt.')"
   ]
  },
  {
   "cell_type": "markdown",
   "id": "b2cbf1b4",
   "metadata": {},
   "source": [
    "### Reading a File with a Loop and Detecting the End of the File\n",
    "\n",
    "Quite often, a program must read the contents of a file without knowing the number of items that are stored in the file. \n",
    "\n",
    "For example, the sales.txt file that was created by the previous program can have any number of items stored in it, because the program asks the user for the number of days for which he or she has sales amounts. If the user enters 5 as the number of days, the program gets 5 sales amounts and writes them to the file. If the user enters 100 as the number of days, the program gets 100 sales amounts and writes them to the file.\n",
    "\n",
    "This presents a problem if you want to write a program that processes all of the items in the file, however many there are. For example, suppose you need to write a program that reads all of the amounts in the sales.txt file and calculates their total. You can use a loop to read the items in the file, but you need a way of knowing when the end of the file has been reached.\n",
    "\n",
    "In Python, **the readline method returns an empty string ('') when it has attempted to read beyond the end of a file**. This makes it possible to write a while loop that determines when the end of a file has been reached. Here is the general algorithm, in pseudocode:"
   ]
  },
  {
   "cell_type": "markdown",
   "id": "f75b2f65",
   "metadata": {},
   "source": [
    "- Open the file  \n",
    "- Use readline to read the first line from the file  \n",
    "- While the value returned from readline is not an empty string:  \n",
    "    - Process the iterm that was just read from the file  \n",
    "    - Use readline to read the next line from the file.  \n",
    "- Close the file  "
   ]
  },
  {
   "cell_type": "markdown",
   "id": "0f8dc0d4",
   "metadata": {},
   "source": [
    "#### Note\n",
    "\n",
    "In this algorithm, we call the `readline` method just *before* entering the while loop. The purpose of this method call is to get the first line in the file, so it can be tested by the loop. This initial read operation is called a priming read."
   ]
  },
  {
   "cell_type": "markdown",
   "id": "1a242b04",
   "metadata": {},
   "source": [
    "<img src=\"https://raw.githubusercontent.com/cxc1920/ISE224/main/pictures/6-8.png\">"
   ]
  },
  {
   "cell_type": "code",
   "execution_count": 2,
   "id": "83d440ea",
   "metadata": {},
   "outputs": [
    {
     "name": "stdout",
     "output_type": "stream",
     "text": [
      "1000.00\n",
      "2000.00\n",
      "3000.00\n",
      "4000.00\n",
      "5000.00\n"
     ]
    }
   ],
   "source": [
    "# Example. \n",
    "# This program reads all of the values in\n",
    "# the sales.txt file.\n",
    "\n",
    "# Open the sales.txt file for reading.\n",
    "sales_file = open('sales.txt', 'r')\n",
    "\n",
    "# Read the first line from the file, but\n",
    "# don't convert to a number yet. We still\n",
    "# need to test for an empty string.\n",
    "line = sales_file.readline()\n",
    "\n",
    "# As long as an empty string is not returned\n",
    "# from readline, continue processing.\n",
    "while line != '':\n",
    "    # Convert line to a float.\n",
    "    amount = float(line)\n",
    "\n",
    "    # Format and display the amount.\n",
    "    print(f'{amount:.2f}')\n",
    "\n",
    "    # Read the next line.\n",
    "    line = sales_file.readline()\n",
    "\n",
    "# Close the file.\n",
    "sales_file.close()"
   ]
  },
  {
   "cell_type": "markdown",
   "id": "723c012f",
   "metadata": {},
   "source": [
    "### Using Python’s for Loop to Read Lines\n",
    "\n",
    "The Python language also allows you to write a for loop that automatically reads the lines in a file without testing for any special condition that signals the end of the file. The loop does not require a priming read operation, and it automatically stops when the end of the file has been reached. When you simply want to read the lines in a file, one after the other, this technique is simpler and more elegant than writing a while loop that explicitly tests for an end of the file condition. Here is the general format of the loop:"
   ]
  },
  {
   "cell_type": "markdown",
   "id": "4bb9349e",
   "metadata": {},
   "source": [
    "- for variable in file_object:\n",
    "    - statement\n",
    "    - statement\n",
    "    - etc."
   ]
  },
  {
   "cell_type": "code",
   "execution_count": 3,
   "id": "8fcf28d3",
   "metadata": {},
   "outputs": [
    {
     "name": "stdout",
     "output_type": "stream",
     "text": [
      "1000.00\n",
      "2000.00\n",
      "3000.00\n",
      "4000.00\n",
      "5000.00\n"
     ]
    }
   ],
   "source": [
    "# Example. Using for loop to read file\n",
    "\n",
    "# This program uses the for loop to read\n",
    "# all of the values in the sales.txt file.\n",
    "\n",
    "# Open the sales.txt file for reading.\n",
    "sales_file = open('sales.txt', 'r')\n",
    "\n",
    "# Read all the lines from the file.\n",
    "for line in sales_file:\n",
    "    # Convert line to a float.\n",
    "    amount = float(line)\n",
    "    # Format and display the amount.\n",
    "    print(f'{amount:.2f}')\n",
    "\n",
    "# Close the file.\n",
    "sales_file.close()"
   ]
  },
  {
   "cell_type": "markdown",
   "id": "0c060364",
   "metadata": {},
   "source": [
    "---  \n",
    "### Exercise\n"
   ]
  },
  {
   "cell_type": "markdown",
   "id": "0e0a719c",
   "metadata": {},
   "source": [
    "#### Working with Files\n",
    "\n",
    "Kevin is a freelance video producer who makes TV commercials for local businesses. \n",
    "\n",
    "When he makes a commercial, he usually films several short videos. Later, he puts these short videos together to make the final commercial. He has asked you to write the following two programs.\n",
    "\n",
    "- A program that allows him to enter the running time (in seconds) of each short video in a project. The running times are saved to a file.  \n",
    "- A program that reads the contents of the file, displays the running times, and then displays the total running time of all the segments\n",
    "\n",
    "\n",
    "**Pseudocode:**\n",
    "\n",
    "- Get the number of videos in the project.  \n",
    "- Open an output file.  \n",
    "- For each video in the project:\n",
    "    - Get the video's running time.  \n",
    "    - Write the running time to the file.  \n",
    "- Close the file."
   ]
  },
  {
   "cell_type": "code",
   "execution_count": 1,
   "id": "b0801ce8",
   "metadata": {},
   "outputs": [
    {
     "name": "stdout",
     "output_type": "stream",
     "text": [
      "How many videos are in the project? 6\n",
      "Enter the running times for each video.\n",
      "Video #1: 24.5\n",
      "Video #2: 12.2\n",
      "Video #3: 10.8\n",
      "Video #4: 20.4\n",
      "Video #5: 22.2\n",
      "Video #6: 19.3\n",
      "The times have been saved to video_times.txt.\n"
     ]
    }
   ],
   "source": [
    "# Get the number of videos in the project.\n",
    "num_videos = int(input('How many videos are in the project? '))\n",
    "\n",
    "# Open the file, 'video_times.txt', to hold the running times.\n",
    "video_file = open('video_times.txt', 'w')\n",
    "\n",
    "# Get each video's running time and write\n",
    "# it to the file.\n",
    "print('Enter the running times for each video.')\n",
    "for count in range(1,num_videos+1):\n",
    "    run_time = float(input(f'Video #{count}: '))\n",
    "    video_file.write(f'{run_time}\\n')\n",
    "\n",
    "# Close the file.\n",
    "video_file.close()\n",
    "print('The times have been saved to video_times.txt.')"
   ]
  },
  {
   "cell_type": "markdown",
   "id": "b66bb853",
   "metadata": {},
   "source": [
    "#### read the file\n",
    "\n",
    "**Pseudocode:**\n",
    "\n",
    "- Initialize an accumulator to 0. \n",
    "- Initialize a count variable to 0.  \n",
    "- Open the input file.  \n",
    "- For each line in the file:\n",
    "    - Convert the line to a floating-point number. \n",
    "    - Add one to the count variable.  \n",
    "    - Display the running time for this video.\n",
    "    - Add the running time to the accumulator.  \n",
    "- Close the file.  \n",
    "- Display the contents of the accumulator as the total running time."
   ]
  },
  {
   "cell_type": "code",
   "execution_count": 2,
   "id": "6f5c21b5",
   "metadata": {},
   "outputs": [
    {
     "name": "stdout",
     "output_type": "stream",
     "text": [
      "Here are the running times for each video:\n",
      "Video #1: 24.5\n",
      "Video #2: 12.2\n",
      "Video #3: 10.8\n",
      "Video #4: 20.4\n",
      "Video #5: 22.2\n",
      "Video #6: 19.3\n",
      "The total running time is 109.4 seconds.\n"
     ]
    }
   ],
   "source": [
    "# Open the video_times.txt file for reading.\n",
    "video_file = open('video_times.txt', 'r')\n",
    "\n",
    "\n",
    "# Initialize an accumulator to 0.0.\n",
    "total = 0.0\n",
    "\n",
    "# Initialize a variable to keep count of the videos.\n",
    "count = 0\n",
    "\n",
    "print('Here are the running times for each video:')\n",
    "\n",
    "# Get the values from the file and total them.\n",
    "for line in video_file:\n",
    "    # Convert a line to a float.\n",
    "    run_time = float(line)\n",
    "\n",
    "    # Add 1 to the count variable.\n",
    "    count += 1\n",
    "\n",
    "    # Display the time.\n",
    "    print(f'Video #{count}: {run_time}')\n",
    "\n",
    "    # Add the time to total.\n",
    "    total += run_time\n",
    "\n",
    "# Close the file.\n",
    "video_file.close()\n",
    "\n",
    "# Display the total of the running times.\n",
    "print(f'The total running time is {total} seconds.')"
   ]
  },
  {
   "cell_type": "markdown",
   "id": "4fc47c59",
   "metadata": {},
   "source": [
    "### The Comma-Separated Values (CSV) file\n",
    "\n",
    "A `CSV` file consists of `rows` and `columns`, where **rows represent records** and **columns represent fields**. Each row is separated by a line break, while columns are separated by commas. The **first row** often contains the **column headers**, which describe the data in each column. \n",
    "\n",
    "Here's a simple example of a CSV file containing information about students and their grades:\n",
    "\n",
    "Name,Subject,Grade   \n",
    "Alice,Math,85   \n",
    "Bob,Physics,90   \n",
    "Charlie,Chemistry,78   \n"
   ]
  },
  {
   "cell_type": "markdown",
   "id": "e64bfae2",
   "metadata": {},
   "source": [
    "You can create, open, and edit CSV files using spreadsheet software such as Microsoft Excel, Google Sheets, or LibreOffice Calc. They can also be imported into databases and other data-processing tools, and they are easily read and manipulated using programming languages such as Python"
   ]
  },
  {
   "cell_type": "markdown",
   "id": "1df29d43",
   "metadata": {},
   "source": [
    "### Python code to read a CSV file without using any external packages or libraries."
   ]
  },
  {
   "cell_type": "code",
   "execution_count": 6,
   "id": "a494523d",
   "metadata": {},
   "outputs": [
    {
     "name": "stdout",
     "output_type": "stream",
     "text": [
      "['id', 'Sepal.Length', 'Sepal.Width', 'Petal.Length', 'Petal.Width', 'Species']\n",
      "['1', '5.1', '3.5', '1.4', '0.2', 'setosa']\n",
      "['2', '4.9', '3', '1.4', '0.2', 'setosa']\n",
      "['3', '4.7', '3.2', '1.3', '0.2', 'setosa']\n",
      "['4', '4.6', '3.1', '1.5', '0.2', 'setosa']\n",
      "['5', '5', '3.6', '1.4', '0.2', 'setosa']\n",
      "['6', '5.4', '3.9', '1.7', '0.4', 'setosa']\n",
      "['7', '4.6', '3.4', '1.4', '0.3', 'setosa']\n",
      "['8', '5', '3.4', '1.5', '0.2', 'setosa']\n",
      "['9', '4.4', '2.9', '1.4', '0.2', 'setosa']\n",
      "['10', '4.9', '3.1', '1.5', '0.1', 'setosa']\n",
      "['11', '5.4', '3.7', '1.5', '0.2', 'setosa']\n",
      "['12', '4.8', '3.4', '1.6', '0.2', 'setosa']\n",
      "['13', '4.8', '3', '1.4', '0.1', 'setosa']\n",
      "['14', '4.3', '3', '1.1', '0.1', 'setosa']\n",
      "['15', '5.8', '4', '1.2', '0.2', 'setosa']\n",
      "['16', '5.7', '4.4', '1.5', '0.4', 'setosa']\n",
      "['17', '5.4', '3.9', '1.3', '0.4', 'setosa']\n",
      "['18', '5.1', '3.5', '1.4', '0.3', 'setosa']\n",
      "['19', '5.7', '3.8', '1.7', '0.3', 'setosa']\n",
      "['20', '5.1', '3.8', '1.5', '0.3', 'setosa']\n",
      "['21', '5.4', '3.4', '1.7', '0.2', 'setosa']\n",
      "['22', '5.1', '3.7', '1.5', '0.4', 'setosa']\n",
      "['23', '4.6', '3.6', '1', '0.2', 'setosa']\n",
      "['24', '5.1', '3.3', '1.7', '0.5', 'setosa']\n",
      "['25', '4.8', '3.4', '1.9', '0.2', 'setosa']\n",
      "['26', '5', '3', '1.6', '0.2', 'setosa']\n",
      "['27', '5', '3.4', '1.6', '0.4', 'setosa']\n",
      "['28', '5.2', '3.5', '1.5', '0.2', 'setosa']\n",
      "['29', '5.2', '3.4', '1.4', '0.2', 'setosa']\n",
      "['30', '4.7', '3.2', '1.6', '0.2', 'setosa']\n",
      "['31', '4.8', '3.1', '1.6', '0.2', 'setosa']\n",
      "['32', '5.4', '3.4', '1.5', '0.4', 'setosa']\n",
      "['33', '5.2', '4.1', '1.5', '0.1', 'setosa']\n",
      "['34', '5.5', '4.2', '1.4', '0.2', 'setosa']\n",
      "['35', '4.9', '3.1', '1.5', '0.2', 'setosa']\n",
      "['36', '5', '3.2', '1.2', '0.2', 'setosa']\n",
      "['37', '5.5', '3.5', '1.3', '0.2', 'setosa']\n",
      "['38', '4.9', '3.6', '1.4', '0.1', 'setosa']\n",
      "['39', '4.4', '3', '1.3', '0.2', 'setosa']\n",
      "['40', '5.1', '3.4', '1.5', '0.2', 'setosa']\n",
      "['41', '5', '3.5', '1.3', '0.3', 'setosa']\n",
      "['42', '4.5', '2.3', '1.3', '0.3', 'setosa']\n",
      "['43', '4.4', '3.2', '1.3', '0.2', 'setosa']\n",
      "['44', '5', '3.5', '1.6', '0.6', 'setosa']\n",
      "['45', '5.1', '3.8', '1.9', '0.4', 'setosa']\n",
      "['46', '4.8', '3', '1.4', '0.3', 'setosa']\n",
      "['47', '5.1', '3.8', '1.6', '0.2', 'setosa']\n",
      "['48', '4.6', '3.2', '1.4', '0.2', 'setosa']\n",
      "['49', '5.3', '3.7', '1.5', '0.2', 'setosa']\n",
      "['50', '5', '3.3', '1.4', '0.2', 'setosa']\n",
      "['51', '7', '3.2', '4.7', '1.4', 'versicolor']\n",
      "['52', '6.4', '3.2', '4.5', '1.5', 'versicolor']\n",
      "['53', '6.9', '3.1', '4.9', '1.5', 'versicolor']\n",
      "['54', '5.5', '2.3', '4', '1.3', 'versicolor']\n",
      "['55', '6.5', '2.8', '4.6', '1.5', 'versicolor']\n",
      "['56', '5.7', '2.8', '4.5', '1.3', 'versicolor']\n",
      "['57', '6.3', '3.3', '4.7', '1.6', 'versicolor']\n",
      "['58', '4.9', '2.4', '3.3', '1', 'versicolor']\n",
      "['59', '6.6', '2.9', '4.6', '1.3', 'versicolor']\n",
      "['60', '5.2', '2.7', '3.9', '1.4', 'versicolor']\n",
      "['61', '5', '2', '3.5', '1', 'versicolor']\n",
      "['62', '5.9', '3', '4.2', '1.5', 'versicolor']\n",
      "['63', '6', '2.2', '4', '1', 'versicolor']\n",
      "['64', '6.1', '2.9', '4.7', '1.4', 'versicolor']\n",
      "['65', '5.6', '2.9', '3.6', '1.3', 'versicolor']\n",
      "['66', '6.7', '3.1', '4.4', '1.4', 'versicolor']\n",
      "['67', '5.6', '3', '4.5', '1.5', 'versicolor']\n",
      "['68', '5.8', '2.7', '4.1', '1', 'versicolor']\n",
      "['69', '6.2', '2.2', '4.5', '1.5', 'versicolor']\n",
      "['70', '5.6', '2.5', '3.9', '1.1', 'versicolor']\n",
      "['71', '5.9', '3.2', '4.8', '1.8', 'versicolor']\n",
      "['72', '6.1', '2.8', '4', '1.3', 'versicolor']\n",
      "['73', '6.3', '2.5', '4.9', '1.5', 'versicolor']\n",
      "['74', '6.1', '2.8', '4.7', '1.2', 'versicolor']\n",
      "['75', '6.4', '2.9', '4.3', '1.3', 'versicolor']\n",
      "['76', '6.6', '3', '4.4', '1.4', 'versicolor']\n",
      "['77', '6.8', '2.8', '4.8', '1.4', 'versicolor']\n",
      "['78', '6.7', '3', '5', '1.7', 'versicolor']\n",
      "['79', '6', '2.9', '4.5', '1.5', 'versicolor']\n",
      "['80', '5.7', '2.6', '3.5', '1', 'versicolor']\n",
      "['81', '5.5', '2.4', '3.8', '1.1', 'versicolor']\n",
      "['82', '5.5', '2.4', '3.7', '1', 'versicolor']\n",
      "['83', '5.8', '2.7', '3.9', '1.2', 'versicolor']\n",
      "['84', '6', '2.7', '5.1', '1.6', 'versicolor']\n",
      "['85', '5.4', '3', '4.5', '1.5', 'versicolor']\n",
      "['86', '6', '3.4', '4.5', '1.6', 'versicolor']\n",
      "['87', '6.7', '3.1', '4.7', '1.5', 'versicolor']\n",
      "['88', '6.3', '2.3', '4.4', '1.3', 'versicolor']\n",
      "['89', '5.6', '3', '4.1', '1.3', 'versicolor']\n",
      "['90', '5.5', '2.5', '4', '1.3', 'versicolor']\n",
      "['91', '5.5', '2.6', '4.4', '1.2', 'versicolor']\n",
      "['92', '6.1', '3', '4.6', '1.4', 'versicolor']\n",
      "['93', '5.8', '2.6', '4', '1.2', 'versicolor']\n",
      "['94', '5', '2.3', '3.3', '1', 'versicolor']\n",
      "['95', '5.6', '2.7', '4.2', '1.3', 'versicolor']\n",
      "['96', '5.7', '3', '4.2', '1.2', 'versicolor']\n",
      "['97', '5.7', '2.9', '4.2', '1.3', 'versicolor']\n",
      "['98', '6.2', '2.9', '4.3', '1.3', 'versicolor']\n",
      "['99', '5.1', '2.5', '3', '1.1', 'versicolor']\n",
      "['100', '5.7', '2.8', '4.1', '1.3', 'versicolor']\n",
      "['101', '6.3', '3.3', '6', '2.5', 'virginica']\n",
      "['102', '5.8', '2.7', '5.1', '1.9', 'virginica']\n",
      "['103', '7.1', '3', '5.9', '2.1', 'virginica']\n",
      "['104', '6.3', '2.9', '5.6', '1.8', 'virginica']\n",
      "['105', '6.5', '3', '5.8', '2.2', 'virginica']\n",
      "['106', '7.6', '3', '6.6', '2.1', 'virginica']\n",
      "['107', '4.9', '2.5', '4.5', '1.7', 'virginica']\n",
      "['108', '7.3', '2.9', '6.3', '1.8', 'virginica']\n",
      "['109', '6.7', '2.5', '5.8', '1.8', 'virginica']\n",
      "['110', '7.2', '3.6', '6.1', '2.5', 'virginica']\n",
      "['111', '6.5', '3.2', '5.1', '2', 'virginica']\n",
      "['112', '6.4', '2.7', '5.3', '1.9', 'virginica']\n",
      "['113', '6.8', '3', '5.5', '2.1', 'virginica']\n",
      "['114', '5.7', '2.5', '5', '2', 'virginica']\n",
      "['115', '5.8', '2.8', '5.1', '2.4', 'virginica']\n",
      "['116', '6.4', '3.2', '5.3', '2.3', 'virginica']\n",
      "['117', '6.5', '3', '5.5', '1.8', 'virginica']\n",
      "['118', '7.7', '3.8', '6.7', '2.2', 'virginica']\n",
      "['119', '7.7', '2.6', '6.9', '2.3', 'virginica']\n",
      "['120', '6', '2.2', '5', '1.5', 'virginica']\n",
      "['121', '6.9', '3.2', '5.7', '2.3', 'virginica']\n",
      "['122', '5.6', '2.8', '4.9', '2', 'virginica']\n",
      "['123', '7.7', '2.8', '6.7', '2', 'virginica']\n",
      "['124', '6.3', '2.7', '4.9', '1.8', 'virginica']\n",
      "['125', '6.7', '3.3', '5.7', '2.1', 'virginica']\n",
      "['126', '7.2', '3.2', '6', '1.8', 'virginica']\n",
      "['127', '6.2', '2.8', '4.8', '1.8', 'virginica']\n",
      "['128', '6.1', '3', '4.9', '1.8', 'virginica']\n",
      "['129', '6.4', '2.8', '5.6', '2.1', 'virginica']\n",
      "['130', '7.2', '3', '5.8', '1.6', 'virginica']\n",
      "['131', '7.4', '2.8', '6.1', '1.9', 'virginica']\n",
      "['132', '7.9', '3.8', '6.4', '2', 'virginica']\n",
      "['133', '6.4', '2.8', '5.6', '2.2', 'virginica']\n",
      "['134', '6.3', '2.8', '5.1', '1.5', 'virginica']\n",
      "['135', '6.1', '2.6', '5.6', '1.4', 'virginica']\n",
      "['136', '7.7', '3', '6.1', '2.3', 'virginica']\n",
      "['137', '6.3', '3.4', '5.6', '2.4', 'virginica']\n",
      "['138', '6.4', '3.1', '5.5', '1.8', 'virginica']\n",
      "['139', '6', '3', '4.8', '1.8', 'virginica']\n",
      "['140', '6.9', '3.1', '5.4', '2.1', 'virginica']\n",
      "['141', '6.7', '3.1', '5.6', '2.4', 'virginica']\n",
      "['142', '6.9', '3.1', '5.1', '2.3', 'virginica']\n",
      "['143', '5.8', '2.7', '5.1', '1.9', 'virginica']\n",
      "['144', '6.8', '3.2', '5.9', '2.3', 'virginica']\n",
      "['145', '6.7', '3.3', '5.7', '2.5', 'virginica']\n",
      "['146', '6.7', '3', '5.2', '2.3', 'virginica']\n",
      "['147', '6.3', '2.5', '5', '1.9', 'virginica']\n",
      "['148', '6.5', '3', '5.2', '2', 'virginica']\n",
      "['149', '6.2', '3.4', '5.4', '2.3', 'virginica']\n",
      "['150', '5.9', '3', '5.1', '1.8', 'virginica']\n"
     ]
    }
   ],
   "source": [
    "## Sample code to read CSV file\n",
    "def read_csv(file_path):\n",
    "    data = []\n",
    "\n",
    "    with open(file_path, 'r') as file:\n",
    "        for line in file:\n",
    "            # Remove newline character and split by comma\n",
    "            row = line.strip().split(',')\n",
    "            data.append(row)\n",
    "\n",
    "    return data\n",
    "\n",
    "# Sample usage\n",
    "file_path = 'sample.csv'\n",
    "csv_data = read_csv(file_path)\n",
    "\n",
    "# Print the contents of the CSV file\n",
    "for row in csv_data:\n",
    "    print(row)"
   ]
  },
  {
   "cell_type": "markdown",
   "id": "10414887",
   "metadata": {},
   "source": [
    "### Python code to write a list of lists to a CSV file without using any external packages or libraries."
   ]
  },
  {
   "cell_type": "code",
   "execution_count": 7,
   "id": "34a40e07",
   "metadata": {},
   "outputs": [],
   "source": [
    "def write_csv(file_path, data):\n",
    "    with open(file_path, 'w') as file:\n",
    "        for row in data:\n",
    "            # Join the values with commas and add a newline character\n",
    "            line = ','.join(str(value) for value in row) + '\\n'\n",
    "            file.write(line)\n",
    "\n",
    "# Sample usage\n",
    "file_path = 'sample_output.csv'\n",
    "data = [\n",
    "    ['Name', 'Subject', 'Grade'],\n",
    "    ['Alice', 'Math', 85],\n",
    "    ['Bob', 'Physics', 90],\n",
    "    ['Charlie', 'Chemistry', 78]\n",
    "]\n",
    "\n",
    "write_csv(file_path, data)"
   ]
  },
  {
   "cell_type": "markdown",
   "id": "3b82153f",
   "metadata": {},
   "source": [
    "#### Note. `with`\n",
    "\n",
    "In Python, the `with` statement is used to simplify the process of acquiring and releasing resources, such as file handling, by automating the process. It is often used in combination with context managers, which are objects that define methods for setting up and cleaning up resources.\n",
    "\n",
    "The `with` statement ensures that the cleanup code (such as `closing a file` or `releasing a lock`) is executed, even if an exception occurs within the block of code following the with statement.\n",
    "\n",
    "When you use a `with` statement, you create a context for the given object, and once the block of code under the with statement is executed, the context is automatically exited, and any cleanup code is run.\n",
    "\n",
    "Here's an example using the with statement to work with a file:"
   ]
  },
  {
   "cell_type": "code",
   "execution_count": 8,
   "id": "8d101683",
   "metadata": {},
   "outputs": [
    {
     "name": "stdout",
     "output_type": "stream",
     "text": [
      "Name,Subject,Grade\n",
      "Alice,Math,85\n",
      "Bob,Physics,90\n",
      "Charlie,Chemistry,78\n",
      "\n"
     ]
    }
   ],
   "source": [
    "with open('sample_output.csv', 'r') as file:\n",
    "    content = file.read()\n",
    "    print(content)"
   ]
  }
 ],
 "metadata": {
  "kernelspec": {
   "display_name": "Python 3 (ipykernel)",
   "language": "python",
   "name": "python3"
  },
  "language_info": {
   "codemirror_mode": {
    "name": "ipython",
    "version": 3
   },
   "file_extension": ".py",
   "mimetype": "text/x-python",
   "name": "python",
   "nbconvert_exporter": "python",
   "pygments_lexer": "ipython3",
   "version": "3.10.9"
  }
 },
 "nbformat": 4,
 "nbformat_minor": 5
}
