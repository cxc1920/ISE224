{
 "cells": [
  {
   "cell_type": "markdown",
   "id": "7ad4e368",
   "metadata": {},
   "source": [
    "# ISE224 LectureNote 9: Classes and Object-Oriented Programming (OOP)\n",
    "\n",
    "**topics**  \n",
    "\n",
    "- `Procedural` and `Object-Oriented Programming`  \n",
    "- Introduction to `Class`\n",
    "    - `Classes` and `Instances`  \n",
    "    - Class `Variables`     \n",
    "---"
   ]
  },
  {
   "cell_type": "markdown",
   "id": "1c73a657",
   "metadata": {},
   "source": [
    "**Procedural programming** and **object-oriented programming (OOP)** are two different programming paradigms. Here's a brief explanation of each and their differences:"
   ]
  },
  {
   "cell_type": "markdown",
   "id": "0c7367c3",
   "metadata": {},
   "source": [
    "- **Procedural programming:**  \n",
    ">Procedural programming is a programming paradigm where the program is organized as a **sequence of procedures or functions that manipulate data**. In this paradigm, the program's focus is on the procedures that are executed in a linear fashion, and the data that is passed between them. Procedural programming is based on the idea of **step-by-step execution of instructions**, **with little emphasis on abstraction or modularity**.\n",
    "\n",
    "- **Object-oriented programming:**  \n",
    ">Object-oriented programming is a programming paradigm that is based on the concept of **objects**. In this paradigm, the program is organized as a collection of objects that have data and methods associated with them. The focus is on the **objects** and their **interactions**, rather than on the procedures that manipulate data. OOP is based on the idea of **abstraction**, **encapsulation**, **inheritance**, and **polymorphism**, which makes code more **modular**, **reusable**, and **maintainable**.\n",
    "\n",
    "**Object:** entity that contains **data** and **procedures**  \n",
    "- data: data **attribute** define the state of an object\n",
    "- procedures: **methods**\n",
    "    - Public methods: allow external code to manipulate the object  \n",
    "    - Private methods: used for object's inner workings  \n",
    "\n",
    "**Encapsulation:** combining data and code into a single object!"
   ]
  },
  {
   "cell_type": "markdown",
   "id": "149451ec",
   "metadata": {},
   "source": [
    "<img src=\"https://raw.githubusercontent.com/cxc1920/ISE224/main/pictures/9-1.png\">"
   ]
  },
  {
   "cell_type": "markdown",
   "id": "b541332a",
   "metadata": {},
   "source": [
    "The main differences between procedural programming and OOP are:\n",
    "\n",
    "- **Data and code organization**: In procedural programming, data and code are separate entities and are organized in a linear fashion, while in OOP, data and code are organized as objects that have both data and methods associated with them.\n",
    "\n",
    "- **Abstraction**: OOP provides a higher level of abstraction than procedural programming, which means that it provides a better way to manage complexity and make code more modular.\n",
    "\n",
    "- **Encapsulation**: OOP uses encapsulation to hide the implementation details of an object from the outside world, which is not used in procedural programming.\n",
    "\n",
    "- **Inheritance and polymorphism**: OOP provides the concepts of inheritance and polymorphism, which are not used in procedural programming.\n",
    "\n",
    "Overall, procedural programming and OOP are two different programming paradigms, each with its own strengths and weaknesses. The choice between the two depends on the specific requirements of the project and the developer's preference."
   ]
  },
  {
   "cell_type": "markdown",
   "id": "4e2ffe02",
   "metadata": {},
   "source": [
    "### Classes"
   ]
  },
  {
   "cell_type": "markdown",
   "id": "cee95e68",
   "metadata": {},
   "source": [
    "- **Class:** code that specifies the data **attributes** and **methods** of a particular type of object\n",
    "    - Similar to a blueprint of a house or a cookie cutter  \n",
    "- **Instance:** an **object** created from a class   \n",
    "    - Similar to a specific house built according to the blueprint or a specific cookie  \n",
    "    - There can be many instances of one class"
   ]
  },
  {
   "cell_type": "markdown",
   "id": "27560d95",
   "metadata": {},
   "source": [
    "<img src=\"https://raw.githubusercontent.com/cxc1920/ISE224/main/pictures/9-2.png\">"
   ]
  },
  {
   "cell_type": "markdown",
   "id": "c66714b5",
   "metadata": {},
   "source": [
    "**Classes** are a fundamental concept in **object-oriented programming (OOP)**. _A class is a **blueprint** for creating objects that share common properties and methods_. In other words, a class defines a set of characteristics and behaviors that an object of that class will have.\n",
    "\n",
    "Classes are used in programming for several reasons:\n",
    "\n",
    "- **Encapsulation:**  \n",
    ">Classes allow you to encapsulate data and methods within a single entity, making it easier to manage and maintain code. This helps to reduce code complexity and improve code organization.\n",
    "\n",
    "- **Reusability**:  \n",
    ">Once you have defined a class, you can create multiple instances of that class with different properties and methods. This makes it easy to reuse code and avoid duplicating code.\n",
    "\n",
    "- **Abstraction:**  \n",
    ">Classes allow you to abstract away the implementation details of a system, so that you can focus on the interface or functionality of the system.\n",
    "\n",
    "- **Inheritance:**  \n",
    ">Classes can be used to implement inheritance, which allows you to create new classes that inherit properties and methods from existing classes. This helps to reduce code duplication and improve code organization.\n",
    "\n",
    "Here are some examples of classes in real-world scenarios:\n",
    "\n",
    "- _Bank account class:_ A bank account is a good example of a class. It has properties such as account number, balance, and account holder name, and methods such as deposit and withdrawal. You can create multiple instances of the bank account class for different account holders.\n",
    "\n",
    "- _Car class:_ A car is another example of a class. It has properties such as make, model, year, and color, and methods such as start and stop. You can create multiple instances of the car class for different cars.\n",
    "\n",
    "- _Employee class:_ An employee is a good example of a class. It has properties such as name, age, job title, and salary, and methods such as promote and demote. You can create multiple instances of the employee class for different employees.\n",
    "\n",
    "These are just a few examples of how classes are used in real-world scenarios. Classes are a powerful tool in programming, and understanding them is crucial for developing scalable and maintainable code."
   ]
  },
  {
   "cell_type": "markdown",
   "id": "12a8eeec",
   "metadata": {},
   "source": [
    "#### Creating classes in Python:"
   ]
  },
  {
   "cell_type": "markdown",
   "id": "ca9ab05c",
   "metadata": {},
   "source": [
    "- **Syntax for creating a class in Python:**  \n",
    "To create a class in Python, use the `class` keyword followed by the name of the class.   \n",
    "\n",
    "- **Defining attributes and methods within a class:**  \n",
    "A class can have **attributes** and **methods**. Attributes are variables that hold data, while methods are functions that perform operations on that data. You can define attributes and methods within a class using the def keyword. Here's an example:"
   ]
  },
  {
   "cell_type": "code",
   "execution_count": 1,
   "id": "3e1b23ea",
   "metadata": {},
   "outputs": [],
   "source": [
    "class MyClass:\n",
    "    # defining an attribute\n",
    "    x = 5\n",
    "\n",
    "    # defining a method\n",
    "    def my_method(self):\n",
    "        print(\"Hello, World!\")"
   ]
  },
  {
   "cell_type": "markdown",
   "id": "2eb6650d",
   "metadata": {},
   "source": [
    "In this example, we define an attribute `x` with a value of 5, and a method `my_method` that prints \"Hello, World!\". Note that the `self` parameter is used to refer to the instance of the class that the method is called on."
   ]
  },
  {
   "cell_type": "markdown",
   "id": "ffedf7f4",
   "metadata": {},
   "source": [
    "- **Examples of creating and using classes in Python:**  \n",
    "Here's an example of creating an instance of the MyClass class and calling its my_method method:"
   ]
  },
  {
   "cell_type": "code",
   "execution_count": 2,
   "id": "f306c22d",
   "metadata": {},
   "outputs": [],
   "source": [
    "# create an instance of MyClass\n",
    "my_object = MyClass()"
   ]
  },
  {
   "cell_type": "code",
   "execution_count": 3,
   "id": "249307a2",
   "metadata": {},
   "outputs": [
    {
     "data": {
      "text/plain": [
       "5"
      ]
     },
     "execution_count": 3,
     "metadata": {},
     "output_type": "execute_result"
    }
   ],
   "source": [
    "# call the my_method attribute on the instance\n",
    "my_object.x"
   ]
  },
  {
   "cell_type": "code",
   "execution_count": 4,
   "id": "d7507079",
   "metadata": {},
   "outputs": [
    {
     "name": "stdout",
     "output_type": "stream",
     "text": [
      "Hello, World!\n"
     ]
    }
   ],
   "source": [
    "# call the my_method method on the instance\n",
    "my_object.my_method()"
   ]
  },
  {
   "cell_type": "markdown",
   "id": "a2f0682b",
   "metadata": {},
   "source": [
    "This will output \"Hello, World!\" to the console."
   ]
  },
  {
   "cell_type": "markdown",
   "id": "99f58522",
   "metadata": {},
   "source": [
    "Here's an example of a more complex class with multiple attributes and methods:"
   ]
  },
  {
   "cell_type": "code",
   "execution_count": 5,
   "id": "0e2cb9dc",
   "metadata": {},
   "outputs": [
    {
     "name": "stdout",
     "output_type": "stream",
     "text": [
      "Hello, my name is John and I am 30 years old.\n",
      "Hello, my name is John and I am 31 years old.\n"
     ]
    }
   ],
   "source": [
    "class Person:\n",
    "    def __init__(self, name, age):\n",
    "        self.name = name\n",
    "        self.age = age\n",
    "    \n",
    "    def greet(self):\n",
    "        print(f\"Hello, my name is {self.name} and I am {self.age} years old.\")\n",
    "    \n",
    "    def have_birthday(self):\n",
    "        self.age += 1\n",
    "\n",
    "# create an instance of the Person class\n",
    "person = Person(\"John\", 30)\n",
    "\n",
    "# call the greet method on the instance\n",
    "person.greet()\n",
    "\n",
    "# call the have_birthday method on the instance\n",
    "person.have_birthday()\n",
    "\n",
    "# call the greet method again to see the updated age\n",
    "person.greet()"
   ]
  },
  {
   "cell_type": "markdown",
   "id": "2b264d37",
   "metadata": {},
   "source": [
    "In this example, we define a Person class with an `__init__` method that takes in a name and age parameter and initializes the name and age attributes. We also define a greet method that prints a greeting with the person's name and age, and a have_birthday method that increments the person's age.\n",
    "\n",
    "We then create an instance of the Person class with the name \"John\" and age 30, and call its greet method. We then call its have_birthday method to increment its age, and call its greet method again to see the updated age."
   ]
  },
  {
   "cell_type": "markdown",
   "id": "a245345f",
   "metadata": {},
   "source": [
    "###  `__init__` and `__str__` methods in class"
   ]
  },
  {
   "cell_type": "markdown",
   "id": "77f5f7bd",
   "metadata": {},
   "source": [
    "- **`__init__` method:**  \n",
    ">The `__init__` method is a special method in Python classes that is called when an object is created. It is used to initialize the object's attributes. The `self` parameter is used to refer to the instance of the class that the method is called on. Here's an example:"
   ]
  },
  {
   "cell_type": "code",
   "execution_count": 6,
   "id": "20212a4b",
   "metadata": {},
   "outputs": [],
   "source": [
    "class Person:\n",
    "    def __init__(self, name, age):\n",
    "        self.name = name\n",
    "        self.age = age\n"
   ]
  },
  {
   "cell_type": "markdown",
   "id": "3d00bc5d",
   "metadata": {},
   "source": [
    "In this example, we define a Person class with an` __init__` method that takes in a name and age parameter and initializes the name and age attributes of the object. When we create an instance of the Person class, we pass in the name and age arguments to the `__init__` method, like this:"
   ]
  },
  {
   "cell_type": "code",
   "execution_count": 7,
   "id": "1d2108b6",
   "metadata": {},
   "outputs": [],
   "source": [
    "person = Person(\"John\", 30)"
   ]
  },
  {
   "cell_type": "markdown",
   "id": "27293099",
   "metadata": {},
   "source": [
    "This creates a **Person object** with a **name attribute** of \"John\" and an **age attribute** of 30."
   ]
  },
  {
   "cell_type": "code",
   "execution_count": 8,
   "id": "fa81c65a",
   "metadata": {},
   "outputs": [
    {
     "name": "stdout",
     "output_type": "stream",
     "text": [
      "Name attribute: John, Age attribute: 30\n"
     ]
    }
   ],
   "source": [
    "print(f'Name attribute: {person.name}, Age attribute: {person.age}')"
   ]
  },
  {
   "cell_type": "markdown",
   "id": "f6fd2116",
   "metadata": {},
   "source": [
    "- **`__str__` method:**  \n",
    "The `__str__` method is another special method in Python classes that is used to return a string representation of the object. It is called when you use the `str()` function on the object or when you print the object. Here's an example:"
   ]
  },
  {
   "cell_type": "code",
   "execution_count": 9,
   "id": "227b5c28",
   "metadata": {},
   "outputs": [],
   "source": [
    "class Person:\n",
    "    def __init__(self, name, age):\n",
    "        self.name = name\n",
    "        self.age = age\n",
    "    \n",
    "    def __str__(self):\n",
    "        return f\"Person(name='{self.name}', age={self.age})\""
   ]
  },
  {
   "cell_type": "markdown",
   "id": "829e9bbd",
   "metadata": {},
   "source": [
    "In this example, we define a Person class with an `__init__` method that takes in a name and age parameter and initializes the name and age attributes of the object. We also define a `__str__` method that returns a string representation of the object with the format ```\"Person(name='[name]', age=[age])\"```."
   ]
  },
  {
   "cell_type": "markdown",
   "id": "fabfbe51",
   "metadata": {},
   "source": [
    "When we create an instance of the `Person` class and print it, the `__str__` method is called to return the string representation of the object, like this:"
   ]
  },
  {
   "cell_type": "code",
   "execution_count": 10,
   "id": "43bb6bd1",
   "metadata": {},
   "outputs": [
    {
     "name": "stdout",
     "output_type": "stream",
     "text": [
      "Person(name='John', age=30)\n"
     ]
    },
    {
     "data": {
      "text/plain": [
       "\"Person(name='John', age=30)\""
      ]
     },
     "execution_count": 10,
     "metadata": {},
     "output_type": "execute_result"
    }
   ],
   "source": [
    "person = Person(\"John\", 30) # create an object\n",
    "print(person)               # __str__ definied structure\n",
    "str(person)"
   ]
  },
  {
   "cell_type": "markdown",
   "id": "d3d0b41a",
   "metadata": {},
   "source": [
    "By defining the `__str__` method, we can control how the object is printed and provide a more meaningful representation of the object."
   ]
  },
  {
   "cell_type": "markdown",
   "id": "c12b2014",
   "metadata": {},
   "source": [
    "### Instance variables"
   ]
  },
  {
   "cell_type": "markdown",
   "id": "1f37679a",
   "metadata": {},
   "source": [
    "In Python, an `instance variable` is a variable that belongs to an **instance** of a class, where `instance variables` are tied to a specific instance of the class, rather than the class itself.\n",
    "\n",
    "You can define an instance variable by defining a variable within a class method, typically the `__init__()` method, and prefixing it with `self`. For example:"
   ]
  },
  {
   "cell_type": "code",
   "execution_count": 11,
   "id": "62ff4924",
   "metadata": {},
   "outputs": [],
   "source": [
    "# Example. Instance variable\n",
    "class MyClass:\n",
    "    def __init__(self, x):\n",
    "        self.instance_variable = x"
   ]
  },
  {
   "cell_type": "markdown",
   "id": "c4d3d276",
   "metadata": {},
   "source": [
    "In this example, `instance_variable` is an instance variable that is initialized with the value of x. This variable can be accessed only from the instance of the class that it belongs to:"
   ]
  },
  {
   "cell_type": "code",
   "execution_count": 12,
   "id": "92d65e49",
   "metadata": {},
   "outputs": [
    {
     "name": "stdout",
     "output_type": "stream",
     "text": [
      "10\n"
     ]
    }
   ],
   "source": [
    "obj1 = MyClass(10)\n",
    "print(obj1.instance_variable)  # Output: 10"
   ]
  },
  {
   "cell_type": "code",
   "execution_count": 13,
   "id": "e6d343e2",
   "metadata": {},
   "outputs": [
    {
     "name": "stdout",
     "output_type": "stream",
     "text": [
      "20\n"
     ]
    }
   ],
   "source": [
    "obj2 = MyClass(20)\n",
    "print(obj2.instance_variable)  # Output: 20"
   ]
  },
  {
   "cell_type": "markdown",
   "id": "82f25d67",
   "metadata": {},
   "source": [
    "### Class variables"
   ]
  },
  {
   "cell_type": "markdown",
   "id": "d78606a1",
   "metadata": {},
   "source": [
    "#### Class variable \n",
    "\n",
    ">In Python, a `class variable` is a variable that is defined in a class and **shared among all instances of the class**. Unlike `instance variables`, **`class variables` are not tied to a specific instance of the class**, but instead belong to the class itself."
   ]
  },
  {
   "cell_type": "code",
   "execution_count": 14,
   "id": "29e3ad3e",
   "metadata": {},
   "outputs": [],
   "source": [
    "# Example of class variable\n",
    "class MyClass:\n",
    "    class_variable = 42"
   ]
  },
  {
   "cell_type": "markdown",
   "id": "d2fd0311",
   "metadata": {},
   "source": [
    "In this example, `class_variable` is a class variable with a value of 42. This variable can be accessed from both the class and its instances:"
   ]
  },
  {
   "cell_type": "code",
   "execution_count": 15,
   "id": "a57e2397",
   "metadata": {},
   "outputs": [
    {
     "name": "stdout",
     "output_type": "stream",
     "text": [
      "42\n"
     ]
    }
   ],
   "source": [
    "print(MyClass.class_variable)  # Output: 42"
   ]
  },
  {
   "cell_type": "code",
   "execution_count": 16,
   "id": "27c6a66f",
   "metadata": {},
   "outputs": [
    {
     "name": "stdout",
     "output_type": "stream",
     "text": [
      "42\n"
     ]
    }
   ],
   "source": [
    "obj = MyClass()\n",
    "print(obj.class_variable)  # Output: 42"
   ]
  },
  {
   "cell_type": "markdown",
   "id": "eac0193e",
   "metadata": {},
   "source": [
    "**If you change the value of a class variable, the change will be reflected in all instances of the class**:"
   ]
  },
  {
   "cell_type": "code",
   "execution_count": 17,
   "id": "93ab17ba",
   "metadata": {},
   "outputs": [
    {
     "name": "stdout",
     "output_type": "stream",
     "text": [
      "99\n"
     ]
    }
   ],
   "source": [
    "MyClass.class_variable = 99\n",
    "print(MyClass.class_variable)  # Output: 99"
   ]
  },
  {
   "cell_type": "code",
   "execution_count": 18,
   "id": "fad0ca89",
   "metadata": {},
   "outputs": [
    {
     "name": "stdout",
     "output_type": "stream",
     "text": [
      "99\n"
     ]
    }
   ],
   "source": [
    "obj = MyClass()\n",
    "print(obj.class_variable)  # Output: 99"
   ]
  },
  {
   "cell_type": "markdown",
   "id": "2bc12f92",
   "metadata": {},
   "source": [
    "Note that if you assign a new value to a class variable within an instance of the class, it will create a new instance variable with the same name, shadowing the class variable for that instance only."
   ]
  },
  {
   "cell_type": "markdown",
   "id": "6b06f219",
   "metadata": {},
   "source": [
    "#### Exercise: Coin Tossing"
   ]
  },
  {
   "cell_type": "markdown",
   "id": "4a3964de",
   "metadata": {},
   "source": [
    "- Design a **Coin** class has the following instance variables and methods:\n",
    "    - `side` (instance variable): stores which side is currently on top;\n",
    "    - `get_side` (method): observes which side is on top;\n",
    "    - `toss` (method): tosses the coin and updates the side on top (randomly);\n",
    "    - `set_side` (method): purposely puts a specific side on top.  \n",
    "- Use `randint(0, 1)` function in `random` package to simulate a tossing, if randint(0,1) == 0 : Tails else Heads    "
   ]
  },
  {
   "cell_type": "code",
   "execution_count": 19,
   "id": "65237f14",
   "metadata": {},
   "outputs": [],
   "source": [
    "# The class definition for a coin.\n",
    "from random import randint\n",
    "class Coin:\n",
    "### Remove pass and write your code here\n",
    "    pass"
   ]
  },
  {
   "cell_type": "markdown",
   "id": "62eca09e",
   "metadata": {},
   "source": [
    "**Question. Using the Coin class to simulate the outcomes of tossing two coins for 10 times.**"
   ]
  },
  {
   "cell_type": "code",
   "execution_count": 20,
   "id": "e13f5b51-8232-4e5d-8b7c-5edb4b50c137",
   "metadata": {},
   "outputs": [],
   "source": [
    "# toss two coins for ten times\n",
    "c1 = Coin()\n",
    "c2 = Coin()\n",
    "for i in range(10):\n",
    "### Remove pass and write your code here\n",
    "    pass"
   ]
  }
 ],
 "metadata": {
  "kernelspec": {
   "display_name": "Python 3 (ipykernel)",
   "language": "python",
   "name": "python3"
  },
  "language_info": {
   "codemirror_mode": {
    "name": "ipython",
    "version": 3
   },
   "file_extension": ".py",
   "mimetype": "text/x-python",
   "name": "python",
   "nbconvert_exporter": "python",
   "pygments_lexer": "ipython3",
   "version": "3.11.7"
  }
 },
 "nbformat": 4,
 "nbformat_minor": 5
}
