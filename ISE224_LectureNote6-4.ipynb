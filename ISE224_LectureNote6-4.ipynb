{
 "cells": [
  {
   "cell_type": "markdown",
   "id": "343c693d",
   "metadata": {},
   "source": [
    "# ISE224 LectureNote 6-4:  Exceptions\n",
    "**Topics:**  \n",
    "- `Exceptions` in python  \n",
    "- assert\n",
    "- try-except-else-finally\n",
    "---"
   ]
  },
  {
   "cell_type": "markdown",
   "id": "e7007c0b",
   "metadata": {},
   "source": [
    "### Exceptions\n",
    "\n",
    "**An exception is an unexpected event that occurs during program execution.**\n",
    "\n",
    "A Python program terminates as soon as it encounters an error, where an error can be a **syntax error** or an **exception**. "
   ]
  },
  {
   "cell_type": "code",
   "execution_count": 1,
   "id": "f2d9a422",
   "metadata": {},
   "outputs": [
    {
     "ename": "ZeroDivisionError",
     "evalue": "division by zero",
     "output_type": "error",
     "traceback": [
      "\u001b[1;31m---------------------------------------------------------------------------\u001b[0m",
      "\u001b[1;31mZeroDivisionError\u001b[0m                         Traceback (most recent call last)",
      "\u001b[1;32m~\\AppData\\Local\\Temp\\ipykernel_4920\\253078915.py\u001b[0m in \u001b[0;36m<module>\u001b[1;34m\u001b[0m\n\u001b[0;32m      1\u001b[0m \u001b[1;31m# Example: divide by 0\u001b[0m\u001b[1;33m\u001b[0m\u001b[1;33m\u001b[0m\u001b[0m\n\u001b[1;32m----> 2\u001b[1;33m \u001b[0mX\u001b[0m \u001b[1;33m=\u001b[0m \u001b[1;36m7\u001b[0m\u001b[1;33m/\u001b[0m\u001b[1;36m0\u001b[0m\u001b[1;33m\u001b[0m\u001b[1;33m\u001b[0m\u001b[0m\n\u001b[0m",
      "\u001b[1;31mZeroDivisionError\u001b[0m: division by zero"
     ]
    }
   ],
   "source": [
    "# Example: divide by 0\n",
    "X = 7/0"
   ]
  },
  {
   "cell_type": "markdown",
   "id": "45cc3d49",
   "metadata": {},
   "source": [
    "We can see that there is an **exception** occurred in this example as it is not possible to divide a number by 0."
   ]
  },
  {
   "cell_type": "code",
   "execution_count": 1,
   "id": "06d4dffb",
   "metadata": {},
   "outputs": [
    {
     "ename": "SyntaxError",
     "evalue": "unmatched ')' (578876220.py, line 2)",
     "output_type": "error",
     "traceback": [
      "\u001b[1;36m  Cell \u001b[1;32mIn[1], line 2\u001b[1;36m\u001b[0m\n\u001b[1;33m    print( 0 / 0 ))\u001b[0m\n\u001b[1;37m                  ^\u001b[0m\n\u001b[1;31mSyntaxError\u001b[0m\u001b[1;31m:\u001b[0m unmatched ')'\n"
     ]
    }
   ],
   "source": [
    "# Example: Syntax Errors\n",
    "print( 0 / 0 ))"
   ]
  },
  {
   "cell_type": "markdown",
   "id": "ebd9e25d",
   "metadata": {},
   "source": [
    "We can see that there is an **syntax error** occurred in this example as it contains an unexpected ')'."
   ]
  },
  {
   "cell_type": "markdown",
   "id": "472f8ff3",
   "metadata": {},
   "source": [
    "### Raising and Exception"
   ]
  },
  {
   "cell_type": "markdown",
   "id": "381e4b93",
   "metadata": {},
   "source": [
    "Python comes with various built-in exceptions as well as the possibility to create self-defined exceptions. \n",
    "\n",
    "We can use `raise` to define an **exception** if a condition occurs, which is very useful for us to design a program for specific tasks."
   ]
  },
  {
   "cell_type": "code",
   "execution_count": null,
   "id": "9074048a",
   "metadata": {},
   "outputs": [],
   "source": [
    "# Example: Using `raise` to define a Exception\n",
    "x = 12\n",
    "\n",
    "### Here is the self-defined exception:\n",
    "if x > 10:\n",
    "    raise Exception(f'x should not exceed 10. The current value of x is {x}')"
   ]
  },
  {
   "cell_type": "markdown",
   "id": "97cc372b",
   "metadata": {},
   "source": [
    "**The program comes to a halt and displays the self-defined exception, which offers clues about what went wrong.**"
   ]
  },
  {
   "cell_type": "markdown",
   "id": "d6e1d3af",
   "metadata": {},
   "source": [
    "### The `AssertionError` Exception  \n",
    "\n",
    "Instead of allowing a program to crash unexpectedly, you can proactively **create an assertion** in Python by stating a condition that must be met. If the condition evaluates to **True**, the program can proceed without issue. However, if the condition evaluates to **False**, you can set the program to throw an `AssertionError` exception.\n",
    "\n",
    "- **assert condition, Msg for if condition is False**\n"
   ]
  },
  {
   "cell_type": "code",
   "execution_count": 2,
   "id": "7fb82f21",
   "metadata": {},
   "outputs": [
    {
     "name": "stdout",
     "output_type": "stream",
     "text": [
      "The assertion is True. The value of x is: 10\n"
     ]
    },
    {
     "ename": "AssertionError",
     "evalue": "x must be a positive integer",
     "output_type": "error",
     "traceback": [
      "\u001b[1;31m---------------------------------------------------------------------------\u001b[0m",
      "\u001b[1;31mAssertionError\u001b[0m                            Traceback (most recent call last)",
      "\u001b[1;32m~\\AppData\\Local\\Temp\\ipykernel_4920\\541806434.py\u001b[0m in \u001b[0;36m<module>\u001b[1;34m\u001b[0m\n\u001b[0;32m     11\u001b[0m \u001b[1;31m# and the error message is displayed\u001b[0m\u001b[1;33m\u001b[0m\u001b[1;33m\u001b[0m\u001b[0m\n\u001b[0;32m     12\u001b[0m \u001b[0mx\u001b[0m \u001b[1;33m=\u001b[0m \u001b[1;33m-\u001b[0m\u001b[1;36m1\u001b[0m\u001b[1;33m\u001b[0m\u001b[1;33m\u001b[0m\u001b[0m\n\u001b[1;32m---> 13\u001b[1;33m \u001b[1;32massert\u001b[0m \u001b[0mx\u001b[0m \u001b[1;33m>\u001b[0m \u001b[1;36m0\u001b[0m\u001b[1;33m,\u001b[0m \u001b[1;34m\"x must be a positive integer\"\u001b[0m\u001b[1;33m\u001b[0m\u001b[1;33m\u001b[0m\u001b[0m\n\u001b[0m\u001b[0;32m     14\u001b[0m \u001b[0mprint\u001b[0m\u001b[1;33m(\u001b[0m\u001b[1;34m\"The assertion is True. The value of x is:\"\u001b[0m\u001b[1;33m,\u001b[0m \u001b[0mx\u001b[0m\u001b[1;33m)\u001b[0m\u001b[1;33m\u001b[0m\u001b[1;33m\u001b[0m\u001b[0m\n",
      "\u001b[1;31mAssertionError\u001b[0m: x must be a positive integer"
     ]
    }
   ],
   "source": [
    "# set a variable value\n",
    "x = 10\n",
    "\n",
    "# make an assertion about the variable value\n",
    "assert x > 0, \"x must be a positive integer\"\n",
    "\n",
    "# if the assertion is True, the program continues without issue\n",
    "print(\"The assertion is True. The value of x is:\", x)\n",
    "\n",
    "# if the assertion is False, an AssertionError is raised\n",
    "# and the error message is displayed\n",
    "x = -1\n",
    "assert x > 0, \"x must be a positive integer\"\n",
    "print(\"The assertion is True. The value of x is:\", x)"
   ]
  },
  {
   "cell_type": "markdown",
   "id": "c75eeb94",
   "metadata": {},
   "source": [
    "### Handling Exceptions: `try` and `except` block  \n",
    "\n",
    "In Python, he `try` and `except` block is used to catch and handle exceptions. "
   ]
  },
  {
   "cell_type": "markdown",
   "id": "2b350754",
   "metadata": {},
   "source": [
    "- **try:**\n",
    "    - execute this block of code that might raise an exception.\n",
    "- **except:**\n",
    "    - execute this block of code when there is an exception  \n",
    "    \n",
    "    \n",
    "The try block contains the code that might raise an exception. If an exception occurs in the try block, the program execution is immediately transferred to the corresponding except block.\n",
    "\n",
    "The except block contains the code that handles the exception raised in the try block. The code in the except block is executed only if an exception occurs in the try block."
   ]
  },
  {
   "cell_type": "code",
   "execution_count": 3,
   "id": "885182fd",
   "metadata": {},
   "outputs": [
    {
     "ename": "ZeroDivisionError",
     "evalue": "division by zero",
     "output_type": "error",
     "traceback": [
      "\u001b[1;31m---------------------------------------------------------------------------\u001b[0m",
      "\u001b[1;31mZeroDivisionError\u001b[0m                         Traceback (most recent call last)",
      "\u001b[1;32m~\\AppData\\Local\\Temp\\ipykernel_4920\\1062885843.py\u001b[0m in \u001b[0;36m<module>\u001b[1;34m\u001b[0m\n\u001b[0;32m      3\u001b[0m \u001b[0mnumerator\u001b[0m \u001b[1;33m=\u001b[0m \u001b[1;36m10\u001b[0m\u001b[1;33m\u001b[0m\u001b[1;33m\u001b[0m\u001b[0m\n\u001b[0;32m      4\u001b[0m \u001b[0mdenominator\u001b[0m \u001b[1;33m=\u001b[0m \u001b[1;36m0\u001b[0m\u001b[1;33m\u001b[0m\u001b[1;33m\u001b[0m\u001b[0m\n\u001b[1;32m----> 5\u001b[1;33m \u001b[0mresult\u001b[0m \u001b[1;33m=\u001b[0m \u001b[0mnumerator\u001b[0m \u001b[1;33m/\u001b[0m \u001b[0mdenominator\u001b[0m\u001b[1;33m\u001b[0m\u001b[1;33m\u001b[0m\u001b[0m\n\u001b[0m\u001b[0;32m      6\u001b[0m \u001b[0mprint\u001b[0m\u001b[1;33m(\u001b[0m\u001b[0mresult\u001b[0m\u001b[1;33m)\u001b[0m\u001b[1;33m\u001b[0m\u001b[1;33m\u001b[0m\u001b[0m\n",
      "\u001b[1;31mZeroDivisionError\u001b[0m: division by zero"
     ]
    }
   ],
   "source": [
    "# Example 1 - without try and except\n",
    "\n",
    "numerator = 10\n",
    "denominator = 0\n",
    "result = numerator / denominator\n",
    "print(result)"
   ]
  },
  {
   "cell_type": "code",
   "execution_count": 4,
   "id": "17f0f702",
   "metadata": {},
   "outputs": [
    {
     "name": "stdout",
     "output_type": "stream",
     "text": [
      "Cannot divide by zero\n"
     ]
    }
   ],
   "source": [
    "# Example 2 - with try and except\n",
    "\n",
    "numerator = 10\n",
    "denominator = 0\n",
    "try:\n",
    "    result = numerator / denominator\n",
    "    print(result)\n",
    "except ZeroDivisionError:\n",
    "    print(\"Cannot divide by zero\")\n"
   ]
  },
  {
   "cell_type": "markdown",
   "id": "620e84a3",
   "metadata": {},
   "source": [
    "### try-except-else\n",
    "\n",
    "In Python, `try`, `except`, and `else` blocks are used to handle exceptions that may occur in code execution.\n",
    "\n",
    "The `try` block contains the code that might raise an exception. If an exception occurs in the try block, the program execution is immediately transferred to the **corresponding except block**. The `except` block contains the code that handles the exception raised in the try block.\n",
    "\n",
    "The `else` block is optional and is executed only if no exception occurs in the try block. It contains the code that should be executed after the try block completes successfully.\n",
    "\n",
    "The syntax for using try, except, and else blocks in Python is as follows:"
   ]
  },
  {
   "cell_type": "code",
   "execution_count": 5,
   "id": "59e3366f",
   "metadata": {},
   "outputs": [],
   "source": [
    "try:\n",
    "    # code that might raise an exception\n",
    "    pass\n",
    "except ExceptionType1:\n",
    "    # code to handle ExceptionType1\n",
    "    pass\n",
    "except ExceptionType2:\n",
    "    # code to handle ExceptionType2\n",
    "    pass\n",
    "else:\n",
    "    # code to be executed if no exception is raised in the try block\n",
    "    pass"
   ]
  },
  {
   "cell_type": "code",
   "execution_count": 6,
   "id": "f56b0913",
   "metadata": {},
   "outputs": [
    {
     "name": "stdout",
     "output_type": "stream",
     "text": [
      "Enter the first number: 10\n",
      "Enter the second number: 0\n",
      "Cannot divide by zero\n"
     ]
    }
   ],
   "source": [
    "# Example. \n",
    "# using try-except-else to handle exceptions\n",
    "try:\n",
    "    num1 = int(input(\"Enter the first number: \"))\n",
    "    num2 = int(input(\"Enter the second number: \"))\n",
    "    result = num1 / num2\n",
    "except ValueError:\n",
    "    print(\"Please enter integers only\")\n",
    "except ZeroDivisionError:\n",
    "    print(\"Cannot divide by zero\")\n",
    "else:\n",
    "    print(\"The result is: \", result)"
   ]
  },
  {
   "cell_type": "code",
   "execution_count": 7,
   "id": "8fcd2132",
   "metadata": {},
   "outputs": [
    {
     "name": "stdout",
     "output_type": "stream",
     "text": [
      "File not found\n"
     ]
    }
   ],
   "source": [
    "# Example.\n",
    "# using try-except-else to handle file I/O operations\n",
    "try:\n",
    "    file = open(\"example.txt\", \"r\")\n",
    "except FileNotFoundError:\n",
    "    print(\"File not found\")\n",
    "else:\n",
    "    print(file.read())\n",
    "    file.close()"
   ]
  },
  {
   "cell_type": "markdown",
   "id": "18f8b15a",
   "metadata": {},
   "source": [
    "In Python, `assert` and `try-except` blocks are both used for error handling. The `assert` statement is typically used to ensure that certain conditions are met, while `try-except` blocks are used to handle exceptions that may occur during code execution."
   ]
  },
  {
   "cell_type": "code",
   "execution_count": 8,
   "id": "2efe455e",
   "metadata": {},
   "outputs": [],
   "source": [
    "def divide_numbers(num1, num2):\n",
    "    try:\n",
    "        assert num2 != 0, \"num2 Cannot divide by zero\"\n",
    "        result = num1 / num2\n",
    "        return result\n",
    "    except AssertionError as e:\n",
    "        print(e)"
   ]
  },
  {
   "cell_type": "code",
   "execution_count": 9,
   "id": "24feae21",
   "metadata": {},
   "outputs": [
    {
     "name": "stdout",
     "output_type": "stream",
     "text": [
      "2.0\n"
     ]
    }
   ],
   "source": [
    "# testing the divide_numbers() function\n",
    "print(divide_numbers(10, 5))  # Output: 2.0"
   ]
  },
  {
   "cell_type": "code",
   "execution_count": 10,
   "id": "22ca2f33",
   "metadata": {},
   "outputs": [
    {
     "name": "stdout",
     "output_type": "stream",
     "text": [
      "num2 Cannot divide by zero\n",
      "None\n"
     ]
    }
   ],
   "source": [
    "print(divide_numbers(10, 0))  # Output: Cannot divide by zero"
   ]
  },
  {
   "cell_type": "markdown",
   "id": "b427a5d5",
   "metadata": {},
   "source": [
    "If the assert statement fails, an `AssertionError` is raised and the message **\"Cannot divide by zero\"** is printed. If the assert statement succeeds, the code in the try block is executed, and the result of the division is returned."
   ]
  },
  {
   "cell_type": "markdown",
   "id": "6803a2a1",
   "metadata": {},
   "source": [
    "### try-except-finally\n",
    "\n",
    "The `finally` block is optional and is executed regardless of whether an exception occurred or not. It contains the code that should be executed after the try and except blocks complete, regardless of whether an exception was raised or not. This block is typically used to perform cleanup operations such as closing files, releasing resources, or deleting temporary files."
   ]
  },
  {
   "cell_type": "code",
   "execution_count": 11,
   "id": "91223dd2",
   "metadata": {},
   "outputs": [],
   "source": [
    "# Example. try-except-finally\n",
    "def divide_numbers(num1, num2):\n",
    "    try:\n",
    "        result = num1 / num2\n",
    "        print(\"Result is:\", result)\n",
    "    except ZeroDivisionError:\n",
    "        print(\"Cannot divide by zero\")\n",
    "    finally:\n",
    "        print(\"Division operation completed\")"
   ]
  },
  {
   "cell_type": "code",
   "execution_count": 12,
   "id": "f96508b0",
   "metadata": {},
   "outputs": [
    {
     "name": "stdout",
     "output_type": "stream",
     "text": [
      "Result is: 2.0\n",
      "Division operation completed\n"
     ]
    }
   ],
   "source": [
    "# testing the divide_numbers() function\n",
    "divide_numbers(10, 5)"
   ]
  },
  {
   "cell_type": "code",
   "execution_count": 13,
   "id": "436eba77",
   "metadata": {},
   "outputs": [
    {
     "name": "stdout",
     "output_type": "stream",
     "text": [
      "Cannot divide by zero\n",
      "Division operation completed\n"
     ]
    }
   ],
   "source": [
    "# testing the divide_numbers() function\n",
    "divide_numbers(10, 0) "
   ]
  },
  {
   "cell_type": "markdown",
   "id": "f681729b",
   "metadata": {},
   "source": [
    "### Summary: try-excep-else-finally\n",
    "\n",
    "The `try` block contains the code that might raise an exception. If an exception occurs in the `try` block, the program execution is immediately transferred to the **corresponding `except` block**. The `except` block contains the code that handles the exception raised in the try block.\n",
    "\n",
    "The `else` block is *optional* and is executed only if no exception occurs in the try block. It contains the code that should be executed after the try block completes successfully.\n",
    "\n",
    "The `finally` block is also *optional* and is executed regardless of whether an exception occurs or not. It contains the code that should be executed after the try or except block completes, even if an error occurs."
   ]
  },
  {
   "cell_type": "code",
   "execution_count": 14,
   "id": "3a9d13f1",
   "metadata": {},
   "outputs": [
    {
     "name": "stdout",
     "output_type": "stream",
     "text": [
      "File not found\n",
      "Execution complete\n"
     ]
    }
   ],
   "source": [
    "# Example. try-excep-else-finally\n",
    "def read_file(filename):\n",
    "    try:\n",
    "        file = open(filename, \"r\")\n",
    "    except FileNotFoundError:\n",
    "        print(\"File not found\")\n",
    "    else:\n",
    "        print(file.read())\n",
    "        file.close()\n",
    "    finally:\n",
    "        print(\"Execution complete\")\n",
    "\n",
    "# testing the read_file() function\n",
    "read_file(\"example.txt\")"
   ]
  }
 ],
 "metadata": {
  "kernelspec": {
   "display_name": "Python 3 (ipykernel)",
   "language": "python",
   "name": "python3"
  },
  "language_info": {
   "codemirror_mode": {
    "name": "ipython",
    "version": 3
   },
   "file_extension": ".py",
   "mimetype": "text/x-python",
   "name": "python",
   "nbconvert_exporter": "python",
   "pygments_lexer": "ipython3",
   "version": "3.11.7"
  }
 },
 "nbformat": 4,
 "nbformat_minor": 5
}
