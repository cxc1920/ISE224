{
 "cells": [
  {
   "cell_type": "markdown",
   "id": "0e9428ce",
   "metadata": {},
   "source": [
    "# ISE224 LectureNote 4: Intruduction to Repetition Structures  \n",
    "\n",
    "---  \n",
    "\n",
    "### Topics:  \n",
    "\n",
    "- The **while** loop: A condition-controlled loop  \n",
    "- The **for** loop: A count-controlled loop  \n",
    "- Calculating a Running Total  \n",
    "- Sentinels  \n",
    "- Input Validation Loops  \n",
    "- **Nested Loops** \n",
    "\n",
    "---"
   ]
  },
  {
   "cell_type": "markdown",
   "id": "83ca05ad",
   "metadata": {},
   "source": [
    "### Introduction to Repetition Structures  \n",
    "\n",
    "**CONCEPT: A repetition structure causes a statement or set of statements to execute repeatedly.**  \n",
    "\n",
    "Programmers commonly have to write code that performs the same task over and over. For example, suppose you have been asked to write a program that calculates a 10 percent sales commission for several salespeople. Although it would not be a good design, one approach would be to write the code to calculate one salesperson’s commission, and then repeat that code for each salesperson.\n",
    "\n",
    "<img src=\"https://raw.githubusercontent.com/cxc1920/ISE224/main/pictures/4-1.png\" alt=\"4\" width = \"440\" height = \"660\">\n",
    "\n",
    "And this code goes on and on... "
   ]
  },
  {
   "cell_type": "markdown",
   "id": "d982dcda",
   "metadata": {},
   "source": [
    "As you can see, this code is *one long sequence structure* containing a lot of *duplicated code*. There are several disadvantages to this approach, including the following:\n",
    "\n",
    "- The duplicated code makes the program large.  \n",
    "- Writing a long sequence of statements can be time consuming.  \n",
    "- If part of the duplicated code has to be corrected or changed, then the correction or change has to be done many times.\n",
    "\n",
    "Instead of writing the same sequence of statements over and over, a better way to repeatedly perform an operation is to write the code for the operation once, then place that code in a structure that makes the computer repeat it as many times as necessary. This can be done with a `repetition structure`, which is more commonly known as a `loop`.\n",
    "\n",
    "---"
   ]
  },
  {
   "cell_type": "markdown",
   "id": "e60404dd",
   "metadata": {},
   "source": [
    "### The while Loop: A Condition-Controlled Loop  \n",
    "\n",
    "**CONCEPT: A condition-controlled loop causes a statement or set of statements to repeat as long as a condition is true. In Python, you use the while statement to write a condition-controlled loop.**\n",
    "\n",
    "The while loop gets its name from the way it works: \n",
    "\n",
    "*<p style=\"text-align: center;\">while a condition is true, do some task. </p>* \n",
    "\n",
    "The loop has two parts: \n",
    "\n",
    "1. a condition that is tested for a true or false value, \n",
    "2. a statement or set of statements that is repeated as long as the condition is true.  \n",
    "\n",
    "<img src=\"https://raw.githubusercontent.com/cxc1920/ISE224/main/pictures/4-1-1.png\" alt=\"4-1\" width = \"400\" height = \"600\">"
   ]
  },
  {
   "cell_type": "markdown",
   "id": "f770c68a",
   "metadata": {},
   "source": [
    "#### Syntax: \n",
    "\n",
    "`while` condition:\n",
    ">statement  \n",
    ">statement  \n",
    ">etc.\n",
    "\n",
    "We will refer to the first line as the *while clause.* \n",
    "\n",
    "The while clause begins with the word `while`, followed by a `Boolean` condition that will be evaluated as either `true` or `false`. A *colon* appears after the condition.\n",
    "\n",
    "The while loop is known as a **pretest loop**, which means it tests its condition before performing an iteration"
   ]
  },
  {
   "cell_type": "markdown",
   "id": "a4ce9c3a",
   "metadata": {},
   "source": [
    "#### Example. Comission example\n",
    "\n",
    "<img src=\"https://raw.githubusercontent.com/cxc1920/ISE224/main/pictures/4-3.png\" alt=\"4-3\" width = \"400\" height = \"600\">"
   ]
  },
  {
   "cell_type": "code",
   "execution_count": 1,
   "id": "ead0149d",
   "metadata": {},
   "outputs": [
    {
     "name": "stdout",
     "output_type": "stream",
     "text": [
      "Enter the amount of sales: 10000\n",
      "Enter the commission rate: .1\n",
      "The commission is $1,000.00.\n",
      "Do you want to calculate another commission (Enter y for yes): y\n",
      "Enter the amount of sales: 20000\n",
      "Enter the commission rate: .15\n",
      "The commission is $3,000.00.\n",
      "Do you want to calculate another commission (Enter y for yes): y\n",
      "Enter the amount of sales: 30000\n",
      "Enter the commission rate: .18\n",
      "The commission is $5,400.00.\n",
      "Do you want to calculate another commission (Enter y for yes): n\n"
     ]
    }
   ],
   "source": [
    "#### Example 1. Comission example\n",
    "\n",
    "# This program calculates sales commissions.\n",
    "\n",
    "# Create a variable to control the loop.\n",
    "keep_going = 'y'\n",
    "\n",
    "# Calculate a series of commissions.\n",
    "while keep_going == 'y':\n",
    "    # Get a salesperson's sales and commission rate.\n",
    "    sales = float(input('Enter the amount of sales: '))\n",
    "    comm_rate = float(input('Enter the commission rate: '))\n",
    "\n",
    "    # Calculate the commission.\n",
    "    commission = sales * comm_rate\n",
    "\n",
    "    # Display the commission.\n",
    "    print(f'The commission is ${commission:,.2f}.')\n",
    "\n",
    "    # See if the user wants to do another one.\n",
    "    keep_going = input('Do you want to calculate another ' +\n",
    "                       'commission (Enter y for yes): ')"
   ]
  },
  {
   "cell_type": "code",
   "execution_count": 7,
   "id": "cffb7df4",
   "metadata": {},
   "outputs": [
    {
     "name": "stdout",
     "output_type": "stream",
     "text": [
      "Enter the substance's Celsius temperature: 105\n",
      "The temperature is too high.\n",
      "Turn the thermostat down and wait\n",
      "5 minutes. Then take the temperature\n",
      "again and enter it.\n",
      "Enter the new Celsius temperature: 103\n",
      "The temperature is too high.\n",
      "Turn the thermostat down and wait\n",
      "5 minutes. Then take the temperature\n",
      "again and enter it.\n",
      "Enter the new Celsius temperature: 102\n",
      "The temperature is acceptable.\n",
      "Check it again in 15 minutes.\n"
     ]
    }
   ],
   "source": [
    "# This program assists a technician in the process\n",
    "# of checking a substance's temperature.\n",
    "\n",
    "# Create a variable to represent the maximum\n",
    "# temperature.\n",
    "max_temp = 102.5\n",
    "\n",
    "# Get the substance's temperature.\n",
    "temperature = float(input(\"Enter the substance's Celsius temperature: \"))\n",
    "\n",
    "# As long as necessary, instruct the user to\n",
    "# adjust the thermostat.\n",
    "while temperature > max_temp:\n",
    "    print('The temperature is too high.')\n",
    "    print('Turn the thermostat down and wait')\n",
    "    print('5 minutes. Then take the temperature')\n",
    "    print('again and enter it.')\n",
    "    temperature = float(input('Enter the new Celsius temperature: '))\n",
    "\n",
    "# Remind the user to check the temperature again\n",
    "# in 15 minutes.\n",
    "print('The temperature is acceptable.')\n",
    "print('Check it again in 15 minutes.')"
   ]
  },
  {
   "cell_type": "markdown",
   "id": "98293f12",
   "metadata": {},
   "source": [
    "#### Infinite Loop  \n",
    "\n",
    "condition in while is always true"
   ]
  },
  {
   "cell_type": "code",
   "execution_count": 2,
   "id": "c290675c",
   "metadata": {},
   "outputs": [
    {
     "name": "stdout",
     "output_type": "stream",
     "text": [
      "Enter the amount of sales: 10000\n",
      "Enter the commission rate: .15\n",
      "The commission is $1,500.00.\n",
      "Enter the amount of sales: 20000\n",
      "Enter the commission rate: .18\n",
      "The commission is $3,600.00.\n",
      "Enter the amount of sales: -1\n",
      "Stop!\n"
     ]
    }
   ],
   "source": [
    "#### Example 3. Infinite Loop\n",
    "\n",
    "# This program calculates sales commissions.\n",
    "\n",
    "# Create a variable to control the loop.\n",
    "keep_going = 'y'\n",
    "\n",
    "# Calculate a series of commissions.\n",
    "while keep_going == 'y':\n",
    "    # Get a salesperson's sales and commission rate.\n",
    "    sales = float(input('Enter the amount of sales: '))\n",
    "    if sales<0:\n",
    "        print(\"Stop!\")\n",
    "        break\n",
    "    comm_rate = float(input('Enter the commission rate: '))\n",
    "\n",
    "    # Calculate the commission.\n",
    "    commission = sales * comm_rate\n",
    "\n",
    "    # Display the commission.\n",
    "    print(f'The commission is ${commission:,.2f}.')\n"
   ]
  },
  {
   "cell_type": "markdown",
   "id": "3f8e6293",
   "metadata": {},
   "source": [
    "---  \n",
    "\n",
    "### The for Loop: A Count-Controlled Loop  \n",
    "\n",
    "**CONCEPT: A count-controlled loop iterates a specific number of times. In Python, you use the for statement to write a count-controlled loop**"
   ]
  },
  {
   "cell_type": "markdown",
   "id": "e8c035b8",
   "metadata": {},
   "source": [
    "As mentioned at the beginning of this chapter, a `count-controlled` loop iterates a specific number of times.\n",
    "\n",
    "### What is **For** loop?\n",
    "\n",
    "A for loop in Python is used to iterate over a sequence (such as a list, tuple, or string) and execute a block of code for each item in the sequence. The general syntax of a for loop in Python is as follows:\n",
    "\n",
    "#### Syntax  \n",
    "\n",
    "for variable in [value1, value2, etc.]:\n",
    ">statement  \n",
    ">statement  \n",
    ">etc.  \n",
    "\n",
    "---  \n",
    "\n",
    "for `variable` in `sequence`:\n",
    ">code to be executed for each item in sequence\n",
    "\n",
    "where sequence is the *list, tuple, string, or any other iterable that you want to iterate over, and variable is a temporary variable that takes on the value of each item in the sequence, one at a time.\n",
    "\n",
    "Python programmers commonly refer to the variable that is used in the for clause as the target variable because it is the target of an assignment at the beginning of each loop iteration."
   ]
  },
  {
   "cell_type": "code",
   "execution_count": 8,
   "id": "1c433a87",
   "metadata": {},
   "outputs": [
    {
     "name": "stdout",
     "output_type": "stream",
     "text": [
      "I will display the numbers 1 through 5.\n",
      "1\n",
      "2\n",
      "3\n",
      "4\n",
      "5\n"
     ]
    }
   ],
   "source": [
    "#### Example. Simple Loop 1\n",
    "\n",
    "# This program demonstrates a simple for loop\n",
    "# that uses a list of numbers.\n",
    "\n",
    "print('I will display the numbers 1 through 5.')\n",
    "for num in [1, 2, 3, 4, 5]:\n",
    "    print(num)"
   ]
  },
  {
   "cell_type": "code",
   "execution_count": 9,
   "id": "c3e2b0f5",
   "metadata": {},
   "outputs": [
    {
     "name": "stdout",
     "output_type": "stream",
     "text": [
      "I will display the odd numbers 1 through 9.\n",
      "1\n",
      "3\n",
      "5\n",
      "7\n",
      "9\n"
     ]
    }
   ],
   "source": [
    "#### Example. Simple Loop 2\n",
    "# This program also demonstrates a simple for\n",
    "# loop that uses a list of numbers.\n",
    "\n",
    "print('I will display the odd numbers 1 through 9.')\n",
    "for num in [1, 3, 5, 7, 9]:\n",
    "    print(num)"
   ]
  },
  {
   "cell_type": "code",
   "execution_count": 10,
   "id": "f4fa1221",
   "metadata": {},
   "outputs": [
    {
     "name": "stdout",
     "output_type": "stream",
     "text": [
      "Winken\n",
      "Blinken\n",
      "Nod\n"
     ]
    }
   ],
   "source": [
    "#### Example. Simple Loop 3\n",
    "# This program also demonstrates a simple for\n",
    "# loop that uses a list of strings.\n",
    "\n",
    "for name in ['Winken', 'Blinken', 'Nod']:\n",
    "    print(name)"
   ]
  },
  {
   "cell_type": "code",
   "execution_count": 1,
   "id": "906afcce",
   "metadata": {},
   "outputs": [
    {
     "name": "stdout",
     "output_type": "stream",
     "text": [
      "H\n",
      "e\n",
      "l\n",
      "l\n",
      "o\n"
     ]
    }
   ],
   "source": [
    "#### Example. Loop over a string\n",
    "word = \"Hello\"\n",
    "\n",
    "for letter in word:\n",
    "    print(letter)"
   ]
  },
  {
   "cell_type": "code",
   "execution_count": 2,
   "id": "5b128372",
   "metadata": {},
   "outputs": [
    {
     "name": "stdout",
     "output_type": "stream",
     "text": [
      "0 apple\n",
      "1 banana\n",
      "2 cherry\n"
     ]
    }
   ],
   "source": [
    "#### Example. Using the enumerate function in a for loop\n",
    "fruits = ['apple', 'banana', 'cherry']\n",
    "\n",
    "for index, fruit in enumerate(fruits):\n",
    "    print(index, fruit)"
   ]
  },
  {
   "cell_type": "markdown",
   "id": "d3a9ab7f",
   "metadata": {},
   "source": [
    "#### Uning range function with the for Loop  "
   ]
  },
  {
   "cell_type": "code",
   "execution_count": 12,
   "id": "fdecb4b5",
   "metadata": {},
   "outputs": [
    {
     "name": "stdout",
     "output_type": "stream",
     "text": [
      "0\n",
      "1\n",
      "2\n",
      "3\n",
      "4\n"
     ]
    }
   ],
   "source": [
    "#### Example. Range\n",
    "for num in range(5): \n",
    "    print(num)"
   ]
  },
  {
   "cell_type": "code",
   "execution_count": 13,
   "id": "f23c4d0d",
   "metadata": {},
   "outputs": [
    {
     "name": "stdout",
     "output_type": "stream",
     "text": [
      "0\n",
      "1\n",
      "2\n",
      "3\n",
      "4\n"
     ]
    }
   ],
   "source": [
    "for num in [0, 1, 2, 3, 4]:  \n",
    "    print(num)"
   ]
  },
  {
   "cell_type": "code",
   "execution_count": 14,
   "id": "e6c895e8",
   "metadata": {},
   "outputs": [
    {
     "name": "stdout",
     "output_type": "stream",
     "text": [
      "Hello world!\n",
      "Hello world!\n",
      "Hello world!\n",
      "Hello world!\n",
      "Hello world!\n"
     ]
    }
   ],
   "source": [
    "#### Hello world! * 5\n",
    "# This program demonstrates how the range\n",
    "# function can be used with a for loop.\n",
    "\n",
    "# Print a message five times.\n",
    "for x in range(5):\n",
    "    print('Hello world!')\n",
    "\n"
   ]
  },
  {
   "cell_type": "code",
   "execution_count": 15,
   "id": "99bf6cfc",
   "metadata": {},
   "outputs": [
    {
     "name": "stdout",
     "output_type": "stream",
     "text": [
      "1\n",
      "2\n",
      "3\n",
      "4\n"
     ]
    }
   ],
   "source": [
    "for num in range(1, 5):  # 1<=x<5\n",
    "    print(num)"
   ]
  },
  {
   "cell_type": "code",
   "execution_count": 16,
   "id": "83e3c6c2",
   "metadata": {},
   "outputs": [
    {
     "name": "stdout",
     "output_type": "stream",
     "text": [
      "1\n",
      "3\n",
      "5\n",
      "7\n",
      "9\n"
     ]
    }
   ],
   "source": [
    "for num in range(1, 10, 2): \n",
    "    print(num)"
   ]
  },
  {
   "cell_type": "code",
   "execution_count": 17,
   "id": "8e7c29ec",
   "metadata": {},
   "outputs": [
    {
     "name": "stdout",
     "output_type": "stream",
     "text": [
      "Number\tSquare\n",
      "--------------\n",
      "1\t1\n",
      "2\t4\n",
      "3\t9\n",
      "4\t16\n",
      "5\t25\n",
      "6\t36\n",
      "7\t49\n",
      "8\t64\n",
      "9\t81\n",
      "10\t100\n"
     ]
    }
   ],
   "source": [
    "#### Example. Square the number\n",
    "\n",
    "# This program uses a loop to display a\n",
    "# table showing the numbers 1 through 10\n",
    "# and their squares.\n",
    "\n",
    "# Print the table headings.\n",
    "print('Number\\tSquare')\n",
    "print('--------------')\n",
    "\n",
    "# Print the numbers 1 through 10\n",
    "# and their squares.\n",
    "for number in range(1, 11):\n",
    "    square = number**2\n",
    "    print(f'{number}\\t{square}')"
   ]
  },
  {
   "cell_type": "code",
   "execution_count": 5,
   "id": "04844d42",
   "metadata": {},
   "outputs": [
    {
     "name": "stdout",
     "output_type": "stream",
     "text": [
      "0\n",
      "1\n",
      "2\n",
      "3\n",
      "4\n",
      "5\n",
      "6\n",
      "7\n",
      "8\n",
      "9\n",
      "**********************************\n",
      "0\n",
      "1\n",
      "2\n",
      "3\n",
      "4\n",
      "5\n",
      "6\n",
      "7\n",
      "8\n",
      "9\n"
     ]
    }
   ],
   "source": [
    "#### Example. Special concept\n",
    "for i in range(10):\n",
    "    print(i)\n",
    "    i += 1 # does this change the loop?\n",
    "\n",
    "print('**********************************')\n",
    "\n",
    "for i in range(10):\n",
    "    print(i)"
   ]
  },
  {
   "cell_type": "markdown",
   "id": "9f89429d",
   "metadata": {},
   "source": [
    "#### Example. \n",
    "Your friend Amanda just inherited a European sports car from her uncle. Amanda lives in the United States, and she is afraid she will get a speeding ticket because the car’s speedometer indicates kilometers per hour (KPH). She has asked you to write a program that displays a table of speeds in KPH with their values converted to miles per hour (MPH). The formula for converting KPH to MPH is:\n",
    "\n",
    "__MPH = KPH * 0.6214__\n",
    "\n",
    "In the formula, MPH is the speed in miles per hour, and KPH is the speed in kilometers per hour.The table that your program displays should show speeds from **60 KPH** through **130 KPH**, in increments of **10**, along with their values converted to MPH.\n",
    "\n",
    "[Hint: range(60,131,10)]"
   ]
  },
  {
   "cell_type": "code",
   "execution_count": 6,
   "id": "3012256e",
   "metadata": {},
   "outputs": [
    {
     "name": "stdout",
     "output_type": "stream",
     "text": [
      "KPH\tMPH\n",
      "--------------\n",
      "60\t37.3\n",
      "70\t43.5\n",
      "80\t49.7\n",
      "90\t55.9\n",
      "100\t62.1\n",
      "110\t68.4\n",
      "120\t74.6\n",
      "130\t80.8\n"
     ]
    }
   ],
   "source": [
    "# Example. Speed converter\n",
    "# This program converts the speeds 60 kph\n",
    "# through 130 kph (in 10 kph increments)\n",
    "# to mph.\n",
    "\n",
    "start_speed = 60            # Starting speed\n",
    "end_speed = 131             # Ending speed\n",
    "increment = 10              # Speed increment\n",
    "conversion_factor = 0.6214  # Conversion factor\n",
    "\n",
    "# Print the table headings.\n",
    "print('KPH\\tMPH')\n",
    "print('--------------')\n",
    "\n",
    "# Print the speeds.\n",
    "for kph in range(start_speed, end_speed, increment):\n",
    "    mph = kph * conversion_factor\n",
    "    print(f'{kph}\\t{mph:.1f}')"
   ]
  },
  {
   "cell_type": "markdown",
   "id": "e60e1827",
   "metadata": {},
   "source": [
    "In many cases, the programmer knows the **exact number** of iterations that a loop must perform"
   ]
  },
  {
   "cell_type": "markdown",
   "id": "073cd8db",
   "metadata": {},
   "source": [
    "#### Letting the User Control the Loop Iterations"
   ]
  },
  {
   "cell_type": "code",
   "execution_count": 21,
   "id": "400fd1ec",
   "metadata": {},
   "outputs": [
    {
     "name": "stdout",
     "output_type": "stream",
     "text": [
      "This program displays a list of numbers\n",
      "(starting at 1) and their squares.\n",
      "How high should I go? 9\n",
      "\n",
      "Number\tSquare\n",
      "--------------\n",
      "1\t1\n",
      "2\t4\n",
      "3\t9\n",
      "4\t16\n",
      "5\t25\n",
      "6\t36\n",
      "7\t49\n",
      "8\t64\n",
      "9\t81\n"
     ]
    }
   ],
   "source": [
    "# This program uses a loop to display a\n",
    "# table of numbers and their squares.\n",
    "\n",
    "# Get the ending limit.\n",
    "print('This program displays a list of numbers')\n",
    "print('(starting at 1) and their squares.')\n",
    "end = int(input('How high should I go? '))\n",
    "    \n",
    "# Print the table headings.\n",
    "print()\n",
    "print('Number\\tSquare')\n",
    "print('--------------')\n",
    "\n",
    "# Print the numbers and their squares.\n",
    "for number in range(1, end + 1):\n",
    "    square = number**2\n",
    "    print(f'{number}\\t{square}')"
   ]
  },
  {
   "cell_type": "markdown",
   "id": "0958a0f3",
   "metadata": {},
   "source": [
    "### Nested Loops\n",
    "\n",
    "**CONCEPT: A loop that is inside another loop is called a nested loop.**"
   ]
  },
  {
   "cell_type": "code",
   "execution_count": null,
   "id": "b847e1c2",
   "metadata": {},
   "outputs": [],
   "source": [
    "for seconds in range(60):\n",
    "    print(seconds)"
   ]
  },
  {
   "cell_type": "markdown",
   "id": "21e5f4db",
   "metadata": {},
   "source": [
    "0  \n",
    "1  \n",
    "2  \n",
    ".  \n",
    ".  \n",
    "55  \n",
    "56  \n",
    "57  \n",
    "58  \n",
    "59  "
   ]
  },
  {
   "cell_type": "code",
   "execution_count": null,
   "id": "ab025a76",
   "metadata": {},
   "outputs": [],
   "source": [
    "for minutes in range(60):  \n",
    "    for seconds in range(60):\n",
    "        print(minutes, ':', seconds)"
   ]
  },
  {
   "cell_type": "markdown",
   "id": "e5a3e18d",
   "metadata": {},
   "source": [
    "0 : 0    \n",
    "0 : 1  \n",
    "0 : 2  \n",
    "0 : 3  \n",
    "0 : 4  \n",
    "0 : 5  \n",
    "0 : 6  \n",
    "0 : 7  \n",
    "0 : 8  \n",
    "0 : 9  \n",
    "0 : 10  \n",
    "0 : 11  \n",
    "0 : 12  \n",
    ":  \n",
    ":  \n",
    ":  \n",
    "59 : 55  \n",
    "59 : 56  \n",
    "59 : 57  \n",
    "59 : 58  \n",
    "59 : 59  "
   ]
  },
  {
   "cell_type": "markdown",
   "id": "2a1f3e94",
   "metadata": {},
   "source": [
    "#### Exercise. 1. Using 'for' loop to finish the exercises. 2. Can it be accomplished by 'while' loop?\n",
    "1. Print the numbers from 1 to 10.  \n",
    "2. Print the numbers from 10 to 1.  \n",
    "3. Print the even numbers between 1 and 10.  \n",
    "4. Print the odd numbers between 1 and 10.  \n",
    "5. Find the sum of all numbers from 1 to 100.  \n",
    "6. Find the product of all numbers from 1 to 10.  \n",
    "7. Write a program to find the factorial of a number.  \n",
    "8. Print the multiplication table for a given number.  \n",
    "9. Write a program to find the fibonacci series.  \n",
    "10. Write a program to reverse a string.  "
   ]
  },
  {
   "cell_type": "code",
   "execution_count": 1,
   "id": "07a9a037",
   "metadata": {},
   "outputs": [
    {
     "name": "stdout",
     "output_type": "stream",
     "text": [
      "1\n",
      "2\n",
      "3\n",
      "4\n",
      "5\n",
      "6\n",
      "7\n",
      "8\n",
      "9\n",
      "10\n"
     ]
    }
   ],
   "source": [
    "# 1. Print the numbers from 1 to 10.\n",
    "for num in range(1,11):\n",
    "    print(num)"
   ]
  },
  {
   "cell_type": "code",
   "execution_count": 2,
   "id": "586ea8e7",
   "metadata": {},
   "outputs": [
    {
     "name": "stdout",
     "output_type": "stream",
     "text": [
      "2\n",
      "4\n",
      "6\n",
      "8\n",
      "10\n"
     ]
    }
   ],
   "source": [
    "# 3.Print the even numbers between 1 and 10.\n",
    "for num in range(1,11):\n",
    "    if num % 2 == 0:\n",
    "        print(num)"
   ]
  },
  {
   "cell_type": "code",
   "execution_count": 3,
   "id": "b960852d",
   "metadata": {},
   "outputs": [
    {
     "name": "stdout",
     "output_type": "stream",
     "text": [
      "5050\n"
     ]
    }
   ],
   "source": [
    "# 5.Find the sum of all numbers from 1 to 100.\n",
    "X = 0\n",
    "for num in range(1,101):\n",
    "    X = X+num\n",
    "\n",
    "print(X)"
   ]
  },
  {
   "cell_type": "code",
   "execution_count": 1,
   "id": "9754e197",
   "metadata": {},
   "outputs": [
    {
     "name": "stdout",
     "output_type": "stream",
     "text": [
      "Enter non negative integer: 3\n",
      "6\n"
     ]
    }
   ],
   "source": [
    "# 7.Write a program to find the factorial of a number.\n",
    "X = int(input(\"Enter non negative integer: \"))\n",
    "factor = 1\n",
    "\n",
    "for num in range(X):\n",
    "   factor = factor*(num+1)\n",
    "\n",
    "print(factor)"
   ]
  },
  {
   "cell_type": "markdown",
   "id": "92a84c24",
   "metadata": {},
   "source": [
    "---\n",
    "\n",
    "### Sentinel\n",
    "\n",
    "**CONCEPT: A sentinel is a special value that marks the end of a sequence of values.**\n",
    "\n",
    "Consider the following scenario: \n",
    "\n",
    "You are designing a program that will use a loop to process a **long sequence** of values. At the time you are designing the program, you **do not know** the number of values that will be in the sequence. In fact, the number of values in the sequence could be different each time the program is executed. What is the best way to design such a loop? \n",
    "\n",
    "Here are some techniques that you have seen already, along with the disadvantages of using them when processing a long list of values:\n",
    "\n",
    "- Simply ask the user, at the **end** of each loop iteration, if there is another value to process. If the sequence of values is long, however, asking this question at the end of each loop iteration might make the program cumbersome for the user.\n",
    "\n",
    "- Ask the user at the **beginning** of the program how many items are in the sequence. This might also inconvenience the user, however. If the sequence is very long, and the user does not know the number of items it contains, it will require the user to count them.\n",
    "                \n",
    "When processing a long sequence of values with a loop, perhaps a better technique is to use a sentinel. A sentinel is a special value that marks the end of a sequence of items. When a program reads the sentinel value, it knows it has reached the end of the sequence, so the loop terminates.   \n",
    "\n",
    "---"
   ]
  },
  {
   "cell_type": "markdown",
   "id": "bc066637",
   "metadata": {},
   "source": [
    "#### Example. Using a Sentinel\n",
    "\n",
    "The county tax office calculates the annual taxes on property using the following formula:\n",
    "\n",
    "**property tax = property value * 0.0065**\n",
    "\n",
    "Every day, a clerk in the tax office gets a list of properties and has to calculate the tax for each property on the list. \n",
    "\n",
    "You have been asked to design a program that the clerk can use to perform these calculations.\n",
    "                \n",
    "In your interview with the tax clerk, you learn that each property is assigned a lot number, and all lot numbers are 1 or greater. \n",
    "\n",
    "You decide to write a loop that uses the number **0** as a **sentinel value**. \n",
    "\n",
    "During each loop iteration, the program will ask the clerk to enter either a property’s **lot number**, or **0** to end."
   ]
  },
  {
   "cell_type": "code",
   "execution_count": 1,
   "id": "5355c0ba",
   "metadata": {},
   "outputs": [
    {
     "name": "stdout",
     "output_type": "stream",
     "text": [
      "Enter the property lot number or enter 0 to end.\n",
      "Lot number: 123\n",
      "Enter the property value: 1000\n",
      "Property tax: $6.50\n",
      "Enter the next lot number or enter 0 to end.\n",
      "Lot number: 124\n",
      "Enter the property value: 2000\n",
      "Property tax: $13.00\n",
      "Enter the next lot number or enter 0 to end.\n",
      "Lot number: 0\n"
     ]
    }
   ],
   "source": [
    "# This program displays property taxes.\n",
    "\n",
    "TAX_FACTOR = 0.0065   # Represents the tax factor.\n",
    "\n",
    "# Get the first lot number.\n",
    "print('Enter the property lot number or enter 0 to end.')\n",
    "lot = int(input('Lot number: '))\n",
    "\n",
    "# Continue processing as long as the user\n",
    "# does not enter lot number 0.\n",
    "while lot != 0:\n",
    "    # Get the property value.\n",
    "    value = float(input('Enter the property value: '))\n",
    "\n",
    "    # Calculate the property's tax.\n",
    "    tax = value * TAX_FACTOR\n",
    "\n",
    "    # Display the tax.\n",
    "    print(f'Property tax: ${tax:,.2f}')\n",
    "\n",
    "    # Get the next lot number.\n",
    "    print('Enter the next lot number or enter 0 to end.')\n",
    "    lot = int(input('Lot number: '))"
   ]
  },
  {
   "cell_type": "markdown",
   "id": "dbdcc97d",
   "metadata": {},
   "source": [
    "---\n",
    "\n",
    "### Input Validation Loops\n",
    "\n",
    "**CONCEPT: Input validation is the process of `inspecting data` that has been input to a program, to make sure it is valid before it is used in a computation. Input validation is commonly done with a loop that iterates as long as an input variable references bad data.**\n",
    "\n",
    "One of the most famous sayings among computer programmers is `“garbage in, garbage out.”` This saying, sometimes abbreviated as GIGO, refers to the fact that computers cannot tell the difference between good data and bad data. \n",
    "\n",
    "If a user provides bad data as input to a program, the program will process that bad data and, as a result, will produce bad data as output.\n",
    "\n",
    "---\n",
    "\n",
    "Look at the following payroll program and notice what happens in the sample run when the user gives bad data as input."
   ]
  },
  {
   "cell_type": "code",
   "execution_count": 4,
   "id": "e5d316e7",
   "metadata": {},
   "outputs": [
    {
     "name": "stdout",
     "output_type": "stream",
     "text": [
      "Enter the hours worked this week: -20\n",
      "Enter the hourly pay rate: 20\n",
      "Gross pay: $-400.00\n"
     ]
    }
   ],
   "source": [
    "# This program displays gross pay.\n",
    "# Get the number of hours worked.\n",
    "hours = int(input('Enter the hours worked this week: '))\n",
    "\n",
    "# Get the hourly pay rate.\n",
    "pay_rate = float(input('Enter the hourly pay rate: '))\n",
    "\n",
    "# Calculate the gross pay.\n",
    "gross_pay = hours * pay_rate\n",
    "\n",
    "# Display the gross pay.\n",
    "print(f'Gross pay: ${gross_pay:,.2f}')"
   ]
  },
  {
   "cell_type": "markdown",
   "id": "669c9791",
   "metadata": {},
   "source": [
    "This flowchat shows a common technique for validating an item of input. In this technique, the input is read, then a loop is executed. If the input data is bad, the loop executes its block of statements. The loop displays an error message so the user will know that the input was invalid, and then it reads the new input. The loop repeats as long as the input is bad.\n",
    "\n",
    "<img src=\"https://raw.githubusercontent.com/cxc1920/ISE224/main/pictures/4-7.png\" alt=\"4-7\" width = \"800\" height = \"600\">"
   ]
  },
  {
   "cell_type": "code",
   "execution_count": 2,
   "id": "4e472dec",
   "metadata": {},
   "outputs": [
    {
     "name": "stdout",
     "output_type": "stream",
     "text": [
      "Enter a test score: -5\n",
      "ERROR: The score cannot be negative.\n",
      "Enter the correct score: -1\n",
      "ERROR: The score cannot be negative.\n",
      "Enter the correct score: 10\n"
     ]
    }
   ],
   "source": [
    "# Get a test score. \n",
    "score = int(input('Enter a test score: '))\n",
    "# Make sure it is not less than 0.\n",
    "\n",
    "while score < 0:\n",
    "    print('ERROR: The score cannot be negative.')\n",
    "    score = int(input('Enter the correct score: '))"
   ]
  },
  {
   "cell_type": "markdown",
   "id": "261764d4",
   "metadata": {},
   "source": [
    "---  \n",
    "\n",
    "#### More Nested Loop Examples.\n",
    "\n",
    "Example 1. \n",
    "\n",
    "This program asks the user for the number of students and the number of test scores per student, and then calculates the average test score for each student."
   ]
  },
  {
   "cell_type": "code",
   "execution_count": 12,
   "id": "a6d548fa",
   "metadata": {},
   "outputs": [
    {
     "name": "stdout",
     "output_type": "stream",
     "text": [
      "How many students do you have? 3\n",
      "How many test scores per student? 4\n",
      "Student number 1\n",
      "-----------------\n",
      "Test number 1: 100\n",
      "Test number 2: 82\n",
      "Test number 3: 88\n",
      "Test number 4: 77\n",
      "The average for student number 1 is: 86.8\n",
      "\n",
      "Student number 2\n",
      "-----------------\n",
      "Test number 1: 77\n",
      "Test number 2: 72\n",
      "Test number 3: 66\n",
      "Test number 4: 80\n",
      "The average for student number 2 is: 73.8\n",
      "\n",
      "Student number 3\n",
      "-----------------\n",
      "Test number 1: 79\n",
      "Test number 2: 98\n",
      "Test number 3: 88\n",
      "Test number 4: 70\n",
      "The average for student number 3 is: 83.8\n",
      "\n"
     ]
    }
   ],
   "source": [
    "# This program averages test scores. It asks the user for the\n",
    "# number of students and the number of test scores per student.\n",
    "\n",
    "# Get the number of students.\n",
    "num_students = int(input('How many students do you have? '))\n",
    "\n",
    "# Get the number of test scores per student.\n",
    "num_test_scores = int(input('How many test scores per student? '))\n",
    "\n",
    "# Determine each students average test score.\n",
    "for student in range(num_students):\n",
    "    # Initialize an accumulator for the test scores.\n",
    "    total = 0.0\n",
    "\n",
    "    # Display the student number.\n",
    "    print(f'Student number {student + 1}')\n",
    "    print('-----------------')\n",
    "\n",
    "    # Get the student's test scores.\n",
    "    for test_num in range(num_test_scores):\n",
    "        print(f'Test number {test_num + 1}', end='')\n",
    "        score = float(input(': '))\n",
    "\n",
    "        # Add the score to the accumulator.\n",
    "        total += score\n",
    "\n",
    "    # Calculate the average test score for this student.\n",
    "    average = total / num_test_scores\n",
    "\n",
    "    # Display the average.\n",
    "    print(f'The average for student number {student + 1} '\n",
    "          f'is: {average:.1f}')\n",
    "    print()"
   ]
  },
  {
   "cell_type": "markdown",
   "id": "19e2ed73",
   "metadata": {},
   "source": [
    "Here is an explanation of the program:\n",
    "\n",
    "1. The program first asks the user for the number of students and the number of test scores per student using the input() function and stores them in the variables num_students and num_test_scores.\n",
    "\n",
    "2. The program then enters a loop that iterates over each student using the range() function.\n",
    "\n",
    "3. Inside the loop, the program initializes a variable total to 0.0, which will be used to store the sum of the test scores for the current student.\n",
    "\n",
    "4. The program then displays the student number and gets the test scores for the current student using another loop that iterates over the number of test scores per student.\n",
    "\n",
    "5. Inside the inner loop, the program displays the test number and uses the float() function to convert the user input into a float and stores the score in the variable score.\n",
    "\n",
    "6. The program adds the score to the accumulator variable total inside the inner loop.\n",
    "\n",
    "7. After getting all the test scores for the current student, the program calculates the average test score by dividing the total by the num_test_scores and stores it in the variable average.\n",
    "\n",
    "8. The program then displays the average test score for the current student using the print() function.\n",
    "\n",
    "The program repeats steps 3-8 for each student in the loop."
   ]
  },
  {
   "cell_type": "markdown",
   "id": "82825402",
   "metadata": {},
   "source": [
    "#### Example. Using Nested Loops to Print Patterns"
   ]
  },
  {
   "cell_type": "code",
   "execution_count": 3,
   "id": "2e3be814",
   "metadata": {},
   "outputs": [
    {
     "name": "stdout",
     "output_type": "stream",
     "text": [
      "******"
     ]
    }
   ],
   "source": [
    "for col in range(6):\n",
    "    print('*', end='')"
   ]
  },
  {
   "cell_type": "code",
   "execution_count": 5,
   "id": "cbc30231",
   "metadata": {},
   "outputs": [
    {
     "name": "stdout",
     "output_type": "stream",
     "text": [
      "******\n",
      "******\n",
      "******\n",
      "******\n",
      "******\n",
      "******\n",
      "******\n",
      "******\n"
     ]
    }
   ],
   "source": [
    "for row in range(8):\n",
    "    for col in range(6):\n",
    "        print('*', end='')\n",
    "        \n",
    "    print(\"\",end='\\n')"
   ]
  },
  {
   "cell_type": "markdown",
   "id": "1af7cb36",
   "metadata": {},
   "source": [
    "**Practice**\n",
    "1. Write a program to show the following triangle.\n",
    "\n",
    "<img src=\"https://raw.githubusercontent.com/cxc1920/ISE224/main/pictures/4-8.png\">"
   ]
  },
  {
   "cell_type": "code",
   "execution_count": 8,
   "id": "21341704",
   "metadata": {},
   "outputs": [
    {
     "name": "stdout",
     "output_type": "stream",
     "text": [
      "*\n",
      "**\n",
      "***\n",
      "****\n",
      "*****\n",
      "******\n",
      "*******\n",
      "********\n"
     ]
    }
   ],
   "source": [
    "# This program displays a triangle pattern.\n",
    "base_size = 8\n",
    "for row in range(base_size):\n",
    "    for col in range(row+1):\n",
    "        print('*', end='')\n",
    "        \n",
    "    print(\"\",end='\\n')"
   ]
  },
  {
   "cell_type": "code",
   "execution_count": null,
   "id": "baf4f489",
   "metadata": {},
   "outputs": [],
   "source": []
  }
 ],
 "metadata": {
  "kernelspec": {
   "display_name": "Python 3 (ipykernel)",
   "language": "python",
   "name": "python3"
  },
  "language_info": {
   "codemirror_mode": {
    "name": "ipython",
    "version": 3
   },
   "file_extension": ".py",
   "mimetype": "text/x-python",
   "name": "python",
   "nbconvert_exporter": "python",
   "pygments_lexer": "ipython3",
   "version": "3.10.10"
  }
 },
 "nbformat": 4,
 "nbformat_minor": 5
}
