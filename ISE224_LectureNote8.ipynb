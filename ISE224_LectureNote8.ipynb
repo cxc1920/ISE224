{
 "cells": [
  {
   "cell_type": "markdown",
   "id": "e6aacaec",
   "metadata": {},
   "source": [
    "# ISE224 LectureNote 8: Modules\n",
    "---\n",
    "\n",
    "**topics**\n",
    "- Introduction to Modules\n",
    "- Packages"
   ]
  },
  {
   "cell_type": "markdown",
   "id": "47373e8c",
   "metadata": {},
   "source": [
    "As a Python programmer, it is essential to know that the definitions you make, such as functions and variables, are lost when you quit the Python interpreter and enter it again. To write a more extended program, it is better to use a text editor to prepare the input and run it as a script, rather than typing everything into the interpreter. *As programs get more complex, you might want to divide them into multiple files for easier maintenance*.\n",
    "\n",
    "Python offers a way to **store definitions in a file and use them in a script or an interactive interpreter instance**. These files are called `modules`, and the definitions can be imported into other modules or the main module, giving access to a collection of variables at the top level and in calculator mode. Reusing modules with handy functions can save you time and effort, instead of duplicating code in each program."
   ]
  },
  {
   "cell_type": "markdown",
   "id": "363a6af7",
   "metadata": {},
   "source": [
    "A **module** in Python is a file that contains **statements** and **definitions**. \n",
    "\n",
    "- The **name of the file** is the same as the **module's name**, with the `.py` extension appended.   \n",
    "- The **global variable name** holds the **name of the module** as a string within the module. \n",
    "\n",
    "For example, you can create a file named `fibo.py` in the current directory using a text editor with the following content as an example:"
   ]
  },
  {
   "cell_type": "code",
   "execution_count": 1,
   "id": "8d759da2",
   "metadata": {},
   "outputs": [],
   "source": [
    "# Fibonacci numbers module, \n",
    "# save these two functions in one python script file as 'fibo.py'\n",
    "\n",
    "def fib(n):    # write Fibonacci series up to n\n",
    "    a, b = 0, 1\n",
    "    while a < n:\n",
    "        print(a, end=' ')\n",
    "        a, b = b, a+b\n",
    "    print()\n",
    "\n",
    "def fib2(n):   # return Fibonacci series up to n\n",
    "    result = []\n",
    "    a, b = 0, 1\n",
    "    while a < n:\n",
    "        result.append(a)\n",
    "        a, b = b, a+b\n",
    "    return result"
   ]
  },
  {
   "cell_type": "code",
   "execution_count": 1,
   "id": "cd185571",
   "metadata": {},
   "outputs": [],
   "source": [
    "# import the self-defined module\n",
    "import fibo"
   ]
  },
  {
   "cell_type": "code",
   "execution_count": 3,
   "id": "d6a22b86",
   "metadata": {},
   "outputs": [
    {
     "name": "stdout",
     "output_type": "stream",
     "text": [
      "0 1 1 2 3 5 8 13 21 34 55 89 144 233 377 610 987 \n"
     ]
    }
   ],
   "source": [
    "fibo.fib(1000)"
   ]
  },
  {
   "cell_type": "code",
   "execution_count": 4,
   "id": "7b2c29d0",
   "metadata": {},
   "outputs": [
    {
     "data": {
      "text/plain": [
       "[0, 1, 1, 2, 3, 5, 8, 13, 21, 34, 55, 89]"
      ]
     },
     "execution_count": 4,
     "metadata": {},
     "output_type": "execute_result"
    }
   ],
   "source": [
    "fibo.fib2(100)"
   ]
  },
  {
   "cell_type": "markdown",
   "id": "f2290d18",
   "metadata": {},
   "source": [
    "If you intend to use a function often you can assign it to a local name:"
   ]
  },
  {
   "cell_type": "code",
   "execution_count": 5,
   "id": "5aa2769e",
   "metadata": {},
   "outputs": [
    {
     "name": "stdout",
     "output_type": "stream",
     "text": [
      "0 1 1 2 3 5 8 13 21 34 55 89 144 233 377 \n"
     ]
    }
   ],
   "source": [
    "fib = fibo.fib\n",
    "fib(500)"
   ]
  },
  {
   "cell_type": "markdown",
   "id": "5f07fdfb",
   "metadata": {},
   "source": [
    "A module can contain **executable statements** as well as **function definitions**. These statements are intended to initialize the module. They are executed only the first time the module name is encountered in an import statement."
   ]
  },
  {
   "cell_type": "markdown",
   "id": "c9366387",
   "metadata": {},
   "source": [
    "A module has a distinct private namespace that serves as the global namespace for all functions defined within that module. This allows the module author to utilize global variables within the module without any concerns of unintended conflicts with the user's global variables. However, if necessary, it is possible to modify a module's global variables using the same syntax used to reference its functions, by specifying the `module_name.item_name`."
   ]
  },
  {
   "cell_type": "markdown",
   "id": "851a7873",
   "metadata": {},
   "source": [
    "Modules can import other modules. It is customary but not required to place all import statements at the beginning of a module (or script, for that matter). The imported module names, if placed at the top level of a module (outside any functions or classes), are added to the module’s global namespace."
   ]
  },
  {
   "cell_type": "markdown",
   "id": "e935b4bc",
   "metadata": {},
   "source": [
    "##### variant of `import` statement"
   ]
  },
  {
   "cell_type": "code",
   "execution_count": 6,
   "id": "1489ac3b",
   "metadata": {},
   "outputs": [],
   "source": [
    "from fibo import fib, fib2"
   ]
  },
  {
   "cell_type": "code",
   "execution_count": 7,
   "id": "d740e979",
   "metadata": {},
   "outputs": [
    {
     "name": "stdout",
     "output_type": "stream",
     "text": [
      "0 1 1 2 3 5 8 13 21 34 55 89 144 233 377 \n"
     ]
    }
   ],
   "source": [
    "fib(500)"
   ]
  },
  {
   "cell_type": "code",
   "execution_count": 8,
   "id": "17b7438d",
   "metadata": {},
   "outputs": [],
   "source": [
    "from fibo import *"
   ]
  },
  {
   "cell_type": "code",
   "execution_count": 9,
   "id": "3ace156e",
   "metadata": {},
   "outputs": [
    {
     "name": "stdout",
     "output_type": "stream",
     "text": [
      "0 1 1 2 3 5 8 13 21 34 55 89 144 233 377 \n"
     ]
    }
   ],
   "source": [
    "fib(500)"
   ]
  },
  {
   "cell_type": "markdown",
   "id": "18b786ae",
   "metadata": {},
   "source": [
    "This imports all names except those beginning with an underscore (_). In most cases Python programmers do not use this facility since it introduces an unknown set of names into the interpreter, possibly hiding some things you have already defined."
   ]
  },
  {
   "cell_type": "markdown",
   "id": "de9fe122",
   "metadata": {},
   "source": [
    "If the module name is followed by as, then the name following as is bound directly to the imported module."
   ]
  },
  {
   "cell_type": "code",
   "execution_count": 10,
   "id": "a7ee8d0d",
   "metadata": {},
   "outputs": [
    {
     "name": "stdout",
     "output_type": "stream",
     "text": [
      "0 1 1 2 3 5 8 13 21 34 55 89 144 233 377 \n"
     ]
    }
   ],
   "source": [
    "import fibo as fib\n",
    "fib.fib(500)"
   ]
  },
  {
   "cell_type": "code",
   "execution_count": 11,
   "id": "44307fe4",
   "metadata": {},
   "outputs": [
    {
     "name": "stdout",
     "output_type": "stream",
     "text": [
      "0 1 1 2 3 5 8 13 21 34 55 89 144 233 377 \n"
     ]
    }
   ],
   "source": [
    "from fibo import fib as fibonacci\n",
    "fibonacci(500)"
   ]
  },
  {
   "cell_type": "markdown",
   "id": "cd3f21b3",
   "metadata": {},
   "source": [
    "### Exercise.\n",
    "\n",
    "Write a module, named `ISE224_Vec`, to process the following functions:\n",
    "\n",
    "- vector_addition(A, B): vector addition  \n",
    "- vector_subtraction(A, B): vector subtraction \n",
    "- scalar_multiplication(vector, scalar): scalar multiplication  \n",
    "- dot_product(A, B): dot product of vectors  \n",
    "\n",
    "Then, create one `ISE224_LNB.py` to use the self-defined module to find the results of the following questions.\n",
    "```\n",
    "A = [5, 7, 12]  \n",
    "B = [6, 4, 10]\n",
    "```\n",
    "\n",
    "Q1. $$A+B$$\n",
    "Q2. $$A-B$$\n",
    "Q3. $$0.5B$$\n",
    "Q4. $$3A \\cdot 0.5B$$"
   ]
  },
  {
   "cell_type": "markdown",
   "id": "13abb16e",
   "metadata": {},
   "source": [
    "### Standard Modules"
   ]
  },
  {
   "cell_type": "markdown",
   "id": "5f5251fb",
   "metadata": {},
   "source": [
    "The Python programming language includes a collection of standard modules that are detailed in the Python Library Reference document, commonly referred to as the \"Library Reference.\" While some of these modules are integrated into the interpreter, granting access to operations that are not part of the language's core, others are included for efficiency or to enable access to operating system primitives like system calls. The specific set of these integrated modules can vary based on the underlying platform, and this set is a configuration option. For instance, the `winreg` module is only included on Windows systems. One module that is worth highlighting is `sys`, which is included in every Python interpreter."
   ]
  },
  {
   "cell_type": "code",
   "execution_count": 12,
   "id": "2eabd3e2",
   "metadata": {},
   "outputs": [
    {
     "data": {
      "text/plain": [
       "'win32'"
      ]
     },
     "execution_count": 12,
     "metadata": {},
     "output_type": "execute_result"
    }
   ],
   "source": [
    "import sys\n",
    "sys.platform"
   ]
  },
  {
   "cell_type": "code",
   "execution_count": 13,
   "id": "cdff63cf",
   "metadata": {},
   "outputs": [
    {
     "data": {
      "text/plain": [
       "['F:\\\\Dropbox\\\\UM\\\\02.courses\\\\ISE224\\\\01_LectureNotes',\n",
       " 'C:\\\\Users\\\\cxc1920\\\\Anaconda3\\\\envs\\\\ISE224\\\\python310.zip',\n",
       " 'C:\\\\Users\\\\cxc1920\\\\Anaconda3\\\\envs\\\\ISE224\\\\DLLs',\n",
       " 'C:\\\\Users\\\\cxc1920\\\\Anaconda3\\\\envs\\\\ISE224\\\\lib',\n",
       " 'C:\\\\Users\\\\cxc1920\\\\Anaconda3\\\\envs\\\\ISE224',\n",
       " '',\n",
       " 'C:\\\\Users\\\\cxc1920\\\\Anaconda3\\\\envs\\\\ISE224\\\\lib\\\\site-packages',\n",
       " 'C:\\\\Users\\\\cxc1920\\\\Anaconda3\\\\envs\\\\ISE224\\\\lib\\\\site-packages\\\\win32',\n",
       " 'C:\\\\Users\\\\cxc1920\\\\Anaconda3\\\\envs\\\\ISE224\\\\lib\\\\site-packages\\\\win32\\\\lib',\n",
       " 'C:\\\\Users\\\\cxc1920\\\\Anaconda3\\\\envs\\\\ISE224\\\\lib\\\\site-packages\\\\Pythonwin']"
      ]
     },
     "execution_count": 13,
     "metadata": {},
     "output_type": "execute_result"
    }
   ],
   "source": [
    "sys.path"
   ]
  },
  {
   "cell_type": "markdown",
   "id": "c03f78bd",
   "metadata": {},
   "source": [
    "The variable `sys.path` is a list of strings that determines the interpreter’s search path for modules."
   ]
  },
  {
   "cell_type": "markdown",
   "id": "6c2aab95",
   "metadata": {},
   "source": [
    "### The dir() Function"
   ]
  },
  {
   "cell_type": "markdown",
   "id": "63850c8e",
   "metadata": {},
   "source": [
    "The built-in function `dir()` is used to find out which names a module defines. It returns a sorted list of strings:"
   ]
  },
  {
   "cell_type": "code",
   "execution_count": 14,
   "id": "504b433a",
   "metadata": {},
   "outputs": [],
   "source": [
    "import fibo, sys"
   ]
  },
  {
   "cell_type": "code",
   "execution_count": 15,
   "id": "1592027e",
   "metadata": {},
   "outputs": [
    {
     "data": {
      "text/plain": [
       "['__builtins__',\n",
       " '__cached__',\n",
       " '__doc__',\n",
       " '__file__',\n",
       " '__loader__',\n",
       " '__name__',\n",
       " '__package__',\n",
       " '__spec__',\n",
       " 'fib',\n",
       " 'fib2']"
      ]
     },
     "execution_count": 15,
     "metadata": {},
     "output_type": "execute_result"
    }
   ],
   "source": [
    "dir(fibo)"
   ]
  },
  {
   "cell_type": "code",
   "execution_count": 16,
   "id": "0934a48c",
   "metadata": {},
   "outputs": [
    {
     "data": {
      "text/plain": [
       "['__breakpointhook__',\n",
       " '__displayhook__',\n",
       " '__doc__',\n",
       " '__excepthook__',\n",
       " '__interactivehook__',\n",
       " '__loader__',\n",
       " '__name__',\n",
       " '__package__',\n",
       " '__spec__',\n",
       " '__stderr__',\n",
       " '__stdin__',\n",
       " '__stdout__',\n",
       " '__unraisablehook__',\n",
       " '_base_executable',\n",
       " '_clear_type_cache',\n",
       " '_current_exceptions',\n",
       " '_current_frames',\n",
       " '_deactivate_opcache',\n",
       " '_debugmallocstats',\n",
       " '_enablelegacywindowsfsencoding',\n",
       " '_framework',\n",
       " '_getframe',\n",
       " '_git',\n",
       " '_home',\n",
       " '_xoptions',\n",
       " 'addaudithook',\n",
       " 'api_version',\n",
       " 'argv',\n",
       " 'audit',\n",
       " 'base_exec_prefix',\n",
       " 'base_prefix',\n",
       " 'breakpointhook',\n",
       " 'builtin_module_names',\n",
       " 'byteorder',\n",
       " 'call_tracing',\n",
       " 'copyright',\n",
       " 'displayhook',\n",
       " 'dllhandle',\n",
       " 'dont_write_bytecode',\n",
       " 'exc_info',\n",
       " 'excepthook',\n",
       " 'exec_prefix',\n",
       " 'executable',\n",
       " 'exit',\n",
       " 'flags',\n",
       " 'float_info',\n",
       " 'float_repr_style',\n",
       " 'get_asyncgen_hooks',\n",
       " 'get_coroutine_origin_tracking_depth',\n",
       " 'get_int_max_str_digits',\n",
       " 'getallocatedblocks',\n",
       " 'getdefaultencoding',\n",
       " 'getfilesystemencodeerrors',\n",
       " 'getfilesystemencoding',\n",
       " 'getprofile',\n",
       " 'getrecursionlimit',\n",
       " 'getrefcount',\n",
       " 'getsizeof',\n",
       " 'getswitchinterval',\n",
       " 'gettrace',\n",
       " 'getwindowsversion',\n",
       " 'hash_info',\n",
       " 'hexversion',\n",
       " 'implementation',\n",
       " 'int_info',\n",
       " 'intern',\n",
       " 'is_finalizing',\n",
       " 'maxsize',\n",
       " 'maxunicode',\n",
       " 'meta_path',\n",
       " 'modules',\n",
       " 'orig_argv',\n",
       " 'path',\n",
       " 'path_hooks',\n",
       " 'path_importer_cache',\n",
       " 'platform',\n",
       " 'platlibdir',\n",
       " 'prefix',\n",
       " 'ps1',\n",
       " 'ps2',\n",
       " 'ps3',\n",
       " 'pycache_prefix',\n",
       " 'set_asyncgen_hooks',\n",
       " 'set_coroutine_origin_tracking_depth',\n",
       " 'set_int_max_str_digits',\n",
       " 'setprofile',\n",
       " 'setrecursionlimit',\n",
       " 'setswitchinterval',\n",
       " 'settrace',\n",
       " 'stderr',\n",
       " 'stdin',\n",
       " 'stdlib_module_names',\n",
       " 'stdout',\n",
       " 'thread_info',\n",
       " 'unraisablehook',\n",
       " 'version',\n",
       " 'version_info',\n",
       " 'warnoptions',\n",
       " 'winver']"
      ]
     },
     "execution_count": 16,
     "metadata": {},
     "output_type": "execute_result"
    }
   ],
   "source": [
    "dir(sys)"
   ]
  },
  {
   "cell_type": "markdown",
   "id": "8df39472",
   "metadata": {},
   "source": [
    "**Without arguments, dir() lists the names you have defined currently:**"
   ]
  },
  {
   "cell_type": "code",
   "execution_count": 17,
   "id": "88fda819",
   "metadata": {},
   "outputs": [
    {
     "data": {
      "text/plain": [
       "['In',\n",
       " 'Out',\n",
       " '_',\n",
       " '_12',\n",
       " '_13',\n",
       " '_15',\n",
       " '_16',\n",
       " '_4',\n",
       " '__',\n",
       " '___',\n",
       " '__builtin__',\n",
       " '__builtins__',\n",
       " '__doc__',\n",
       " '__loader__',\n",
       " '__name__',\n",
       " '__package__',\n",
       " '__spec__',\n",
       " '_dh',\n",
       " '_i',\n",
       " '_i1',\n",
       " '_i10',\n",
       " '_i11',\n",
       " '_i12',\n",
       " '_i13',\n",
       " '_i14',\n",
       " '_i15',\n",
       " '_i16',\n",
       " '_i17',\n",
       " '_i2',\n",
       " '_i3',\n",
       " '_i4',\n",
       " '_i5',\n",
       " '_i6',\n",
       " '_i7',\n",
       " '_i8',\n",
       " '_i9',\n",
       " '_ih',\n",
       " '_ii',\n",
       " '_iii',\n",
       " '_oh',\n",
       " 'exit',\n",
       " 'fib',\n",
       " 'fib2',\n",
       " 'fibo',\n",
       " 'fibonacci',\n",
       " 'get_ipython',\n",
       " 'open',\n",
       " 'quit',\n",
       " 'sys',\n",
       " 'tmp']"
      ]
     },
     "execution_count": 17,
     "metadata": {},
     "output_type": "execute_result"
    }
   ],
   "source": [
    "tmp = [1, 2, 3, 4, 5]\n",
    "dir()"
   ]
  },
  {
   "cell_type": "markdown",
   "id": "58f11dca",
   "metadata": {},
   "source": [
    "Note that it lists all types of names: variables, modules, functions, etc."
   ]
  },
  {
   "cell_type": "markdown",
   "id": "f05fb197",
   "metadata": {},
   "source": [
    "### Packages\n",
    "\n"
   ]
  },
  {
   "cell_type": "markdown",
   "id": "de7a940e",
   "metadata": {},
   "source": [
    "In Python, a **package** is a way to organize related **modules** into a **single directory hierarchy**. A package can contain one or more modules and can also contain sub-packages, which are simply other packages within the package."
   ]
  },
  {
   "cell_type": "markdown",
   "id": "2b837b95",
   "metadata": {},
   "source": [
    "Packages are useful for *organizing larger projects* or for *distributing libraries that contain multiple modules*. By grouping related code into packages, you can make your code **more organized**, **easier to manage**, and **more reusable**."
   ]
  },
  {
   "cell_type": "markdown",
   "id": "20a7334f",
   "metadata": {},
   "source": [
    "To create a package in Python, you simply need to create a directory with a special file called `__init__.py`. **This file tells Python that the directory should be treated as a package.**"
   ]
  },
  {
   "cell_type": "markdown",
   "id": "33892e81",
   "metadata": {},
   "source": [
    "Here's an example of how to create a simple package called **\"my_package\"** with one module, **module0**, and two sub-packages, **\"sub_package1\"** and **\"sub_package2\"**, each containing a single module:"
   ]
  },
  {
   "cell_type": "markdown",
   "id": "f4590696",
   "metadata": {},
   "source": [
    "```\n",
    "my_package/\n",
    "    __init__.py\n",
    "    module0.py\n",
    "    sub_package1/\n",
    "        __init__.py\n",
    "        module1.py\n",
    "    sub_package2/\n",
    "        __init__.py\n",
    "        module2.py\n",
    "```"
   ]
  },
  {
   "cell_type": "markdown",
   "id": "b71c1238",
   "metadata": {},
   "source": [
    "**The `__init__.py` files in each directory can be left empty**, or they can contain initialization code that is executed when the package or sub-package is imported."
   ]
  },
  {
   "cell_type": "code",
   "execution_count": 18,
   "id": "0ef36fa2",
   "metadata": {},
   "outputs": [],
   "source": [
    "# module0.py\n",
    "def print_1():\n",
    "    print(\"Hello, world!\")\n",
    "\n",
    "def print_2(Name):\n",
    "    print(f\"Greeting! {Name}!\")"
   ]
  },
  {
   "cell_type": "code",
   "execution_count": 19,
   "id": "fa460d78",
   "metadata": {},
   "outputs": [],
   "source": [
    "# module1.py\n",
    "def add(num1, num2):\n",
    "    return num1 + num2\n",
    "\n",
    "def subtract(num1, num2):\n",
    "    return num1 - num2"
   ]
  },
  {
   "cell_type": "code",
   "execution_count": 20,
   "id": "ccd4cf08",
   "metadata": {},
   "outputs": [],
   "source": [
    "# module2.py\n",
    "def multiply(num1, num2):\n",
    "    return num1 * num2\n",
    "\n",
    "def divide(num1, num2):\n",
    "    if num2 == 0:\n",
    "        raise ValueError(\"Cannot divide by zero\")\n",
    "    return num1 / num2"
   ]
  },
  {
   "cell_type": "markdown",
   "id": "042d89dd",
   "metadata": {},
   "source": [
    "To use modules from a package, you can import them using the dot notation, like this:"
   ]
  },
  {
   "cell_type": "code",
   "execution_count": 21,
   "id": "13945c1a",
   "metadata": {},
   "outputs": [
    {
     "name": "stdout",
     "output_type": "stream",
     "text": [
      "Hello, world!\n",
      "Greeting! Chris!\n"
     ]
    }
   ],
   "source": [
    "# Example. Self-defined module\n",
    "import my_package.module0 as md0\n",
    "md0.print_1()\n",
    "md0.print_2('Chris')"
   ]
  },
  {
   "cell_type": "code",
   "execution_count": 22,
   "id": "2ced5261",
   "metadata": {},
   "outputs": [
    {
     "name": "stdout",
     "output_type": "stream",
     "text": [
      "5\n"
     ]
    }
   ],
   "source": [
    "# Example. Self-defined module\n",
    "import my_package.sub_package1.module1 as md1\n",
    "result = md1.add(2, 3)\n",
    "print(result)"
   ]
  },
  {
   "cell_type": "markdown",
   "id": "96dba9c6",
   "metadata": {},
   "source": [
    "In this example, we import the `add` function from the `module1` module in the `sub_package1` sub-package of the `my_package` package. We then call the `add` function with the arguments 2 and 3, and print the result, which is 5."
   ]
  },
  {
   "cell_type": "code",
   "execution_count": 23,
   "id": "3bcf30b4",
   "metadata": {},
   "outputs": [
    {
     "name": "stdout",
     "output_type": "stream",
     "text": [
      "6\n"
     ]
    }
   ],
   "source": [
    "# Example. Self-defined module\n",
    "import my_package.sub_package2.module2\n",
    "result = my_package.sub_package2.module2.multiply(2, 3)\n",
    "print(result)"
   ]
  },
  {
   "cell_type": "markdown",
   "id": "42bccba2",
   "metadata": {},
   "source": [
    "In this example, we import the `multiple` function from the `module2` module in the `sub_package2` sub-package of the `my_package` package. We then call the `multiple` function with the arguments 2 and 3, and print the result, which is 6."
   ]
  }
 ],
 "metadata": {
  "kernelspec": {
   "display_name": "Python 3 (ipykernel)",
   "language": "python",
   "name": "python3"
  },
  "language_info": {
   "codemirror_mode": {
    "name": "ipython",
    "version": 3
   },
   "file_extension": ".py",
   "mimetype": "text/x-python",
   "name": "python",
   "nbconvert_exporter": "python",
   "pygments_lexer": "ipython3",
   "version": "3.11.7"
  }
 },
 "nbformat": 4,
 "nbformat_minor": 5
}
