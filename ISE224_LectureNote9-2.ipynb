{
 "cells": [
  {
   "cell_type": "markdown",
   "id": "71567226",
   "metadata": {},
   "source": [
    "# ISE224 LectureNote 9-2: Inheritance\n",
    "---\n",
    "\n",
    "**topics**  \n",
    "- Inheritance  \n",
    "- polymorphsim\n",
    "\n",
    "---"
   ]
  },
  {
   "cell_type": "markdown",
   "id": "9246848d",
   "metadata": {},
   "source": [
    "### Inheritance  \n",
    "\n",
    "**Inheritance** is a feature in Python's OOP paradigm that allows a **new class** to be based on an **existing class**. The new class, called a **subclass** or **derived class**, _inherits the attributes and methods_ of the **existing class**, called the **superclass** or **base class**."
   ]
  },
  {
   "cell_type": "markdown",
   "id": "4e0407c4",
   "metadata": {},
   "source": [
    "#### Step 1: Create a superclass"
   ]
  },
  {
   "cell_type": "markdown",
   "id": "f5c86228",
   "metadata": {},
   "source": [
    "The first step is to create a **superclass**, which is a class that will be used as the basis for the subclass. Here's an example of a simple superclass:"
   ]
  },
  {
   "cell_type": "code",
   "execution_count": 2,
   "id": "b3854173",
   "metadata": {},
   "outputs": [],
   "source": [
    "class Vehicle:\n",
    "    def __init__(self, make, model, year):\n",
    "        self.make = make\n",
    "        self.model = model\n",
    "        self.year = year\n",
    "\n",
    "    def start(self):\n",
    "        print(\"Starting the engine...\")"
   ]
  },
  {
   "cell_type": "markdown",
   "id": "cc650cab",
   "metadata": {},
   "source": [
    "This class has an **`__init__`** method that takes three parameters: *make, model, and year*. It also has a start method that prints out a message when the engine is started."
   ]
  },
  {
   "cell_type": "markdown",
   "id": "b91d1515",
   "metadata": {},
   "source": [
    "#### Step 2: Create a subclass"
   ]
  },
  {
   "cell_type": "markdown",
   "id": "e0d33dae",
   "metadata": {},
   "source": [
    "Next, create a **subclass** by defining a new class that inherits from the superclass. In Python, you can do this by putting the name of the superclass in parentheses after the name of the subclass. "
   ]
  },
  {
   "cell_type": "markdown",
   "id": "fb38b627",
   "metadata": {},
   "source": [
    "- **Syntax:**\n",
    "```\n",
    "class NewClass(SuperClass):\n",
    "    def __init__(self, superclass_attr1, superclass_attr2, ..., newclass_attr1, newclass_attr2, ...):\n",
    "        super.__init__(superclass_attr1, superclass_attr2, ...)\n",
    "        self.newclass_attr1 = newclass_attri1\n",
    "        self.newclass_attr2 = newclass_attri2\n",
    "        ...\n",
    "    def newclassmethod(self):\n",
    "        ...\n",
    "```"
   ]
  },
  {
   "cell_type": "code",
   "execution_count": 3,
   "id": "ac4d6e5e",
   "metadata": {},
   "outputs": [],
   "source": [
    "class Car(Vehicle):\n",
    "    def __init__(self, make, model, year):\n",
    "        super().__init__(make, model, year)\n",
    "        \n",
    "    def drive(self):\n",
    "        print(\"Driving the car...\")"
   ]
  },
  {
   "cell_type": "markdown",
   "id": "f5a85ad2",
   "metadata": {},
   "source": [
    "This defines a new class called Car that inherits from the Vehicle superclass. The Car class also has a new method called drive that prints out a message when the car is being driven."
   ]
  },
  {
   "cell_type": "markdown",
   "id": "35439135",
   "metadata": {},
   "source": [
    "#### Step 3: Instantiate the subclass"
   ]
  },
  {
   "cell_type": "markdown",
   "id": "eb635a91",
   "metadata": {},
   "source": [
    "To use the subclass, create an instance of the Car class using the **`__init__` method** of the superclass."
   ]
  },
  {
   "cell_type": "code",
   "execution_count": 4,
   "id": "7d55a8f1",
   "metadata": {},
   "outputs": [],
   "source": [
    "my_car = Car(\"Toyota\", \"Camry\", 2021)"
   ]
  },
  {
   "cell_type": "markdown",
   "id": "71c88f9e",
   "metadata": {},
   "source": [
    "This creates a new instance of the Car class called my_car with the make \"Toyota\", model \"Camry\", and year 2021."
   ]
  },
  {
   "cell_type": "markdown",
   "id": "513f757c",
   "metadata": {},
   "source": [
    "#### Step 4: Use the subclass"
   ]
  },
  {
   "cell_type": "markdown",
   "id": "ef4c467c",
   "metadata": {},
   "source": [
    "Now that you have an instance of the subclass, you can use its methods and attributes just like any other object in Python."
   ]
  },
  {
   "cell_type": "code",
   "execution_count": 4,
   "id": "4b43e090",
   "metadata": {},
   "outputs": [
    {
     "name": "stdout",
     "output_type": "stream",
     "text": [
      "Starting the engine...\n",
      "Driving the car...\n"
     ]
    }
   ],
   "source": [
    "my_car.start()  # Outputs \"Starting the engine...\"\n",
    "my_car.drive()  # Outputs \"Driving the car...\""
   ]
  },
  {
   "cell_type": "markdown",
   "id": "4eb2fb60",
   "metadata": {},
   "source": [
    "This calls the start method of the superclass, which is inherited by the Car subclass, and the drive method of the Car subclass."
   ]
  },
  {
   "cell_type": "markdown",
   "id": "2e6b737d",
   "metadata": {},
   "source": [
    "### Example"
   ]
  },
  {
   "cell_type": "markdown",
   "id": "6762cff9",
   "metadata": {},
   "source": [
    "Here's an example of how the **Vehicle class** can be used as a **superclass** to create two **subclasses**, **Sedan** and **Truck**, that inherit properties from the Vehicle class:"
   ]
  },
  {
   "cell_type": "markdown",
   "id": "bc73744c",
   "metadata": {},
   "source": [
    "<img src=\"https://raw.githubusercontent.com/cxc1920/ISE224/main/pictures/9-3.png\" width=720 height=440>"
   ]
  },
  {
   "cell_type": "code",
   "execution_count": 5,
   "id": "625cda19",
   "metadata": {},
   "outputs": [],
   "source": [
    "# superclass: Vehicle\n",
    "class Vehicle:\n",
    "    def __init__(self, make, model, year, weight, engineType):\n",
    "        self.make = make\n",
    "        self.model = model\n",
    "        self.year = year\n",
    "        self.weight = weight\n",
    "        self.engineType = engineType\n",
    "\n",
    "    def start_engine(self):\n",
    "        print(\"Engine started.\")\n",
    "\n",
    "    def stop_engine(self):\n",
    "        print(\"Engine stopped.\")"
   ]
  },
  {
   "cell_type": "code",
   "execution_count": 6,
   "id": "5738edf6",
   "metadata": {},
   "outputs": [],
   "source": [
    "# Subclass: Sedan\n",
    "class Sedan(Vehicle):\n",
    "    def __init__(self, make, model, year, weight, engineType, num_doors):\n",
    "        super().__init__(make, model, year, weight, engineType)\n",
    "        self.num_doors = num_doors\n",
    "\n",
    "    def drive(self):\n",
    "        print(f\"Driving sedan {self.make} {self.model} with {self.num_doors} doors.\")"
   ]
  },
  {
   "cell_type": "code",
   "execution_count": 7,
   "id": "d949dffe",
   "metadata": {},
   "outputs": [],
   "source": [
    "# Subclass: track\n",
    "class Truck(Vehicle):\n",
    "    def __init__(self, make, model, year, weight, engineType, payload_capacity):\n",
    "        super().__init__(make, model, year, weight, engineType)\n",
    "        self.payload_capacity = payload_capacity\n",
    "\n",
    "    def haul(self):\n",
    "        print(f\"Hauling cargo in truck {self.make} {self.model} with {self.payload_capacity} lb payload capacity.\")"
   ]
  },
  {
   "cell_type": "markdown",
   "id": "631f22f5",
   "metadata": {},
   "source": [
    "In this example, the **Vehicle class** is defined with a constructor that takes five parameters: __make, model, year, weight__ and __engineType__. It also defines two methods: **start_engine** and **stop_engine**.\n",
    "\n",
    "The **Sedan subclass** is defined with an additional parameter **num_doors** and a **drive method** that prints out information about the sedan.\n",
    "\n",
    "The **Truck subclass** is defined with an additional parameter **payload_capacity** and a **haul method** that prints out information about the cargo capacity of the truck.\n",
    "\n",
    "Both **Sedan** and **Truck** inherit properties and methods from the **Vehicle superclass** by using the **super() method** in their constructors. This allows them to reuse code and avoid duplicating functionality."
   ]
  },
  {
   "cell_type": "code",
   "execution_count": 8,
   "id": "62ff37fb",
   "metadata": {},
   "outputs": [
    {
     "name": "stdout",
     "output_type": "stream",
     "text": [
      "Engine started.\n",
      "Driving sedan Toyota Corolla with 4 doors.\n"
     ]
    }
   ],
   "source": [
    "my_sedan = Sedan(\"Toyota\", \"Corolla\", 2021, 3000, \"Gas\",4)\n",
    "my_sedan.start_engine()\n",
    "my_sedan.drive()"
   ]
  },
  {
   "cell_type": "code",
   "execution_count": 9,
   "id": "39c4ad7e",
   "metadata": {},
   "outputs": [
    {
     "name": "stdout",
     "output_type": "stream",
     "text": [
      "Engine started.\n",
      "Hauling cargo in truck Ford F-150 with 2000 lb payload capacity.\n"
     ]
    }
   ],
   "source": [
    "my_truck = Truck(\"Ford\", \"F-150\", 2021, 6000, \"Diesel\",2000)\n",
    "my_truck.start_engine()\n",
    "my_truck.haul()"
   ]
  },
  {
   "cell_type": "markdown",
   "id": "aff10fa3",
   "metadata": {},
   "source": [
    "#### `isinstance(obj, class)`: use isinstance function to check if the object is belong to one specific class "
   ]
  },
  {
   "cell_type": "code",
   "execution_count": 10,
   "id": "8bb9cd4d",
   "metadata": {},
   "outputs": [
    {
     "data": {
      "text/plain": [
       "True"
      ]
     },
     "execution_count": 10,
     "metadata": {},
     "output_type": "execute_result"
    }
   ],
   "source": [
    "isinstance(my_sedan,Sedan)"
   ]
  },
  {
   "cell_type": "code",
   "execution_count": 11,
   "id": "e3491537",
   "metadata": {},
   "outputs": [
    {
     "data": {
      "text/plain": [
       "True"
      ]
     },
     "execution_count": 11,
     "metadata": {},
     "output_type": "execute_result"
    }
   ],
   "source": [
    "isinstance(my_sedan,Vehicle)"
   ]
  },
  {
   "cell_type": "code",
   "execution_count": 12,
   "id": "c0f0448e",
   "metadata": {},
   "outputs": [
    {
     "data": {
      "text/plain": [
       "False"
      ]
     },
     "execution_count": 12,
     "metadata": {},
     "output_type": "execute_result"
    }
   ],
   "source": [
    "isinstance(my_sedan,Truck)"
   ]
  },
  {
   "cell_type": "code",
   "execution_count": 13,
   "id": "ce873655",
   "metadata": {},
   "outputs": [
    {
     "data": {
      "text/plain": [
       "True"
      ]
     },
     "execution_count": 13,
     "metadata": {},
     "output_type": "execute_result"
    }
   ],
   "source": [
    "isinstance(my_truck,Truck)"
   ]
  },
  {
   "cell_type": "code",
   "execution_count": 14,
   "id": "13b27cc5",
   "metadata": {},
   "outputs": [
    {
     "data": {
      "text/plain": [
       "False"
      ]
     },
     "execution_count": 14,
     "metadata": {},
     "output_type": "execute_result"
    }
   ],
   "source": [
    "isinstance(my_truck,Sedan)"
   ]
  },
  {
   "cell_type": "code",
   "execution_count": 15,
   "id": "dd7c8d92",
   "metadata": {},
   "outputs": [
    {
     "data": {
      "text/plain": [
       "True"
      ]
     },
     "execution_count": 15,
     "metadata": {},
     "output_type": "execute_result"
    }
   ],
   "source": [
    "isinstance(my_truck,Vehicle)"
   ]
  },
  {
   "cell_type": "markdown",
   "id": "c6e3aace",
   "metadata": {},
   "source": [
    "#### Use `isinstance(obj, Class)` to check if the obj is belong to this class "
   ]
  },
  {
   "cell_type": "code",
   "execution_count": 16,
   "id": "914ec8d6",
   "metadata": {},
   "outputs": [
    {
     "data": {
      "text/plain": [
       "True"
      ]
     },
     "execution_count": 16,
     "metadata": {},
     "output_type": "execute_result"
    }
   ],
   "source": [
    "issubclass(Sedan, Vehicle)"
   ]
  },
  {
   "cell_type": "code",
   "execution_count": 17,
   "id": "da0cdeb6",
   "metadata": {},
   "outputs": [
    {
     "data": {
      "text/plain": [
       "True"
      ]
     },
     "execution_count": 17,
     "metadata": {},
     "output_type": "execute_result"
    }
   ],
   "source": [
    "issubclass(Truck, Vehicle)"
   ]
  },
  {
   "cell_type": "code",
   "execution_count": 18,
   "id": "fb7fc30d",
   "metadata": {},
   "outputs": [
    {
     "data": {
      "text/plain": [
       "False"
      ]
     },
     "execution_count": 18,
     "metadata": {},
     "output_type": "execute_result"
    }
   ],
   "source": [
    "issubclass(Sedan, Truck)"
   ]
  },
  {
   "cell_type": "markdown",
   "id": "3026830a",
   "metadata": {},
   "source": [
    "---"
   ]
  },
  {
   "cell_type": "markdown",
   "id": "110cc3c1",
   "metadata": {},
   "source": [
    "### Multiple inheritance"
   ]
  },
  {
   "cell_type": "markdown",
   "id": "63d291f7",
   "metadata": {},
   "source": [
    "**Multiple inheritance** in Python is a feature that allows a **subclass** to inherit from **multiple parent classes**. This allows you to create complex class hierarchies with a high level of code reuse. When multiple inheritance is used, the subclass inherits attributes and methods from all of its parent classes."
   ]
  },
  {
   "cell_type": "markdown",
   "id": "a94fc220",
   "metadata": {},
   "source": [
    "Here's an example of multiple inheritance in Python:"
   ]
  },
  {
   "cell_type": "code",
   "execution_count": 19,
   "id": "d905d0e3",
   "metadata": {},
   "outputs": [],
   "source": [
    "class Animal:\n",
    "    def eat(self):\n",
    "        print(\"Eating...\")\n",
    "\n",
    "class Mammal(Animal):\n",
    "    def walk(self):\n",
    "        print(\"Walking...\")\n",
    "\n",
    "class Bird(Animal):\n",
    "    def fly(self):\n",
    "        print(\"Flying...\")\n",
    "\n",
    "class Bat(Mammal, Bird):\n",
    "    pass"
   ]
  },
  {
   "cell_type": "markdown",
   "id": "69c732d2",
   "metadata": {},
   "source": [
    "In this example, we have a **class hierarchy** with four classes: **Animal**, **Mammal**, **Bird**, and **Bat**. The **Mammal** and **Bird** classes both inherit from the **Animal** class, and the **Bat** class inherits from both **Mammal** and **Bird**.\n",
    "\n",
    "The **Bat** class inherits the **eat method** from **Animal**, the **walk method** from **Mammal**, and the **fly method** from **Bird**. Note that the Bat class doesn't define any new methods or attributes, so we can simply use the pass keyword to indicate that it's an empty class."
   ]
  },
  {
   "cell_type": "code",
   "execution_count": 20,
   "id": "d752efe9",
   "metadata": {},
   "outputs": [
    {
     "name": "stdout",
     "output_type": "stream",
     "text": [
      "Eating...\n",
      "Walking...\n",
      "Flying...\n"
     ]
    }
   ],
   "source": [
    "bat = Bat()\n",
    "bat.eat()  # inherits the eat method from Animal\n",
    "bat.walk()  # inherits the walk method from Mammal\n",
    "bat.fly()  # inherits the fly method from Bird"
   ]
  },
  {
   "cell_type": "markdown",
   "id": "1f26c387",
   "metadata": {},
   "source": [
    "### Polymorphism"
   ]
  },
  {
   "cell_type": "markdown",
   "id": "008e9a59",
   "metadata": {},
   "source": [
    "**Polymorphism** is a fundamental concept in object-oriented programming that refers to **the ability of objects of different classes to be used interchangeably**, even though they may have different implementations. In other words,**polymorphism allows objects to take on multiple forms, depending on the context in which they are used.**"
   ]
  },
  {
   "cell_type": "markdown",
   "id": "07f9f372",
   "metadata": {},
   "source": [
    "There are two main types of polymorphism: **static (compile-time) polymorphism** and **dynamic (run-time) polymorphism**."
   ]
  },
  {
   "cell_type": "markdown",
   "id": "85cc0a15",
   "metadata": {},
   "source": [
    "#### Static polymorphism"
   ]
  },
  {
   "cell_type": "markdown",
   "id": "11406baf",
   "metadata": {},
   "source": [
    "Static polymorphism is achieved through **method overloading**, where **multiple methods with the same name are defined in a class, but with different parameter lists**. The appropriate method is chosen at compile-time based on the arguments passed to it"
   ]
  },
  {
   "cell_type": "code",
   "execution_count": 21,
   "id": "35235022",
   "metadata": {},
   "outputs": [
    {
     "name": "stdout",
     "output_type": "stream",
     "text": [
      "0\n",
      "1\n",
      "3\n",
      "6\n"
     ]
    }
   ],
   "source": [
    "class Math:\n",
    "    def add(self, *args):\n",
    "        if len(args)>0:\n",
    "            return sum(args)\n",
    "        else:\n",
    "            return 0\n",
    "\n",
    "math = Math()\n",
    "print(math.add())\n",
    "print(math.add(1))\n",
    "print(math.add(1, 2))     \n",
    "print(math.add(1, 2, 3))  "
   ]
  },
  {
   "cell_type": "markdown",
   "id": "aab1edfc",
   "metadata": {},
   "source": [
    "In this example, the **Math class** defines a **single add method** that accepts a **variable number of arguments** using the `*args` syntax. "
   ]
  },
  {
   "cell_type": "markdown",
   "id": "fa6e925a",
   "metadata": {},
   "source": [
    "#### Dynamic polymorphism"
   ]
  },
  {
   "cell_type": "markdown",
   "id": "bf08c7bb",
   "metadata": {},
   "source": [
    "**Dynamic polymorphism** is achieved through **method overriding**, where **a subclass provides a different implementation of a method that is already defined in the superclass. The appropriate method is chosen at run-time based on the type of the object that is calling it.** "
   ]
  },
  {
   "cell_type": "code",
   "execution_count": 22,
   "id": "bae580f2",
   "metadata": {},
   "outputs": [
    {
     "name": "stdout",
     "output_type": "stream",
     "text": [
      "The animal speaks.\n",
      "The dog barks.\n",
      "The cat meows.\n"
     ]
    }
   ],
   "source": [
    "class Animal:\n",
    "    def speak(self):\n",
    "        print(\"The animal speaks.\")\n",
    "\n",
    "class Dog(Animal):\n",
    "    def speak(self):\n",
    "        print(\"The dog barks.\")\n",
    "\n",
    "class Cat(Animal):\n",
    "    def speak(self):\n",
    "        print(\"The cat meows.\")\n",
    "\n",
    "animals = [Animal(), Dog(), Cat()]\n",
    "for animal in animals:\n",
    "    animal.speak()"
   ]
  },
  {
   "cell_type": "markdown",
   "id": "b43b99b7",
   "metadata": {},
   "source": [
    "In this example, the **Animal class** defines a **speak method** that prints out a generic message. The **Dog** and **Cat** subclasses override this method with their own implementations. When a list of **Animal** objects is created and each object's speak method is called, the appropriate method is chosen at run-time based on the object's type. This allows different objects to behave differently depending on their type, even though they are all of the same superclass.\n",
    "\n",
    "Polymorphism is a powerful concept that allows you to write more flexible and extensible code, and is a key feature of object-oriented programming languages."
   ]
  }
 ],
 "metadata": {
  "kernelspec": {
   "display_name": "Python 3 (ipykernel)",
   "language": "python",
   "name": "python3"
  },
  "language_info": {
   "codemirror_mode": {
    "name": "ipython",
    "version": 3
   },
   "file_extension": ".py",
   "mimetype": "text/x-python",
   "name": "python",
   "nbconvert_exporter": "python",
   "pygments_lexer": "ipython3",
   "version": "3.11.7"
  }
 },
 "nbformat": 4,
 "nbformat_minor": 5
}
