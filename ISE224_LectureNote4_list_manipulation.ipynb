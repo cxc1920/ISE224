{
 "cells": [
  {
   "cell_type": "markdown",
   "id": "c70f3b5d",
   "metadata": {},
   "source": [
    "# List Manipulation in Python\n",
    "\n",
    "This notebook provides an overview of list manipulation techniques in Python, including `adding`, `removing`, `modifying` elements, and more.\n"
   ]
  },
  {
   "cell_type": "markdown",
   "id": "4ad7b155",
   "metadata": {},
   "source": [
    "### 1. Adding Elements"
   ]
  },
  {
   "cell_type": "markdown",
   "id": "d9abf422",
   "metadata": {},
   "source": [
    "- **Append:** Adds an item to the end of the list."
   ]
  },
  {
   "cell_type": "code",
   "execution_count": 1,
   "id": "4cd4455a",
   "metadata": {},
   "outputs": [
    {
     "name": "stdout",
     "output_type": "stream",
     "text": [
      "[1, 2, 3, 4]\n"
     ]
    }
   ],
   "source": [
    "# Append example\n",
    "my_list = [1, 2, 3]\n",
    "my_list.append(4)\n",
    "print(my_list)"
   ]
  },
  {
   "cell_type": "markdown",
   "id": "ef5e392b",
   "metadata": {},
   "source": [
    "- **Extend:** Adds all elements of an iterable (e.g., another list) to the end."
   ]
  },
  {
   "cell_type": "code",
   "execution_count": 2,
   "id": "93c0c700",
   "metadata": {},
   "outputs": [
    {
     "name": "stdout",
     "output_type": "stream",
     "text": [
      "[1, 2, 3, 4, 5, 6]\n"
     ]
    }
   ],
   "source": [
    "# Extend example\n",
    "my_list.extend([5, 6])\n",
    "print(my_list)"
   ]
  },
  {
   "cell_type": "markdown",
   "id": "e910b05e",
   "metadata": {},
   "source": [
    "- **Insert:** Inserts an item at a given position."
   ]
  },
  {
   "cell_type": "code",
   "execution_count": 3,
   "id": "34141090",
   "metadata": {},
   "outputs": [
    {
     "name": "stdout",
     "output_type": "stream",
     "text": [
      "[0, 1, 2, 3, 4, 5, 6]\n"
     ]
    }
   ],
   "source": [
    "# Insert example\n",
    "my_list.insert(0, 0)\n",
    "print(my_list)"
   ]
  },
  {
   "cell_type": "markdown",
   "id": "256ed868",
   "metadata": {},
   "source": [
    "### 2. Removing Elements"
   ]
  },
  {
   "cell_type": "markdown",
   "id": "8fbf2dc9",
   "metadata": {},
   "source": [
    "- **Remove:** Removes the first occurrence of a value."
   ]
  },
  {
   "cell_type": "code",
   "execution_count": 4,
   "id": "be659b8f",
   "metadata": {},
   "outputs": [
    {
     "name": "stdout",
     "output_type": "stream",
     "text": [
      "[1, 2, 3, 4, 5, 6]\n"
     ]
    }
   ],
   "source": [
    "# Remove example\n",
    "my_list = [0, 1, 2, 3, 4, 5, 6]\n",
    "my_list.remove(0)\n",
    "print(my_list)"
   ]
  },
  {
   "cell_type": "markdown",
   "id": "fd65c863",
   "metadata": {},
   "source": [
    "- **Pop:** Removes the item at the given position in the list, and returns it. If no index is specified, `pop()` removes and returns the last item in the list."
   ]
  },
  {
   "cell_type": "code",
   "execution_count": 5,
   "id": "14fedbfd",
   "metadata": {},
   "outputs": [
    {
     "name": "stdout",
     "output_type": "stream",
     "text": [
      "[1, 2, 3, 4, 5]\n",
      "[2, 3, 4, 5]\n"
     ]
    }
   ],
   "source": [
    "# Pop example\n",
    "my_list.pop()  # Removes the last item\n",
    "print(my_list)\n",
    "my_list.pop(0)  # Removes the first item\n",
    "print(my_list)"
   ]
  },
  {
   "cell_type": "markdown",
   "id": "cf476a99",
   "metadata": {},
   "source": [
    "- **Clear:** Removes all items from the list."
   ]
  },
  {
   "cell_type": "code",
   "execution_count": 6,
   "id": "7548b73d",
   "metadata": {},
   "outputs": [
    {
     "name": "stdout",
     "output_type": "stream",
     "text": [
      "[]\n"
     ]
    }
   ],
   "source": [
    "# Clear example\n",
    "my_list.clear()\n",
    "print(my_list)"
   ]
  },
  {
   "cell_type": "markdown",
   "id": "5703f835",
   "metadata": {},
   "source": [
    "### 3. Modifying Elements"
   ]
  },
  {
   "cell_type": "markdown",
   "id": "d4c37f0d",
   "metadata": {},
   "source": [
    "You can modify elements directly by accessing them through their index:"
   ]
  },
  {
   "cell_type": "code",
   "execution_count": 7,
   "id": "3f4231c9",
   "metadata": {},
   "outputs": [
    {
     "name": "stdout",
     "output_type": "stream",
     "text": [
      "[1, 200, 3]\n"
     ]
    }
   ],
   "source": [
    "my_list = [1, 2, 3]\n",
    "my_list[1] = 200\n",
    "print(my_list)"
   ]
  },
  {
   "cell_type": "markdown",
   "id": "09de8bed",
   "metadata": {},
   "source": [
    "### 4. Finding Elements"
   ]
  },
  {
   "cell_type": "markdown",
   "id": "b32b2d5e",
   "metadata": {},
   "source": [
    "- **Index:** Returns the index of the first matched item."
   ]
  },
  {
   "cell_type": "code",
   "execution_count": 8,
   "id": "416ccfa9",
   "metadata": {},
   "outputs": [
    {
     "name": "stdout",
     "output_type": "stream",
     "text": [
      "1\n"
     ]
    }
   ],
   "source": [
    "my_list = [1, 2, 3, 2, 2, 4, 5, 1, 2, 3]\n",
    "# Index\n",
    "print(my_list.index(2))"
   ]
  },
  {
   "cell_type": "markdown",
   "id": "8f294bae",
   "metadata": {},
   "source": [
    "- **Count:** Returns the number of times a value appears in the list."
   ]
  },
  {
   "cell_type": "code",
   "execution_count": 9,
   "id": "302c249b",
   "metadata": {},
   "outputs": [
    {
     "name": "stdout",
     "output_type": "stream",
     "text": [
      "4\n"
     ]
    }
   ],
   "source": [
    "# Count\n",
    "print(my_list.count(2))"
   ]
  },
  {
   "cell_type": "markdown",
   "id": "9f760e8d",
   "metadata": {},
   "source": [
    "### 5. Sorting and Reversing"
   ]
  },
  {
   "cell_type": "markdown",
   "id": "c57c801a",
   "metadata": {},
   "source": [
    "- **Sort:** Sorts the items of the list in place (the list itself is changed)."
   ]
  },
  {
   "cell_type": "code",
   "execution_count": 10,
   "id": "7b986ecb",
   "metadata": {},
   "outputs": [
    {
     "name": "stdout",
     "output_type": "stream",
     "text": [
      "[1, 2, 3]\n"
     ]
    }
   ],
   "source": [
    "my_list = [3, 1, 2]\n",
    "# Sort\n",
    "my_list.sort()\n",
    "print(my_list)"
   ]
  },
  {
   "cell_type": "markdown",
   "id": "81ae2550",
   "metadata": {},
   "source": [
    "- **Reverse:** Reverses the elements of the list in place."
   ]
  },
  {
   "cell_type": "code",
   "execution_count": 11,
   "id": "c206852b",
   "metadata": {},
   "outputs": [
    {
     "name": "stdout",
     "output_type": "stream",
     "text": [
      "[3, 2, 1]\n"
     ]
    }
   ],
   "source": [
    "# Reverse\n",
    "my_list.reverse()\n",
    "print(my_list)"
   ]
  },
  {
   "cell_type": "markdown",
   "id": "2d34488e",
   "metadata": {},
   "source": [
    "### 6. List Comprehension"
   ]
  },
  {
   "cell_type": "markdown",
   "id": "eec5b87d",
   "metadata": {},
   "source": [
    "**List comprehension** provides a concise way to create lists. Common applications are to make new lists where each element is the result of some operations applied to each member of another sequence or iterable, or to create a subsequence of those elements that satisfy a certain condition."
   ]
  },
  {
   "cell_type": "markdown",
   "id": "b1eefbe3",
   "metadata": {},
   "source": [
    "**Syntax of List Comprehension:**   \n",
    "\n",
    "[`expression` for `item` in `iterable` if `condition`]\n",
    "\n",
    "- **expression:** An operation or function applied to the item. The result of this expression for each item is what will be included in the new list.  \n",
    "- **item:** The variable representing each element in the iterable.  \n",
    "- **iterable:** A sequence (like a list, tuple, or string) or any other object that can be iterated over.  \n",
    "- **condition (optional):** A filter that allows the expression to be applied only to items that satisfy the condition.  "
   ]
  },
  {
   "cell_type": "markdown",
   "id": "92a21aae",
   "metadata": {},
   "source": [
    "- **Simple Example:**"
   ]
  },
  {
   "cell_type": "code",
   "execution_count": 12,
   "id": "061ea7b8",
   "metadata": {},
   "outputs": [
    {
     "name": "stdout",
     "output_type": "stream",
     "text": [
      "[0, 1, 4, 9, 16]\n"
     ]
    }
   ],
   "source": [
    "# Squares of numbers from 0 to 4\n",
    "squares = [x**2 for x in range(5)]\n",
    "print(squares)"
   ]
  },
  {
   "cell_type": "markdown",
   "id": "ebbf661c",
   "metadata": {},
   "source": [
    "- **Using Condition:**"
   ]
  },
  {
   "cell_type": "code",
   "execution_count": 13,
   "id": "ef70c51a",
   "metadata": {},
   "outputs": [
    {
     "data": {
      "text/plain": [
       "[0, 4, 16]"
      ]
     },
     "execution_count": 13,
     "metadata": {},
     "output_type": "execute_result"
    }
   ],
   "source": [
    "even_squares = [x**2 for x in range(5) if x % 2 == 0]\n",
    "even_squares # [0, 4, 16]"
   ]
  },
  {
   "cell_type": "code",
   "execution_count": 14,
   "id": "3160f6af",
   "metadata": {},
   "outputs": [
    {
     "data": {
      "text/plain": [
       "['i', 'e', 'I', 'E', 'U', 'i', 'e', 'i', 'o', 'i', 'a', 'i']"
      ]
     },
     "execution_count": 14,
     "metadata": {},
     "output_type": "execute_result"
    }
   ],
   "source": [
    "# Find elements\n",
    "targeted_element = ['a','e','i','o','u','A','E','I','O','U']\n",
    "input_string = \"ise224 ISE224 University of Miami\"\n",
    "res_list =[i for i in input_string if i in targeted_element]\n",
    "res_list"
   ]
  },
  {
   "cell_type": "markdown",
   "id": "427661f7",
   "metadata": {},
   "source": [
    "- **Using Multiple Iterables:** - Create a list by combining elements from two lists if they are not equal:"
   ]
  },
  {
   "cell_type": "code",
   "execution_count": 15,
   "id": "949ce864",
   "metadata": {},
   "outputs": [
    {
     "data": {
      "text/plain": [
       "[(1, 3), (1, 2), (2, 3), (2, 1), (3, 2), (3, 1)]"
      ]
     },
     "execution_count": 15,
     "metadata": {},
     "output_type": "execute_result"
    }
   ],
   "source": [
    "list1 = [1, 2, 3]\n",
    "list2 = [3, 2, 1]\n",
    "combined = [(x, y) for x in list1 for y in list2 if x != y]\n",
    "combined # Output: [(1, 3), (1, 2), (2, 3), (2, 1), (3, 2), (3, 1)]"
   ]
  },
  {
   "cell_type": "markdown",
   "id": "de380954",
   "metadata": {},
   "source": [
    "- **Nested List Comprehension:**"
   ]
  },
  {
   "cell_type": "code",
   "execution_count": 16,
   "id": "f8b14731",
   "metadata": {},
   "outputs": [
    {
     "data": {
      "text/plain": [
       "[[1, 2, 3], [1, 2, 3], [1, 2, 3]]"
      ]
     },
     "execution_count": 16,
     "metadata": {},
     "output_type": "execute_result"
    }
   ],
   "source": [
    "matrix = [[i for i in range(1, 4)] for j in range(3)]\n",
    "matrix # Output: [[1, 2, 3], [1, 2, 3], [1, 2, 3]]"
   ]
  }
 ],
 "metadata": {
  "kernelspec": {
   "display_name": "Python 3 (ipykernel)",
   "language": "python",
   "name": "python3"
  },
  "language_info": {
   "codemirror_mode": {
    "name": "ipython",
    "version": 3
   },
   "file_extension": ".py",
   "mimetype": "text/x-python",
   "name": "python",
   "nbconvert_exporter": "python",
   "pygments_lexer": "ipython3",
   "version": "3.10.10"
  }
 },
 "nbformat": 4,
 "nbformat_minor": 5
}
